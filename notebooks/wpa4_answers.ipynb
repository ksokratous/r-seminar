{
 "cells": [
  {
   "cell_type": "markdown",
   "metadata": {},
   "source": [
    "# Data wrangling"
   ]
  },
  {
   "cell_type": "markdown",
   "metadata": {},
   "source": [
    "## 3. Now it's your turn\n",
    "\n",
    "Now you will analyze data from Matthews et al. (2016): Why do we overestimate others' willingness to pay? The purpose of this research was to test if our beliefs about other people's affluence (i.e.; wealth) affect how much we think they will be willing to pay for items. You can find the full paper at http://journal.sjdm.org/15/15909/jdm15909.pdf.\n",
    "\n",
    "**Variables description:**\n",
    "\n",
    "Here are descriptions of the data variables (taken from the author's dataset notes available at http://journal.sjdm.org/15/15909/Notes.txt)\n",
    "\n",
    "- `id`: participant id code\n",
    "- `gender`: participant gender. 1 = male, 2 = female\n",
    "- `age`: participant age\n",
    "- `income`: participant annual household income on categorical scale with 8 categorical options: Less than 5,000; 15,001–25,000; 25,001–35,000; 35,001–50,000; 50,001–75,000; 75,001–100,000; 100,001–150,000; greater than 150,000.\n",
    "- `p1-p10`: whether the \"typical\" survey respondent would pay more (coded 1) or less (coded 0) than oneself, for each of the 10 products \n",
    "- `task`: whether the participant had to judge the proportion of other people who \"have more money than you do\" (coded 1) or the proportion who \"have less money than you do\" (coded 0)\n",
    "- `havemore`: participant's response when task = 1\n",
    "- `haveless`: participant's response when task = 0\n",
    "- `pcmore`: participant's estimate of the proportion of people who have more than they do (calculated as 100-haveless when task=0)"
   ]
  },
  {
   "cell_type": "code",
   "execution_count": 1,
   "metadata": {},
   "outputs": [
    {
     "name": "stderr",
     "output_type": "stream",
     "text": [
      "── \u001b[1mAttaching packages\u001b[22m ─────────────────────────────────────── tidyverse 1.3.0 ──\n",
      "\u001b[32m✔\u001b[39m \u001b[34mggplot2\u001b[39m 3.2.1     \u001b[32m✔\u001b[39m \u001b[34mpurrr  \u001b[39m 0.3.3\n",
      "\u001b[32m✔\u001b[39m \u001b[34mtibble \u001b[39m 2.1.3     \u001b[32m✔\u001b[39m \u001b[34mdplyr  \u001b[39m 0.8.4\n",
      "\u001b[32m✔\u001b[39m \u001b[34mtidyr  \u001b[39m 1.0.2     \u001b[32m✔\u001b[39m \u001b[34mstringr\u001b[39m 1.4.0\n",
      "\u001b[32m✔\u001b[39m \u001b[34mreadr  \u001b[39m 1.3.1     \u001b[32m✔\u001b[39m \u001b[34mforcats\u001b[39m 0.4.0\n",
      "── \u001b[1mConflicts\u001b[22m ────────────────────────────────────────── tidyverse_conflicts() ──\n",
      "\u001b[31m✖\u001b[39m \u001b[34mdplyr\u001b[39m::\u001b[32mfilter()\u001b[39m masks \u001b[34mstats\u001b[39m::filter()\n",
      "\u001b[31m✖\u001b[39m \u001b[34mdplyr\u001b[39m::\u001b[32mlag()\u001b[39m    masks \u001b[34mstats\u001b[39m::lag()\n"
     ]
    }
   ],
   "source": [
    "library(tidyverse)\n",
    "library(haven)"
   ]
  },
  {
   "cell_type": "markdown",
   "metadata": {},
   "source": [
    "**Note**: There is no need to import packages that are already included in tidyverse when you import tidyverse.\n",
    "\n",
    "For example:\n",
    "```\n",
    "library(tidyverse)\n",
    "library(dplyr) #not necessary\n",
    "library(ggplot2) #not necessary\n",
    "library(haven) #necessary\n",
    "```\n",
    "\n",
    "I advise you to not import what is not necessary to avoid conflicts."
   ]
  },
  {
   "cell_type": "code",
   "execution_count": 2,
   "metadata": {},
   "outputs": [
    {
     "name": "stderr",
     "output_type": "stream",
     "text": [
      "Parsed with column specification:\n",
      "cols(\n",
      "  id = \u001b[31mcol_character()\u001b[39m,\n",
      "  gender = \u001b[32mcol_double()\u001b[39m,\n",
      "  age = \u001b[32mcol_double()\u001b[39m,\n",
      "  income = \u001b[32mcol_double()\u001b[39m,\n",
      "  p1 = \u001b[32mcol_double()\u001b[39m,\n",
      "  p2 = \u001b[32mcol_double()\u001b[39m,\n",
      "  p3 = \u001b[32mcol_double()\u001b[39m,\n",
      "  p4 = \u001b[32mcol_double()\u001b[39m,\n",
      "  p5 = \u001b[32mcol_double()\u001b[39m,\n",
      "  p6 = \u001b[32mcol_double()\u001b[39m,\n",
      "  p7 = \u001b[32mcol_double()\u001b[39m,\n",
      "  p8 = \u001b[32mcol_double()\u001b[39m,\n",
      "  p9 = \u001b[32mcol_double()\u001b[39m,\n",
      "  p10 = \u001b[32mcol_double()\u001b[39m,\n",
      "  task = \u001b[32mcol_double()\u001b[39m,\n",
      "  havemore = \u001b[32mcol_double()\u001b[39m,\n",
      "  haveless = \u001b[32mcol_double()\u001b[39m,\n",
      "  pcmore = \u001b[32mcol_double()\u001b[39m\n",
      ")\n",
      "Warning message:\n",
      "“Missing column names filled in: 'X1' [1]”Parsed with column specification:\n",
      "cols(\n",
      "  X1 = \u001b[32mcol_double()\u001b[39m,\n",
      "  id = \u001b[31mcol_character()\u001b[39m,\n",
      "  height = \u001b[32mcol_double()\u001b[39m,\n",
      "  race = \u001b[31mcol_character()\u001b[39m\n",
      ")\n"
     ]
    },
    {
     "name": "stdout",
     "output_type": "stream",
     "text": [
      "Observations: 190\n",
      "Variables: 18\n",
      "$ id       \u001b[3m\u001b[38;5;246m<chr>\u001b[39m\u001b[23m \"R_3PtNn51LmSFdLNM\", \"R_2AXrrg62pgFgtMV\", \"R_cwEOX3HgnMeVQHL…\n",
      "$ gender   \u001b[3m\u001b[38;5;246m<dbl>\u001b[39m\u001b[23m 2, 2, 1, 1, 1, 1, 1, 1, 1, 1, 1, 1, 1, 2, 1, 2, 2, 2, 2, 1, …\n",
      "$ age      \u001b[3m\u001b[38;5;246m<dbl>\u001b[39m\u001b[23m 26, 32, 25, 33, 24, 22, 47, 26, 29, 32, 29, 28, 31, 24, 25, …\n",
      "$ income   \u001b[3m\u001b[38;5;246m<dbl>\u001b[39m\u001b[23m 7, 4, 2, 5, 1, 2, 3, 4, 1, 7, 4, 3, 2, 2, 6, 3, 2, 2, 1, 3, …\n",
      "$ p1       \u001b[3m\u001b[38;5;246m<dbl>\u001b[39m\u001b[23m 1, 1, 0, 1, 1, 1, 1, 1, 1, 1, 1, 1, 0, 1, 1, 0, 1, 1, 1, 1, …\n",
      "$ p2       \u001b[3m\u001b[38;5;246m<dbl>\u001b[39m\u001b[23m 1, 1, 1, 1, 1, 1, 1, 1, 1, 1, 1, 1, 0, 1, 0, 1, 1, 1, 1, 1, …\n",
      "$ p3       \u001b[3m\u001b[38;5;246m<dbl>\u001b[39m\u001b[23m 1, 1, 1, 1, 0, 0, 0, 0, 0, 1, 1, 0, 0, 1, 0, 1, 0, 1, 1, 1, …\n",
      "$ p4       \u001b[3m\u001b[38;5;246m<dbl>\u001b[39m\u001b[23m 1, 1, 1, 1, 1, 0, 0, 0, 1, 1, 1, 1, 1, 1, 1, 1, 1, 1, 1, 1, …\n",
      "$ p5       \u001b[3m\u001b[38;5;246m<dbl>\u001b[39m\u001b[23m 1, 1, 1, 1, 1, 1, 1, 0, 0, 1, 1, 0, 0, 1, 1, 1, 1, 1, 1, 1, …\n",
      "$ p6       \u001b[3m\u001b[38;5;246m<dbl>\u001b[39m\u001b[23m 1, 1, 1, 1, 1, 1, 1, 1, 1, 1, 1, 0, 1, 1, 0, 1, 1, 0, 1, 1, …\n",
      "$ p7       \u001b[3m\u001b[38;5;246m<dbl>\u001b[39m\u001b[23m 1, 1, 1, 1, 1, 1, 1, 1, 1, 1, 1, 1, 1, 1, 1, 1, 0, 1, 1, 1, …\n",
      "$ p8       \u001b[3m\u001b[38;5;246m<dbl>\u001b[39m\u001b[23m 1, 1, 1, 1, 1, 1, 1, 1, 1, 0, 1, 1, 1, 1, 1, 1, 1, 1, 1, 1, …\n",
      "$ p9       \u001b[3m\u001b[38;5;246m<dbl>\u001b[39m\u001b[23m 1, 1, 0, 1, 1, 0, 1, 0, 1, 1, 1, 0, 1, 1, 1, 1, 1, 1, 1, 1, …\n",
      "$ p10      \u001b[3m\u001b[38;5;246m<dbl>\u001b[39m\u001b[23m 1, 1, 0, 1, 1, 1, 0, 0, 1, 1, 1, 0, 1, 1, 0, 1, 0, 1, 1, 0, …\n",
      "$ task     \u001b[3m\u001b[38;5;246m<dbl>\u001b[39m\u001b[23m 0, 0, 0, 0, 1, 0, 1, 0, 1, 1, 1, 1, 0, 0, 0, 1, 0, 0, 1, 0, …\n",
      "$ havemore \u001b[3m\u001b[38;5;246m<dbl>\u001b[39m\u001b[23m NA, NA, NA, NA, 99, NA, 95, NA, 70, 25, 50, 50, NA, NA, NA, …\n",
      "$ haveless \u001b[3m\u001b[38;5;246m<dbl>\u001b[39m\u001b[23m 50, 25, 10, 50, NA, 20, NA, 30, NA, NA, NA, NA, 44, 20, 65, …\n",
      "$ pcmore   \u001b[3m\u001b[38;5;246m<dbl>\u001b[39m\u001b[23m 50, 75, 90, 50, 99, 80, 95, 70, 70, 25, 50, 50, 56, 80, 35, …\n",
      "Observations: 190\n",
      "Variables: 4\n",
      "$ X1     \u001b[3m\u001b[38;5;246m<dbl>\u001b[39m\u001b[23m 1, 2, 3, 4, 5, 6, 7, 8, 9, 10, 11, 12, 13, 14, 15, 16, 17, 18,…\n",
      "$ id     \u001b[3m\u001b[38;5;246m<chr>\u001b[39m\u001b[23m \"R_2zOA03wY3kZPHKj\", \"R_1f30AbYQR0D1wpt\", \"R_2YgEERKijE2Hz6K\",…\n",
      "$ height \u001b[3m\u001b[38;5;246m<dbl>\u001b[39m\u001b[23m 182, 184, 175, 177, 187, 178, 168, 193, 180, 159, 160, 172, 16…\n",
      "$ race   \u001b[3m\u001b[38;5;246m<chr>\u001b[39m\u001b[23m \"black\", \"white\", \"hispanic\", \"white\", \"white\", \"white\", \"whit…\n"
     ]
    }
   ],
   "source": [
    "# load some data\n",
    "matthews_data = read_csv('https://raw.githubusercontent.com/laurafontanesi/RcourseSpring2019/master/data/data_wpa4.csv')\n",
    "\n",
    "demographics = read_csv(\"https://raw.githubusercontent.com/laurafontanesi/RcourseSpring2019/master/data/matthews_demographics.csv\")\n",
    "\n",
    "glimpse(matthews_data)\n",
    "\n",
    "glimpse(demographics)"
   ]
  },
  {
   "cell_type": "markdown",
   "metadata": {},
   "source": [
    "**Task A**\n",
    "\n",
    "Note: do not use pipes from 1 to 4.\n",
    "\n",
    "1. Currently `gender` is coded as 1 and 2. Create a new dataframe called `new_matthews_data`, in which there is a new column called `gender_labels` that codes gender as \"male\" and \"female\". Do it using `mutate`. Then, rename the original `gender` column to `gender_binary` using `rename`. Subtract 1 to all values of `gender_binary`, so that it is coded as 0 and 1 instead of 1 and 2 using `mutate` again.\n",
    "\n",
    "2. In `new_matthews_data`, create new column called `income_labels` that codes income based on the data description above using `mutate`. Then, create a new column, called `income_recoded`, where you only have 4 income categories (coded as numbers from 1 to 4): below 25,000, 25,000-50,000, 50,000-100,000, and above 100,000 using `case_when`. How many observations are there for each of these 4 categories? Use `summarise` to reply.\n",
    "\n",
    "3. In `new_matthews_data`, transform all numeric columns into integers numbers using `mutate_if`.\n",
    "\n",
    "4. From `new_matthews_data`, create a summary of the dataset using `summarise`, to answer the following questions: What percent of participants were female? What was the minimum, mean, and maximum `income`? What was the 25th percentile, median, and the 75th percentile of `age`? Use good names for columns.\n",
    "\n",
    "5. Repeat steps from 1 to 4 (apart from the `summarise` in point 2) using pipes and assign the result to `new_matthews_data_summary`."
   ]
  },
  {
   "cell_type": "code",
   "execution_count": 3,
   "metadata": {},
   "outputs": [
    {
     "data": {
      "text/html": [
       "<table>\n",
       "<caption>A tibble: 6 × 19</caption>\n",
       "<thead>\n",
       "\t<tr><th scope=col>id</th><th scope=col>gender_binary</th><th scope=col>age</th><th scope=col>income</th><th scope=col>p1</th><th scope=col>p2</th><th scope=col>p3</th><th scope=col>p4</th><th scope=col>p5</th><th scope=col>p6</th><th scope=col>p7</th><th scope=col>p8</th><th scope=col>p9</th><th scope=col>p10</th><th scope=col>task</th><th scope=col>havemore</th><th scope=col>haveless</th><th scope=col>pcmore</th><th scope=col>gender_labels</th></tr>\n",
       "\t<tr><th scope=col>&lt;chr&gt;</th><th scope=col>&lt;dbl&gt;</th><th scope=col>&lt;dbl&gt;</th><th scope=col>&lt;dbl&gt;</th><th scope=col>&lt;dbl&gt;</th><th scope=col>&lt;dbl&gt;</th><th scope=col>&lt;dbl&gt;</th><th scope=col>&lt;dbl&gt;</th><th scope=col>&lt;dbl&gt;</th><th scope=col>&lt;dbl&gt;</th><th scope=col>&lt;dbl&gt;</th><th scope=col>&lt;dbl&gt;</th><th scope=col>&lt;dbl&gt;</th><th scope=col>&lt;dbl&gt;</th><th scope=col>&lt;dbl&gt;</th><th scope=col>&lt;dbl&gt;</th><th scope=col>&lt;dbl&gt;</th><th scope=col>&lt;dbl&gt;</th><th scope=col>&lt;chr&gt;</th></tr>\n",
       "</thead>\n",
       "<tbody>\n",
       "\t<tr><td>R_3PtNn51LmSFdLNM</td><td>1</td><td>26</td><td>7</td><td>1</td><td>1</td><td>1</td><td>1</td><td>1</td><td>1</td><td>1</td><td>1</td><td>1</td><td>1</td><td>0</td><td>NA</td><td>50</td><td>50</td><td>female</td></tr>\n",
       "\t<tr><td>R_2AXrrg62pgFgtMV</td><td>1</td><td>32</td><td>4</td><td>1</td><td>1</td><td>1</td><td>1</td><td>1</td><td>1</td><td>1</td><td>1</td><td>1</td><td>1</td><td>0</td><td>NA</td><td>25</td><td>75</td><td>female</td></tr>\n",
       "\t<tr><td>R_cwEOX3HgnMeVQHL</td><td>0</td><td>25</td><td>2</td><td>0</td><td>1</td><td>1</td><td>1</td><td>1</td><td>1</td><td>1</td><td>1</td><td>0</td><td>0</td><td>0</td><td>NA</td><td>10</td><td>90</td><td>male  </td></tr>\n",
       "\t<tr><td>R_d59iPwL4W6BH8qx</td><td>0</td><td>33</td><td>5</td><td>1</td><td>1</td><td>1</td><td>1</td><td>1</td><td>1</td><td>1</td><td>1</td><td>1</td><td>1</td><td>0</td><td>NA</td><td>50</td><td>50</td><td>male  </td></tr>\n",
       "\t<tr><td>R_1f3K2HrGzFGNelZ</td><td>0</td><td>24</td><td>1</td><td>1</td><td>1</td><td>0</td><td>1</td><td>1</td><td>1</td><td>1</td><td>1</td><td>1</td><td>1</td><td>1</td><td>99</td><td>NA</td><td>99</td><td>male  </td></tr>\n",
       "\t<tr><td>R_3oN5ijzTfoMy4ca</td><td>0</td><td>22</td><td>2</td><td>1</td><td>1</td><td>0</td><td>0</td><td>1</td><td>1</td><td>1</td><td>1</td><td>0</td><td>1</td><td>0</td><td>NA</td><td>20</td><td>80</td><td>male  </td></tr>\n",
       "</tbody>\n",
       "</table>\n"
      ],
      "text/latex": [
       "A tibble: 6 × 19\n",
       "\\begin{tabular}{r|lllllllllllllllllll}\n",
       " id & gender\\_binary & age & income & p1 & p2 & p3 & p4 & p5 & p6 & p7 & p8 & p9 & p10 & task & havemore & haveless & pcmore & gender\\_labels\\\\\n",
       " <chr> & <dbl> & <dbl> & <dbl> & <dbl> & <dbl> & <dbl> & <dbl> & <dbl> & <dbl> & <dbl> & <dbl> & <dbl> & <dbl> & <dbl> & <dbl> & <dbl> & <dbl> & <chr>\\\\\n",
       "\\hline\n",
       "\t R\\_3PtNn51LmSFdLNM & 1 & 26 & 7 & 1 & 1 & 1 & 1 & 1 & 1 & 1 & 1 & 1 & 1 & 0 & NA & 50 & 50 & female\\\\\n",
       "\t R\\_2AXrrg62pgFgtMV & 1 & 32 & 4 & 1 & 1 & 1 & 1 & 1 & 1 & 1 & 1 & 1 & 1 & 0 & NA & 25 & 75 & female\\\\\n",
       "\t R\\_cwEOX3HgnMeVQHL & 0 & 25 & 2 & 0 & 1 & 1 & 1 & 1 & 1 & 1 & 1 & 0 & 0 & 0 & NA & 10 & 90 & male  \\\\\n",
       "\t R\\_d59iPwL4W6BH8qx & 0 & 33 & 5 & 1 & 1 & 1 & 1 & 1 & 1 & 1 & 1 & 1 & 1 & 0 & NA & 50 & 50 & male  \\\\\n",
       "\t R\\_1f3K2HrGzFGNelZ & 0 & 24 & 1 & 1 & 1 & 0 & 1 & 1 & 1 & 1 & 1 & 1 & 1 & 1 & 99 & NA & 99 & male  \\\\\n",
       "\t R\\_3oN5ijzTfoMy4ca & 0 & 22 & 2 & 1 & 1 & 0 & 0 & 1 & 1 & 1 & 1 & 0 & 1 & 0 & NA & 20 & 80 & male  \\\\\n",
       "\\end{tabular}\n"
      ],
      "text/markdown": [
       "\n",
       "A tibble: 6 × 19\n",
       "\n",
       "| id &lt;chr&gt; | gender_binary &lt;dbl&gt; | age &lt;dbl&gt; | income &lt;dbl&gt; | p1 &lt;dbl&gt; | p2 &lt;dbl&gt; | p3 &lt;dbl&gt; | p4 &lt;dbl&gt; | p5 &lt;dbl&gt; | p6 &lt;dbl&gt; | p7 &lt;dbl&gt; | p8 &lt;dbl&gt; | p9 &lt;dbl&gt; | p10 &lt;dbl&gt; | task &lt;dbl&gt; | havemore &lt;dbl&gt; | haveless &lt;dbl&gt; | pcmore &lt;dbl&gt; | gender_labels &lt;chr&gt; |\n",
       "|---|---|---|---|---|---|---|---|---|---|---|---|---|---|---|---|---|---|---|\n",
       "| R_3PtNn51LmSFdLNM | 1 | 26 | 7 | 1 | 1 | 1 | 1 | 1 | 1 | 1 | 1 | 1 | 1 | 0 | NA | 50 | 50 | female |\n",
       "| R_2AXrrg62pgFgtMV | 1 | 32 | 4 | 1 | 1 | 1 | 1 | 1 | 1 | 1 | 1 | 1 | 1 | 0 | NA | 25 | 75 | female |\n",
       "| R_cwEOX3HgnMeVQHL | 0 | 25 | 2 | 0 | 1 | 1 | 1 | 1 | 1 | 1 | 1 | 0 | 0 | 0 | NA | 10 | 90 | male   |\n",
       "| R_d59iPwL4W6BH8qx | 0 | 33 | 5 | 1 | 1 | 1 | 1 | 1 | 1 | 1 | 1 | 1 | 1 | 0 | NA | 50 | 50 | male   |\n",
       "| R_1f3K2HrGzFGNelZ | 0 | 24 | 1 | 1 | 1 | 0 | 1 | 1 | 1 | 1 | 1 | 1 | 1 | 1 | 99 | NA | 99 | male   |\n",
       "| R_3oN5ijzTfoMy4ca | 0 | 22 | 2 | 1 | 1 | 0 | 0 | 1 | 1 | 1 | 1 | 0 | 1 | 0 | NA | 20 | 80 | male   |\n",
       "\n"
      ],
      "text/plain": [
       "  id                gender_binary age income p1 p2 p3 p4 p5 p6 p7 p8 p9 p10\n",
       "1 R_3PtNn51LmSFdLNM 1             26  7      1  1  1  1  1  1  1  1  1  1  \n",
       "2 R_2AXrrg62pgFgtMV 1             32  4      1  1  1  1  1  1  1  1  1  1  \n",
       "3 R_cwEOX3HgnMeVQHL 0             25  2      0  1  1  1  1  1  1  1  0  0  \n",
       "4 R_d59iPwL4W6BH8qx 0             33  5      1  1  1  1  1  1  1  1  1  1  \n",
       "5 R_1f3K2HrGzFGNelZ 0             24  1      1  1  0  1  1  1  1  1  1  1  \n",
       "6 R_3oN5ijzTfoMy4ca 0             22  2      1  1  0  0  1  1  1  1  0  1  \n",
       "  task havemore haveless pcmore gender_labels\n",
       "1 0    NA       50       50     female       \n",
       "2 0    NA       25       75     female       \n",
       "3 0    NA       10       90     male         \n",
       "4 0    NA       50       50     male         \n",
       "5 1    99       NA       99     male         \n",
       "6 0    NA       20       80     male         "
      ]
     },
     "metadata": {},
     "output_type": "display_data"
    }
   ],
   "source": [
    "new_matthews_data = mutate(matthews_data,\n",
    "                           gender_labels = recode(gender,\n",
    "                                                  `1`=\"male\",\n",
    "                                                  `2`=\"female\"))\n",
    "new_matthews_data = rename(new_matthews_data,\n",
    "                           gender_binary = gender)\n",
    "\n",
    "new_matthews_data = mutate(new_matthews_data,\n",
    "                           gender_binary = gender_binary - 1)\n",
    "head(new_matthews_data)"
   ]
  },
  {
   "cell_type": "markdown",
   "metadata": {},
   "source": [
    "Review example of code:\n",
    "\n",
    "```\n",
    "new_matthews_data = matthews_data %>%\n",
    "  mutate(gender_labels = gender,\n",
    "         gender_labels = recode(gender,\n",
    "                                `1` = \"male\",\n",
    "                                `2` = \"female\"))\n",
    "View(new_matthews_data_pipe)\n",
    "\n",
    "new_matthews_data2 = matthews_data %>%\n",
    "  rename(gender_binary = gender)\n",
    "\n",
    "new_matthews_data3 = new_matthews_data2 %>%\n",
    "  gender_binary = recode(gender_binary,\n",
    "                         `2` = 1,\n",
    "                         `1` = 0)\n",
    "```\n",
    "\n",
    "- in this part of the assignment you shouldn't have used pipes (anything with operator `%>%`)\n",
    "- `gender_labels = gender` in line 2 is not necessary, because with `recode`, when assinign to a new name, you already create a new column\n",
    "- `View(new_matthews_data_pipe)` refers to a non-existing object. Keep your script clean.\n",
    "- `new_matthews_data2 = matthews_data %>%` no need to assign to a new name. don't do it too much, unless it's specifically asked. Also, you should have then used `new_matthews_data` to rewrite on, and not `matthews_data`, because in this way you do not have `gender_labels` that you created above.\n",
    "- recoding 0-1 to 1-2 is also ok in this case."
   ]
  },
  {
   "cell_type": "code",
   "execution_count": 4,
   "metadata": {},
   "outputs": [
    {
     "data": {
      "text/html": [
       "<table>\n",
       "<caption>A tibble: 6 × 21</caption>\n",
       "<thead>\n",
       "\t<tr><th scope=col>id</th><th scope=col>gender_binary</th><th scope=col>age</th><th scope=col>income</th><th scope=col>p1</th><th scope=col>p2</th><th scope=col>p3</th><th scope=col>p4</th><th scope=col>p5</th><th scope=col>p6</th><th scope=col>⋯</th><th scope=col>p8</th><th scope=col>p9</th><th scope=col>p10</th><th scope=col>task</th><th scope=col>havemore</th><th scope=col>haveless</th><th scope=col>pcmore</th><th scope=col>gender_labels</th><th scope=col>income_lables</th><th scope=col>income_recoded</th></tr>\n",
       "\t<tr><th scope=col>&lt;chr&gt;</th><th scope=col>&lt;dbl&gt;</th><th scope=col>&lt;dbl&gt;</th><th scope=col>&lt;dbl&gt;</th><th scope=col>&lt;dbl&gt;</th><th scope=col>&lt;dbl&gt;</th><th scope=col>&lt;dbl&gt;</th><th scope=col>&lt;dbl&gt;</th><th scope=col>&lt;dbl&gt;</th><th scope=col>&lt;dbl&gt;</th><th scope=col>⋯</th><th scope=col>&lt;dbl&gt;</th><th scope=col>&lt;dbl&gt;</th><th scope=col>&lt;dbl&gt;</th><th scope=col>&lt;dbl&gt;</th><th scope=col>&lt;dbl&gt;</th><th scope=col>&lt;dbl&gt;</th><th scope=col>&lt;dbl&gt;</th><th scope=col>&lt;chr&gt;</th><th scope=col>&lt;chr&gt;</th><th scope=col>&lt;dbl&gt;</th></tr>\n",
       "</thead>\n",
       "<tbody>\n",
       "\t<tr><td>R_3PtNn51LmSFdLNM</td><td>1</td><td>26</td><td>7</td><td>1</td><td>1</td><td>1</td><td>1</td><td>1</td><td>1</td><td>⋯</td><td>1</td><td>1</td><td>1</td><td>0</td><td>NA</td><td>50</td><td>50</td><td>female</td><td>100,001–150,000</td><td>4</td></tr>\n",
       "\t<tr><td>R_2AXrrg62pgFgtMV</td><td>1</td><td>32</td><td>4</td><td>1</td><td>1</td><td>1</td><td>1</td><td>1</td><td>1</td><td>⋯</td><td>1</td><td>1</td><td>1</td><td>0</td><td>NA</td><td>25</td><td>75</td><td>female</td><td>35,001–50,000  </td><td>2</td></tr>\n",
       "\t<tr><td>R_cwEOX3HgnMeVQHL</td><td>0</td><td>25</td><td>2</td><td>0</td><td>1</td><td>1</td><td>1</td><td>1</td><td>1</td><td>⋯</td><td>1</td><td>0</td><td>0</td><td>0</td><td>NA</td><td>10</td><td>90</td><td>male  </td><td>15,001–25,000  </td><td>1</td></tr>\n",
       "\t<tr><td>R_d59iPwL4W6BH8qx</td><td>0</td><td>33</td><td>5</td><td>1</td><td>1</td><td>1</td><td>1</td><td>1</td><td>1</td><td>⋯</td><td>1</td><td>1</td><td>1</td><td>0</td><td>NA</td><td>50</td><td>50</td><td>male  </td><td>50,001–75,000  </td><td>3</td></tr>\n",
       "\t<tr><td>R_1f3K2HrGzFGNelZ</td><td>0</td><td>24</td><td>1</td><td>1</td><td>1</td><td>0</td><td>1</td><td>1</td><td>1</td><td>⋯</td><td>1</td><td>1</td><td>1</td><td>1</td><td>99</td><td>NA</td><td>99</td><td>male  </td><td>less5,000      </td><td>1</td></tr>\n",
       "\t<tr><td>R_3oN5ijzTfoMy4ca</td><td>0</td><td>22</td><td>2</td><td>1</td><td>1</td><td>0</td><td>0</td><td>1</td><td>1</td><td>⋯</td><td>1</td><td>0</td><td>1</td><td>0</td><td>NA</td><td>20</td><td>80</td><td>male  </td><td>15,001–25,000  </td><td>1</td></tr>\n",
       "</tbody>\n",
       "</table>\n"
      ],
      "text/latex": [
       "A tibble: 6 × 21\n",
       "\\begin{tabular}{r|lllllllllllllllllllll}\n",
       " id & gender\\_binary & age & income & p1 & p2 & p3 & p4 & p5 & p6 & p7 & p8 & p9 & p10 & task & havemore & haveless & pcmore & gender\\_labels & income\\_lables & income\\_recoded\\\\\n",
       " <chr> & <dbl> & <dbl> & <dbl> & <dbl> & <dbl> & <dbl> & <dbl> & <dbl> & <dbl> & <dbl> & <dbl> & <dbl> & <dbl> & <dbl> & <dbl> & <dbl> & <dbl> & <chr> & <chr> & <dbl>\\\\\n",
       "\\hline\n",
       "\t R\\_3PtNn51LmSFdLNM & 1 & 26 & 7 & 1 & 1 & 1 & 1 & 1 & 1 & 1 & 1 & 1 & 1 & 0 & NA & 50 & 50 & female & 100,001–150,000 & 4\\\\\n",
       "\t R\\_2AXrrg62pgFgtMV & 1 & 32 & 4 & 1 & 1 & 1 & 1 & 1 & 1 & 1 & 1 & 1 & 1 & 0 & NA & 25 & 75 & female & 35,001–50,000   & 2\\\\\n",
       "\t R\\_cwEOX3HgnMeVQHL & 0 & 25 & 2 & 0 & 1 & 1 & 1 & 1 & 1 & 1 & 1 & 0 & 0 & 0 & NA & 10 & 90 & male   & 15,001–25,000   & 1\\\\\n",
       "\t R\\_d59iPwL4W6BH8qx & 0 & 33 & 5 & 1 & 1 & 1 & 1 & 1 & 1 & 1 & 1 & 1 & 1 & 0 & NA & 50 & 50 & male   & 50,001–75,000   & 3\\\\\n",
       "\t R\\_1f3K2HrGzFGNelZ & 0 & 24 & 1 & 1 & 1 & 0 & 1 & 1 & 1 & 1 & 1 & 1 & 1 & 1 & 99 & NA & 99 & male   & less5,000       & 1\\\\\n",
       "\t R\\_3oN5ijzTfoMy4ca & 0 & 22 & 2 & 1 & 1 & 0 & 0 & 1 & 1 & 1 & 1 & 0 & 1 & 0 & NA & 20 & 80 & male   & 15,001–25,000   & 1\\\\\n",
       "\\end{tabular}\n"
      ],
      "text/markdown": [
       "\n",
       "A tibble: 6 × 21\n",
       "\n",
       "| id &lt;chr&gt; | gender_binary &lt;dbl&gt; | age &lt;dbl&gt; | income &lt;dbl&gt; | p1 &lt;dbl&gt; | p2 &lt;dbl&gt; | p3 &lt;dbl&gt; | p4 &lt;dbl&gt; | p5 &lt;dbl&gt; | p6 &lt;dbl&gt; | ⋯ ⋯ | p8 &lt;dbl&gt; | p9 &lt;dbl&gt; | p10 &lt;dbl&gt; | task &lt;dbl&gt; | havemore &lt;dbl&gt; | haveless &lt;dbl&gt; | pcmore &lt;dbl&gt; | gender_labels &lt;chr&gt; | income_lables &lt;chr&gt; | income_recoded &lt;dbl&gt; |\n",
       "|---|---|---|---|---|---|---|---|---|---|---|---|---|---|---|---|---|---|---|---|---|\n",
       "| R_3PtNn51LmSFdLNM | 1 | 26 | 7 | 1 | 1 | 1 | 1 | 1 | 1 | ⋯ | 1 | 1 | 1 | 0 | NA | 50 | 50 | female | 100,001–150,000 | 4 |\n",
       "| R_2AXrrg62pgFgtMV | 1 | 32 | 4 | 1 | 1 | 1 | 1 | 1 | 1 | ⋯ | 1 | 1 | 1 | 0 | NA | 25 | 75 | female | 35,001–50,000   | 2 |\n",
       "| R_cwEOX3HgnMeVQHL | 0 | 25 | 2 | 0 | 1 | 1 | 1 | 1 | 1 | ⋯ | 1 | 0 | 0 | 0 | NA | 10 | 90 | male   | 15,001–25,000   | 1 |\n",
       "| R_d59iPwL4W6BH8qx | 0 | 33 | 5 | 1 | 1 | 1 | 1 | 1 | 1 | ⋯ | 1 | 1 | 1 | 0 | NA | 50 | 50 | male   | 50,001–75,000   | 3 |\n",
       "| R_1f3K2HrGzFGNelZ | 0 | 24 | 1 | 1 | 1 | 0 | 1 | 1 | 1 | ⋯ | 1 | 1 | 1 | 1 | 99 | NA | 99 | male   | less5,000       | 1 |\n",
       "| R_3oN5ijzTfoMy4ca | 0 | 22 | 2 | 1 | 1 | 0 | 0 | 1 | 1 | ⋯ | 1 | 0 | 1 | 0 | NA | 20 | 80 | male   | 15,001–25,000   | 1 |\n",
       "\n"
      ],
      "text/plain": [
       "  id                gender_binary age income p1 p2 p3 p4 p5 p6 ⋯ p8 p9 p10 task\n",
       "1 R_3PtNn51LmSFdLNM 1             26  7      1  1  1  1  1  1  ⋯ 1  1  1   0   \n",
       "2 R_2AXrrg62pgFgtMV 1             32  4      1  1  1  1  1  1  ⋯ 1  1  1   0   \n",
       "3 R_cwEOX3HgnMeVQHL 0             25  2      0  1  1  1  1  1  ⋯ 1  0  0   0   \n",
       "4 R_d59iPwL4W6BH8qx 0             33  5      1  1  1  1  1  1  ⋯ 1  1  1   0   \n",
       "5 R_1f3K2HrGzFGNelZ 0             24  1      1  1  0  1  1  1  ⋯ 1  1  1   1   \n",
       "6 R_3oN5ijzTfoMy4ca 0             22  2      1  1  0  0  1  1  ⋯ 1  0  1   0   \n",
       "  havemore haveless pcmore gender_labels income_lables   income_recoded\n",
       "1 NA       50       50     female        100,001–150,000 4             \n",
       "2 NA       25       75     female        35,001–50,000   2             \n",
       "3 NA       10       90     male          15,001–25,000   1             \n",
       "4 NA       50       50     male          50,001–75,000   3             \n",
       "5 99       NA       99     male          less5,000       1             \n",
       "6 NA       20       80     male          15,001–25,000   1             "
      ]
     },
     "metadata": {},
     "output_type": "display_data"
    },
    {
     "data": {
      "text/html": [
       "<table>\n",
       "<caption>A tibble: 4 × 2</caption>\n",
       "<thead>\n",
       "\t<tr><th scope=col>income_recoded</th><th scope=col>n</th></tr>\n",
       "\t<tr><th scope=col>&lt;dbl&gt;</th><th scope=col>&lt;int&gt;</th></tr>\n",
       "</thead>\n",
       "<tbody>\n",
       "\t<tr><td>1</td><td>72</td></tr>\n",
       "\t<tr><td>2</td><td>56</td></tr>\n",
       "\t<tr><td>3</td><td>52</td></tr>\n",
       "\t<tr><td>4</td><td>10</td></tr>\n",
       "</tbody>\n",
       "</table>\n"
      ],
      "text/latex": [
       "A tibble: 4 × 2\n",
       "\\begin{tabular}{r|ll}\n",
       " income\\_recoded & n\\\\\n",
       " <dbl> & <int>\\\\\n",
       "\\hline\n",
       "\t 1 & 72\\\\\n",
       "\t 2 & 56\\\\\n",
       "\t 3 & 52\\\\\n",
       "\t 4 & 10\\\\\n",
       "\\end{tabular}\n"
      ],
      "text/markdown": [
       "\n",
       "A tibble: 4 × 2\n",
       "\n",
       "| income_recoded &lt;dbl&gt; | n &lt;int&gt; |\n",
       "|---|---|\n",
       "| 1 | 72 |\n",
       "| 2 | 56 |\n",
       "| 3 | 52 |\n",
       "| 4 | 10 |\n",
       "\n"
      ],
      "text/plain": [
       "  income_recoded n \n",
       "1 1              72\n",
       "2 2              56\n",
       "3 3              52\n",
       "4 4              10"
      ]
     },
     "metadata": {},
     "output_type": "display_data"
    }
   ],
   "source": [
    "new_matthews_data = mutate(new_matthews_data,\n",
    "                           income_lables = recode(income,\n",
    "                                                  `1`='less5,000',\n",
    "                                                  `2`='15,001–25,000',\n",
    "                                                  `3`='25,001–35,000',\n",
    "                                                  `4`='35,001–50,000',\n",
    "                                                  `5`='50,001–75,000',\n",
    "                                                  `6`='75,001–100,000',\n",
    "                                                  `7`='100,001–150,000',\n",
    "                                                  `8`='greater150,000'\n",
    "                                                 ),\n",
    "                           income_recoded = case_when(income < 3 ~ 1,\n",
    "                                                      income >=3 & income < 5 ~ 2,\n",
    "                                                      income >= 5 & income < 7 ~ 3,\n",
    "                                                      income >=7 ~ 4))\n",
    "\n",
    "head(new_matthews_data)\n",
    "\n",
    "summarise(group_by(new_matthews_data, income_recoded), \n",
    "          n = n())"
   ]
  },
  {
   "cell_type": "markdown",
   "metadata": {},
   "source": [
    "Review example of code:\n",
    "\n",
    "```\n",
    "new_matthews_data = mutate(new_matthews_data,\n",
    "                           income_recoded = case_when(income == 1 | == 2 ~ \"below 25000\",\n",
    "                                                      income == 3 | == 4 ~ \"25000 - 50000\",\n",
    "                                                      income == 5 | == 6 ~ \"50000 - 100000\",\n",
    "                                                      income == 7 | == 8 ~ \"above 100000\"))\n",
    "```\n",
    "\n",
    "When using logical operators as `&` or `|` you have to write \"full sentences\" (variable == variable, not just == variable). Also, you were supposed to recode it to numbers, not the character labels. The correct version of the code below is:\n",
    "\n",
    "```\n",
    "new_matthews_data = mutate(new_matthews_data,\n",
    "                           income_recoded = case_when(income == 1 | income == 2 ~ 1,\n",
    "                                                      income == 3 | income == 4 ~ 2,\n",
    "                                                      income == 5 | income == 6 ~ 3,\n",
    "                                                      income == 7 | income == 8 ~ 4))\n",
    "```"
   ]
  },
  {
   "cell_type": "code",
   "execution_count": 5,
   "metadata": {},
   "outputs": [
    {
     "data": {
      "text/html": [
       "<table>\n",
       "<caption>A tibble: 6 × 21</caption>\n",
       "<thead>\n",
       "\t<tr><th scope=col>id</th><th scope=col>gender_binary</th><th scope=col>age</th><th scope=col>income</th><th scope=col>p1</th><th scope=col>p2</th><th scope=col>p3</th><th scope=col>p4</th><th scope=col>p5</th><th scope=col>p6</th><th scope=col>⋯</th><th scope=col>p8</th><th scope=col>p9</th><th scope=col>p10</th><th scope=col>task</th><th scope=col>havemore</th><th scope=col>haveless</th><th scope=col>pcmore</th><th scope=col>gender_labels</th><th scope=col>income_lables</th><th scope=col>income_recoded</th></tr>\n",
       "\t<tr><th scope=col>&lt;chr&gt;</th><th scope=col>&lt;int&gt;</th><th scope=col>&lt;int&gt;</th><th scope=col>&lt;int&gt;</th><th scope=col>&lt;int&gt;</th><th scope=col>&lt;int&gt;</th><th scope=col>&lt;int&gt;</th><th scope=col>&lt;int&gt;</th><th scope=col>&lt;int&gt;</th><th scope=col>&lt;int&gt;</th><th scope=col>⋯</th><th scope=col>&lt;int&gt;</th><th scope=col>&lt;int&gt;</th><th scope=col>&lt;int&gt;</th><th scope=col>&lt;int&gt;</th><th scope=col>&lt;int&gt;</th><th scope=col>&lt;int&gt;</th><th scope=col>&lt;int&gt;</th><th scope=col>&lt;chr&gt;</th><th scope=col>&lt;chr&gt;</th><th scope=col>&lt;int&gt;</th></tr>\n",
       "</thead>\n",
       "<tbody>\n",
       "\t<tr><td>R_3PtNn51LmSFdLNM</td><td>1</td><td>26</td><td>7</td><td>1</td><td>1</td><td>1</td><td>1</td><td>1</td><td>1</td><td>⋯</td><td>1</td><td>1</td><td>1</td><td>0</td><td>NA</td><td>50</td><td>50</td><td>female</td><td>100,001–150,000</td><td>4</td></tr>\n",
       "\t<tr><td>R_2AXrrg62pgFgtMV</td><td>1</td><td>32</td><td>4</td><td>1</td><td>1</td><td>1</td><td>1</td><td>1</td><td>1</td><td>⋯</td><td>1</td><td>1</td><td>1</td><td>0</td><td>NA</td><td>25</td><td>75</td><td>female</td><td>35,001–50,000  </td><td>2</td></tr>\n",
       "\t<tr><td>R_cwEOX3HgnMeVQHL</td><td>0</td><td>25</td><td>2</td><td>0</td><td>1</td><td>1</td><td>1</td><td>1</td><td>1</td><td>⋯</td><td>1</td><td>0</td><td>0</td><td>0</td><td>NA</td><td>10</td><td>90</td><td>male  </td><td>15,001–25,000  </td><td>1</td></tr>\n",
       "\t<tr><td>R_d59iPwL4W6BH8qx</td><td>0</td><td>33</td><td>5</td><td>1</td><td>1</td><td>1</td><td>1</td><td>1</td><td>1</td><td>⋯</td><td>1</td><td>1</td><td>1</td><td>0</td><td>NA</td><td>50</td><td>50</td><td>male  </td><td>50,001–75,000  </td><td>3</td></tr>\n",
       "\t<tr><td>R_1f3K2HrGzFGNelZ</td><td>0</td><td>24</td><td>1</td><td>1</td><td>1</td><td>0</td><td>1</td><td>1</td><td>1</td><td>⋯</td><td>1</td><td>1</td><td>1</td><td>1</td><td>99</td><td>NA</td><td>99</td><td>male  </td><td>less5,000      </td><td>1</td></tr>\n",
       "\t<tr><td>R_3oN5ijzTfoMy4ca</td><td>0</td><td>22</td><td>2</td><td>1</td><td>1</td><td>0</td><td>0</td><td>1</td><td>1</td><td>⋯</td><td>1</td><td>0</td><td>1</td><td>0</td><td>NA</td><td>20</td><td>80</td><td>male  </td><td>15,001–25,000  </td><td>1</td></tr>\n",
       "</tbody>\n",
       "</table>\n"
      ],
      "text/latex": [
       "A tibble: 6 × 21\n",
       "\\begin{tabular}{r|lllllllllllllllllllll}\n",
       " id & gender\\_binary & age & income & p1 & p2 & p3 & p4 & p5 & p6 & p7 & p8 & p9 & p10 & task & havemore & haveless & pcmore & gender\\_labels & income\\_lables & income\\_recoded\\\\\n",
       " <chr> & <int> & <int> & <int> & <int> & <int> & <int> & <int> & <int> & <int> & <int> & <int> & <int> & <int> & <int> & <int> & <int> & <int> & <chr> & <chr> & <int>\\\\\n",
       "\\hline\n",
       "\t R\\_3PtNn51LmSFdLNM & 1 & 26 & 7 & 1 & 1 & 1 & 1 & 1 & 1 & 1 & 1 & 1 & 1 & 0 & NA & 50 & 50 & female & 100,001–150,000 & 4\\\\\n",
       "\t R\\_2AXrrg62pgFgtMV & 1 & 32 & 4 & 1 & 1 & 1 & 1 & 1 & 1 & 1 & 1 & 1 & 1 & 0 & NA & 25 & 75 & female & 35,001–50,000   & 2\\\\\n",
       "\t R\\_cwEOX3HgnMeVQHL & 0 & 25 & 2 & 0 & 1 & 1 & 1 & 1 & 1 & 1 & 1 & 0 & 0 & 0 & NA & 10 & 90 & male   & 15,001–25,000   & 1\\\\\n",
       "\t R\\_d59iPwL4W6BH8qx & 0 & 33 & 5 & 1 & 1 & 1 & 1 & 1 & 1 & 1 & 1 & 1 & 1 & 0 & NA & 50 & 50 & male   & 50,001–75,000   & 3\\\\\n",
       "\t R\\_1f3K2HrGzFGNelZ & 0 & 24 & 1 & 1 & 1 & 0 & 1 & 1 & 1 & 1 & 1 & 1 & 1 & 1 & 99 & NA & 99 & male   & less5,000       & 1\\\\\n",
       "\t R\\_3oN5ijzTfoMy4ca & 0 & 22 & 2 & 1 & 1 & 0 & 0 & 1 & 1 & 1 & 1 & 0 & 1 & 0 & NA & 20 & 80 & male   & 15,001–25,000   & 1\\\\\n",
       "\\end{tabular}\n"
      ],
      "text/markdown": [
       "\n",
       "A tibble: 6 × 21\n",
       "\n",
       "| id &lt;chr&gt; | gender_binary &lt;int&gt; | age &lt;int&gt; | income &lt;int&gt; | p1 &lt;int&gt; | p2 &lt;int&gt; | p3 &lt;int&gt; | p4 &lt;int&gt; | p5 &lt;int&gt; | p6 &lt;int&gt; | ⋯ ⋯ | p8 &lt;int&gt; | p9 &lt;int&gt; | p10 &lt;int&gt; | task &lt;int&gt; | havemore &lt;int&gt; | haveless &lt;int&gt; | pcmore &lt;int&gt; | gender_labels &lt;chr&gt; | income_lables &lt;chr&gt; | income_recoded &lt;int&gt; |\n",
       "|---|---|---|---|---|---|---|---|---|---|---|---|---|---|---|---|---|---|---|---|---|\n",
       "| R_3PtNn51LmSFdLNM | 1 | 26 | 7 | 1 | 1 | 1 | 1 | 1 | 1 | ⋯ | 1 | 1 | 1 | 0 | NA | 50 | 50 | female | 100,001–150,000 | 4 |\n",
       "| R_2AXrrg62pgFgtMV | 1 | 32 | 4 | 1 | 1 | 1 | 1 | 1 | 1 | ⋯ | 1 | 1 | 1 | 0 | NA | 25 | 75 | female | 35,001–50,000   | 2 |\n",
       "| R_cwEOX3HgnMeVQHL | 0 | 25 | 2 | 0 | 1 | 1 | 1 | 1 | 1 | ⋯ | 1 | 0 | 0 | 0 | NA | 10 | 90 | male   | 15,001–25,000   | 1 |\n",
       "| R_d59iPwL4W6BH8qx | 0 | 33 | 5 | 1 | 1 | 1 | 1 | 1 | 1 | ⋯ | 1 | 1 | 1 | 0 | NA | 50 | 50 | male   | 50,001–75,000   | 3 |\n",
       "| R_1f3K2HrGzFGNelZ | 0 | 24 | 1 | 1 | 1 | 0 | 1 | 1 | 1 | ⋯ | 1 | 1 | 1 | 1 | 99 | NA | 99 | male   | less5,000       | 1 |\n",
       "| R_3oN5ijzTfoMy4ca | 0 | 22 | 2 | 1 | 1 | 0 | 0 | 1 | 1 | ⋯ | 1 | 0 | 1 | 0 | NA | 20 | 80 | male   | 15,001–25,000   | 1 |\n",
       "\n"
      ],
      "text/plain": [
       "  id                gender_binary age income p1 p2 p3 p4 p5 p6 ⋯ p8 p9 p10 task\n",
       "1 R_3PtNn51LmSFdLNM 1             26  7      1  1  1  1  1  1  ⋯ 1  1  1   0   \n",
       "2 R_2AXrrg62pgFgtMV 1             32  4      1  1  1  1  1  1  ⋯ 1  1  1   0   \n",
       "3 R_cwEOX3HgnMeVQHL 0             25  2      0  1  1  1  1  1  ⋯ 1  0  0   0   \n",
       "4 R_d59iPwL4W6BH8qx 0             33  5      1  1  1  1  1  1  ⋯ 1  1  1   0   \n",
       "5 R_1f3K2HrGzFGNelZ 0             24  1      1  1  0  1  1  1  ⋯ 1  1  1   1   \n",
       "6 R_3oN5ijzTfoMy4ca 0             22  2      1  1  0  0  1  1  ⋯ 1  0  1   0   \n",
       "  havemore haveless pcmore gender_labels income_lables   income_recoded\n",
       "1 NA       50       50     female        100,001–150,000 4             \n",
       "2 NA       25       75     female        35,001–50,000   2             \n",
       "3 NA       10       90     male          15,001–25,000   1             \n",
       "4 NA       50       50     male          50,001–75,000   3             \n",
       "5 99       NA       99     male          less5,000       1             \n",
       "6 NA       20       80     male          15,001–25,000   1             "
      ]
     },
     "metadata": {},
     "output_type": "display_data"
    }
   ],
   "source": [
    "new_matthews_data = mutate_if(new_matthews_data,\n",
    "                              is.numeric, \n",
    "                              as.integer)\n",
    "head(new_matthews_data)"
   ]
  },
  {
   "cell_type": "markdown",
   "metadata": {},
   "source": [
    "Review example code:\n",
    "\n",
    "```\n",
    "new_matthews_data = new_matthews_data %>%\n",
    "    mutate_if(is.numeric(as.integer)\n",
    "```\n",
    "\n",
    "- wrong brackets: `is.numeric` and `as.integer` are both arguments of the function `mutate_if`\n",
    "- also, no pipes should have been used here"
   ]
  },
  {
   "cell_type": "code",
   "execution_count": 6,
   "metadata": {},
   "outputs": [
    {
     "data": {
      "text/html": [
       "<table>\n",
       "<caption>A tibble: 1 × 7</caption>\n",
       "<thead>\n",
       "\t<tr><th scope=col>perc_female</th><th scope=col>min_income</th><th scope=col>mean_income</th><th scope=col>max_income</th><th scope=col>perc25_age</th><th scope=col>median_age</th><th scope=col>perc75_age</th></tr>\n",
       "\t<tr><th scope=col>&lt;dbl&gt;</th><th scope=col>&lt;int&gt;</th><th scope=col>&lt;dbl&gt;</th><th scope=col>&lt;int&gt;</th><th scope=col>&lt;dbl&gt;</th><th scope=col>&lt;dbl&gt;</th><th scope=col>&lt;dbl&gt;</th></tr>\n",
       "</thead>\n",
       "<tbody>\n",
       "\t<tr><td>37.36842</td><td>1</td><td>3.531579</td><td>8</td><td>25</td><td>30</td><td>35</td></tr>\n",
       "</tbody>\n",
       "</table>\n"
      ],
      "text/latex": [
       "A tibble: 1 × 7\n",
       "\\begin{tabular}{r|lllllll}\n",
       " perc\\_female & min\\_income & mean\\_income & max\\_income & perc25\\_age & median\\_age & perc75\\_age\\\\\n",
       " <dbl> & <int> & <dbl> & <int> & <dbl> & <dbl> & <dbl>\\\\\n",
       "\\hline\n",
       "\t 37.36842 & 1 & 3.531579 & 8 & 25 & 30 & 35\\\\\n",
       "\\end{tabular}\n"
      ],
      "text/markdown": [
       "\n",
       "A tibble: 1 × 7\n",
       "\n",
       "| perc_female &lt;dbl&gt; | min_income &lt;int&gt; | mean_income &lt;dbl&gt; | max_income &lt;int&gt; | perc25_age &lt;dbl&gt; | median_age &lt;dbl&gt; | perc75_age &lt;dbl&gt; |\n",
       "|---|---|---|---|---|---|---|\n",
       "| 37.36842 | 1 | 3.531579 | 8 | 25 | 30 | 35 |\n",
       "\n"
      ],
      "text/plain": [
       "  perc_female min_income mean_income max_income perc25_age median_age\n",
       "1 37.36842    1          3.531579    8          25         30        \n",
       "  perc75_age\n",
       "1 35        "
      ]
     },
     "metadata": {},
     "output_type": "display_data"
    }
   ],
   "source": [
    "summarise(new_matthews_data,\n",
    "          perc_female = mean(gender_binary)*100,\n",
    "          min_income = min(income),\n",
    "          mean_income = mean(income),\n",
    "          max_income = max(income),\n",
    "          perc25_age = quantile(age, .25),\n",
    "          median_age = quantile(age, .5),\n",
    "          perc75_age = quantile(age, .75)\n",
    "          )"
   ]
  },
  {
   "cell_type": "markdown",
   "metadata": {},
   "source": [
    "Review example code:\n",
    "\n",
    "```\n",
    ">new_mattews_summary = new_matthews_data %>%\n",
    "summarize(\n",
    "  min_income = min(income, na.rm = TRUE),\n",
    "  median_income = quantile(income, 0.5, na.rm = TUE),\n",
    "  max_income = max(income, na.rm = TRUE),\n",
    "  age_percentile = quantile(age, 0.25, 0.5, 0.75, na.rm = TRUE))\n",
    "  \n",
    "output when fixing typo:\n",
    "# A tibble: 1 x 4\n",
    "  min_income median_income max_income age_percentile\n",
    "       <int>         <dbl>      <int>          <int>\n",
    "1          1             3          8             25\n",
    "```\n",
    "\n",
    "\n",
    "- typo? at line 4: 'TUE' instead of TRUE\n",
    "- perc_female is missing. You can calculate it from gender binary, as 1 is female and 0 is male. The mean of that gives you exactly the percentage (on a scale from 0 to 1, so then you can simply multiply by 100).\n",
    "- you have to split quantiles in separate columns, otherwise only the first is shown"
   ]
  },
  {
   "cell_type": "code",
   "execution_count": 7,
   "metadata": {},
   "outputs": [
    {
     "data": {
      "text/html": [
       "<table>\n",
       "<caption>A tibble: 1 × 7</caption>\n",
       "<thead>\n",
       "\t<tr><th scope=col>perc_female</th><th scope=col>min_income</th><th scope=col>mean_income</th><th scope=col>max_income</th><th scope=col>perc25_age</th><th scope=col>median_age</th><th scope=col>perc75_age</th></tr>\n",
       "\t<tr><th scope=col>&lt;dbl&gt;</th><th scope=col>&lt;int&gt;</th><th scope=col>&lt;dbl&gt;</th><th scope=col>&lt;int&gt;</th><th scope=col>&lt;dbl&gt;</th><th scope=col>&lt;dbl&gt;</th><th scope=col>&lt;dbl&gt;</th></tr>\n",
       "</thead>\n",
       "<tbody>\n",
       "\t<tr><td>0.3736842</td><td>1</td><td>3.531579</td><td>8</td><td>25</td><td>30</td><td>35</td></tr>\n",
       "</tbody>\n",
       "</table>\n"
      ],
      "text/latex": [
       "A tibble: 1 × 7\n",
       "\\begin{tabular}{r|lllllll}\n",
       " perc\\_female & min\\_income & mean\\_income & max\\_income & perc25\\_age & median\\_age & perc75\\_age\\\\\n",
       " <dbl> & <int> & <dbl> & <int> & <dbl> & <dbl> & <dbl>\\\\\n",
       "\\hline\n",
       "\t 0.3736842 & 1 & 3.531579 & 8 & 25 & 30 & 35\\\\\n",
       "\\end{tabular}\n"
      ],
      "text/markdown": [
       "\n",
       "A tibble: 1 × 7\n",
       "\n",
       "| perc_female &lt;dbl&gt; | min_income &lt;int&gt; | mean_income &lt;dbl&gt; | max_income &lt;int&gt; | perc25_age &lt;dbl&gt; | median_age &lt;dbl&gt; | perc75_age &lt;dbl&gt; |\n",
       "|---|---|---|---|---|---|---|\n",
       "| 0.3736842 | 1 | 3.531579 | 8 | 25 | 30 | 35 |\n",
       "\n"
      ],
      "text/plain": [
       "  perc_female min_income mean_income max_income perc25_age median_age\n",
       "1 0.3736842   1          3.531579    8          25         30        \n",
       "  perc75_age\n",
       "1 35        "
      ]
     },
     "metadata": {},
     "output_type": "display_data"
    }
   ],
   "source": [
    "new_matthews_data_summary = matthews_data %>% \n",
    "    mutate(gender_labels = recode(gender,\n",
    "                                 `1`=\"male\",\n",
    "                                 `2`=\"female\"))  %>% \n",
    "    rename(gender_binary = gender)  %>% \n",
    "    mutate(gender_binary = gender_binary - 1) %>%\n",
    "    mutate(income_lables = recode(income,\n",
    "                                  `1`='less5,000',\n",
    "                                  `2`='15,001–25,000',\n",
    "                                  `3`='25,001–35,000',\n",
    "                                  `4`='35,001–50,000',\n",
    "                                  `5`='50,001–75,000',\n",
    "                                  `6`='75,001–100,000',\n",
    "                                  `7`='100,001–150,000',\n",
    "                                  `8`='greater150,000'),\n",
    "           income_recoded = case_when(income < 3 ~ 1,\n",
    "                                      income >=3 & income < 5 ~ 2,\n",
    "                                      income >= 5 & income < 7 ~ 3,\n",
    "                                      income >=7 ~ 4)) %>%\n",
    "    mutate_if(is.numeric, \n",
    "              as.integer) %>%\n",
    "    summarise(perc_female = mean(gender_binary)*100,\n",
    "              min_income = min(income),\n",
    "              mean_income = mean(income),\n",
    "              max_income = max(income),\n",
    "              perc25_age = quantile(age, .25),\n",
    "              median_age = quantile(age, .5),\n",
    "              perc75_age = quantile(age, .75))\n",
    "\n",
    "new_matthews_data_summary"
   ]
  },
  {
   "cell_type": "markdown",
   "metadata": {},
   "source": [
    "**Task B**\n",
    "\n",
    "1. From `new_matthews_data`, calculate the mean `p1` to `p10` across participants using `summarise_all` and `select`. Which product scored the highest? Do it again, grouping the data by gender. Is there a difference across gender? What is the mean of the mean `p1` to `p10` across participants? Calculate it on the result of the previous step. You can do these either using pipes or not.\n",
    "\n",
    "2. Transform the data from wide to long format. In particular, you want 10 rows per subjects, with their responses on the products 1 to 10 in a column called `wtp`, and the product label in a column called `product`. Call the resulting dataframe `new_matthews_data_long`. Re-order it by `id`. Print the first 20 cases to check this worked. Check that `new_matthews_data_long` has 10 times more rows than `new_matthews_data`."
   ]
  },
  {
   "cell_type": "code",
   "execution_count": 32,
   "metadata": {},
   "outputs": [
    {
     "name": "stderr",
     "output_type": "stream",
     "text": [
      "Adding missing grouping variables: `gender_binary`\n"
     ]
    },
    {
     "data": {
      "text/html": [
       "<table>\n",
       "<caption>A tibble: 2 × 11</caption>\n",
       "<thead>\n",
       "\t<tr><th scope=col>gender_binary</th><th scope=col>p1</th><th scope=col>p2</th><th scope=col>p3</th><th scope=col>p4</th><th scope=col>p5</th><th scope=col>p6</th><th scope=col>p7</th><th scope=col>p8</th><th scope=col>p9</th><th scope=col>p10</th></tr>\n",
       "\t<tr><th scope=col>&lt;int&gt;</th><th scope=col>&lt;dbl&gt;</th><th scope=col>&lt;dbl&gt;</th><th scope=col>&lt;dbl&gt;</th><th scope=col>&lt;dbl&gt;</th><th scope=col>&lt;dbl&gt;</th><th scope=col>&lt;dbl&gt;</th><th scope=col>&lt;dbl&gt;</th><th scope=col>&lt;dbl&gt;</th><th scope=col>&lt;dbl&gt;</th><th scope=col>&lt;dbl&gt;</th></tr>\n",
       "</thead>\n",
       "<tbody>\n",
       "\t<tr><td>0</td><td>0.7226891</td><td>0.8487395</td><td>0.6302521</td><td>0.8571429</td><td>0.7899160</td><td>0.7815126</td><td>0.8655462</td><td>0.8739496</td><td>0.6890756</td><td>0.7058824</td></tr>\n",
       "\t<tr><td>1</td><td>0.6478873</td><td>0.8873239</td><td>0.8309859</td><td>0.8450704</td><td>0.7464789</td><td>0.8309859</td><td>0.8591549</td><td>0.9436620</td><td>0.6478873</td><td>0.7746479</td></tr>\n",
       "</tbody>\n",
       "</table>\n"
      ],
      "text/latex": [
       "A tibble: 2 × 11\n",
       "\\begin{tabular}{r|lllllllllll}\n",
       " gender\\_binary & p1 & p2 & p3 & p4 & p5 & p6 & p7 & p8 & p9 & p10\\\\\n",
       " <int> & <dbl> & <dbl> & <dbl> & <dbl> & <dbl> & <dbl> & <dbl> & <dbl> & <dbl> & <dbl>\\\\\n",
       "\\hline\n",
       "\t 0 & 0.7226891 & 0.8487395 & 0.6302521 & 0.8571429 & 0.7899160 & 0.7815126 & 0.8655462 & 0.8739496 & 0.6890756 & 0.7058824\\\\\n",
       "\t 1 & 0.6478873 & 0.8873239 & 0.8309859 & 0.8450704 & 0.7464789 & 0.8309859 & 0.8591549 & 0.9436620 & 0.6478873 & 0.7746479\\\\\n",
       "\\end{tabular}\n"
      ],
      "text/markdown": [
       "\n",
       "A tibble: 2 × 11\n",
       "\n",
       "| gender_binary &lt;int&gt; | p1 &lt;dbl&gt; | p2 &lt;dbl&gt; | p3 &lt;dbl&gt; | p4 &lt;dbl&gt; | p5 &lt;dbl&gt; | p6 &lt;dbl&gt; | p7 &lt;dbl&gt; | p8 &lt;dbl&gt; | p9 &lt;dbl&gt; | p10 &lt;dbl&gt; |\n",
       "|---|---|---|---|---|---|---|---|---|---|---|\n",
       "| 0 | 0.7226891 | 0.8487395 | 0.6302521 | 0.8571429 | 0.7899160 | 0.7815126 | 0.8655462 | 0.8739496 | 0.6890756 | 0.7058824 |\n",
       "| 1 | 0.6478873 | 0.8873239 | 0.8309859 | 0.8450704 | 0.7464789 | 0.8309859 | 0.8591549 | 0.9436620 | 0.6478873 | 0.7746479 |\n",
       "\n"
      ],
      "text/plain": [
       "  gender_binary p1        p2        p3        p4        p5        p6       \n",
       "1 0             0.7226891 0.8487395 0.6302521 0.8571429 0.7899160 0.7815126\n",
       "2 1             0.6478873 0.8873239 0.8309859 0.8450704 0.7464789 0.8309859\n",
       "  p7        p8        p9        p10      \n",
       "1 0.8655462 0.8739496 0.6890756 0.7058824\n",
       "2 0.8591549 0.9436620 0.6478873 0.7746479"
      ]
     },
     "metadata": {},
     "output_type": "display_data"
    },
    {
     "data": {
      "text/html": [
       "<table>\n",
       "<caption>A tibble: 2 × 11</caption>\n",
       "<thead>\n",
       "\t<tr><th scope=col>gender_binary</th><th scope=col>p1</th><th scope=col>p2</th><th scope=col>p3</th><th scope=col>p4</th><th scope=col>p5</th><th scope=col>p6</th><th scope=col>p7</th><th scope=col>p8</th><th scope=col>p9</th><th scope=col>p10</th></tr>\n",
       "\t<tr><th scope=col>&lt;int&gt;</th><th scope=col>&lt;dbl&gt;</th><th scope=col>&lt;dbl&gt;</th><th scope=col>&lt;dbl&gt;</th><th scope=col>&lt;dbl&gt;</th><th scope=col>&lt;dbl&gt;</th><th scope=col>&lt;dbl&gt;</th><th scope=col>&lt;dbl&gt;</th><th scope=col>&lt;dbl&gt;</th><th scope=col>&lt;dbl&gt;</th><th scope=col>&lt;dbl&gt;</th></tr>\n",
       "</thead>\n",
       "<tbody>\n",
       "\t<tr><td>0</td><td>0.7226891</td><td>0.8487395</td><td>0.6302521</td><td>0.8571429</td><td>0.7899160</td><td>0.7815126</td><td>0.8655462</td><td>0.8739496</td><td>0.6890756</td><td>0.7058824</td></tr>\n",
       "\t<tr><td>1</td><td>0.6478873</td><td>0.8873239</td><td>0.8309859</td><td>0.8450704</td><td>0.7464789</td><td>0.8309859</td><td>0.8591549</td><td>0.9436620</td><td>0.6478873</td><td>0.7746479</td></tr>\n",
       "</tbody>\n",
       "</table>\n"
      ],
      "text/latex": [
       "A tibble: 2 × 11\n",
       "\\begin{tabular}{r|lllllllllll}\n",
       " gender\\_binary & p1 & p2 & p3 & p4 & p5 & p6 & p7 & p8 & p9 & p10\\\\\n",
       " <int> & <dbl> & <dbl> & <dbl> & <dbl> & <dbl> & <dbl> & <dbl> & <dbl> & <dbl> & <dbl>\\\\\n",
       "\\hline\n",
       "\t 0 & 0.7226891 & 0.8487395 & 0.6302521 & 0.8571429 & 0.7899160 & 0.7815126 & 0.8655462 & 0.8739496 & 0.6890756 & 0.7058824\\\\\n",
       "\t 1 & 0.6478873 & 0.8873239 & 0.8309859 & 0.8450704 & 0.7464789 & 0.8309859 & 0.8591549 & 0.9436620 & 0.6478873 & 0.7746479\\\\\n",
       "\\end{tabular}\n"
      ],
      "text/markdown": [
       "\n",
       "A tibble: 2 × 11\n",
       "\n",
       "| gender_binary &lt;int&gt; | p1 &lt;dbl&gt; | p2 &lt;dbl&gt; | p3 &lt;dbl&gt; | p4 &lt;dbl&gt; | p5 &lt;dbl&gt; | p6 &lt;dbl&gt; | p7 &lt;dbl&gt; | p8 &lt;dbl&gt; | p9 &lt;dbl&gt; | p10 &lt;dbl&gt; |\n",
       "|---|---|---|---|---|---|---|---|---|---|---|\n",
       "| 0 | 0.7226891 | 0.8487395 | 0.6302521 | 0.8571429 | 0.7899160 | 0.7815126 | 0.8655462 | 0.8739496 | 0.6890756 | 0.7058824 |\n",
       "| 1 | 0.6478873 | 0.8873239 | 0.8309859 | 0.8450704 | 0.7464789 | 0.8309859 | 0.8591549 | 0.9436620 | 0.6478873 | 0.7746479 |\n",
       "\n"
      ],
      "text/plain": [
       "  gender_binary p1        p2        p3        p4        p5        p6       \n",
       "1 0             0.7226891 0.8487395 0.6302521 0.8571429 0.7899160 0.7815126\n",
       "2 1             0.6478873 0.8873239 0.8309859 0.8450704 0.7464789 0.8309859\n",
       "  p7        p8        p9        p10      \n",
       "1 0.8655462 0.8739496 0.6890756 0.7058824\n",
       "2 0.8591549 0.9436620 0.6478873 0.7746479"
      ]
     },
     "metadata": {},
     "output_type": "display_data"
    }
   ],
   "source": [
    "# with pipes\n",
    "new_matthews_data %>%\n",
    "    group_by(gender_binary) %>%\n",
    "    select(p1:p10) %>%\n",
    "    summarise_all(mean)\n",
    "\n",
    "# without pipes\n",
    "selected_data = select(new_matthews_data, p1:p10, gender_binary)\n",
    "grouped_data = group_by(selected_data, gender_binary)\n",
    "summarise_all(grouped_data, mean)\n",
    "\n",
    "write_csv(summarise_all(grouped_data, mean), \"~/Desktop/grouped_data.csv\")"
   ]
  },
  {
   "cell_type": "markdown",
   "metadata": {},
   "source": [
    "Review example:\n",
    "\n",
    "```\n",
    "summarise(new_matthews_data, \n",
    "              mean_p1=mean(p1),\n",
    "          mean_p2=mean(p2),\n",
    "          mean_p3=mean(p3),\n",
    "          mean_p4=mean(p4),\n",
    "          mean_p5=mean(p5),\n",
    "          mean_p6=mean(p6),\n",
    "          mean_p7=mean(p7),\n",
    "          mean_p8=mean(p8),\n",
    "          mean_p9=mean(p9),\n",
    "          mean_p10=mean(p10)\n",
    "          )\n",
    "\n",
    "grouped_gender_new_matthews_data=group_by(new_matthews_data,gender_binary)\n",
    "\n",
    "summarise(grouped_gender_new_matthews_data, \n",
    "          mean_p1=mean(p1),\n",
    "          mean_p2=mean(p2),\n",
    "          mean_p3=mean(p3),\n",
    "          mean_p4=mean(p4),\n",
    "          mean_p5=mean(p5),\n",
    "          mean_p6=mean(p6),\n",
    "          mean_p7=mean(p7),\n",
    "          mean_p8=mean(p8),\n",
    "          mean_p9=mean(p9),\n",
    "          mean_p10=mean(p10)\n",
    ")\n",
    "```\n",
    "Good, but you can use select and summarize_all to make it more concise."
   ]
  },
  {
   "cell_type": "code",
   "execution_count": 15,
   "metadata": {},
   "outputs": [
    {
     "data": {
      "text/html": [
       "1900"
      ],
      "text/latex": [
       "1900"
      ],
      "text/markdown": [
       "1900"
      ],
      "text/plain": [
       "[1] 1900"
      ]
     },
     "metadata": {},
     "output_type": "display_data"
    },
    {
     "data": {
      "text/html": [
       "190"
      ],
      "text/latex": [
       "190"
      ],
      "text/markdown": [
       "190"
      ],
      "text/plain": [
       "[1] 190"
      ]
     },
     "metadata": {},
     "output_type": "display_data"
    },
    {
     "data": {
      "text/html": [
       "<table>\n",
       "<caption>A tibble: 20 × 13</caption>\n",
       "<thead>\n",
       "\t<tr><th scope=col>id</th><th scope=col>gender_binary</th><th scope=col>age</th><th scope=col>income</th><th scope=col>task</th><th scope=col>havemore</th><th scope=col>haveless</th><th scope=col>pcmore</th><th scope=col>gender_labels</th><th scope=col>income_lables</th><th scope=col>income_recoded</th><th scope=col>product</th><th scope=col>wtp</th></tr>\n",
       "\t<tr><th scope=col>&lt;chr&gt;</th><th scope=col>&lt;int&gt;</th><th scope=col>&lt;int&gt;</th><th scope=col>&lt;int&gt;</th><th scope=col>&lt;int&gt;</th><th scope=col>&lt;int&gt;</th><th scope=col>&lt;int&gt;</th><th scope=col>&lt;int&gt;</th><th scope=col>&lt;chr&gt;</th><th scope=col>&lt;chr&gt;</th><th scope=col>&lt;int&gt;</th><th scope=col>&lt;chr&gt;</th><th scope=col>&lt;int&gt;</th></tr>\n",
       "</thead>\n",
       "<tbody>\n",
       "\t<tr><td>R_0JLtfRpOyh8pOCN</td><td>1</td><td>45</td><td>4</td><td>1</td><td>80</td><td>NA</td><td>80</td><td>female</td><td>35,001–50,000</td><td>2</td><td>p1 </td><td>1</td></tr>\n",
       "\t<tr><td>R_0JLtfRpOyh8pOCN</td><td>1</td><td>45</td><td>4</td><td>1</td><td>80</td><td>NA</td><td>80</td><td>female</td><td>35,001–50,000</td><td>2</td><td>p2 </td><td>1</td></tr>\n",
       "\t<tr><td>R_0JLtfRpOyh8pOCN</td><td>1</td><td>45</td><td>4</td><td>1</td><td>80</td><td>NA</td><td>80</td><td>female</td><td>35,001–50,000</td><td>2</td><td>p3 </td><td>1</td></tr>\n",
       "\t<tr><td>R_0JLtfRpOyh8pOCN</td><td>1</td><td>45</td><td>4</td><td>1</td><td>80</td><td>NA</td><td>80</td><td>female</td><td>35,001–50,000</td><td>2</td><td>p4 </td><td>1</td></tr>\n",
       "\t<tr><td>R_0JLtfRpOyh8pOCN</td><td>1</td><td>45</td><td>4</td><td>1</td><td>80</td><td>NA</td><td>80</td><td>female</td><td>35,001–50,000</td><td>2</td><td>p5 </td><td>1</td></tr>\n",
       "\t<tr><td>R_0JLtfRpOyh8pOCN</td><td>1</td><td>45</td><td>4</td><td>1</td><td>80</td><td>NA</td><td>80</td><td>female</td><td>35,001–50,000</td><td>2</td><td>p6 </td><td>0</td></tr>\n",
       "\t<tr><td>R_0JLtfRpOyh8pOCN</td><td>1</td><td>45</td><td>4</td><td>1</td><td>80</td><td>NA</td><td>80</td><td>female</td><td>35,001–50,000</td><td>2</td><td>p7 </td><td>1</td></tr>\n",
       "\t<tr><td>R_0JLtfRpOyh8pOCN</td><td>1</td><td>45</td><td>4</td><td>1</td><td>80</td><td>NA</td><td>80</td><td>female</td><td>35,001–50,000</td><td>2</td><td>p8 </td><td>1</td></tr>\n",
       "\t<tr><td>R_0JLtfRpOyh8pOCN</td><td>1</td><td>45</td><td>4</td><td>1</td><td>80</td><td>NA</td><td>80</td><td>female</td><td>35,001–50,000</td><td>2</td><td>p9 </td><td>1</td></tr>\n",
       "\t<tr><td>R_0JLtfRpOyh8pOCN</td><td>1</td><td>45</td><td>4</td><td>1</td><td>80</td><td>NA</td><td>80</td><td>female</td><td>35,001–50,000</td><td>2</td><td>p10</td><td>1</td></tr>\n",
       "\t<tr><td>R_0O52mja29pBTphb</td><td>0</td><td>25</td><td>3</td><td>1</td><td>60</td><td>NA</td><td>60</td><td>male  </td><td>25,001–35,000</td><td>2</td><td>p1 </td><td>1</td></tr>\n",
       "\t<tr><td>R_0O52mja29pBTphb</td><td>0</td><td>25</td><td>3</td><td>1</td><td>60</td><td>NA</td><td>60</td><td>male  </td><td>25,001–35,000</td><td>2</td><td>p2 </td><td>0</td></tr>\n",
       "\t<tr><td>R_0O52mja29pBTphb</td><td>0</td><td>25</td><td>3</td><td>1</td><td>60</td><td>NA</td><td>60</td><td>male  </td><td>25,001–35,000</td><td>2</td><td>p3 </td><td>1</td></tr>\n",
       "\t<tr><td>R_0O52mja29pBTphb</td><td>0</td><td>25</td><td>3</td><td>1</td><td>60</td><td>NA</td><td>60</td><td>male  </td><td>25,001–35,000</td><td>2</td><td>p4 </td><td>0</td></tr>\n",
       "\t<tr><td>R_0O52mja29pBTphb</td><td>0</td><td>25</td><td>3</td><td>1</td><td>60</td><td>NA</td><td>60</td><td>male  </td><td>25,001–35,000</td><td>2</td><td>p5 </td><td>1</td></tr>\n",
       "\t<tr><td>R_0O52mja29pBTphb</td><td>0</td><td>25</td><td>3</td><td>1</td><td>60</td><td>NA</td><td>60</td><td>male  </td><td>25,001–35,000</td><td>2</td><td>p6 </td><td>1</td></tr>\n",
       "\t<tr><td>R_0O52mja29pBTphb</td><td>0</td><td>25</td><td>3</td><td>1</td><td>60</td><td>NA</td><td>60</td><td>male  </td><td>25,001–35,000</td><td>2</td><td>p7 </td><td>1</td></tr>\n",
       "\t<tr><td>R_0O52mja29pBTphb</td><td>0</td><td>25</td><td>3</td><td>1</td><td>60</td><td>NA</td><td>60</td><td>male  </td><td>25,001–35,000</td><td>2</td><td>p8 </td><td>1</td></tr>\n",
       "\t<tr><td>R_0O52mja29pBTphb</td><td>0</td><td>25</td><td>3</td><td>1</td><td>60</td><td>NA</td><td>60</td><td>male  </td><td>25,001–35,000</td><td>2</td><td>p9 </td><td>0</td></tr>\n",
       "\t<tr><td>R_0O52mja29pBTphb</td><td>0</td><td>25</td><td>3</td><td>1</td><td>60</td><td>NA</td><td>60</td><td>male  </td><td>25,001–35,000</td><td>2</td><td>p10</td><td>0</td></tr>\n",
       "</tbody>\n",
       "</table>\n"
      ],
      "text/latex": [
       "A tibble: 20 × 13\n",
       "\\begin{tabular}{r|lllllllllllll}\n",
       " id & gender\\_binary & age & income & task & havemore & haveless & pcmore & gender\\_labels & income\\_lables & income\\_recoded & product & wtp\\\\\n",
       " <chr> & <int> & <int> & <int> & <int> & <int> & <int> & <int> & <chr> & <chr> & <int> & <chr> & <int>\\\\\n",
       "\\hline\n",
       "\t R\\_0JLtfRpOyh8pOCN & 1 & 45 & 4 & 1 & 80 & NA & 80 & female & 35,001–50,000 & 2 & p1  & 1\\\\\n",
       "\t R\\_0JLtfRpOyh8pOCN & 1 & 45 & 4 & 1 & 80 & NA & 80 & female & 35,001–50,000 & 2 & p2  & 1\\\\\n",
       "\t R\\_0JLtfRpOyh8pOCN & 1 & 45 & 4 & 1 & 80 & NA & 80 & female & 35,001–50,000 & 2 & p3  & 1\\\\\n",
       "\t R\\_0JLtfRpOyh8pOCN & 1 & 45 & 4 & 1 & 80 & NA & 80 & female & 35,001–50,000 & 2 & p4  & 1\\\\\n",
       "\t R\\_0JLtfRpOyh8pOCN & 1 & 45 & 4 & 1 & 80 & NA & 80 & female & 35,001–50,000 & 2 & p5  & 1\\\\\n",
       "\t R\\_0JLtfRpOyh8pOCN & 1 & 45 & 4 & 1 & 80 & NA & 80 & female & 35,001–50,000 & 2 & p6  & 0\\\\\n",
       "\t R\\_0JLtfRpOyh8pOCN & 1 & 45 & 4 & 1 & 80 & NA & 80 & female & 35,001–50,000 & 2 & p7  & 1\\\\\n",
       "\t R\\_0JLtfRpOyh8pOCN & 1 & 45 & 4 & 1 & 80 & NA & 80 & female & 35,001–50,000 & 2 & p8  & 1\\\\\n",
       "\t R\\_0JLtfRpOyh8pOCN & 1 & 45 & 4 & 1 & 80 & NA & 80 & female & 35,001–50,000 & 2 & p9  & 1\\\\\n",
       "\t R\\_0JLtfRpOyh8pOCN & 1 & 45 & 4 & 1 & 80 & NA & 80 & female & 35,001–50,000 & 2 & p10 & 1\\\\\n",
       "\t R\\_0O52mja29pBTphb & 0 & 25 & 3 & 1 & 60 & NA & 60 & male   & 25,001–35,000 & 2 & p1  & 1\\\\\n",
       "\t R\\_0O52mja29pBTphb & 0 & 25 & 3 & 1 & 60 & NA & 60 & male   & 25,001–35,000 & 2 & p2  & 0\\\\\n",
       "\t R\\_0O52mja29pBTphb & 0 & 25 & 3 & 1 & 60 & NA & 60 & male   & 25,001–35,000 & 2 & p3  & 1\\\\\n",
       "\t R\\_0O52mja29pBTphb & 0 & 25 & 3 & 1 & 60 & NA & 60 & male   & 25,001–35,000 & 2 & p4  & 0\\\\\n",
       "\t R\\_0O52mja29pBTphb & 0 & 25 & 3 & 1 & 60 & NA & 60 & male   & 25,001–35,000 & 2 & p5  & 1\\\\\n",
       "\t R\\_0O52mja29pBTphb & 0 & 25 & 3 & 1 & 60 & NA & 60 & male   & 25,001–35,000 & 2 & p6  & 1\\\\\n",
       "\t R\\_0O52mja29pBTphb & 0 & 25 & 3 & 1 & 60 & NA & 60 & male   & 25,001–35,000 & 2 & p7  & 1\\\\\n",
       "\t R\\_0O52mja29pBTphb & 0 & 25 & 3 & 1 & 60 & NA & 60 & male   & 25,001–35,000 & 2 & p8  & 1\\\\\n",
       "\t R\\_0O52mja29pBTphb & 0 & 25 & 3 & 1 & 60 & NA & 60 & male   & 25,001–35,000 & 2 & p9  & 0\\\\\n",
       "\t R\\_0O52mja29pBTphb & 0 & 25 & 3 & 1 & 60 & NA & 60 & male   & 25,001–35,000 & 2 & p10 & 0\\\\\n",
       "\\end{tabular}\n"
      ],
      "text/markdown": [
       "\n",
       "A tibble: 20 × 13\n",
       "\n",
       "| id &lt;chr&gt; | gender_binary &lt;int&gt; | age &lt;int&gt; | income &lt;int&gt; | task &lt;int&gt; | havemore &lt;int&gt; | haveless &lt;int&gt; | pcmore &lt;int&gt; | gender_labels &lt;chr&gt; | income_lables &lt;chr&gt; | income_recoded &lt;int&gt; | product &lt;chr&gt; | wtp &lt;int&gt; |\n",
       "|---|---|---|---|---|---|---|---|---|---|---|---|---|\n",
       "| R_0JLtfRpOyh8pOCN | 1 | 45 | 4 | 1 | 80 | NA | 80 | female | 35,001–50,000 | 2 | p1  | 1 |\n",
       "| R_0JLtfRpOyh8pOCN | 1 | 45 | 4 | 1 | 80 | NA | 80 | female | 35,001–50,000 | 2 | p2  | 1 |\n",
       "| R_0JLtfRpOyh8pOCN | 1 | 45 | 4 | 1 | 80 | NA | 80 | female | 35,001–50,000 | 2 | p3  | 1 |\n",
       "| R_0JLtfRpOyh8pOCN | 1 | 45 | 4 | 1 | 80 | NA | 80 | female | 35,001–50,000 | 2 | p4  | 1 |\n",
       "| R_0JLtfRpOyh8pOCN | 1 | 45 | 4 | 1 | 80 | NA | 80 | female | 35,001–50,000 | 2 | p5  | 1 |\n",
       "| R_0JLtfRpOyh8pOCN | 1 | 45 | 4 | 1 | 80 | NA | 80 | female | 35,001–50,000 | 2 | p6  | 0 |\n",
       "| R_0JLtfRpOyh8pOCN | 1 | 45 | 4 | 1 | 80 | NA | 80 | female | 35,001–50,000 | 2 | p7  | 1 |\n",
       "| R_0JLtfRpOyh8pOCN | 1 | 45 | 4 | 1 | 80 | NA | 80 | female | 35,001–50,000 | 2 | p8  | 1 |\n",
       "| R_0JLtfRpOyh8pOCN | 1 | 45 | 4 | 1 | 80 | NA | 80 | female | 35,001–50,000 | 2 | p9  | 1 |\n",
       "| R_0JLtfRpOyh8pOCN | 1 | 45 | 4 | 1 | 80 | NA | 80 | female | 35,001–50,000 | 2 | p10 | 1 |\n",
       "| R_0O52mja29pBTphb | 0 | 25 | 3 | 1 | 60 | NA | 60 | male   | 25,001–35,000 | 2 | p1  | 1 |\n",
       "| R_0O52mja29pBTphb | 0 | 25 | 3 | 1 | 60 | NA | 60 | male   | 25,001–35,000 | 2 | p2  | 0 |\n",
       "| R_0O52mja29pBTphb | 0 | 25 | 3 | 1 | 60 | NA | 60 | male   | 25,001–35,000 | 2 | p3  | 1 |\n",
       "| R_0O52mja29pBTphb | 0 | 25 | 3 | 1 | 60 | NA | 60 | male   | 25,001–35,000 | 2 | p4  | 0 |\n",
       "| R_0O52mja29pBTphb | 0 | 25 | 3 | 1 | 60 | NA | 60 | male   | 25,001–35,000 | 2 | p5  | 1 |\n",
       "| R_0O52mja29pBTphb | 0 | 25 | 3 | 1 | 60 | NA | 60 | male   | 25,001–35,000 | 2 | p6  | 1 |\n",
       "| R_0O52mja29pBTphb | 0 | 25 | 3 | 1 | 60 | NA | 60 | male   | 25,001–35,000 | 2 | p7  | 1 |\n",
       "| R_0O52mja29pBTphb | 0 | 25 | 3 | 1 | 60 | NA | 60 | male   | 25,001–35,000 | 2 | p8  | 1 |\n",
       "| R_0O52mja29pBTphb | 0 | 25 | 3 | 1 | 60 | NA | 60 | male   | 25,001–35,000 | 2 | p9  | 0 |\n",
       "| R_0O52mja29pBTphb | 0 | 25 | 3 | 1 | 60 | NA | 60 | male   | 25,001–35,000 | 2 | p10 | 0 |\n",
       "\n"
      ],
      "text/plain": [
       "   id                gender_binary age income task havemore haveless pcmore\n",
       "1  R_0JLtfRpOyh8pOCN 1             45  4      1    80       NA       80    \n",
       "2  R_0JLtfRpOyh8pOCN 1             45  4      1    80       NA       80    \n",
       "3  R_0JLtfRpOyh8pOCN 1             45  4      1    80       NA       80    \n",
       "4  R_0JLtfRpOyh8pOCN 1             45  4      1    80       NA       80    \n",
       "5  R_0JLtfRpOyh8pOCN 1             45  4      1    80       NA       80    \n",
       "6  R_0JLtfRpOyh8pOCN 1             45  4      1    80       NA       80    \n",
       "7  R_0JLtfRpOyh8pOCN 1             45  4      1    80       NA       80    \n",
       "8  R_0JLtfRpOyh8pOCN 1             45  4      1    80       NA       80    \n",
       "9  R_0JLtfRpOyh8pOCN 1             45  4      1    80       NA       80    \n",
       "10 R_0JLtfRpOyh8pOCN 1             45  4      1    80       NA       80    \n",
       "11 R_0O52mja29pBTphb 0             25  3      1    60       NA       60    \n",
       "12 R_0O52mja29pBTphb 0             25  3      1    60       NA       60    \n",
       "13 R_0O52mja29pBTphb 0             25  3      1    60       NA       60    \n",
       "14 R_0O52mja29pBTphb 0             25  3      1    60       NA       60    \n",
       "15 R_0O52mja29pBTphb 0             25  3      1    60       NA       60    \n",
       "16 R_0O52mja29pBTphb 0             25  3      1    60       NA       60    \n",
       "17 R_0O52mja29pBTphb 0             25  3      1    60       NA       60    \n",
       "18 R_0O52mja29pBTphb 0             25  3      1    60       NA       60    \n",
       "19 R_0O52mja29pBTphb 0             25  3      1    60       NA       60    \n",
       "20 R_0O52mja29pBTphb 0             25  3      1    60       NA       60    \n",
       "   gender_labels income_lables income_recoded product wtp\n",
       "1  female        35,001–50,000 2              p1      1  \n",
       "2  female        35,001–50,000 2              p2      1  \n",
       "3  female        35,001–50,000 2              p3      1  \n",
       "4  female        35,001–50,000 2              p4      1  \n",
       "5  female        35,001–50,000 2              p5      1  \n",
       "6  female        35,001–50,000 2              p6      0  \n",
       "7  female        35,001–50,000 2              p7      1  \n",
       "8  female        35,001–50,000 2              p8      1  \n",
       "9  female        35,001–50,000 2              p9      1  \n",
       "10 female        35,001–50,000 2              p10     1  \n",
       "11 male          25,001–35,000 2              p1      1  \n",
       "12 male          25,001–35,000 2              p2      0  \n",
       "13 male          25,001–35,000 2              p3      1  \n",
       "14 male          25,001–35,000 2              p4      0  \n",
       "15 male          25,001–35,000 2              p5      1  \n",
       "16 male          25,001–35,000 2              p6      1  \n",
       "17 male          25,001–35,000 2              p7      1  \n",
       "18 male          25,001–35,000 2              p8      1  \n",
       "19 male          25,001–35,000 2              p9      0  \n",
       "20 male          25,001–35,000 2              p10     0  "
      ]
     },
     "metadata": {},
     "output_type": "display_data"
    }
   ],
   "source": [
    "new_matthews_data_long = gather(new_matthews_data,\n",
    "                                key='product',\n",
    "                                value='wtp',\n",
    "                                p1:p10)\n",
    "\n",
    "new_matthews_data_long = arrange(new_matthews_data_long, id)\n",
    "\n",
    "nrow(new_matthews_data_long)\n",
    "nrow(new_matthews_data)\n",
    "\n",
    "head(new_matthews_data_long, 20)"
   ]
  },
  {
   "cell_type": "markdown",
   "metadata": {},
   "source": [
    "**Task C**\n",
    "\n",
    "1. Drop the `X1` column in `demographics` using `select`.\n",
    "\n",
    "2. Join `new_matthews_data_long` and `demographics` based on the `id`, in order to retain as many rows and columns as possible. Call the resulting dataframe `matthews_data_all`.\n",
    "\n",
    "3. Calculate the mean `wtp` per subject using `group_by`. You can use pipes or not. Called the resulting dataframe `mean_matthews_data_all`. This should have as many rows as the number of subjects and 2 columns (`id` and mean wtp). Add as a third and fourth columns `heigth` and `race` using one of the join functions.\n",
    "\n",
    "4. Using `mean_matthews_data_all`, make a barplot showing the mean `wtp` across ethnic groups. Plot confidence intervals. Give appropriate labels to the plot. Do you think there is a difference in willingness to pay across groups?\n",
    "\n",
    "5. Using `mean_matthews_data_all`, make a scatterplot showing the wtp on the y-axis and the height on the x-axis. Add a regression line. Do you think height predicts willingness to pay?"
   ]
  },
  {
   "cell_type": "code",
   "execution_count": 17,
   "metadata": {},
   "outputs": [
    {
     "data": {
      "text/html": [
       "<table>\n",
       "<caption>A tibble: 6 × 3</caption>\n",
       "<thead>\n",
       "\t<tr><th scope=col>id</th><th scope=col>height</th><th scope=col>race</th></tr>\n",
       "\t<tr><th scope=col>&lt;chr&gt;</th><th scope=col>&lt;dbl&gt;</th><th scope=col>&lt;chr&gt;</th></tr>\n",
       "</thead>\n",
       "<tbody>\n",
       "\t<tr><td>R_2zOA03wY3kZPHKj</td><td>182</td><td>black   </td></tr>\n",
       "\t<tr><td>R_1f30AbYQR0D1wpt</td><td>184</td><td>white   </td></tr>\n",
       "\t<tr><td>R_2YgEERKijE2Hz6K</td><td>175</td><td>hispanic</td></tr>\n",
       "\t<tr><td>R_1CdL2n22srUR26d</td><td>177</td><td>white   </td></tr>\n",
       "\t<tr><td>R_1HnsqBRimnKphfg</td><td>187</td><td>white   </td></tr>\n",
       "\t<tr><td>R_12PUXbJhfNF9GAE</td><td>178</td><td>white   </td></tr>\n",
       "</tbody>\n",
       "</table>\n"
      ],
      "text/latex": [
       "A tibble: 6 × 3\n",
       "\\begin{tabular}{r|lll}\n",
       " id & height & race\\\\\n",
       " <chr> & <dbl> & <chr>\\\\\n",
       "\\hline\n",
       "\t R\\_2zOA03wY3kZPHKj & 182 & black   \\\\\n",
       "\t R\\_1f30AbYQR0D1wpt & 184 & white   \\\\\n",
       "\t R\\_2YgEERKijE2Hz6K & 175 & hispanic\\\\\n",
       "\t R\\_1CdL2n22srUR26d & 177 & white   \\\\\n",
       "\t R\\_1HnsqBRimnKphfg & 187 & white   \\\\\n",
       "\t R\\_12PUXbJhfNF9GAE & 178 & white   \\\\\n",
       "\\end{tabular}\n"
      ],
      "text/markdown": [
       "\n",
       "A tibble: 6 × 3\n",
       "\n",
       "| id &lt;chr&gt; | height &lt;dbl&gt; | race &lt;chr&gt; |\n",
       "|---|---|---|\n",
       "| R_2zOA03wY3kZPHKj | 182 | black    |\n",
       "| R_1f30AbYQR0D1wpt | 184 | white    |\n",
       "| R_2YgEERKijE2Hz6K | 175 | hispanic |\n",
       "| R_1CdL2n22srUR26d | 177 | white    |\n",
       "| R_1HnsqBRimnKphfg | 187 | white    |\n",
       "| R_12PUXbJhfNF9GAE | 178 | white    |\n",
       "\n"
      ],
      "text/plain": [
       "  id                height race    \n",
       "1 R_2zOA03wY3kZPHKj 182    black   \n",
       "2 R_1f30AbYQR0D1wpt 184    white   \n",
       "3 R_2YgEERKijE2Hz6K 175    hispanic\n",
       "4 R_1CdL2n22srUR26d 177    white   \n",
       "5 R_1HnsqBRimnKphfg 187    white   \n",
       "6 R_12PUXbJhfNF9GAE 178    white   "
      ]
     },
     "metadata": {},
     "output_type": "display_data"
    }
   ],
   "source": [
    "demographics = select(demographics, -c(X1))\n",
    "\n",
    "head(demographics)"
   ]
  },
  {
   "cell_type": "code",
   "execution_count": 18,
   "metadata": {},
   "outputs": [
    {
     "data": {
      "text/html": [
       "<table>\n",
       "<caption>A tibble: 6 × 15</caption>\n",
       "<thead>\n",
       "\t<tr><th scope=col>id</th><th scope=col>gender_binary</th><th scope=col>age</th><th scope=col>income</th><th scope=col>task</th><th scope=col>havemore</th><th scope=col>haveless</th><th scope=col>pcmore</th><th scope=col>gender_labels</th><th scope=col>income_lables</th><th scope=col>income_recoded</th><th scope=col>product</th><th scope=col>wtp</th><th scope=col>height</th><th scope=col>race</th></tr>\n",
       "\t<tr><th scope=col>&lt;chr&gt;</th><th scope=col>&lt;int&gt;</th><th scope=col>&lt;int&gt;</th><th scope=col>&lt;int&gt;</th><th scope=col>&lt;int&gt;</th><th scope=col>&lt;int&gt;</th><th scope=col>&lt;int&gt;</th><th scope=col>&lt;int&gt;</th><th scope=col>&lt;chr&gt;</th><th scope=col>&lt;chr&gt;</th><th scope=col>&lt;int&gt;</th><th scope=col>&lt;chr&gt;</th><th scope=col>&lt;int&gt;</th><th scope=col>&lt;dbl&gt;</th><th scope=col>&lt;chr&gt;</th></tr>\n",
       "</thead>\n",
       "<tbody>\n",
       "\t<tr><td>R_0JLtfRpOyh8pOCN</td><td>1</td><td>45</td><td>4</td><td>1</td><td>80</td><td>NA</td><td>80</td><td>female</td><td>35,001–50,000</td><td>2</td><td>p1</td><td>1</td><td>176</td><td>black</td></tr>\n",
       "\t<tr><td>R_0JLtfRpOyh8pOCN</td><td>1</td><td>45</td><td>4</td><td>1</td><td>80</td><td>NA</td><td>80</td><td>female</td><td>35,001–50,000</td><td>2</td><td>p2</td><td>1</td><td>176</td><td>black</td></tr>\n",
       "\t<tr><td>R_0JLtfRpOyh8pOCN</td><td>1</td><td>45</td><td>4</td><td>1</td><td>80</td><td>NA</td><td>80</td><td>female</td><td>35,001–50,000</td><td>2</td><td>p3</td><td>1</td><td>176</td><td>black</td></tr>\n",
       "\t<tr><td>R_0JLtfRpOyh8pOCN</td><td>1</td><td>45</td><td>4</td><td>1</td><td>80</td><td>NA</td><td>80</td><td>female</td><td>35,001–50,000</td><td>2</td><td>p4</td><td>1</td><td>176</td><td>black</td></tr>\n",
       "\t<tr><td>R_0JLtfRpOyh8pOCN</td><td>1</td><td>45</td><td>4</td><td>1</td><td>80</td><td>NA</td><td>80</td><td>female</td><td>35,001–50,000</td><td>2</td><td>p5</td><td>1</td><td>176</td><td>black</td></tr>\n",
       "\t<tr><td>R_0JLtfRpOyh8pOCN</td><td>1</td><td>45</td><td>4</td><td>1</td><td>80</td><td>NA</td><td>80</td><td>female</td><td>35,001–50,000</td><td>2</td><td>p6</td><td>0</td><td>176</td><td>black</td></tr>\n",
       "</tbody>\n",
       "</table>\n"
      ],
      "text/latex": [
       "A tibble: 6 × 15\n",
       "\\begin{tabular}{r|lllllllllllllll}\n",
       " id & gender\\_binary & age & income & task & havemore & haveless & pcmore & gender\\_labels & income\\_lables & income\\_recoded & product & wtp & height & race\\\\\n",
       " <chr> & <int> & <int> & <int> & <int> & <int> & <int> & <int> & <chr> & <chr> & <int> & <chr> & <int> & <dbl> & <chr>\\\\\n",
       "\\hline\n",
       "\t R\\_0JLtfRpOyh8pOCN & 1 & 45 & 4 & 1 & 80 & NA & 80 & female & 35,001–50,000 & 2 & p1 & 1 & 176 & black\\\\\n",
       "\t R\\_0JLtfRpOyh8pOCN & 1 & 45 & 4 & 1 & 80 & NA & 80 & female & 35,001–50,000 & 2 & p2 & 1 & 176 & black\\\\\n",
       "\t R\\_0JLtfRpOyh8pOCN & 1 & 45 & 4 & 1 & 80 & NA & 80 & female & 35,001–50,000 & 2 & p3 & 1 & 176 & black\\\\\n",
       "\t R\\_0JLtfRpOyh8pOCN & 1 & 45 & 4 & 1 & 80 & NA & 80 & female & 35,001–50,000 & 2 & p4 & 1 & 176 & black\\\\\n",
       "\t R\\_0JLtfRpOyh8pOCN & 1 & 45 & 4 & 1 & 80 & NA & 80 & female & 35,001–50,000 & 2 & p5 & 1 & 176 & black\\\\\n",
       "\t R\\_0JLtfRpOyh8pOCN & 1 & 45 & 4 & 1 & 80 & NA & 80 & female & 35,001–50,000 & 2 & p6 & 0 & 176 & black\\\\\n",
       "\\end{tabular}\n"
      ],
      "text/markdown": [
       "\n",
       "A tibble: 6 × 15\n",
       "\n",
       "| id &lt;chr&gt; | gender_binary &lt;int&gt; | age &lt;int&gt; | income &lt;int&gt; | task &lt;int&gt; | havemore &lt;int&gt; | haveless &lt;int&gt; | pcmore &lt;int&gt; | gender_labels &lt;chr&gt; | income_lables &lt;chr&gt; | income_recoded &lt;int&gt; | product &lt;chr&gt; | wtp &lt;int&gt; | height &lt;dbl&gt; | race &lt;chr&gt; |\n",
       "|---|---|---|---|---|---|---|---|---|---|---|---|---|---|---|\n",
       "| R_0JLtfRpOyh8pOCN | 1 | 45 | 4 | 1 | 80 | NA | 80 | female | 35,001–50,000 | 2 | p1 | 1 | 176 | black |\n",
       "| R_0JLtfRpOyh8pOCN | 1 | 45 | 4 | 1 | 80 | NA | 80 | female | 35,001–50,000 | 2 | p2 | 1 | 176 | black |\n",
       "| R_0JLtfRpOyh8pOCN | 1 | 45 | 4 | 1 | 80 | NA | 80 | female | 35,001–50,000 | 2 | p3 | 1 | 176 | black |\n",
       "| R_0JLtfRpOyh8pOCN | 1 | 45 | 4 | 1 | 80 | NA | 80 | female | 35,001–50,000 | 2 | p4 | 1 | 176 | black |\n",
       "| R_0JLtfRpOyh8pOCN | 1 | 45 | 4 | 1 | 80 | NA | 80 | female | 35,001–50,000 | 2 | p5 | 1 | 176 | black |\n",
       "| R_0JLtfRpOyh8pOCN | 1 | 45 | 4 | 1 | 80 | NA | 80 | female | 35,001–50,000 | 2 | p6 | 0 | 176 | black |\n",
       "\n"
      ],
      "text/plain": [
       "  id                gender_binary age income task havemore haveless pcmore\n",
       "1 R_0JLtfRpOyh8pOCN 1             45  4      1    80       NA       80    \n",
       "2 R_0JLtfRpOyh8pOCN 1             45  4      1    80       NA       80    \n",
       "3 R_0JLtfRpOyh8pOCN 1             45  4      1    80       NA       80    \n",
       "4 R_0JLtfRpOyh8pOCN 1             45  4      1    80       NA       80    \n",
       "5 R_0JLtfRpOyh8pOCN 1             45  4      1    80       NA       80    \n",
       "6 R_0JLtfRpOyh8pOCN 1             45  4      1    80       NA       80    \n",
       "  gender_labels income_lables income_recoded product wtp height race \n",
       "1 female        35,001–50,000 2              p1      1   176    black\n",
       "2 female        35,001–50,000 2              p2      1   176    black\n",
       "3 female        35,001–50,000 2              p3      1   176    black\n",
       "4 female        35,001–50,000 2              p4      1   176    black\n",
       "5 female        35,001–50,000 2              p5      1   176    black\n",
       "6 female        35,001–50,000 2              p6      0   176    black"
      ]
     },
     "metadata": {},
     "output_type": "display_data"
    }
   ],
   "source": [
    "matthews_data_all = full_join(new_matthews_data_long, demographics, by=\"id\")\n",
    "\n",
    "head(matthews_data_all)"
   ]
  },
  {
   "cell_type": "code",
   "execution_count": 23,
   "metadata": {},
   "outputs": [
    {
     "data": {
      "text/html": [
       "<table>\n",
       "<caption>A tibble: 6 × 4</caption>\n",
       "<thead>\n",
       "\t<tr><th scope=col>id</th><th scope=col>mean_wtp</th><th scope=col>height</th><th scope=col>race</th></tr>\n",
       "\t<tr><th scope=col>&lt;chr&gt;</th><th scope=col>&lt;dbl&gt;</th><th scope=col>&lt;dbl&gt;</th><th scope=col>&lt;chr&gt;</th></tr>\n",
       "</thead>\n",
       "<tbody>\n",
       "\t<tr><td>R_0JLtfRpOyh8pOCN</td><td>0.9</td><td>176</td><td>black   </td></tr>\n",
       "\t<tr><td>R_0O52mja29pBTphb</td><td>0.6</td><td>171</td><td>asian   </td></tr>\n",
       "\t<tr><td>R_0OnZ5ZwmVAU6w2V</td><td>0.8</td><td>150</td><td>hispanic</td></tr>\n",
       "\t<tr><td>R_0oXJeSTrYNzQlRH</td><td>0.8</td><td>180</td><td>asian   </td></tr>\n",
       "\t<tr><td>R_10CVQqqmFiczGPS</td><td>0.7</td><td>173</td><td>asian   </td></tr>\n",
       "\t<tr><td>R_10HKEOMi0HhWe7T</td><td>0.7</td><td>177</td><td>asian   </td></tr>\n",
       "</tbody>\n",
       "</table>\n"
      ],
      "text/latex": [
       "A tibble: 6 × 4\n",
       "\\begin{tabular}{r|llll}\n",
       " id & mean\\_wtp & height & race\\\\\n",
       " <chr> & <dbl> & <dbl> & <chr>\\\\\n",
       "\\hline\n",
       "\t R\\_0JLtfRpOyh8pOCN & 0.9 & 176 & black   \\\\\n",
       "\t R\\_0O52mja29pBTphb & 0.6 & 171 & asian   \\\\\n",
       "\t R\\_0OnZ5ZwmVAU6w2V & 0.8 & 150 & hispanic\\\\\n",
       "\t R\\_0oXJeSTrYNzQlRH & 0.8 & 180 & asian   \\\\\n",
       "\t R\\_10CVQqqmFiczGPS & 0.7 & 173 & asian   \\\\\n",
       "\t R\\_10HKEOMi0HhWe7T & 0.7 & 177 & asian   \\\\\n",
       "\\end{tabular}\n"
      ],
      "text/markdown": [
       "\n",
       "A tibble: 6 × 4\n",
       "\n",
       "| id &lt;chr&gt; | mean_wtp &lt;dbl&gt; | height &lt;dbl&gt; | race &lt;chr&gt; |\n",
       "|---|---|---|---|\n",
       "| R_0JLtfRpOyh8pOCN | 0.9 | 176 | black    |\n",
       "| R_0O52mja29pBTphb | 0.6 | 171 | asian    |\n",
       "| R_0OnZ5ZwmVAU6w2V | 0.8 | 150 | hispanic |\n",
       "| R_0oXJeSTrYNzQlRH | 0.8 | 180 | asian    |\n",
       "| R_10CVQqqmFiczGPS | 0.7 | 173 | asian    |\n",
       "| R_10HKEOMi0HhWe7T | 0.7 | 177 | asian    |\n",
       "\n"
      ],
      "text/plain": [
       "  id                mean_wtp height race    \n",
       "1 R_0JLtfRpOyh8pOCN 0.9      176    black   \n",
       "2 R_0O52mja29pBTphb 0.6      171    asian   \n",
       "3 R_0OnZ5ZwmVAU6w2V 0.8      150    hispanic\n",
       "4 R_0oXJeSTrYNzQlRH 0.8      180    asian   \n",
       "5 R_10CVQqqmFiczGPS 0.7      173    asian   \n",
       "6 R_10HKEOMi0HhWe7T 0.7      177    asian   "
      ]
     },
     "metadata": {},
     "output_type": "display_data"
    }
   ],
   "source": [
    "mean_matthews_data_all = matthews_data_all %>%\n",
    "    group_by(id) %>%\n",
    "    summarise(mean_wtp=mean(wtp))\n",
    "\n",
    "mean_matthews_data_all = full_join(mean_matthews_data_all, demographics, by=\"id\")\n",
    "\n",
    "head(mean_matthews_data_all)"
   ]
  },
  {
   "cell_type": "code",
   "execution_count": 22,
   "metadata": {},
   "outputs": [],
   "source": [
    "# Ignore this (only for notebooks):\n",
    "library(repr)\n",
    "options(repr.plot.width=12, repr.plot.height=6)"
   ]
  },
  {
   "cell_type": "code",
   "execution_count": 31,
   "metadata": {},
   "outputs": [
    {
     "data": {
      "image/png": "[encoded data removed]",
      "text/plain": [
       "plot without title"
      ]
     },
     "metadata": {},
     "output_type": "display_data"
    }
   ],
   "source": [
    "ggplot(data = mean_matthews_data_all, mapping = aes(x = factor(race), y = mean_wtp)) +\n",
    "    stat_summary(fun.y = \"mean\", geom=\"bar\") +\n",
    "    stat_summary(fun.data = mean_cl_normal, geom = \"errorbar\", size=1, width=.4) +\n",
    "    labs(x = 'Race', y = 'Mean WTP') + \n",
    "    theme(axis.text.x = element_text(angle = 90))"
   ]
  },
  {
   "cell_type": "code",
   "execution_count": 29,
   "metadata": {},
   "outputs": [
    {
     "data": {
      "image/png": "[encoded data removed]",
      "text/plain": [
       "plot without title"
      ]
     },
     "metadata": {},
     "output_type": "display_data"
    }
   ],
   "source": [
    "ggplot(data = mean_matthews_data_all, mapping = aes(x = height, y = mean_wtp)) + \n",
    "    geom_point(alpha = 0.3, size= 2) +\n",
    "    geom_smooth(method = lm, color='grey') +\n",
    "    labs(x='Height', y='Mean WTP') +\n",
    "    ggtitle(\"Relationship betweenheight and WTP\")"
   ]
  },
  {
   "cell_type": "markdown",
   "metadata": {},
   "source": [
    "## Submit your assignment\n",
    "\n",
    "Save and email your script to me at [laura.fontanesi@unibas.ch](mailto:laura.fontanesi@unibas.ch) by the end of **Friday, 20th March**."
   ]
  }
 ],
 "metadata": {
  "kernelspec": {
   "display_name": "R",
   "language": "R",
   "name": "ir"
  },
  "language_info": {
   "codemirror_mode": "r",
   "file_extension": ".r",
   "mimetype": "text/x-r-source",
   "name": "R",
   "pygments_lexer": "r",
   "version": "4.0.3"
  }
 },
 "nbformat": 4,
 "nbformat_minor": 4
}
