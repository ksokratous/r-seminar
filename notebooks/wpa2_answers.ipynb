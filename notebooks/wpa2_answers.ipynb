{
 "cells": [
  {
   "cell_type": "markdown",
   "metadata": {},
   "source": [
    "# Basic R"
   ]
  },
  {
   "cell_type": "markdown",
   "metadata": {},
   "source": [
    "## 12. Now it's your turn\n",
    "\n",
    "**Task A** \n",
    "\n",
    "1. Create a numeric vector called `participants`, containing integer numbers from 1 to 20, using `c()` and `seq()`.\n",
    "2. Create a character vector called `conditions`, of length 20, containing alternating values of \"a\" and \"b\" (\"a\", \"b\", \"a\", \"b\", \"a\", ...), using `rep()`.\n",
    "3. Create a vector called `first_half`, containing only the first half of the `participants` vector's values.\n",
    "4. Check that both `participants` and `conditions` have length 20, and that `first_half` has length 10, using `length()`.\n",
    "5. Instead of the fifth element in `conditions`, insert a missing value. Print the `conditions` after the change.\n",
    "6. Create a vector called `participants_cond`, by pasting together (using `paste()`) `participants` and `conditions`, separated by `_`. So, the first element should be \"1_a\". \n",
    "7. Check that the 5th element of participants_cond is still a missing value."
   ]
  },
  {
   "cell_type": "code",
   "execution_count": 22,
   "metadata": {},
   "outputs": [],
   "source": [
    "# task A1\n",
    "participants = c(1,2,3,4,5,6,7,8,9,10,11,12,13,14,15,16,17,18,19,20)\n",
    "participants = seq(from=1, to=20)"
   ]
  },
  {
   "cell_type": "code",
   "execution_count": 23,
   "metadata": {},
   "outputs": [],
   "source": [
    "# task A2\n",
    "x = c(\"a\", \"b\")\n",
    "conditions = rep(x, times=10, each=1)"
   ]
  },
  {
   "cell_type": "code",
   "execution_count": 24,
   "metadata": {},
   "outputs": [],
   "source": [
    "# task A3\n",
    "first_half = participants[1:10]"
   ]
  },
  {
   "cell_type": "code",
   "execution_count": 25,
   "metadata": {},
   "outputs": [
    {
     "data": {
      "text/html": [
       "20"
      ],
      "text/latex": [
       "20"
      ],
      "text/markdown": [
       "20"
      ],
      "text/plain": [
       "[1] 20"
      ]
     },
     "metadata": {},
     "output_type": "display_data"
    },
    {
     "data": {
      "text/html": [
       "20"
      ],
      "text/latex": [
       "20"
      ],
      "text/markdown": [
       "20"
      ],
      "text/plain": [
       "[1] 20"
      ]
     },
     "metadata": {},
     "output_type": "display_data"
    },
    {
     "data": {
      "text/html": [
       "10"
      ],
      "text/latex": [
       "10"
      ],
      "text/markdown": [
       "10"
      ],
      "text/plain": [
       "[1] 10"
      ]
     },
     "metadata": {},
     "output_type": "display_data"
    }
   ],
   "source": [
    "# task A4\n",
    "length(participants)\n",
    "length(conditions)\n",
    "length(first_half)"
   ]
  },
  {
   "cell_type": "code",
   "execution_count": 26,
   "metadata": {},
   "outputs": [
    {
     "data": {
      "text/html": [
       "<style>\n",
       ".list-inline {list-style: none; margin:0; padding: 0}\n",
       ".list-inline>li {display: inline-block}\n",
       ".list-inline>li:not(:last-child)::after {content: \"\\00b7\"; padding: 0 .5ex}\n",
       "</style>\n",
       "<ol class=list-inline><li>'a'</li><li>'b'</li><li>'a'</li><li>'b'</li><li>NA</li><li>'b'</li><li>'a'</li><li>'b'</li><li>'a'</li><li>'b'</li><li>'a'</li><li>'b'</li><li>'a'</li><li>'b'</li><li>'a'</li><li>'b'</li><li>'a'</li><li>'b'</li><li>'a'</li><li>'b'</li></ol>\n"
      ],
      "text/latex": [
       "\\begin{enumerate*}\n",
       "\\item 'a'\n",
       "\\item 'b'\n",
       "\\item 'a'\n",
       "\\item 'b'\n",
       "\\item NA\n",
       "\\item 'b'\n",
       "\\item 'a'\n",
       "\\item 'b'\n",
       "\\item 'a'\n",
       "\\item 'b'\n",
       "\\item 'a'\n",
       "\\item 'b'\n",
       "\\item 'a'\n",
       "\\item 'b'\n",
       "\\item 'a'\n",
       "\\item 'b'\n",
       "\\item 'a'\n",
       "\\item 'b'\n",
       "\\item 'a'\n",
       "\\item 'b'\n",
       "\\end{enumerate*}\n"
      ],
      "text/markdown": [
       "1. 'a'\n",
       "2. 'b'\n",
       "3. 'a'\n",
       "4. 'b'\n",
       "5. NA\n",
       "6. 'b'\n",
       "7. 'a'\n",
       "8. 'b'\n",
       "9. 'a'\n",
       "10. 'b'\n",
       "11. 'a'\n",
       "12. 'b'\n",
       "13. 'a'\n",
       "14. 'b'\n",
       "15. 'a'\n",
       "16. 'b'\n",
       "17. 'a'\n",
       "18. 'b'\n",
       "19. 'a'\n",
       "20. 'b'\n",
       "\n",
       "\n"
      ],
      "text/plain": [
       " [1] \"a\" \"b\" \"a\" \"b\" NA  \"b\" \"a\" \"b\" \"a\" \"b\" \"a\" \"b\" \"a\" \"b\" \"a\" \"b\" \"a\" \"b\" \"a\"\n",
       "[20] \"b\""
      ]
     },
     "metadata": {},
     "output_type": "display_data"
    }
   ],
   "source": [
    "# task A5\n",
    "conditions[5] = NA\n",
    "conditions"
   ]
  },
  {
   "cell_type": "code",
   "execution_count": 29,
   "metadata": {},
   "outputs": [
    {
     "data": {
      "text/html": [
       "<style>\n",
       ".list-inline {list-style: none; margin:0; padding: 0}\n",
       ".list-inline>li {display: inline-block}\n",
       ".list-inline>li:not(:last-child)::after {content: \"\\00b7\"; padding: 0 .5ex}\n",
       "</style>\n",
       "<ol class=list-inline><li>'1_a'</li><li>'2_b'</li><li>'3_a'</li><li>'4_b'</li><li>'5_NA'</li><li>'6_b'</li><li>'7_a'</li><li>'8_b'</li><li>'9_a'</li><li>'10_b'</li><li>'11_a'</li><li>'12_b'</li><li>'13_a'</li><li>'14_b'</li><li>'15_a'</li><li>'16_b'</li><li>'17_a'</li><li>'18_b'</li><li>'19_a'</li><li>'20_b'</li></ol>\n"
      ],
      "text/latex": [
       "\\begin{enumerate*}\n",
       "\\item '1\\_a'\n",
       "\\item '2\\_b'\n",
       "\\item '3\\_a'\n",
       "\\item '4\\_b'\n",
       "\\item '5\\_NA'\n",
       "\\item '6\\_b'\n",
       "\\item '7\\_a'\n",
       "\\item '8\\_b'\n",
       "\\item '9\\_a'\n",
       "\\item '10\\_b'\n",
       "\\item '11\\_a'\n",
       "\\item '12\\_b'\n",
       "\\item '13\\_a'\n",
       "\\item '14\\_b'\n",
       "\\item '15\\_a'\n",
       "\\item '16\\_b'\n",
       "\\item '17\\_a'\n",
       "\\item '18\\_b'\n",
       "\\item '19\\_a'\n",
       "\\item '20\\_b'\n",
       "\\end{enumerate*}\n"
      ],
      "text/markdown": [
       "1. '1_a'\n",
       "2. '2_b'\n",
       "3. '3_a'\n",
       "4. '4_b'\n",
       "5. '5_NA'\n",
       "6. '6_b'\n",
       "7. '7_a'\n",
       "8. '8_b'\n",
       "9. '9_a'\n",
       "10. '10_b'\n",
       "11. '11_a'\n",
       "12. '12_b'\n",
       "13. '13_a'\n",
       "14. '14_b'\n",
       "15. '15_a'\n",
       "16. '16_b'\n",
       "17. '17_a'\n",
       "18. '18_b'\n",
       "19. '19_a'\n",
       "20. '20_b'\n",
       "\n",
       "\n"
      ],
      "text/plain": [
       " [1] \"1_a\"  \"2_b\"  \"3_a\"  \"4_b\"  \"5_NA\" \"6_b\"  \"7_a\"  \"8_b\"  \"9_a\"  \"10_b\"\n",
       "[11] \"11_a\" \"12_b\" \"13_a\" \"14_b\" \"15_a\" \"16_b\" \"17_a\" \"18_b\" \"19_a\" \"20_b\""
      ]
     },
     "metadata": {},
     "output_type": "display_data"
    }
   ],
   "source": [
    "# task A6\n",
    "participants_cond = paste(participants, conditions, sep=\"_\")\n",
    "participants_cond"
   ]
  },
  {
   "cell_type": "code",
   "execution_count": 36,
   "metadata": {},
   "outputs": [],
   "source": [
    "# task A7\n",
    "participants_cond[5] = NA"
   ]
  },
  {
   "cell_type": "code",
   "execution_count": 40,
   "metadata": {},
   "outputs": [],
   "source": [
    "participants_cond[is.na(conditions)] = NA"
   ]
  },
  {
   "cell_type": "code",
   "execution_count": 41,
   "metadata": {},
   "outputs": [
    {
     "data": {
      "text/html": [
       "<ol class=list-inline>\n",
       "\t<li>'1_a'</li>\n",
       "\t<li>'2_b'</li>\n",
       "\t<li>'3_a'</li>\n",
       "\t<li>'4_b'</li>\n",
       "\t<li>NA</li>\n",
       "\t<li>'6_b'</li>\n",
       "\t<li>'7_a'</li>\n",
       "\t<li>'8_b'</li>\n",
       "\t<li>'9_a'</li>\n",
       "\t<li>'10_b'</li>\n",
       "\t<li>'11_a'</li>\n",
       "\t<li>'12_b'</li>\n",
       "\t<li>'13_a'</li>\n",
       "\t<li>'14_b'</li>\n",
       "\t<li>'15_a'</li>\n",
       "\t<li>'16_b'</li>\n",
       "\t<li>'17_a'</li>\n",
       "\t<li>'18_b'</li>\n",
       "\t<li>'19_a'</li>\n",
       "\t<li>'20_b'</li>\n",
       "</ol>\n"
      ],
      "text/latex": [
       "\\begin{enumerate*}\n",
       "\\item '1\\_a'\n",
       "\\item '2\\_b'\n",
       "\\item '3\\_a'\n",
       "\\item '4\\_b'\n",
       "\\item NA\n",
       "\\item '6\\_b'\n",
       "\\item '7\\_a'\n",
       "\\item '8\\_b'\n",
       "\\item '9\\_a'\n",
       "\\item '10\\_b'\n",
       "\\item '11\\_a'\n",
       "\\item '12\\_b'\n",
       "\\item '13\\_a'\n",
       "\\item '14\\_b'\n",
       "\\item '15\\_a'\n",
       "\\item '16\\_b'\n",
       "\\item '17\\_a'\n",
       "\\item '18\\_b'\n",
       "\\item '19\\_a'\n",
       "\\item '20\\_b'\n",
       "\\end{enumerate*}\n"
      ],
      "text/markdown": [
       "1. '1_a'\n",
       "2. '2_b'\n",
       "3. '3_a'\n",
       "4. '4_b'\n",
       "5. NA\n",
       "6. '6_b'\n",
       "7. '7_a'\n",
       "8. '8_b'\n",
       "9. '9_a'\n",
       "10. '10_b'\n",
       "11. '11_a'\n",
       "12. '12_b'\n",
       "13. '13_a'\n",
       "14. '14_b'\n",
       "15. '15_a'\n",
       "16. '16_b'\n",
       "17. '17_a'\n",
       "18. '18_b'\n",
       "19. '19_a'\n",
       "20. '20_b'\n",
       "\n",
       "\n"
      ],
      "text/plain": [
       " [1] \"1_a\"  \"2_b\"  \"3_a\"  \"4_b\"  NA     \"6_b\"  \"7_a\"  \"8_b\"  \"9_a\"  \"10_b\"\n",
       "[11] \"11_a\" \"12_b\" \"13_a\" \"14_b\" \"15_a\" \"16_b\" \"17_a\" \"18_b\" \"19_a\" \"20_b\""
      ]
     },
     "metadata": {},
     "output_type": "display_data"
    }
   ],
   "source": [
    "participants_cond"
   ]
  },
  {
   "cell_type": "markdown",
   "metadata": {},
   "source": [
    "**Task B**\n",
    "\n",
    "1. Create a data frame called `my_data`, with as columns the vectors`participants`, `conditions` and `participants_cond` that you created before. Print the data frame to have a look if it worked.\n",
    "2. Add a column called `response_times` made of 20 samples from the normal distribution, with mean .8 and standard deviation 1. Print the data frame to have a look if it worked.\n",
    "3. Select the values of the `response_times` column that are negative and set them to 0. Print the data frame to have a look if it worked.\n",
    "4. Create a new column, called `log_response_times`, made of the logarithm of `response_times`.\n",
    "5. Add a column called `correct_response` made of 20 samples from the binomial distribution, with size 1 and probability of success .65. Print the data frame to have a look if it worked.\n",
    "6. Calculate the mean proportion of correct responses and the mean response time.\n",
    "7. Create two data frames, `data_correct` and `data_incorrect` made of, respectively, the subset of `my_data` where `correct_response` is 1, and the subset of `my_data` where `correct_response` is 0. Print the data frame to have a look if it worked. Print the result to check."
   ]
  },
  {
   "cell_type": "code",
   "execution_count": 24,
   "metadata": {},
   "outputs": [
    {
     "data": {
      "text/html": [
       "<table>\n",
       "<caption>A data.frame: 20 × 3</caption>\n",
       "<thead>\n",
       "\t<tr><th scope=col>participants</th><th scope=col>conditions</th><th scope=col>participants_cond</th></tr>\n",
       "\t<tr><th scope=col>&lt;int&gt;</th><th scope=col>&lt;fct&gt;</th><th scope=col>&lt;fct&gt;</th></tr>\n",
       "</thead>\n",
       "<tbody>\n",
       "\t<tr><td> 1</td><td>a </td><td>1_a </td></tr>\n",
       "\t<tr><td> 2</td><td>b </td><td>2_b </td></tr>\n",
       "\t<tr><td> 3</td><td>a </td><td>3_a </td></tr>\n",
       "\t<tr><td> 4</td><td>b </td><td>4_b </td></tr>\n",
       "\t<tr><td> 5</td><td>NA</td><td>NA  </td></tr>\n",
       "\t<tr><td> 6</td><td>b </td><td>6_b </td></tr>\n",
       "\t<tr><td> 7</td><td>a </td><td>7_a </td></tr>\n",
       "\t<tr><td> 8</td><td>b </td><td>8_b </td></tr>\n",
       "\t<tr><td> 9</td><td>a </td><td>9_a </td></tr>\n",
       "\t<tr><td>10</td><td>b </td><td>10_b</td></tr>\n",
       "\t<tr><td>11</td><td>a </td><td>11_a</td></tr>\n",
       "\t<tr><td>12</td><td>b </td><td>12_b</td></tr>\n",
       "\t<tr><td>13</td><td>a </td><td>13_a</td></tr>\n",
       "\t<tr><td>14</td><td>b </td><td>14_b</td></tr>\n",
       "\t<tr><td>15</td><td>a </td><td>15_a</td></tr>\n",
       "\t<tr><td>16</td><td>b </td><td>16_b</td></tr>\n",
       "\t<tr><td>17</td><td>a </td><td>17_a</td></tr>\n",
       "\t<tr><td>18</td><td>b </td><td>18_b</td></tr>\n",
       "\t<tr><td>19</td><td>a </td><td>19_a</td></tr>\n",
       "\t<tr><td>20</td><td>b </td><td>20_b</td></tr>\n",
       "</tbody>\n",
       "</table>\n"
      ],
      "text/latex": [
       "A data.frame: 20 × 3\n",
       "\\begin{tabular}{r|lll}\n",
       " participants & conditions & participants\\_cond\\\\\n",
       " <int> & <fct> & <fct>\\\\\n",
       "\\hline\n",
       "\t  1 & a  & 1\\_a \\\\\n",
       "\t  2 & b  & 2\\_b \\\\\n",
       "\t  3 & a  & 3\\_a \\\\\n",
       "\t  4 & b  & 4\\_b \\\\\n",
       "\t  5 & NA & NA  \\\\\n",
       "\t  6 & b  & 6\\_b \\\\\n",
       "\t  7 & a  & 7\\_a \\\\\n",
       "\t  8 & b  & 8\\_b \\\\\n",
       "\t  9 & a  & 9\\_a \\\\\n",
       "\t 10 & b  & 10\\_b\\\\\n",
       "\t 11 & a  & 11\\_a\\\\\n",
       "\t 12 & b  & 12\\_b\\\\\n",
       "\t 13 & a  & 13\\_a\\\\\n",
       "\t 14 & b  & 14\\_b\\\\\n",
       "\t 15 & a  & 15\\_a\\\\\n",
       "\t 16 & b  & 16\\_b\\\\\n",
       "\t 17 & a  & 17\\_a\\\\\n",
       "\t 18 & b  & 18\\_b\\\\\n",
       "\t 19 & a  & 19\\_a\\\\\n",
       "\t 20 & b  & 20\\_b\\\\\n",
       "\\end{tabular}\n"
      ],
      "text/markdown": [
       "\n",
       "A data.frame: 20 × 3\n",
       "\n",
       "| participants &lt;int&gt; | conditions &lt;fct&gt; | participants_cond &lt;fct&gt; |\n",
       "|---|---|---|\n",
       "|  1 | a  | 1_a  |\n",
       "|  2 | b  | 2_b  |\n",
       "|  3 | a  | 3_a  |\n",
       "|  4 | b  | 4_b  |\n",
       "|  5 | NA | NA   |\n",
       "|  6 | b  | 6_b  |\n",
       "|  7 | a  | 7_a  |\n",
       "|  8 | b  | 8_b  |\n",
       "|  9 | a  | 9_a  |\n",
       "| 10 | b  | 10_b |\n",
       "| 11 | a  | 11_a |\n",
       "| 12 | b  | 12_b |\n",
       "| 13 | a  | 13_a |\n",
       "| 14 | b  | 14_b |\n",
       "| 15 | a  | 15_a |\n",
       "| 16 | b  | 16_b |\n",
       "| 17 | a  | 17_a |\n",
       "| 18 | b  | 18_b |\n",
       "| 19 | a  | 19_a |\n",
       "| 20 | b  | 20_b |\n",
       "\n"
      ],
      "text/plain": [
       "   participants conditions participants_cond\n",
       "1   1           a          1_a              \n",
       "2   2           b          2_b              \n",
       "3   3           a          3_a              \n",
       "4   4           b          4_b              \n",
       "5   5           NA         NA               \n",
       "6   6           b          6_b              \n",
       "7   7           a          7_a              \n",
       "8   8           b          8_b              \n",
       "9   9           a          9_a              \n",
       "10 10           b          10_b             \n",
       "11 11           a          11_a             \n",
       "12 12           b          12_b             \n",
       "13 13           a          13_a             \n",
       "14 14           b          14_b             \n",
       "15 15           a          15_a             \n",
       "16 16           b          16_b             \n",
       "17 17           a          17_a             \n",
       "18 18           b          18_b             \n",
       "19 19           a          19_a             \n",
       "20 20           b          20_b             "
      ]
     },
     "metadata": {},
     "output_type": "display_data"
    }
   ],
   "source": [
    "# task B1\n",
    "my_data = data.frame(participants, conditions, participants_cond)\n",
    "my_data"
   ]
  },
  {
   "cell_type": "code",
   "execution_count": 25,
   "metadata": {},
   "outputs": [
    {
     "data": {
      "text/html": [
       "<table>\n",
       "<caption>A data.frame: 20 × 4</caption>\n",
       "<thead>\n",
       "\t<tr><th scope=col>participants</th><th scope=col>conditions</th><th scope=col>participants_cond</th><th scope=col>response_times</th></tr>\n",
       "\t<tr><th scope=col>&lt;int&gt;</th><th scope=col>&lt;fct&gt;</th><th scope=col>&lt;fct&gt;</th><th scope=col>&lt;dbl&gt;</th></tr>\n",
       "</thead>\n",
       "<tbody>\n",
       "\t<tr><td> 1</td><td>a </td><td>1_a </td><td>-0.02474744</td></tr>\n",
       "\t<tr><td> 2</td><td>b </td><td>2_b </td><td> 1.17366835</td></tr>\n",
       "\t<tr><td> 3</td><td>a </td><td>3_a </td><td> 1.26395594</td></tr>\n",
       "\t<tr><td> 4</td><td>b </td><td>4_b </td><td>-1.78807902</td></tr>\n",
       "\t<tr><td> 5</td><td>NA</td><td>NA  </td><td> 1.50228285</td></tr>\n",
       "\t<tr><td> 6</td><td>b </td><td>6_b </td><td> 2.18804087</td></tr>\n",
       "\t<tr><td> 7</td><td>a </td><td>7_a </td><td>-1.08389103</td></tr>\n",
       "\t<tr><td> 8</td><td>b </td><td>8_b </td><td> 0.50326167</td></tr>\n",
       "\t<tr><td> 9</td><td>a </td><td>9_a </td><td> 1.74313738</td></tr>\n",
       "\t<tr><td>10</td><td>b </td><td>10_b</td><td> 0.94632266</td></tr>\n",
       "\t<tr><td>11</td><td>a </td><td>11_a</td><td> 0.63651309</td></tr>\n",
       "\t<tr><td>12</td><td>b </td><td>12_b</td><td> 0.05172019</td></tr>\n",
       "\t<tr><td>13</td><td>a </td><td>13_a</td><td> 4.20767983</td></tr>\n",
       "\t<tr><td>14</td><td>b </td><td>14_b</td><td> 1.55198708</td></tr>\n",
       "\t<tr><td>15</td><td>a </td><td>15_a</td><td> 0.23808941</td></tr>\n",
       "\t<tr><td>16</td><td>b </td><td>16_b</td><td> 0.99098457</td></tr>\n",
       "\t<tr><td>17</td><td>a </td><td>17_a</td><td> 0.02228146</td></tr>\n",
       "\t<tr><td>18</td><td>b </td><td>18_b</td><td> 1.28822151</td></tr>\n",
       "\t<tr><td>19</td><td>a </td><td>19_a</td><td>-0.06617227</td></tr>\n",
       "\t<tr><td>20</td><td>b </td><td>20_b</td><td>-0.02167456</td></tr>\n",
       "</tbody>\n",
       "</table>\n"
      ],
      "text/latex": [
       "A data.frame: 20 × 4\n",
       "\\begin{tabular}{r|llll}\n",
       " participants & conditions & participants\\_cond & response\\_times\\\\\n",
       " <int> & <fct> & <fct> & <dbl>\\\\\n",
       "\\hline\n",
       "\t  1 & a  & 1\\_a  & -0.02474744\\\\\n",
       "\t  2 & b  & 2\\_b  &  1.17366835\\\\\n",
       "\t  3 & a  & 3\\_a  &  1.26395594\\\\\n",
       "\t  4 & b  & 4\\_b  & -1.78807902\\\\\n",
       "\t  5 & NA & NA   &  1.50228285\\\\\n",
       "\t  6 & b  & 6\\_b  &  2.18804087\\\\\n",
       "\t  7 & a  & 7\\_a  & -1.08389103\\\\\n",
       "\t  8 & b  & 8\\_b  &  0.50326167\\\\\n",
       "\t  9 & a  & 9\\_a  &  1.74313738\\\\\n",
       "\t 10 & b  & 10\\_b &  0.94632266\\\\\n",
       "\t 11 & a  & 11\\_a &  0.63651309\\\\\n",
       "\t 12 & b  & 12\\_b &  0.05172019\\\\\n",
       "\t 13 & a  & 13\\_a &  4.20767983\\\\\n",
       "\t 14 & b  & 14\\_b &  1.55198708\\\\\n",
       "\t 15 & a  & 15\\_a &  0.23808941\\\\\n",
       "\t 16 & b  & 16\\_b &  0.99098457\\\\\n",
       "\t 17 & a  & 17\\_a &  0.02228146\\\\\n",
       "\t 18 & b  & 18\\_b &  1.28822151\\\\\n",
       "\t 19 & a  & 19\\_a & -0.06617227\\\\\n",
       "\t 20 & b  & 20\\_b & -0.02167456\\\\\n",
       "\\end{tabular}\n"
      ],
      "text/markdown": [
       "\n",
       "A data.frame: 20 × 4\n",
       "\n",
       "| participants &lt;int&gt; | conditions &lt;fct&gt; | participants_cond &lt;fct&gt; | response_times &lt;dbl&gt; |\n",
       "|---|---|---|---|\n",
       "|  1 | a  | 1_a  | -0.02474744 |\n",
       "|  2 | b  | 2_b  |  1.17366835 |\n",
       "|  3 | a  | 3_a  |  1.26395594 |\n",
       "|  4 | b  | 4_b  | -1.78807902 |\n",
       "|  5 | NA | NA   |  1.50228285 |\n",
       "|  6 | b  | 6_b  |  2.18804087 |\n",
       "|  7 | a  | 7_a  | -1.08389103 |\n",
       "|  8 | b  | 8_b  |  0.50326167 |\n",
       "|  9 | a  | 9_a  |  1.74313738 |\n",
       "| 10 | b  | 10_b |  0.94632266 |\n",
       "| 11 | a  | 11_a |  0.63651309 |\n",
       "| 12 | b  | 12_b |  0.05172019 |\n",
       "| 13 | a  | 13_a |  4.20767983 |\n",
       "| 14 | b  | 14_b |  1.55198708 |\n",
       "| 15 | a  | 15_a |  0.23808941 |\n",
       "| 16 | b  | 16_b |  0.99098457 |\n",
       "| 17 | a  | 17_a |  0.02228146 |\n",
       "| 18 | b  | 18_b |  1.28822151 |\n",
       "| 19 | a  | 19_a | -0.06617227 |\n",
       "| 20 | b  | 20_b | -0.02167456 |\n",
       "\n"
      ],
      "text/plain": [
       "   participants conditions participants_cond response_times\n",
       "1   1           a          1_a               -0.02474744   \n",
       "2   2           b          2_b                1.17366835   \n",
       "3   3           a          3_a                1.26395594   \n",
       "4   4           b          4_b               -1.78807902   \n",
       "5   5           NA         NA                 1.50228285   \n",
       "6   6           b          6_b                2.18804087   \n",
       "7   7           a          7_a               -1.08389103   \n",
       "8   8           b          8_b                0.50326167   \n",
       "9   9           a          9_a                1.74313738   \n",
       "10 10           b          10_b               0.94632266   \n",
       "11 11           a          11_a               0.63651309   \n",
       "12 12           b          12_b               0.05172019   \n",
       "13 13           a          13_a               4.20767983   \n",
       "14 14           b          14_b               1.55198708   \n",
       "15 15           a          15_a               0.23808941   \n",
       "16 16           b          16_b               0.99098457   \n",
       "17 17           a          17_a               0.02228146   \n",
       "18 18           b          18_b               1.28822151   \n",
       "19 19           a          19_a              -0.06617227   \n",
       "20 20           b          20_b              -0.02167456   "
      ]
     },
     "metadata": {},
     "output_type": "display_data"
    }
   ],
   "source": [
    "# task B2\n",
    "my_data$response_times = rnorm(n=20, mean=.8, sd=1)\n",
    "my_data"
   ]
  },
  {
   "cell_type": "code",
   "execution_count": 26,
   "metadata": {},
   "outputs": [
    {
     "data": {
      "text/html": [
       "<table>\n",
       "<caption>A data.frame: 20 × 4</caption>\n",
       "<thead>\n",
       "\t<tr><th scope=col>participants</th><th scope=col>conditions</th><th scope=col>participants_cond</th><th scope=col>response_times</th></tr>\n",
       "\t<tr><th scope=col>&lt;int&gt;</th><th scope=col>&lt;fct&gt;</th><th scope=col>&lt;fct&gt;</th><th scope=col>&lt;dbl&gt;</th></tr>\n",
       "</thead>\n",
       "<tbody>\n",
       "\t<tr><td> 1</td><td>a </td><td>1_a </td><td>0.00000000</td></tr>\n",
       "\t<tr><td> 2</td><td>b </td><td>2_b </td><td>1.17366835</td></tr>\n",
       "\t<tr><td> 3</td><td>a </td><td>3_a </td><td>1.26395594</td></tr>\n",
       "\t<tr><td> 4</td><td>b </td><td>4_b </td><td>0.00000000</td></tr>\n",
       "\t<tr><td> 5</td><td>NA</td><td>NA  </td><td>1.50228285</td></tr>\n",
       "\t<tr><td> 6</td><td>b </td><td>6_b </td><td>2.18804087</td></tr>\n",
       "\t<tr><td> 7</td><td>a </td><td>7_a </td><td>0.00000000</td></tr>\n",
       "\t<tr><td> 8</td><td>b </td><td>8_b </td><td>0.50326167</td></tr>\n",
       "\t<tr><td> 9</td><td>a </td><td>9_a </td><td>1.74313738</td></tr>\n",
       "\t<tr><td>10</td><td>b </td><td>10_b</td><td>0.94632266</td></tr>\n",
       "\t<tr><td>11</td><td>a </td><td>11_a</td><td>0.63651309</td></tr>\n",
       "\t<tr><td>12</td><td>b </td><td>12_b</td><td>0.05172019</td></tr>\n",
       "\t<tr><td>13</td><td>a </td><td>13_a</td><td>4.20767983</td></tr>\n",
       "\t<tr><td>14</td><td>b </td><td>14_b</td><td>1.55198708</td></tr>\n",
       "\t<tr><td>15</td><td>a </td><td>15_a</td><td>0.23808941</td></tr>\n",
       "\t<tr><td>16</td><td>b </td><td>16_b</td><td>0.99098457</td></tr>\n",
       "\t<tr><td>17</td><td>a </td><td>17_a</td><td>0.02228146</td></tr>\n",
       "\t<tr><td>18</td><td>b </td><td>18_b</td><td>1.28822151</td></tr>\n",
       "\t<tr><td>19</td><td>a </td><td>19_a</td><td>0.00000000</td></tr>\n",
       "\t<tr><td>20</td><td>b </td><td>20_b</td><td>0.00000000</td></tr>\n",
       "</tbody>\n",
       "</table>\n"
      ],
      "text/latex": [
       "A data.frame: 20 × 4\n",
       "\\begin{tabular}{r|llll}\n",
       " participants & conditions & participants\\_cond & response\\_times\\\\\n",
       " <int> & <fct> & <fct> & <dbl>\\\\\n",
       "\\hline\n",
       "\t  1 & a  & 1\\_a  & 0.00000000\\\\\n",
       "\t  2 & b  & 2\\_b  & 1.17366835\\\\\n",
       "\t  3 & a  & 3\\_a  & 1.26395594\\\\\n",
       "\t  4 & b  & 4\\_b  & 0.00000000\\\\\n",
       "\t  5 & NA & NA   & 1.50228285\\\\\n",
       "\t  6 & b  & 6\\_b  & 2.18804087\\\\\n",
       "\t  7 & a  & 7\\_a  & 0.00000000\\\\\n",
       "\t  8 & b  & 8\\_b  & 0.50326167\\\\\n",
       "\t  9 & a  & 9\\_a  & 1.74313738\\\\\n",
       "\t 10 & b  & 10\\_b & 0.94632266\\\\\n",
       "\t 11 & a  & 11\\_a & 0.63651309\\\\\n",
       "\t 12 & b  & 12\\_b & 0.05172019\\\\\n",
       "\t 13 & a  & 13\\_a & 4.20767983\\\\\n",
       "\t 14 & b  & 14\\_b & 1.55198708\\\\\n",
       "\t 15 & a  & 15\\_a & 0.23808941\\\\\n",
       "\t 16 & b  & 16\\_b & 0.99098457\\\\\n",
       "\t 17 & a  & 17\\_a & 0.02228146\\\\\n",
       "\t 18 & b  & 18\\_b & 1.28822151\\\\\n",
       "\t 19 & a  & 19\\_a & 0.00000000\\\\\n",
       "\t 20 & b  & 20\\_b & 0.00000000\\\\\n",
       "\\end{tabular}\n"
      ],
      "text/markdown": [
       "\n",
       "A data.frame: 20 × 4\n",
       "\n",
       "| participants &lt;int&gt; | conditions &lt;fct&gt; | participants_cond &lt;fct&gt; | response_times &lt;dbl&gt; |\n",
       "|---|---|---|---|\n",
       "|  1 | a  | 1_a  | 0.00000000 |\n",
       "|  2 | b  | 2_b  | 1.17366835 |\n",
       "|  3 | a  | 3_a  | 1.26395594 |\n",
       "|  4 | b  | 4_b  | 0.00000000 |\n",
       "|  5 | NA | NA   | 1.50228285 |\n",
       "|  6 | b  | 6_b  | 2.18804087 |\n",
       "|  7 | a  | 7_a  | 0.00000000 |\n",
       "|  8 | b  | 8_b  | 0.50326167 |\n",
       "|  9 | a  | 9_a  | 1.74313738 |\n",
       "| 10 | b  | 10_b | 0.94632266 |\n",
       "| 11 | a  | 11_a | 0.63651309 |\n",
       "| 12 | b  | 12_b | 0.05172019 |\n",
       "| 13 | a  | 13_a | 4.20767983 |\n",
       "| 14 | b  | 14_b | 1.55198708 |\n",
       "| 15 | a  | 15_a | 0.23808941 |\n",
       "| 16 | b  | 16_b | 0.99098457 |\n",
       "| 17 | a  | 17_a | 0.02228146 |\n",
       "| 18 | b  | 18_b | 1.28822151 |\n",
       "| 19 | a  | 19_a | 0.00000000 |\n",
       "| 20 | b  | 20_b | 0.00000000 |\n",
       "\n"
      ],
      "text/plain": [
       "   participants conditions participants_cond response_times\n",
       "1   1           a          1_a               0.00000000    \n",
       "2   2           b          2_b               1.17366835    \n",
       "3   3           a          3_a               1.26395594    \n",
       "4   4           b          4_b               0.00000000    \n",
       "5   5           NA         NA                1.50228285    \n",
       "6   6           b          6_b               2.18804087    \n",
       "7   7           a          7_a               0.00000000    \n",
       "8   8           b          8_b               0.50326167    \n",
       "9   9           a          9_a               1.74313738    \n",
       "10 10           b          10_b              0.94632266    \n",
       "11 11           a          11_a              0.63651309    \n",
       "12 12           b          12_b              0.05172019    \n",
       "13 13           a          13_a              4.20767983    \n",
       "14 14           b          14_b              1.55198708    \n",
       "15 15           a          15_a              0.23808941    \n",
       "16 16           b          16_b              0.99098457    \n",
       "17 17           a          17_a              0.02228146    \n",
       "18 18           b          18_b              1.28822151    \n",
       "19 19           a          19_a              0.00000000    \n",
       "20 20           b          20_b              0.00000000    "
      ]
     },
     "metadata": {},
     "output_type": "display_data"
    }
   ],
   "source": [
    "# task B3\n",
    "my_data[my_data$response_times < 0, \"response_times\"] = 0\n",
    "my_data"
   ]
  },
  {
   "cell_type": "code",
   "execution_count": 27,
   "metadata": {},
   "outputs": [
    {
     "data": {
      "text/html": [
       "<table>\n",
       "<caption>A data.frame: 20 × 5</caption>\n",
       "<thead>\n",
       "\t<tr><th scope=col>participants</th><th scope=col>conditions</th><th scope=col>participants_cond</th><th scope=col>response_times</th><th scope=col>log_response_times</th></tr>\n",
       "\t<tr><th scope=col>&lt;int&gt;</th><th scope=col>&lt;fct&gt;</th><th scope=col>&lt;fct&gt;</th><th scope=col>&lt;dbl&gt;</th><th scope=col>&lt;dbl&gt;</th></tr>\n",
       "</thead>\n",
       "<tbody>\n",
       "\t<tr><td> 1</td><td>a </td><td>1_a </td><td>0.00000000</td><td>        -Inf</td></tr>\n",
       "\t<tr><td> 2</td><td>b </td><td>2_b </td><td>1.17366835</td><td> 0.160134182</td></tr>\n",
       "\t<tr><td> 3</td><td>a </td><td>3_a </td><td>1.26395594</td><td> 0.234246439</td></tr>\n",
       "\t<tr><td> 4</td><td>b </td><td>4_b </td><td>0.00000000</td><td>        -Inf</td></tr>\n",
       "\t<tr><td> 5</td><td>NA</td><td>NA  </td><td>1.50228285</td><td> 0.406985851</td></tr>\n",
       "\t<tr><td> 6</td><td>b </td><td>6_b </td><td>2.18804087</td><td> 0.783006564</td></tr>\n",
       "\t<tr><td> 7</td><td>a </td><td>7_a </td><td>0.00000000</td><td>        -Inf</td></tr>\n",
       "\t<tr><td> 8</td><td>b </td><td>8_b </td><td>0.50326167</td><td>-0.686645022</td></tr>\n",
       "\t<tr><td> 9</td><td>a </td><td>9_a </td><td>1.74313738</td><td> 0.555686584</td></tr>\n",
       "\t<tr><td>10</td><td>b </td><td>10_b</td><td>0.94632266</td><td>-0.055171694</td></tr>\n",
       "\t<tr><td>11</td><td>a </td><td>11_a</td><td>0.63651309</td><td>-0.451750302</td></tr>\n",
       "\t<tr><td>12</td><td>b </td><td>12_b</td><td>0.05172019</td><td>-2.961906995</td></tr>\n",
       "\t<tr><td>13</td><td>a </td><td>13_a</td><td>4.20767983</td><td> 1.436911388</td></tr>\n",
       "\t<tr><td>14</td><td>b </td><td>14_b</td><td>1.55198708</td><td> 0.439536096</td></tr>\n",
       "\t<tr><td>15</td><td>a </td><td>15_a</td><td>0.23808941</td><td>-1.435109022</td></tr>\n",
       "\t<tr><td>16</td><td>b </td><td>16_b</td><td>0.99098457</td><td>-0.009056313</td></tr>\n",
       "\t<tr><td>17</td><td>a </td><td>17_a</td><td>0.02228146</td><td>-3.804000142</td></tr>\n",
       "\t<tr><td>18</td><td>b </td><td>18_b</td><td>1.28822151</td><td> 0.253262593</td></tr>\n",
       "\t<tr><td>19</td><td>a </td><td>19_a</td><td>0.00000000</td><td>        -Inf</td></tr>\n",
       "\t<tr><td>20</td><td>b </td><td>20_b</td><td>0.00000000</td><td>        -Inf</td></tr>\n",
       "</tbody>\n",
       "</table>\n"
      ],
      "text/latex": [
       "A data.frame: 20 × 5\n",
       "\\begin{tabular}{r|lllll}\n",
       " participants & conditions & participants\\_cond & response\\_times & log\\_response\\_times\\\\\n",
       " <int> & <fct> & <fct> & <dbl> & <dbl>\\\\\n",
       "\\hline\n",
       "\t  1 & a  & 1\\_a  & 0.00000000 &         -Inf\\\\\n",
       "\t  2 & b  & 2\\_b  & 1.17366835 &  0.160134182\\\\\n",
       "\t  3 & a  & 3\\_a  & 1.26395594 &  0.234246439\\\\\n",
       "\t  4 & b  & 4\\_b  & 0.00000000 &         -Inf\\\\\n",
       "\t  5 & NA & NA   & 1.50228285 &  0.406985851\\\\\n",
       "\t  6 & b  & 6\\_b  & 2.18804087 &  0.783006564\\\\\n",
       "\t  7 & a  & 7\\_a  & 0.00000000 &         -Inf\\\\\n",
       "\t  8 & b  & 8\\_b  & 0.50326167 & -0.686645022\\\\\n",
       "\t  9 & a  & 9\\_a  & 1.74313738 &  0.555686584\\\\\n",
       "\t 10 & b  & 10\\_b & 0.94632266 & -0.055171694\\\\\n",
       "\t 11 & a  & 11\\_a & 0.63651309 & -0.451750302\\\\\n",
       "\t 12 & b  & 12\\_b & 0.05172019 & -2.961906995\\\\\n",
       "\t 13 & a  & 13\\_a & 4.20767983 &  1.436911388\\\\\n",
       "\t 14 & b  & 14\\_b & 1.55198708 &  0.439536096\\\\\n",
       "\t 15 & a  & 15\\_a & 0.23808941 & -1.435109022\\\\\n",
       "\t 16 & b  & 16\\_b & 0.99098457 & -0.009056313\\\\\n",
       "\t 17 & a  & 17\\_a & 0.02228146 & -3.804000142\\\\\n",
       "\t 18 & b  & 18\\_b & 1.28822151 &  0.253262593\\\\\n",
       "\t 19 & a  & 19\\_a & 0.00000000 &         -Inf\\\\\n",
       "\t 20 & b  & 20\\_b & 0.00000000 &         -Inf\\\\\n",
       "\\end{tabular}\n"
      ],
      "text/markdown": [
       "\n",
       "A data.frame: 20 × 5\n",
       "\n",
       "| participants &lt;int&gt; | conditions &lt;fct&gt; | participants_cond &lt;fct&gt; | response_times &lt;dbl&gt; | log_response_times &lt;dbl&gt; |\n",
       "|---|---|---|---|---|\n",
       "|  1 | a  | 1_a  | 0.00000000 |         -Inf |\n",
       "|  2 | b  | 2_b  | 1.17366835 |  0.160134182 |\n",
       "|  3 | a  | 3_a  | 1.26395594 |  0.234246439 |\n",
       "|  4 | b  | 4_b  | 0.00000000 |         -Inf |\n",
       "|  5 | NA | NA   | 1.50228285 |  0.406985851 |\n",
       "|  6 | b  | 6_b  | 2.18804087 |  0.783006564 |\n",
       "|  7 | a  | 7_a  | 0.00000000 |         -Inf |\n",
       "|  8 | b  | 8_b  | 0.50326167 | -0.686645022 |\n",
       "|  9 | a  | 9_a  | 1.74313738 |  0.555686584 |\n",
       "| 10 | b  | 10_b | 0.94632266 | -0.055171694 |\n",
       "| 11 | a  | 11_a | 0.63651309 | -0.451750302 |\n",
       "| 12 | b  | 12_b | 0.05172019 | -2.961906995 |\n",
       "| 13 | a  | 13_a | 4.20767983 |  1.436911388 |\n",
       "| 14 | b  | 14_b | 1.55198708 |  0.439536096 |\n",
       "| 15 | a  | 15_a | 0.23808941 | -1.435109022 |\n",
       "| 16 | b  | 16_b | 0.99098457 | -0.009056313 |\n",
       "| 17 | a  | 17_a | 0.02228146 | -3.804000142 |\n",
       "| 18 | b  | 18_b | 1.28822151 |  0.253262593 |\n",
       "| 19 | a  | 19_a | 0.00000000 |         -Inf |\n",
       "| 20 | b  | 20_b | 0.00000000 |         -Inf |\n",
       "\n"
      ],
      "text/plain": [
       "   participants conditions participants_cond response_times log_response_times\n",
       "1   1           a          1_a               0.00000000             -Inf      \n",
       "2   2           b          2_b               1.17366835      0.160134182      \n",
       "3   3           a          3_a               1.26395594      0.234246439      \n",
       "4   4           b          4_b               0.00000000             -Inf      \n",
       "5   5           NA         NA                1.50228285      0.406985851      \n",
       "6   6           b          6_b               2.18804087      0.783006564      \n",
       "7   7           a          7_a               0.00000000             -Inf      \n",
       "8   8           b          8_b               0.50326167     -0.686645022      \n",
       "9   9           a          9_a               1.74313738      0.555686584      \n",
       "10 10           b          10_b              0.94632266     -0.055171694      \n",
       "11 11           a          11_a              0.63651309     -0.451750302      \n",
       "12 12           b          12_b              0.05172019     -2.961906995      \n",
       "13 13           a          13_a              4.20767983      1.436911388      \n",
       "14 14           b          14_b              1.55198708      0.439536096      \n",
       "15 15           a          15_a              0.23808941     -1.435109022      \n",
       "16 16           b          16_b              0.99098457     -0.009056313      \n",
       "17 17           a          17_a              0.02228146     -3.804000142      \n",
       "18 18           b          18_b              1.28822151      0.253262593      \n",
       "19 19           a          19_a              0.00000000             -Inf      \n",
       "20 20           b          20_b              0.00000000             -Inf      "
      ]
     },
     "metadata": {},
     "output_type": "display_data"
    }
   ],
   "source": [
    "# task B4\n",
    "my_data$log_response_times = log(my_data$response_times)\n",
    "my_data"
   ]
  },
  {
   "cell_type": "code",
   "execution_count": 28,
   "metadata": {},
   "outputs": [
    {
     "data": {
      "text/html": [
       "<table>\n",
       "<caption>A data.frame: 20 × 6</caption>\n",
       "<thead>\n",
       "\t<tr><th scope=col>participants</th><th scope=col>conditions</th><th scope=col>participants_cond</th><th scope=col>response_times</th><th scope=col>log_response_times</th><th scope=col>correct_response</th></tr>\n",
       "\t<tr><th scope=col>&lt;int&gt;</th><th scope=col>&lt;fct&gt;</th><th scope=col>&lt;fct&gt;</th><th scope=col>&lt;dbl&gt;</th><th scope=col>&lt;dbl&gt;</th><th scope=col>&lt;int&gt;</th></tr>\n",
       "</thead>\n",
       "<tbody>\n",
       "\t<tr><td> 1</td><td>a </td><td>1_a </td><td>0.00000000</td><td>        -Inf</td><td>1</td></tr>\n",
       "\t<tr><td> 2</td><td>b </td><td>2_b </td><td>1.17366835</td><td> 0.160134182</td><td>0</td></tr>\n",
       "\t<tr><td> 3</td><td>a </td><td>3_a </td><td>1.26395594</td><td> 0.234246439</td><td>1</td></tr>\n",
       "\t<tr><td> 4</td><td>b </td><td>4_b </td><td>0.00000000</td><td>        -Inf</td><td>1</td></tr>\n",
       "\t<tr><td> 5</td><td>NA</td><td>NA  </td><td>1.50228285</td><td> 0.406985851</td><td>1</td></tr>\n",
       "\t<tr><td> 6</td><td>b </td><td>6_b </td><td>2.18804087</td><td> 0.783006564</td><td>0</td></tr>\n",
       "\t<tr><td> 7</td><td>a </td><td>7_a </td><td>0.00000000</td><td>        -Inf</td><td>1</td></tr>\n",
       "\t<tr><td> 8</td><td>b </td><td>8_b </td><td>0.50326167</td><td>-0.686645022</td><td>1</td></tr>\n",
       "\t<tr><td> 9</td><td>a </td><td>9_a </td><td>1.74313738</td><td> 0.555686584</td><td>1</td></tr>\n",
       "\t<tr><td>10</td><td>b </td><td>10_b</td><td>0.94632266</td><td>-0.055171694</td><td>1</td></tr>\n",
       "\t<tr><td>11</td><td>a </td><td>11_a</td><td>0.63651309</td><td>-0.451750302</td><td>0</td></tr>\n",
       "\t<tr><td>12</td><td>b </td><td>12_b</td><td>0.05172019</td><td>-2.961906995</td><td>1</td></tr>\n",
       "\t<tr><td>13</td><td>a </td><td>13_a</td><td>4.20767983</td><td> 1.436911388</td><td>1</td></tr>\n",
       "\t<tr><td>14</td><td>b </td><td>14_b</td><td>1.55198708</td><td> 0.439536096</td><td>1</td></tr>\n",
       "\t<tr><td>15</td><td>a </td><td>15_a</td><td>0.23808941</td><td>-1.435109022</td><td>0</td></tr>\n",
       "\t<tr><td>16</td><td>b </td><td>16_b</td><td>0.99098457</td><td>-0.009056313</td><td>1</td></tr>\n",
       "\t<tr><td>17</td><td>a </td><td>17_a</td><td>0.02228146</td><td>-3.804000142</td><td>0</td></tr>\n",
       "\t<tr><td>18</td><td>b </td><td>18_b</td><td>1.28822151</td><td> 0.253262593</td><td>1</td></tr>\n",
       "\t<tr><td>19</td><td>a </td><td>19_a</td><td>0.00000000</td><td>        -Inf</td><td>1</td></tr>\n",
       "\t<tr><td>20</td><td>b </td><td>20_b</td><td>0.00000000</td><td>        -Inf</td><td>0</td></tr>\n",
       "</tbody>\n",
       "</table>\n"
      ],
      "text/latex": [
       "A data.frame: 20 × 6\n",
       "\\begin{tabular}{r|llllll}\n",
       " participants & conditions & participants\\_cond & response\\_times & log\\_response\\_times & correct\\_response\\\\\n",
       " <int> & <fct> & <fct> & <dbl> & <dbl> & <int>\\\\\n",
       "\\hline\n",
       "\t  1 & a  & 1\\_a  & 0.00000000 &         -Inf & 1\\\\\n",
       "\t  2 & b  & 2\\_b  & 1.17366835 &  0.160134182 & 0\\\\\n",
       "\t  3 & a  & 3\\_a  & 1.26395594 &  0.234246439 & 1\\\\\n",
       "\t  4 & b  & 4\\_b  & 0.00000000 &         -Inf & 1\\\\\n",
       "\t  5 & NA & NA   & 1.50228285 &  0.406985851 & 1\\\\\n",
       "\t  6 & b  & 6\\_b  & 2.18804087 &  0.783006564 & 0\\\\\n",
       "\t  7 & a  & 7\\_a  & 0.00000000 &         -Inf & 1\\\\\n",
       "\t  8 & b  & 8\\_b  & 0.50326167 & -0.686645022 & 1\\\\\n",
       "\t  9 & a  & 9\\_a  & 1.74313738 &  0.555686584 & 1\\\\\n",
       "\t 10 & b  & 10\\_b & 0.94632266 & -0.055171694 & 1\\\\\n",
       "\t 11 & a  & 11\\_a & 0.63651309 & -0.451750302 & 0\\\\\n",
       "\t 12 & b  & 12\\_b & 0.05172019 & -2.961906995 & 1\\\\\n",
       "\t 13 & a  & 13\\_a & 4.20767983 &  1.436911388 & 1\\\\\n",
       "\t 14 & b  & 14\\_b & 1.55198708 &  0.439536096 & 1\\\\\n",
       "\t 15 & a  & 15\\_a & 0.23808941 & -1.435109022 & 0\\\\\n",
       "\t 16 & b  & 16\\_b & 0.99098457 & -0.009056313 & 1\\\\\n",
       "\t 17 & a  & 17\\_a & 0.02228146 & -3.804000142 & 0\\\\\n",
       "\t 18 & b  & 18\\_b & 1.28822151 &  0.253262593 & 1\\\\\n",
       "\t 19 & a  & 19\\_a & 0.00000000 &         -Inf & 1\\\\\n",
       "\t 20 & b  & 20\\_b & 0.00000000 &         -Inf & 0\\\\\n",
       "\\end{tabular}\n"
      ],
      "text/markdown": [
       "\n",
       "A data.frame: 20 × 6\n",
       "\n",
       "| participants &lt;int&gt; | conditions &lt;fct&gt; | participants_cond &lt;fct&gt; | response_times &lt;dbl&gt; | log_response_times &lt;dbl&gt; | correct_response &lt;int&gt; |\n",
       "|---|---|---|---|---|---|\n",
       "|  1 | a  | 1_a  | 0.00000000 |         -Inf | 1 |\n",
       "|  2 | b  | 2_b  | 1.17366835 |  0.160134182 | 0 |\n",
       "|  3 | a  | 3_a  | 1.26395594 |  0.234246439 | 1 |\n",
       "|  4 | b  | 4_b  | 0.00000000 |         -Inf | 1 |\n",
       "|  5 | NA | NA   | 1.50228285 |  0.406985851 | 1 |\n",
       "|  6 | b  | 6_b  | 2.18804087 |  0.783006564 | 0 |\n",
       "|  7 | a  | 7_a  | 0.00000000 |         -Inf | 1 |\n",
       "|  8 | b  | 8_b  | 0.50326167 | -0.686645022 | 1 |\n",
       "|  9 | a  | 9_a  | 1.74313738 |  0.555686584 | 1 |\n",
       "| 10 | b  | 10_b | 0.94632266 | -0.055171694 | 1 |\n",
       "| 11 | a  | 11_a | 0.63651309 | -0.451750302 | 0 |\n",
       "| 12 | b  | 12_b | 0.05172019 | -2.961906995 | 1 |\n",
       "| 13 | a  | 13_a | 4.20767983 |  1.436911388 | 1 |\n",
       "| 14 | b  | 14_b | 1.55198708 |  0.439536096 | 1 |\n",
       "| 15 | a  | 15_a | 0.23808941 | -1.435109022 | 0 |\n",
       "| 16 | b  | 16_b | 0.99098457 | -0.009056313 | 1 |\n",
       "| 17 | a  | 17_a | 0.02228146 | -3.804000142 | 0 |\n",
       "| 18 | b  | 18_b | 1.28822151 |  0.253262593 | 1 |\n",
       "| 19 | a  | 19_a | 0.00000000 |         -Inf | 1 |\n",
       "| 20 | b  | 20_b | 0.00000000 |         -Inf | 0 |\n",
       "\n"
      ],
      "text/plain": [
       "   participants conditions participants_cond response_times log_response_times\n",
       "1   1           a          1_a               0.00000000             -Inf      \n",
       "2   2           b          2_b               1.17366835      0.160134182      \n",
       "3   3           a          3_a               1.26395594      0.234246439      \n",
       "4   4           b          4_b               0.00000000             -Inf      \n",
       "5   5           NA         NA                1.50228285      0.406985851      \n",
       "6   6           b          6_b               2.18804087      0.783006564      \n",
       "7   7           a          7_a               0.00000000             -Inf      \n",
       "8   8           b          8_b               0.50326167     -0.686645022      \n",
       "9   9           a          9_a               1.74313738      0.555686584      \n",
       "10 10           b          10_b              0.94632266     -0.055171694      \n",
       "11 11           a          11_a              0.63651309     -0.451750302      \n",
       "12 12           b          12_b              0.05172019     -2.961906995      \n",
       "13 13           a          13_a              4.20767983      1.436911388      \n",
       "14 14           b          14_b              1.55198708      0.439536096      \n",
       "15 15           a          15_a              0.23808941     -1.435109022      \n",
       "16 16           b          16_b              0.99098457     -0.009056313      \n",
       "17 17           a          17_a              0.02228146     -3.804000142      \n",
       "18 18           b          18_b              1.28822151      0.253262593      \n",
       "19 19           a          19_a              0.00000000             -Inf      \n",
       "20 20           b          20_b              0.00000000             -Inf      \n",
       "   correct_response\n",
       "1  1               \n",
       "2  0               \n",
       "3  1               \n",
       "4  1               \n",
       "5  1               \n",
       "6  0               \n",
       "7  1               \n",
       "8  1               \n",
       "9  1               \n",
       "10 1               \n",
       "11 0               \n",
       "12 1               \n",
       "13 1               \n",
       "14 1               \n",
       "15 0               \n",
       "16 1               \n",
       "17 0               \n",
       "18 1               \n",
       "19 1               \n",
       "20 0               "
      ]
     },
     "metadata": {},
     "output_type": "display_data"
    }
   ],
   "source": [
    "# task B5\n",
    "my_data$correct_response = rbinom(n=20, size=1, prob=.65)\n",
    "my_data"
   ]
  },
  {
   "cell_type": "code",
   "execution_count": 29,
   "metadata": {},
   "outputs": [
    {
     "data": {
      "text/html": [
       "0.915407343280112"
      ],
      "text/latex": [
       "0.915407343280112"
      ],
      "text/markdown": [
       "0.915407343280112"
      ],
      "text/plain": [
       "[1] 0.9154073"
      ]
     },
     "metadata": {},
     "output_type": "display_data"
    },
    {
     "data": {
      "text/html": [
       "0.7"
      ],
      "text/latex": [
       "0.7"
      ],
      "text/markdown": [
       "0.7"
      ],
      "text/plain": [
       "[1] 0.7"
      ]
     },
     "metadata": {},
     "output_type": "display_data"
    }
   ],
   "source": [
    "# task B6\n",
    "mean(my_data$response_times)\n",
    "mean(my_data$correct_response)"
   ]
  },
  {
   "cell_type": "code",
   "execution_count": 30,
   "metadata": {},
   "outputs": [
    {
     "data": {
      "text/html": [
       "<table>\n",
       "<caption>A data.frame: 14 × 6</caption>\n",
       "<thead>\n",
       "\t<tr><th></th><th scope=col>participants</th><th scope=col>conditions</th><th scope=col>participants_cond</th><th scope=col>response_times</th><th scope=col>log_response_times</th><th scope=col>correct_response</th></tr>\n",
       "\t<tr><th></th><th scope=col>&lt;int&gt;</th><th scope=col>&lt;fct&gt;</th><th scope=col>&lt;fct&gt;</th><th scope=col>&lt;dbl&gt;</th><th scope=col>&lt;dbl&gt;</th><th scope=col>&lt;int&gt;</th></tr>\n",
       "</thead>\n",
       "<tbody>\n",
       "\t<tr><th scope=row>1</th><td> 1</td><td>a </td><td>1_a </td><td>0.00000000</td><td>        -Inf</td><td>1</td></tr>\n",
       "\t<tr><th scope=row>3</th><td> 3</td><td>a </td><td>3_a </td><td>1.26395594</td><td> 0.234246439</td><td>1</td></tr>\n",
       "\t<tr><th scope=row>4</th><td> 4</td><td>b </td><td>4_b </td><td>0.00000000</td><td>        -Inf</td><td>1</td></tr>\n",
       "\t<tr><th scope=row>5</th><td> 5</td><td>NA</td><td>NA  </td><td>1.50228285</td><td> 0.406985851</td><td>1</td></tr>\n",
       "\t<tr><th scope=row>7</th><td> 7</td><td>a </td><td>7_a </td><td>0.00000000</td><td>        -Inf</td><td>1</td></tr>\n",
       "\t<tr><th scope=row>8</th><td> 8</td><td>b </td><td>8_b </td><td>0.50326167</td><td>-0.686645022</td><td>1</td></tr>\n",
       "\t<tr><th scope=row>9</th><td> 9</td><td>a </td><td>9_a </td><td>1.74313738</td><td> 0.555686584</td><td>1</td></tr>\n",
       "\t<tr><th scope=row>10</th><td>10</td><td>b </td><td>10_b</td><td>0.94632266</td><td>-0.055171694</td><td>1</td></tr>\n",
       "\t<tr><th scope=row>12</th><td>12</td><td>b </td><td>12_b</td><td>0.05172019</td><td>-2.961906995</td><td>1</td></tr>\n",
       "\t<tr><th scope=row>13</th><td>13</td><td>a </td><td>13_a</td><td>4.20767983</td><td> 1.436911388</td><td>1</td></tr>\n",
       "\t<tr><th scope=row>14</th><td>14</td><td>b </td><td>14_b</td><td>1.55198708</td><td> 0.439536096</td><td>1</td></tr>\n",
       "\t<tr><th scope=row>16</th><td>16</td><td>b </td><td>16_b</td><td>0.99098457</td><td>-0.009056313</td><td>1</td></tr>\n",
       "\t<tr><th scope=row>18</th><td>18</td><td>b </td><td>18_b</td><td>1.28822151</td><td> 0.253262593</td><td>1</td></tr>\n",
       "\t<tr><th scope=row>19</th><td>19</td><td>a </td><td>19_a</td><td>0.00000000</td><td>        -Inf</td><td>1</td></tr>\n",
       "</tbody>\n",
       "</table>\n"
      ],
      "text/latex": [
       "A data.frame: 14 × 6\n",
       "\\begin{tabular}{r|llllll}\n",
       "  & participants & conditions & participants\\_cond & response\\_times & log\\_response\\_times & correct\\_response\\\\\n",
       "  & <int> & <fct> & <fct> & <dbl> & <dbl> & <int>\\\\\n",
       "\\hline\n",
       "\t1 &  1 & a  & 1\\_a  & 0.00000000 &         -Inf & 1\\\\\n",
       "\t3 &  3 & a  & 3\\_a  & 1.26395594 &  0.234246439 & 1\\\\\n",
       "\t4 &  4 & b  & 4\\_b  & 0.00000000 &         -Inf & 1\\\\\n",
       "\t5 &  5 & NA & NA   & 1.50228285 &  0.406985851 & 1\\\\\n",
       "\t7 &  7 & a  & 7\\_a  & 0.00000000 &         -Inf & 1\\\\\n",
       "\t8 &  8 & b  & 8\\_b  & 0.50326167 & -0.686645022 & 1\\\\\n",
       "\t9 &  9 & a  & 9\\_a  & 1.74313738 &  0.555686584 & 1\\\\\n",
       "\t10 & 10 & b  & 10\\_b & 0.94632266 & -0.055171694 & 1\\\\\n",
       "\t12 & 12 & b  & 12\\_b & 0.05172019 & -2.961906995 & 1\\\\\n",
       "\t13 & 13 & a  & 13\\_a & 4.20767983 &  1.436911388 & 1\\\\\n",
       "\t14 & 14 & b  & 14\\_b & 1.55198708 &  0.439536096 & 1\\\\\n",
       "\t16 & 16 & b  & 16\\_b & 0.99098457 & -0.009056313 & 1\\\\\n",
       "\t18 & 18 & b  & 18\\_b & 1.28822151 &  0.253262593 & 1\\\\\n",
       "\t19 & 19 & a  & 19\\_a & 0.00000000 &         -Inf & 1\\\\\n",
       "\\end{tabular}\n"
      ],
      "text/markdown": [
       "\n",
       "A data.frame: 14 × 6\n",
       "\n",
       "| <!--/--> | participants &lt;int&gt; | conditions &lt;fct&gt; | participants_cond &lt;fct&gt; | response_times &lt;dbl&gt; | log_response_times &lt;dbl&gt; | correct_response &lt;int&gt; |\n",
       "|---|---|---|---|---|---|---|\n",
       "| 1 |  1 | a  | 1_a  | 0.00000000 |         -Inf | 1 |\n",
       "| 3 |  3 | a  | 3_a  | 1.26395594 |  0.234246439 | 1 |\n",
       "| 4 |  4 | b  | 4_b  | 0.00000000 |         -Inf | 1 |\n",
       "| 5 |  5 | NA | NA   | 1.50228285 |  0.406985851 | 1 |\n",
       "| 7 |  7 | a  | 7_a  | 0.00000000 |         -Inf | 1 |\n",
       "| 8 |  8 | b  | 8_b  | 0.50326167 | -0.686645022 | 1 |\n",
       "| 9 |  9 | a  | 9_a  | 1.74313738 |  0.555686584 | 1 |\n",
       "| 10 | 10 | b  | 10_b | 0.94632266 | -0.055171694 | 1 |\n",
       "| 12 | 12 | b  | 12_b | 0.05172019 | -2.961906995 | 1 |\n",
       "| 13 | 13 | a  | 13_a | 4.20767983 |  1.436911388 | 1 |\n",
       "| 14 | 14 | b  | 14_b | 1.55198708 |  0.439536096 | 1 |\n",
       "| 16 | 16 | b  | 16_b | 0.99098457 | -0.009056313 | 1 |\n",
       "| 18 | 18 | b  | 18_b | 1.28822151 |  0.253262593 | 1 |\n",
       "| 19 | 19 | a  | 19_a | 0.00000000 |         -Inf | 1 |\n",
       "\n"
      ],
      "text/plain": [
       "   participants conditions participants_cond response_times log_response_times\n",
       "1   1           a          1_a               0.00000000             -Inf      \n",
       "3   3           a          3_a               1.26395594      0.234246439      \n",
       "4   4           b          4_b               0.00000000             -Inf      \n",
       "5   5           NA         NA                1.50228285      0.406985851      \n",
       "7   7           a          7_a               0.00000000             -Inf      \n",
       "8   8           b          8_b               0.50326167     -0.686645022      \n",
       "9   9           a          9_a               1.74313738      0.555686584      \n",
       "10 10           b          10_b              0.94632266     -0.055171694      \n",
       "12 12           b          12_b              0.05172019     -2.961906995      \n",
       "13 13           a          13_a              4.20767983      1.436911388      \n",
       "14 14           b          14_b              1.55198708      0.439536096      \n",
       "16 16           b          16_b              0.99098457     -0.009056313      \n",
       "18 18           b          18_b              1.28822151      0.253262593      \n",
       "19 19           a          19_a              0.00000000             -Inf      \n",
       "   correct_response\n",
       "1  1               \n",
       "3  1               \n",
       "4  1               \n",
       "5  1               \n",
       "7  1               \n",
       "8  1               \n",
       "9  1               \n",
       "10 1               \n",
       "12 1               \n",
       "13 1               \n",
       "14 1               \n",
       "16 1               \n",
       "18 1               \n",
       "19 1               "
      ]
     },
     "metadata": {},
     "output_type": "display_data"
    },
    {
     "data": {
      "text/html": [
       "<table>\n",
       "<caption>A data.frame: 6 × 6</caption>\n",
       "<thead>\n",
       "\t<tr><th></th><th scope=col>participants</th><th scope=col>conditions</th><th scope=col>participants_cond</th><th scope=col>response_times</th><th scope=col>log_response_times</th><th scope=col>correct_response</th></tr>\n",
       "\t<tr><th></th><th scope=col>&lt;int&gt;</th><th scope=col>&lt;fct&gt;</th><th scope=col>&lt;fct&gt;</th><th scope=col>&lt;dbl&gt;</th><th scope=col>&lt;dbl&gt;</th><th scope=col>&lt;int&gt;</th></tr>\n",
       "</thead>\n",
       "<tbody>\n",
       "\t<tr><th scope=row>2</th><td> 2</td><td>b</td><td>2_b </td><td>1.17366835</td><td> 0.1601342</td><td>0</td></tr>\n",
       "\t<tr><th scope=row>6</th><td> 6</td><td>b</td><td>6_b </td><td>2.18804087</td><td> 0.7830066</td><td>0</td></tr>\n",
       "\t<tr><th scope=row>11</th><td>11</td><td>a</td><td>11_a</td><td>0.63651309</td><td>-0.4517503</td><td>0</td></tr>\n",
       "\t<tr><th scope=row>15</th><td>15</td><td>a</td><td>15_a</td><td>0.23808941</td><td>-1.4351090</td><td>0</td></tr>\n",
       "\t<tr><th scope=row>17</th><td>17</td><td>a</td><td>17_a</td><td>0.02228146</td><td>-3.8040001</td><td>0</td></tr>\n",
       "\t<tr><th scope=row>20</th><td>20</td><td>b</td><td>20_b</td><td>0.00000000</td><td>      -Inf</td><td>0</td></tr>\n",
       "</tbody>\n",
       "</table>\n"
      ],
      "text/latex": [
       "A data.frame: 6 × 6\n",
       "\\begin{tabular}{r|llllll}\n",
       "  & participants & conditions & participants\\_cond & response\\_times & log\\_response\\_times & correct\\_response\\\\\n",
       "  & <int> & <fct> & <fct> & <dbl> & <dbl> & <int>\\\\\n",
       "\\hline\n",
       "\t2 &  2 & b & 2\\_b  & 1.17366835 &  0.1601342 & 0\\\\\n",
       "\t6 &  6 & b & 6\\_b  & 2.18804087 &  0.7830066 & 0\\\\\n",
       "\t11 & 11 & a & 11\\_a & 0.63651309 & -0.4517503 & 0\\\\\n",
       "\t15 & 15 & a & 15\\_a & 0.23808941 & -1.4351090 & 0\\\\\n",
       "\t17 & 17 & a & 17\\_a & 0.02228146 & -3.8040001 & 0\\\\\n",
       "\t20 & 20 & b & 20\\_b & 0.00000000 &       -Inf & 0\\\\\n",
       "\\end{tabular}\n"
      ],
      "text/markdown": [
       "\n",
       "A data.frame: 6 × 6\n",
       "\n",
       "| <!--/--> | participants &lt;int&gt; | conditions &lt;fct&gt; | participants_cond &lt;fct&gt; | response_times &lt;dbl&gt; | log_response_times &lt;dbl&gt; | correct_response &lt;int&gt; |\n",
       "|---|---|---|---|---|---|---|\n",
       "| 2 |  2 | b | 2_b  | 1.17366835 |  0.1601342 | 0 |\n",
       "| 6 |  6 | b | 6_b  | 2.18804087 |  0.7830066 | 0 |\n",
       "| 11 | 11 | a | 11_a | 0.63651309 | -0.4517503 | 0 |\n",
       "| 15 | 15 | a | 15_a | 0.23808941 | -1.4351090 | 0 |\n",
       "| 17 | 17 | a | 17_a | 0.02228146 | -3.8040001 | 0 |\n",
       "| 20 | 20 | b | 20_b | 0.00000000 |       -Inf | 0 |\n",
       "\n"
      ],
      "text/plain": [
       "   participants conditions participants_cond response_times log_response_times\n",
       "2   2           b          2_b               1.17366835      0.1601342        \n",
       "6   6           b          6_b               2.18804087      0.7830066        \n",
       "11 11           a          11_a              0.63651309     -0.4517503        \n",
       "15 15           a          15_a              0.23808941     -1.4351090        \n",
       "17 17           a          17_a              0.02228146     -3.8040001        \n",
       "20 20           b          20_b              0.00000000           -Inf        \n",
       "   correct_response\n",
       "2  0               \n",
       "6  0               \n",
       "11 0               \n",
       "15 0               \n",
       "17 0               \n",
       "20 0               "
      ]
     },
     "metadata": {},
     "output_type": "display_data"
    }
   ],
   "source": [
    "# task B7\n",
    "data_correct = my_data[my_data$correct_response == 1,]\n",
    "data_incorrect = my_data[my_data$correct_response == 0,]\n",
    "data_correct\n",
    "data_incorrect"
   ]
  }
 ],
 "metadata": {
  "kernelspec": {
   "display_name": "R",
   "language": "R",
   "name": "ir"
  },
  "language_info": {
   "codemirror_mode": "r",
   "file_extension": ".r",
   "mimetype": "text/x-r-source",
   "name": "R",
   "pygments_lexer": "r",
   "version": "4.0.3"
  }
 },
 "nbformat": 4,
 "nbformat_minor": 4
}
