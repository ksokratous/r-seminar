{
 "cells": [
  {
   "cell_type": "markdown",
   "metadata": {},
   "source": [
    "# Basic R"
   ]
  },
  {
   "cell_type": "markdown",
   "metadata": {},
   "source": [
    "Open RStudio."
   ]
  },
  {
   "cell_type": "markdown",
   "metadata": {},
   "source": [
    "Open a new R script in R and **save it as** `wpa_2_LastFirst.R` (where Last and First is your last and first name). \n",
    "\n",
    "Careful about capitalizing, and using `_`: **DO NOT write** `WPA-2-LastFirst.R` or `WPA_2_LastFirst.R` or `wpa_2_FirstLast.R`\n",
    "\n",
    "At the top of your script, write the following (**with appropriate changes**):"
   ]
  },
  {
   "cell_type": "code",
   "execution_count": 1,
   "metadata": {},
   "outputs": [],
   "source": [
    "# Assignment: WPA 2\n",
    "# Name: Laura Fontanesi\n",
    "# Date: 9 March 2021"
   ]
  },
  {
   "cell_type": "markdown",
   "metadata": {},
   "source": [
    "## 1. R commands, case sensitivity, etc.\n",
    "Technically R is an expression language with a very simple syntax. It is case sensitive as are most UNIX based packages, so `A` and `a` are different symbols and would refer to different variables.\n",
    "\n",
    "In this course, we will try to avoid numbers in R names, as well as capital letters and `.`. We will thus use names such as: `my_data`, `anova_results`, `square_root`, etc.\n",
    "\n",
    "Elementary commands consist of either **expressions** or **assignments**. \n",
    "\n",
    "If an **expression** is given as a command, it is evaluated, printed, and the value is lost:"
   ]
  },
  {
   "cell_type": "code",
   "execution_count": 2,
   "metadata": {},
   "outputs": [
    {
     "data": {
      "text/html": [
       "214"
      ],
      "text/latex": [
       "214"
      ],
      "text/markdown": [
       "214"
      ],
      "text/plain": [
       "[1] 214"
      ]
     },
     "metadata": {},
     "output_type": "display_data"
    }
   ],
   "source": [
    "57*2 + 100"
   ]
  },
  {
   "cell_type": "markdown",
   "metadata": {},
   "source": [
    "An **assignment** also evaluates an expression and passes the value to a variable but the result is not automatically printed:"
   ]
  },
  {
   "cell_type": "code",
   "execution_count": 3,
   "metadata": {},
   "outputs": [],
   "source": [
    "some_variable = 57*2 + 100"
   ]
  },
  {
   "cell_type": "code",
   "execution_count": 4,
   "metadata": {},
   "outputs": [
    {
     "data": {
      "text/html": [
       "214"
      ],
      "text/latex": [
       "214"
      ],
      "text/markdown": [
       "214"
      ],
      "text/plain": [
       "[1] 214"
      ]
     },
     "metadata": {},
     "output_type": "display_data"
    }
   ],
   "source": [
    "some_variable"
   ]
  },
  {
   "cell_type": "markdown",
   "metadata": {},
   "source": [
    "Commands are separated by a newline. \n",
    "\n",
    "Comments can be put almost2 anywhere, starting with a hashmark (`#`), everything to the end of the line is a comment.\n",
    "\n",
    "In the console, if a command is not complete at the end of a line, R will give a different prompt (by default `+`) on second and subsequent lines and continue to read input until the command is syntactically complete."
   ]
  },
  {
   "cell_type": "markdown",
   "metadata": {},
   "source": [
    "## 2. Vectors and assignment\n",
    "R operates on named data structures. The simplest such structure is the **numeric vector**, which is a single entity consisting of an ordered collection of numbers. To set up a vector named x, say, consisting of five numbers, namely 10.4, 5.6, 3.1, 6.4 and 21.7, use the R command:"
   ]
  },
  {
   "cell_type": "code",
   "execution_count": 5,
   "metadata": {},
   "outputs": [],
   "source": [
    "x = c(10.4, 5.6, 3.1, 6.4, 21.7)"
   ]
  },
  {
   "cell_type": "markdown",
   "metadata": {},
   "source": [
    "This is an assignment statement using the function `c()` which in this context can take an arbitrary number of vector arguments and whose value is a vector got by concatenating its arguments end to end.\n",
    "\n",
    "If an expression is used as a complete command, the value is printed and lost. So now if we were to use the command:"
   ]
  },
  {
   "cell_type": "code",
   "execution_count": 6,
   "metadata": {},
   "outputs": [
    {
     "data": {
      "text/html": [
       "<style>\n",
       ".list-inline {list-style: none; margin:0; padding: 0}\n",
       ".list-inline>li {display: inline-block}\n",
       ".list-inline>li:not(:last-child)::after {content: \"\\00b7\"; padding: 0 .5ex}\n",
       "</style>\n",
       "<ol class=list-inline><li>5.09615384615385</li><li>5.17857142857143</li><li>5.32258064516129</li><li>5.15625</li><li>5.04608294930876</li></ol>\n"
      ],
      "text/latex": [
       "\\begin{enumerate*}\n",
       "\\item 5.09615384615385\n",
       "\\item 5.17857142857143\n",
       "\\item 5.32258064516129\n",
       "\\item 5.15625\n",
       "\\item 5.04608294930876\n",
       "\\end{enumerate*}\n"
      ],
      "text/markdown": [
       "1. 5.09615384615385\n",
       "2. 5.17857142857143\n",
       "3. 5.32258064516129\n",
       "4. 5.15625\n",
       "5. 5.04608294930876\n",
       "\n",
       "\n"
      ],
      "text/plain": [
       "[1] 5.096154 5.178571 5.322581 5.156250 5.046083"
      ]
     },
     "metadata": {},
     "output_type": "display_data"
    }
   ],
   "source": [
    "1/x + 5"
   ]
  },
  {
   "cell_type": "markdown",
   "metadata": {},
   "source": [
    "the reciprocals of the five values would be printed at the terminal (and the value of x, of course, unchanged).\n",
    "\n",
    "The further assignment:"
   ]
  },
  {
   "cell_type": "code",
   "execution_count": 7,
   "metadata": {},
   "outputs": [],
   "source": [
    "y = c(x, 0, x)"
   ]
  },
  {
   "cell_type": "markdown",
   "metadata": {},
   "source": [
    "would create a vector y with 11 entries consisting of two copies of x with a zero in the middle place:"
   ]
  },
  {
   "cell_type": "code",
   "execution_count": 8,
   "metadata": {},
   "outputs": [
    {
     "data": {
      "text/html": [
       "<style>\n",
       ".list-inline {list-style: none; margin:0; padding: 0}\n",
       ".list-inline>li {display: inline-block}\n",
       ".list-inline>li:not(:last-child)::after {content: \"\\00b7\"; padding: 0 .5ex}\n",
       "</style>\n",
       "<ol class=list-inline><li>10.4</li><li>5.6</li><li>3.1</li><li>6.4</li><li>21.7</li><li>0</li><li>10.4</li><li>5.6</li><li>3.1</li><li>6.4</li><li>21.7</li></ol>\n"
      ],
      "text/latex": [
       "\\begin{enumerate*}\n",
       "\\item 10.4\n",
       "\\item 5.6\n",
       "\\item 3.1\n",
       "\\item 6.4\n",
       "\\item 21.7\n",
       "\\item 0\n",
       "\\item 10.4\n",
       "\\item 5.6\n",
       "\\item 3.1\n",
       "\\item 6.4\n",
       "\\item 21.7\n",
       "\\end{enumerate*}\n"
      ],
      "text/markdown": [
       "1. 10.4\n",
       "2. 5.6\n",
       "3. 3.1\n",
       "4. 6.4\n",
       "5. 21.7\n",
       "6. 0\n",
       "7. 10.4\n",
       "8. 5.6\n",
       "9. 3.1\n",
       "10. 6.4\n",
       "11. 21.7\n",
       "\n",
       "\n"
      ],
      "text/plain": [
       " [1] 10.4  5.6  3.1  6.4 21.7  0.0 10.4  5.6  3.1  6.4 21.7"
      ]
     },
     "metadata": {},
     "output_type": "display_data"
    }
   ],
   "source": [
    "y"
   ]
  },
  {
   "cell_type": "markdown",
   "metadata": {},
   "source": [
    "## 3. Vector arithmetic\n",
    "Vectors can be used in arithmetic expressions, in which case the operations are performed element by element. Vectors occurring in the same expression need not all be of the same length. If they are not, the value of the expression is a vector with the same length as the longest vector which occurs in the expression. Shorter vectors in the expression are recycled as often as need be (perhaps fractionally) until they match the length of the longest vector. In particular, a constant is simply repeated. So with the above assignments the commands:"
   ]
  },
  {
   "cell_type": "code",
   "execution_count": 9,
   "metadata": {},
   "outputs": [
    {
     "data": {
      "text/html": [
       "<style>\n",
       ".list-inline {list-style: none; margin:0; padding: 0}\n",
       ".list-inline>li {display: inline-block}\n",
       ".list-inline>li:not(:last-child)::after {content: \"\\00b7\"; padding: 0 .5ex}\n",
       "</style>\n",
       "<ol class=list-inline><li>10.4</li><li>5.6</li><li>3.1</li><li>6.4</li><li>21.7</li></ol>\n"
      ],
      "text/latex": [
       "\\begin{enumerate*}\n",
       "\\item 10.4\n",
       "\\item 5.6\n",
       "\\item 3.1\n",
       "\\item 6.4\n",
       "\\item 21.7\n",
       "\\end{enumerate*}\n"
      ],
      "text/markdown": [
       "1. 10.4\n",
       "2. 5.6\n",
       "3. 3.1\n",
       "4. 6.4\n",
       "5. 21.7\n",
       "\n",
       "\n"
      ],
      "text/plain": [
       "[1] 10.4  5.6  3.1  6.4 21.7"
      ]
     },
     "metadata": {},
     "output_type": "display_data"
    }
   ],
   "source": [
    "x"
   ]
  },
  {
   "cell_type": "code",
   "execution_count": 10,
   "metadata": {},
   "outputs": [],
   "source": [
    "z = c(1, 2, 3, 4, 5, 6, 7, 8, 9, 10)"
   ]
  },
  {
   "cell_type": "code",
   "execution_count": 11,
   "metadata": {},
   "outputs": [
    {
     "data": {
      "text/html": [
       "<style>\n",
       ".list-inline {list-style: none; margin:0; padding: 0}\n",
       ".list-inline>li {display: inline-block}\n",
       ".list-inline>li:not(:last-child)::after {content: \"\\00b7\"; padding: 0 .5ex}\n",
       "</style>\n",
       "<ol class=list-inline><li>22.8</li><li>14.2</li><li>10.2</li><li>17.8</li><li>49.4</li><li>27.8</li><li>19.2</li><li>15.2</li><li>22.8</li><li>54.4</li></ol>\n"
      ],
      "text/latex": [
       "\\begin{enumerate*}\n",
       "\\item 22.8\n",
       "\\item 14.2\n",
       "\\item 10.2\n",
       "\\item 17.8\n",
       "\\item 49.4\n",
       "\\item 27.8\n",
       "\\item 19.2\n",
       "\\item 15.2\n",
       "\\item 22.8\n",
       "\\item 54.4\n",
       "\\end{enumerate*}\n"
      ],
      "text/markdown": [
       "1. 22.8\n",
       "2. 14.2\n",
       "3. 10.2\n",
       "4. 17.8\n",
       "5. 49.4\n",
       "6. 27.8\n",
       "7. 19.2\n",
       "8. 15.2\n",
       "9. 22.8\n",
       "10. 54.4\n",
       "\n",
       "\n"
      ],
      "text/plain": [
       " [1] 22.8 14.2 10.2 17.8 49.4 27.8 19.2 15.2 22.8 54.4"
      ]
     },
     "metadata": {},
     "output_type": "display_data"
    }
   ],
   "source": [
    "v = 2*x + z + 1\n",
    "v"
   ]
  },
  {
   "cell_type": "markdown",
   "metadata": {},
   "source": [
    "generates a new vector `v` of length 10 constructed by adding together, element by element, `2*x` repeated 2 times, `z` repeated just once, and `1` repeated 10 times.\n",
    "\n",
    "However, when trying:"
   ]
  },
  {
   "cell_type": "code",
   "execution_count": 12,
   "metadata": {},
   "outputs": [
    {
     "data": {
      "text/html": [
       "<style>\n",
       ".list-inline {list-style: none; margin:0; padding: 0}\n",
       ".list-inline>li {display: inline-block}\n",
       ".list-inline>li:not(:last-child)::after {content: \"\\00b7\"; padding: 0 .5ex}\n",
       "</style>\n",
       "<ol class=list-inline><li>10.4</li><li>5.6</li><li>3.1</li><li>6.4</li><li>21.7</li><li>0</li><li>10.4</li><li>5.6</li><li>3.1</li><li>6.4</li><li>21.7</li></ol>\n"
      ],
      "text/latex": [
       "\\begin{enumerate*}\n",
       "\\item 10.4\n",
       "\\item 5.6\n",
       "\\item 3.1\n",
       "\\item 6.4\n",
       "\\item 21.7\n",
       "\\item 0\n",
       "\\item 10.4\n",
       "\\item 5.6\n",
       "\\item 3.1\n",
       "\\item 6.4\n",
       "\\item 21.7\n",
       "\\end{enumerate*}\n"
      ],
      "text/markdown": [
       "1. 10.4\n",
       "2. 5.6\n",
       "3. 3.1\n",
       "4. 6.4\n",
       "5. 21.7\n",
       "6. 0\n",
       "7. 10.4\n",
       "8. 5.6\n",
       "9. 3.1\n",
       "10. 6.4\n",
       "11. 21.7\n",
       "\n",
       "\n"
      ],
      "text/plain": [
       " [1] 10.4  5.6  3.1  6.4 21.7  0.0 10.4  5.6  3.1  6.4 21.7"
      ]
     },
     "metadata": {},
     "output_type": "display_data"
    }
   ],
   "source": [
    "y"
   ]
  },
  {
   "cell_type": "code",
   "execution_count": 13,
   "metadata": {},
   "outputs": [
    {
     "name": "stderr",
     "output_type": "stream",
     "text": [
      "Warning message in 2 * x + y:\n",
      "“longer object length is not a multiple of shorter object length”\n"
     ]
    },
    {
     "data": {
      "text/html": [
       "<style>\n",
       ".list-inline {list-style: none; margin:0; padding: 0}\n",
       ".list-inline>li {display: inline-block}\n",
       ".list-inline>li:not(:last-child)::after {content: \"\\00b7\"; padding: 0 .5ex}\n",
       "</style>\n",
       "<ol class=list-inline><li>32.2</li><li>17.8</li><li>10.3</li><li>20.2</li><li>66.1</li><li>21.8</li><li>22.6</li><li>12.8</li><li>16.9</li><li>50.8</li><li>43.5</li></ol>\n"
      ],
      "text/latex": [
       "\\begin{enumerate*}\n",
       "\\item 32.2\n",
       "\\item 17.8\n",
       "\\item 10.3\n",
       "\\item 20.2\n",
       "\\item 66.1\n",
       "\\item 21.8\n",
       "\\item 22.6\n",
       "\\item 12.8\n",
       "\\item 16.9\n",
       "\\item 50.8\n",
       "\\item 43.5\n",
       "\\end{enumerate*}\n"
      ],
      "text/markdown": [
       "1. 32.2\n",
       "2. 17.8\n",
       "3. 10.3\n",
       "4. 20.2\n",
       "5. 66.1\n",
       "6. 21.8\n",
       "7. 22.6\n",
       "8. 12.8\n",
       "9. 16.9\n",
       "10. 50.8\n",
       "11. 43.5\n",
       "\n",
       "\n"
      ],
      "text/plain": [
       " [1] 32.2 17.8 10.3 20.2 66.1 21.8 22.6 12.8 16.9 50.8 43.5"
      ]
     },
     "metadata": {},
     "output_type": "display_data"
    }
   ],
   "source": [
    "w = 2*x + y + 1\n",
    "w"
   ]
  },
  {
   "cell_type": "code",
   "execution_count": 14,
   "metadata": {},
   "outputs": [
    {
     "data": {
      "text/html": [
       "9"
      ],
      "text/latex": [
       "9"
      ],
      "text/markdown": [
       "9"
      ],
      "text/plain": [
       "[1] 9"
      ]
     },
     "metadata": {},
     "output_type": "display_data"
    }
   ],
   "source": [
    "3^2"
   ]
  },
  {
   "cell_type": "markdown",
   "metadata": {},
   "source": [
    "It gives us the Warning that `y` (the longest object, of lenght 11) is not a multiple of `x` (the shortest, with length 5)."
   ]
  },
  {
   "cell_type": "markdown",
   "metadata": {},
   "source": [
    "- The elementary arithmetic operators are the usual `+`, `-`, `*`, `/` and `^` for raising to a power. \n",
    "\n",
    "- In addition all of the common arithmetic functions are available. `log`, `exp`, `sin`, `cos`, `tan`, `sqrt`, and so on, all have their usual meaning. \n",
    "\n",
    "- `max` and `min` select the largest and smallest elements of a vector respectively. \n",
    "\n",
    "- `range` is a function whose value is a vector of length two, namely `c(min(x), max(x))`. \n",
    "\n",
    "- `length(x)` is the number of elements in `x`.\n",
    "\n",
    "- `sum(x)` gives the total of the elements in `x`, and `prod(x)` their product.\n",
    "\n",
    "- Two statistical functions are `mean(x)` which calculates the sample mean, which is the same as `sum(x)/length(x)`, and `var(x)` which gives `sum((x-mean(x))^2)/(length(x)-1)` or sample variance. \n",
    "\n",
    "- `sort(x)` returns a vector of the same size as x with the elements arranged in increasing order."
   ]
  },
  {
   "cell_type": "code",
   "execution_count": 15,
   "metadata": {},
   "outputs": [
    {
     "data": {
      "text/html": [
       "0"
      ],
      "text/latex": [
       "0"
      ],
      "text/markdown": [
       "0"
      ],
      "text/plain": [
       "[1] 0"
      ]
     },
     "metadata": {},
     "output_type": "display_data"
    },
    {
     "data": {
      "text/html": [
       "21.7"
      ],
      "text/latex": [
       "21.7"
      ],
      "text/markdown": [
       "21.7"
      ],
      "text/plain": [
       "[1] 21.7"
      ]
     },
     "metadata": {},
     "output_type": "display_data"
    },
    {
     "data": {
      "text/html": [
       "<style>\n",
       ".list-inline {list-style: none; margin:0; padding: 0}\n",
       ".list-inline>li {display: inline-block}\n",
       ".list-inline>li:not(:last-child)::after {content: \"\\00b7\"; padding: 0 .5ex}\n",
       "</style>\n",
       "<ol class=list-inline><li>0</li><li>21.7</li></ol>\n"
      ],
      "text/latex": [
       "\\begin{enumerate*}\n",
       "\\item 0\n",
       "\\item 21.7\n",
       "\\end{enumerate*}\n"
      ],
      "text/markdown": [
       "1. 0\n",
       "2. 21.7\n",
       "\n",
       "\n"
      ],
      "text/plain": [
       "[1]  0.0 21.7"
      ]
     },
     "metadata": {},
     "output_type": "display_data"
    }
   ],
   "source": [
    "min(y)\n",
    "max(y)\n",
    "range(y)"
   ]
  },
  {
   "cell_type": "code",
   "execution_count": 16,
   "metadata": {},
   "outputs": [
    {
     "data": {
      "text/html": [
       "<style>\n",
       ".list-inline {list-style: none; margin:0; padding: 0}\n",
       ".list-inline>li {display: inline-block}\n",
       ".list-inline>li:not(:last-child)::after {content: \"\\00b7\"; padding: 0 .5ex}\n",
       "</style>\n",
       "<ol class=list-inline><li>2.34180580614733</li><li>1.7227665977411</li><li>1.1314021114911</li><li>1.85629799036563</li><li>3.07731226054641</li><li>-Inf</li><li>2.34180580614733</li><li>1.7227665977411</li><li>1.1314021114911</li><li>1.85629799036563</li><li>3.07731226054641</li></ol>\n"
      ],
      "text/latex": [
       "\\begin{enumerate*}\n",
       "\\item 2.34180580614733\n",
       "\\item 1.7227665977411\n",
       "\\item 1.1314021114911\n",
       "\\item 1.85629799036563\n",
       "\\item 3.07731226054641\n",
       "\\item -Inf\n",
       "\\item 2.34180580614733\n",
       "\\item 1.7227665977411\n",
       "\\item 1.1314021114911\n",
       "\\item 1.85629799036563\n",
       "\\item 3.07731226054641\n",
       "\\end{enumerate*}\n"
      ],
      "text/markdown": [
       "1. 2.34180580614733\n",
       "2. 1.7227665977411\n",
       "3. 1.1314021114911\n",
       "4. 1.85629799036563\n",
       "5. 3.07731226054641\n",
       "6. -Inf\n",
       "7. 2.34180580614733\n",
       "8. 1.7227665977411\n",
       "9. 1.1314021114911\n",
       "10. 1.85629799036563\n",
       "11. 3.07731226054641\n",
       "\n",
       "\n"
      ],
      "text/plain": [
       " [1] 2.341806 1.722767 1.131402 1.856298 3.077312     -Inf 2.341806 1.722767\n",
       " [9] 1.131402 1.856298 3.077312"
      ]
     },
     "metadata": {},
     "output_type": "display_data"
    }
   ],
   "source": [
    "log(y)"
   ]
  },
  {
   "cell_type": "code",
   "execution_count": 17,
   "metadata": {},
   "outputs": [
    {
     "data": {
      "text/html": [
       "11"
      ],
      "text/latex": [
       "11"
      ],
      "text/markdown": [
       "11"
      ],
      "text/plain": [
       "[1] 11"
      ]
     },
     "metadata": {},
     "output_type": "display_data"
    }
   ],
   "source": [
    "length(y)"
   ]
  },
  {
   "cell_type": "code",
   "execution_count": 18,
   "metadata": {},
   "outputs": [
    {
     "data": {
      "text/html": [
       "<style>\n",
       ".list-inline {list-style: none; margin:0; padding: 0}\n",
       ".list-inline>li {display: inline-block}\n",
       ".list-inline>li:not(:last-child)::after {content: \"\\00b7\"; padding: 0 .5ex}\n",
       "</style>\n",
       "<ol class=list-inline><li>0</li><li>3.1</li><li>3.1</li><li>5.6</li><li>5.6</li><li>6.4</li><li>6.4</li><li>10.4</li><li>10.4</li><li>21.7</li><li>21.7</li></ol>\n"
      ],
      "text/latex": [
       "\\begin{enumerate*}\n",
       "\\item 0\n",
       "\\item 3.1\n",
       "\\item 3.1\n",
       "\\item 5.6\n",
       "\\item 5.6\n",
       "\\item 6.4\n",
       "\\item 6.4\n",
       "\\item 10.4\n",
       "\\item 10.4\n",
       "\\item 21.7\n",
       "\\item 21.7\n",
       "\\end{enumerate*}\n"
      ],
      "text/markdown": [
       "1. 0\n",
       "2. 3.1\n",
       "3. 3.1\n",
       "4. 5.6\n",
       "5. 5.6\n",
       "6. 6.4\n",
       "7. 6.4\n",
       "8. 10.4\n",
       "9. 10.4\n",
       "10. 21.7\n",
       "11. 21.7\n",
       "\n",
       "\n"
      ],
      "text/plain": [
       " [1]  0.0  3.1  3.1  5.6  5.6  6.4  6.4 10.4 10.4 21.7 21.7"
      ]
     },
     "metadata": {},
     "output_type": "display_data"
    }
   ],
   "source": [
    "sort(y)"
   ]
  },
  {
   "cell_type": "code",
   "execution_count": 19,
   "metadata": {},
   "outputs": [
    {
     "data": {
      "text/html": [
       "9.44"
      ],
      "text/latex": [
       "9.44"
      ],
      "text/markdown": [
       "9.44"
      ],
      "text/plain": [
       "[1] 9.44"
      ]
     },
     "metadata": {},
     "output_type": "display_data"
    },
    {
     "data": {
      "text/html": [
       "7.3384603289791"
      ],
      "text/latex": [
       "7.3384603289791"
      ],
      "text/markdown": [
       "7.3384603289791"
      ],
      "text/plain": [
       "[1] 7.33846"
      ]
     },
     "metadata": {},
     "output_type": "display_data"
    },
    {
     "data": {
      "text/html": [
       "53.853"
      ],
      "text/latex": [
       "53.853"
      ],
      "text/markdown": [
       "53.853"
      ],
      "text/plain": [
       "[1] 53.853"
      ]
     },
     "metadata": {},
     "output_type": "display_data"
    }
   ],
   "source": [
    "mean(x)\n",
    "sd(x)\n",
    "var(x)"
   ]
  },
  {
   "cell_type": "markdown",
   "metadata": {},
   "source": [
    "## 4. Generating regular sequences\n",
    "R has a number of facilities for generating commonly used sequences of numbers. \n",
    "\n",
    "For example:"
   ]
  },
  {
   "cell_type": "code",
   "execution_count": 20,
   "metadata": {},
   "outputs": [
    {
     "data": {
      "text/html": [
       "<style>\n",
       ".list-inline {list-style: none; margin:0; padding: 0}\n",
       ".list-inline>li {display: inline-block}\n",
       ".list-inline>li:not(:last-child)::after {content: \"\\00b7\"; padding: 0 .5ex}\n",
       "</style>\n",
       "<ol class=list-inline><li>1</li><li>2</li><li>3</li><li>4</li><li>5</li><li>6</li><li>7</li><li>8</li><li>9</li><li>10</li></ol>\n"
      ],
      "text/latex": [
       "\\begin{enumerate*}\n",
       "\\item 1\n",
       "\\item 2\n",
       "\\item 3\n",
       "\\item 4\n",
       "\\item 5\n",
       "\\item 6\n",
       "\\item 7\n",
       "\\item 8\n",
       "\\item 9\n",
       "\\item 10\n",
       "\\end{enumerate*}\n"
      ],
      "text/markdown": [
       "1. 1\n",
       "2. 2\n",
       "3. 3\n",
       "4. 4\n",
       "5. 5\n",
       "6. 6\n",
       "7. 7\n",
       "8. 8\n",
       "9. 9\n",
       "10. 10\n",
       "\n",
       "\n"
      ],
      "text/plain": [
       " [1]  1  2  3  4  5  6  7  8  9 10"
      ]
     },
     "metadata": {},
     "output_type": "display_data"
    }
   ],
   "source": [
    "1:10"
   ]
  },
  {
   "cell_type": "markdown",
   "metadata": {},
   "source": [
    "The **colon operator** has high priority within an expression, so, for example `2*1:15` is the vector `c(2, 4, ..., 28, 30)`. \n",
    "\n",
    "Put n = 10 and compare the sequences `1:n-1` and `1:(n-1)`."
   ]
  },
  {
   "cell_type": "markdown",
   "metadata": {},
   "source": [
    "The construction `5:1` may be used to generate a sequence backwards:"
   ]
  },
  {
   "cell_type": "code",
   "execution_count": 21,
   "metadata": {},
   "outputs": [
    {
     "data": {
      "text/html": [
       "<style>\n",
       ".list-inline {list-style: none; margin:0; padding: 0}\n",
       ".list-inline>li {display: inline-block}\n",
       ".list-inline>li:not(:last-child)::after {content: \"\\00b7\"; padding: 0 .5ex}\n",
       "</style>\n",
       "<ol class=list-inline><li>0</li><li>1</li><li>2</li><li>3</li><li>4</li><li>5</li><li>6</li><li>7</li><li>8</li><li>9</li></ol>\n"
      ],
      "text/latex": [
       "\\begin{enumerate*}\n",
       "\\item 0\n",
       "\\item 1\n",
       "\\item 2\n",
       "\\item 3\n",
       "\\item 4\n",
       "\\item 5\n",
       "\\item 6\n",
       "\\item 7\n",
       "\\item 8\n",
       "\\item 9\n",
       "\\end{enumerate*}\n"
      ],
      "text/markdown": [
       "1. 0\n",
       "2. 1\n",
       "3. 2\n",
       "4. 3\n",
       "5. 4\n",
       "6. 5\n",
       "7. 6\n",
       "8. 7\n",
       "9. 8\n",
       "10. 9\n",
       "\n",
       "\n"
      ],
      "text/plain": [
       " [1] 0 1 2 3 4 5 6 7 8 9"
      ]
     },
     "metadata": {},
     "output_type": "display_data"
    }
   ],
   "source": [
    "n = 10\n",
    "1:n-1"
   ]
  },
  {
   "cell_type": "code",
   "execution_count": 22,
   "metadata": {},
   "outputs": [
    {
     "data": {
      "text/html": [
       "<style>\n",
       ".list-inline {list-style: none; margin:0; padding: 0}\n",
       ".list-inline>li {display: inline-block}\n",
       ".list-inline>li:not(:last-child)::after {content: \"\\00b7\"; padding: 0 .5ex}\n",
       "</style>\n",
       "<ol class=list-inline><li>5</li><li>4</li><li>3</li><li>2</li><li>1</li></ol>\n"
      ],
      "text/latex": [
       "\\begin{enumerate*}\n",
       "\\item 5\n",
       "\\item 4\n",
       "\\item 3\n",
       "\\item 2\n",
       "\\item 1\n",
       "\\end{enumerate*}\n"
      ],
      "text/markdown": [
       "1. 5\n",
       "2. 4\n",
       "3. 3\n",
       "4. 2\n",
       "5. 1\n",
       "\n",
       "\n"
      ],
      "text/plain": [
       "[1] 5 4 3 2 1"
      ]
     },
     "metadata": {},
     "output_type": "display_data"
    }
   ],
   "source": [
    "5:1"
   ]
  },
  {
   "cell_type": "markdown",
   "metadata": {},
   "source": [
    "The function **`seq()`** is a more general facility for generating sequences. It has five arguments, only some of which may be specified in any one call. The first two arguments, if given, specify the beginning and end of the sequence, and if these are the only two arguments given the result is the same as the colon operator. That is `seq(2,10)` is the same vector as `2:10`.\n",
    "\n",
    "Arguments to seq(), and to many other R functions, can also be given in named form, in which case the order in which they appear is irrelevant. The first two arguments may be named `from=value` and `to=value`; thus `seq(1,30)`, `seq(from=1, to=30)` and `seq(to=30, from=1)` are all the same as `1:30`. \n",
    "\n",
    "The next two arguments to seq() may be named `by=value` and `length=value`, which specify a step size and a length for the sequence respectively. If neither of these is given, the default `by=1` is assumed.\n",
    "\n",
    "For example:"
   ]
  },
  {
   "cell_type": "code",
   "execution_count": 23,
   "metadata": {},
   "outputs": [
    {
     "data": {
      "text/html": [
       "<style>\n",
       ".list-inline {list-style: none; margin:0; padding: 0}\n",
       ".list-inline>li {display: inline-block}\n",
       ".list-inline>li:not(:last-child)::after {content: \"\\00b7\"; padding: 0 .5ex}\n",
       "</style>\n",
       "<ol class=list-inline><li>-1</li><li>-0.5</li><li>0</li><li>0.5</li><li>1</li></ol>\n"
      ],
      "text/latex": [
       "\\begin{enumerate*}\n",
       "\\item -1\n",
       "\\item -0.5\n",
       "\\item 0\n",
       "\\item 0.5\n",
       "\\item 1\n",
       "\\end{enumerate*}\n"
      ],
      "text/markdown": [
       "1. -1\n",
       "2. -0.5\n",
       "3. 0\n",
       "4. 0.5\n",
       "5. 1\n",
       "\n",
       "\n"
      ],
      "text/plain": [
       "[1] -1.0 -0.5  0.0  0.5  1.0"
      ]
     },
     "metadata": {},
     "output_type": "display_data"
    }
   ],
   "source": [
    "seq(from=-1, to=1, by=.5)"
   ]
  },
  {
   "cell_type": "code",
   "execution_count": 24,
   "metadata": {},
   "outputs": [
    {
     "data": {
      "text/html": [
       "<style>\n",
       ".list-inline {list-style: none; margin:0; padding: 0}\n",
       ".list-inline>li {display: inline-block}\n",
       ".list-inline>li:not(:last-child)::after {content: \"\\00b7\"; padding: 0 .5ex}\n",
       "</style>\n",
       "<ol class=list-inline><li>-1</li><li>-0.5</li><li>0</li><li>0.5</li><li>1</li></ol>\n"
      ],
      "text/latex": [
       "\\begin{enumerate*}\n",
       "\\item -1\n",
       "\\item -0.5\n",
       "\\item 0\n",
       "\\item 0.5\n",
       "\\item 1\n",
       "\\end{enumerate*}\n"
      ],
      "text/markdown": [
       "1. -1\n",
       "2. -0.5\n",
       "3. 0\n",
       "4. 0.5\n",
       "5. 1\n",
       "\n",
       "\n"
      ],
      "text/plain": [
       "[1] -1.0 -0.5  0.0  0.5  1.0"
      ]
     },
     "metadata": {},
     "output_type": "display_data"
    }
   ],
   "source": [
    "seq(length=5, from=-1, by=.5)"
   ]
  },
  {
   "cell_type": "markdown",
   "metadata": {},
   "source": [
    "A related function is **`rep()`** which can be used for replicating an object.\n",
    "\n",
    "It has two main arguments, `times` and `each`. The first tells how many copies do we want of the same object, and the second tells how many copies of each element of the object we want to repeat."
   ]
  },
  {
   "cell_type": "code",
   "execution_count": 25,
   "metadata": {},
   "outputs": [],
   "source": [
    "a = c(1, 2, 3, 4)"
   ]
  },
  {
   "cell_type": "code",
   "execution_count": 26,
   "metadata": {},
   "outputs": [
    {
     "data": {
      "text/html": [
       "<style>\n",
       ".list-inline {list-style: none; margin:0; padding: 0}\n",
       ".list-inline>li {display: inline-block}\n",
       ".list-inline>li:not(:last-child)::after {content: \"\\00b7\"; padding: 0 .5ex}\n",
       "</style>\n",
       "<ol class=list-inline><li>1</li><li>2</li><li>3</li><li>4</li><li>1</li><li>2</li><li>3</li><li>4</li><li>1</li><li>2</li><li>3</li><li>4</li></ol>\n"
      ],
      "text/latex": [
       "\\begin{enumerate*}\n",
       "\\item 1\n",
       "\\item 2\n",
       "\\item 3\n",
       "\\item 4\n",
       "\\item 1\n",
       "\\item 2\n",
       "\\item 3\n",
       "\\item 4\n",
       "\\item 1\n",
       "\\item 2\n",
       "\\item 3\n",
       "\\item 4\n",
       "\\end{enumerate*}\n"
      ],
      "text/markdown": [
       "1. 1\n",
       "2. 2\n",
       "3. 3\n",
       "4. 4\n",
       "5. 1\n",
       "6. 2\n",
       "7. 3\n",
       "8. 4\n",
       "9. 1\n",
       "10. 2\n",
       "11. 3\n",
       "12. 4\n",
       "\n",
       "\n"
      ],
      "text/plain": [
       " [1] 1 2 3 4 1 2 3 4 1 2 3 4"
      ]
     },
     "metadata": {},
     "output_type": "display_data"
    }
   ],
   "source": [
    "rep(a, times=3)"
   ]
  },
  {
   "cell_type": "code",
   "execution_count": 27,
   "metadata": {},
   "outputs": [
    {
     "data": {
      "text/html": [
       "<style>\n",
       ".list-inline {list-style: none; margin:0; padding: 0}\n",
       ".list-inline>li {display: inline-block}\n",
       ".list-inline>li:not(:last-child)::after {content: \"\\00b7\"; padding: 0 .5ex}\n",
       "</style>\n",
       "<ol class=list-inline><li>1</li><li>1</li><li>1</li><li>2</li><li>2</li><li>2</li><li>3</li><li>3</li><li>3</li><li>4</li><li>4</li><li>4</li></ol>\n"
      ],
      "text/latex": [
       "\\begin{enumerate*}\n",
       "\\item 1\n",
       "\\item 1\n",
       "\\item 1\n",
       "\\item 2\n",
       "\\item 2\n",
       "\\item 2\n",
       "\\item 3\n",
       "\\item 3\n",
       "\\item 3\n",
       "\\item 4\n",
       "\\item 4\n",
       "\\item 4\n",
       "\\end{enumerate*}\n"
      ],
      "text/markdown": [
       "1. 1\n",
       "2. 1\n",
       "3. 1\n",
       "4. 2\n",
       "5. 2\n",
       "6. 2\n",
       "7. 3\n",
       "8. 3\n",
       "9. 3\n",
       "10. 4\n",
       "11. 4\n",
       "12. 4\n",
       "\n",
       "\n"
      ],
      "text/plain": [
       " [1] 1 1 1 2 2 2 3 3 3 4 4 4"
      ]
     },
     "metadata": {},
     "output_type": "display_data"
    }
   ],
   "source": [
    "rep(a, each=3)"
   ]
  },
  {
   "cell_type": "code",
   "execution_count": 28,
   "metadata": {},
   "outputs": [
    {
     "data": {
      "text/html": [
       "<style>\n",
       ".list-inline {list-style: none; margin:0; padding: 0}\n",
       ".list-inline>li {display: inline-block}\n",
       ".list-inline>li:not(:last-child)::after {content: \"\\00b7\"; padding: 0 .5ex}\n",
       "</style>\n",
       "<ol class=list-inline><li>1</li><li>1</li><li>2</li><li>2</li><li>3</li><li>3</li><li>4</li><li>4</li><li>1</li><li>1</li><li>2</li><li>2</li><li>3</li><li>3</li><li>4</li><li>4</li><li>1</li><li>1</li><li>2</li><li>2</li><li>3</li><li>3</li><li>4</li><li>4</li></ol>\n"
      ],
      "text/latex": [
       "\\begin{enumerate*}\n",
       "\\item 1\n",
       "\\item 1\n",
       "\\item 2\n",
       "\\item 2\n",
       "\\item 3\n",
       "\\item 3\n",
       "\\item 4\n",
       "\\item 4\n",
       "\\item 1\n",
       "\\item 1\n",
       "\\item 2\n",
       "\\item 2\n",
       "\\item 3\n",
       "\\item 3\n",
       "\\item 4\n",
       "\\item 4\n",
       "\\item 1\n",
       "\\item 1\n",
       "\\item 2\n",
       "\\item 2\n",
       "\\item 3\n",
       "\\item 3\n",
       "\\item 4\n",
       "\\item 4\n",
       "\\end{enumerate*}\n"
      ],
      "text/markdown": [
       "1. 1\n",
       "2. 1\n",
       "3. 2\n",
       "4. 2\n",
       "5. 3\n",
       "6. 3\n",
       "7. 4\n",
       "8. 4\n",
       "9. 1\n",
       "10. 1\n",
       "11. 2\n",
       "12. 2\n",
       "13. 3\n",
       "14. 3\n",
       "15. 4\n",
       "16. 4\n",
       "17. 1\n",
       "18. 1\n",
       "19. 2\n",
       "20. 2\n",
       "21. 3\n",
       "22. 3\n",
       "23. 4\n",
       "24. 4\n",
       "\n",
       "\n"
      ],
      "text/plain": [
       " [1] 1 1 2 2 3 3 4 4 1 1 2 2 3 3 4 4 1 1 2 2 3 3 4 4"
      ]
     },
     "metadata": {},
     "output_type": "display_data"
    }
   ],
   "source": [
    "rep(a, times=3, each=2)"
   ]
  },
  {
   "cell_type": "markdown",
   "metadata": {},
   "source": [
    "## 5. Logical vectors\n",
    "As well as numerical vectors, R allows manipulation of logical quantities. The elements of a logical vector can have the values `TRUE`, `FALSE`, and `NA` (for “not available”). The first two are often abbreviated as `T` and `F`, respectively. Note however that `T` and `F` are just variables which are set to `TRUE` and `FALSE` by default, but are not reserved words and hence can be overwritten by the user. Hence, you should always use `TRUE` and `FALSE`.\n",
    "\n",
    "Logical vectors are generated by conditions. For example:"
   ]
  },
  {
   "cell_type": "code",
   "execution_count": 29,
   "metadata": {},
   "outputs": [
    {
     "data": {
      "text/html": [
       "<style>\n",
       ".list-inline {list-style: none; margin:0; padding: 0}\n",
       ".list-inline>li {display: inline-block}\n",
       ".list-inline>li:not(:last-child)::after {content: \"\\00b7\"; padding: 0 .5ex}\n",
       "</style>\n",
       "<ol class=list-inline><li>10.4</li><li>5.6</li><li>3.1</li><li>6.4</li><li>21.7</li></ol>\n"
      ],
      "text/latex": [
       "\\begin{enumerate*}\n",
       "\\item 10.4\n",
       "\\item 5.6\n",
       "\\item 3.1\n",
       "\\item 6.4\n",
       "\\item 21.7\n",
       "\\end{enumerate*}\n"
      ],
      "text/markdown": [
       "1. 10.4\n",
       "2. 5.6\n",
       "3. 3.1\n",
       "4. 6.4\n",
       "5. 21.7\n",
       "\n",
       "\n"
      ],
      "text/plain": [
       "[1] 10.4  5.6  3.1  6.4 21.7"
      ]
     },
     "metadata": {},
     "output_type": "display_data"
    }
   ],
   "source": [
    "x"
   ]
  },
  {
   "cell_type": "code",
   "execution_count": 30,
   "metadata": {},
   "outputs": [
    {
     "data": {
      "text/html": [
       "<style>\n",
       ".list-inline {list-style: none; margin:0; padding: 0}\n",
       ".list-inline>li {display: inline-block}\n",
       ".list-inline>li:not(:last-child)::after {content: \"\\00b7\"; padding: 0 .5ex}\n",
       "</style>\n",
       "<ol class=list-inline><li>TRUE</li><li>FALSE</li><li>FALSE</li><li>FALSE</li><li>TRUE</li></ol>\n"
      ],
      "text/latex": [
       "\\begin{enumerate*}\n",
       "\\item TRUE\n",
       "\\item FALSE\n",
       "\\item FALSE\n",
       "\\item FALSE\n",
       "\\item TRUE\n",
       "\\end{enumerate*}\n"
      ],
      "text/markdown": [
       "1. TRUE\n",
       "2. FALSE\n",
       "3. FALSE\n",
       "4. FALSE\n",
       "5. TRUE\n",
       "\n",
       "\n"
      ],
      "text/plain": [
       "[1]  TRUE FALSE FALSE FALSE  TRUE"
      ]
     },
     "metadata": {},
     "output_type": "display_data"
    }
   ],
   "source": [
    "temp = (x > 10)\n",
    "temp"
   ]
  },
  {
   "cell_type": "code",
   "execution_count": 31,
   "metadata": {},
   "outputs": [
    {
     "data": {
      "text/html": [
       "FALSE"
      ],
      "text/latex": [
       "FALSE"
      ],
      "text/markdown": [
       "FALSE"
      ],
      "text/plain": [
       "[1] FALSE"
      ]
     },
     "metadata": {},
     "output_type": "display_data"
    }
   ],
   "source": [
    "3 != 3"
   ]
  },
  {
   "cell_type": "markdown",
   "metadata": {},
   "source": [
    "sets `temp` as a vector of the same length as `x` with values `FALSE` corresponding to elements of `x` where the condition is not met and `TRUE` where it is.\n",
    "\n",
    "The logical operators are `<`, `<=`, `>`, `>=`, `==` for exact equality and `!=` for inequality. \n",
    "\n",
    "In addition, if `c1` and `c2` are logical expressions, then `c1 & c2` is their intersection (“and”), `c1 | c2` is their union (“or”), and `!c1` is the negation of c1."
   ]
  },
  {
   "cell_type": "code",
   "execution_count": 32,
   "metadata": {},
   "outputs": [
    {
     "data": {
      "text/html": [
       "<style>\n",
       ".list-inline {list-style: none; margin:0; padding: 0}\n",
       ".list-inline>li {display: inline-block}\n",
       ".list-inline>li:not(:last-child)::after {content: \"\\00b7\"; padding: 0 .5ex}\n",
       "</style>\n",
       "<ol class=list-inline><li>FALSE</li><li>TRUE</li><li>TRUE</li><li>TRUE</li><li>FALSE</li></ol>\n"
      ],
      "text/latex": [
       "\\begin{enumerate*}\n",
       "\\item FALSE\n",
       "\\item TRUE\n",
       "\\item TRUE\n",
       "\\item TRUE\n",
       "\\item FALSE\n",
       "\\end{enumerate*}\n"
      ],
      "text/markdown": [
       "1. FALSE\n",
       "2. TRUE\n",
       "3. TRUE\n",
       "4. TRUE\n",
       "5. FALSE\n",
       "\n",
       "\n"
      ],
      "text/plain": [
       "[1] FALSE  TRUE  TRUE  TRUE FALSE"
      ]
     },
     "metadata": {},
     "output_type": "display_data"
    }
   ],
   "source": [
    "temp_opposite = (x <= 10)\n",
    "temp_opposite"
   ]
  },
  {
   "cell_type": "code",
   "execution_count": 33,
   "metadata": {},
   "outputs": [
    {
     "data": {
      "text/html": [
       "<style>\n",
       ".list-inline {list-style: none; margin:0; padding: 0}\n",
       ".list-inline>li {display: inline-block}\n",
       ".list-inline>li:not(:last-child)::after {content: \"\\00b7\"; padding: 0 .5ex}\n",
       "</style>\n",
       "<ol class=list-inline><li>FALSE</li><li>TRUE</li><li>TRUE</li><li>TRUE</li><li>FALSE</li></ol>\n"
      ],
      "text/latex": [
       "\\begin{enumerate*}\n",
       "\\item FALSE\n",
       "\\item TRUE\n",
       "\\item TRUE\n",
       "\\item TRUE\n",
       "\\item FALSE\n",
       "\\end{enumerate*}\n"
      ],
      "text/markdown": [
       "1. FALSE\n",
       "2. TRUE\n",
       "3. TRUE\n",
       "4. TRUE\n",
       "5. FALSE\n",
       "\n",
       "\n"
      ],
      "text/plain": [
       "[1] FALSE  TRUE  TRUE  TRUE FALSE"
      ]
     },
     "metadata": {},
     "output_type": "display_data"
    }
   ],
   "source": [
    "!temp"
   ]
  },
  {
   "cell_type": "code",
   "execution_count": 34,
   "metadata": {},
   "outputs": [
    {
     "data": {
      "text/html": [
       "<style>\n",
       ".list-inline {list-style: none; margin:0; padding: 0}\n",
       ".list-inline>li {display: inline-block}\n",
       ".list-inline>li:not(:last-child)::after {content: \"\\00b7\"; padding: 0 .5ex}\n",
       "</style>\n",
       "<ol class=list-inline><li>FALSE</li><li>FALSE</li><li>FALSE</li><li>FALSE</li><li>FALSE</li></ol>\n"
      ],
      "text/latex": [
       "\\begin{enumerate*}\n",
       "\\item FALSE\n",
       "\\item FALSE\n",
       "\\item FALSE\n",
       "\\item FALSE\n",
       "\\item FALSE\n",
       "\\end{enumerate*}\n"
      ],
      "text/markdown": [
       "1. FALSE\n",
       "2. FALSE\n",
       "3. FALSE\n",
       "4. FALSE\n",
       "5. FALSE\n",
       "\n",
       "\n"
      ],
      "text/plain": [
       "[1] FALSE FALSE FALSE FALSE FALSE"
      ]
     },
     "metadata": {},
     "output_type": "display_data"
    }
   ],
   "source": [
    "temp & temp_opposite"
   ]
  },
  {
   "cell_type": "code",
   "execution_count": 35,
   "metadata": {},
   "outputs": [
    {
     "data": {
      "text/html": [
       "<style>\n",
       ".list-inline {list-style: none; margin:0; padding: 0}\n",
       ".list-inline>li {display: inline-block}\n",
       ".list-inline>li:not(:last-child)::after {content: \"\\00b7\"; padding: 0 .5ex}\n",
       "</style>\n",
       "<ol class=list-inline><li>TRUE</li><li>TRUE</li><li>TRUE</li><li>TRUE</li><li>TRUE</li></ol>\n"
      ],
      "text/latex": [
       "\\begin{enumerate*}\n",
       "\\item TRUE\n",
       "\\item TRUE\n",
       "\\item TRUE\n",
       "\\item TRUE\n",
       "\\item TRUE\n",
       "\\end{enumerate*}\n"
      ],
      "text/markdown": [
       "1. TRUE\n",
       "2. TRUE\n",
       "3. TRUE\n",
       "4. TRUE\n",
       "5. TRUE\n",
       "\n",
       "\n"
      ],
      "text/plain": [
       "[1] TRUE TRUE TRUE TRUE TRUE"
      ]
     },
     "metadata": {},
     "output_type": "display_data"
    }
   ],
   "source": [
    "temp | temp_opposite"
   ]
  },
  {
   "cell_type": "markdown",
   "metadata": {},
   "source": [
    "Logical vectors may be used in **ordinary arithmetic**, in which case they are coerced into numeric vectors, `FALSE` becoming 0 and `TRUE` becoming 1. However, there are situations where logical vectors and their coerced numeric counterparts are not equivalent, for example see the next subsection."
   ]
  },
  {
   "cell_type": "code",
   "execution_count": 36,
   "metadata": {},
   "outputs": [
    {
     "data": {
      "text/html": [
       "2"
      ],
      "text/latex": [
       "2"
      ],
      "text/markdown": [
       "2"
      ],
      "text/plain": [
       "[1] 2"
      ]
     },
     "metadata": {},
     "output_type": "display_data"
    }
   ],
   "source": [
    "sum(temp)"
   ]
  },
  {
   "cell_type": "code",
   "execution_count": 37,
   "metadata": {},
   "outputs": [
    {
     "data": {
      "text/html": [
       "0.4"
      ],
      "text/latex": [
       "0.4"
      ],
      "text/markdown": [
       "0.4"
      ],
      "text/plain": [
       "[1] 0.4"
      ]
     },
     "metadata": {},
     "output_type": "display_data"
    }
   ],
   "source": [
    "mean(temp)"
   ]
  },
  {
   "cell_type": "markdown",
   "metadata": {},
   "source": [
    "## 6. Missing values\n",
    "In some cases the components of a vector may not be completely known. When an element or value is “not available” or a “missing value” in the statistical sense, a place within a vector may be reserved for it by assigning it the special value `NA`. In general, any operation on an `NA` becomes an `NA`. The motivation for this rule is simply that if the specification of an operation is incomplete, the result cannot be known and hence is not available.\n",
    "\n",
    "The function `is.na(x)` gives a logical vector of the same size as `x` with value `TRUE` if and only if the corresponding element in `x` is `NA`."
   ]
  },
  {
   "cell_type": "code",
   "execution_count": 38,
   "metadata": {},
   "outputs": [],
   "source": [
    "z = c(1:3, NA)\n",
    "ind = is.na(z)"
   ]
  },
  {
   "cell_type": "code",
   "execution_count": 39,
   "metadata": {},
   "outputs": [
    {
     "data": {
      "text/html": [
       "<style>\n",
       ".list-inline {list-style: none; margin:0; padding: 0}\n",
       ".list-inline>li {display: inline-block}\n",
       ".list-inline>li:not(:last-child)::after {content: \"\\00b7\"; padding: 0 .5ex}\n",
       "</style>\n",
       "<ol class=list-inline><li>1</li><li>2</li><li>3</li><li>&lt;NA&gt;</li></ol>\n"
      ],
      "text/latex": [
       "\\begin{enumerate*}\n",
       "\\item 1\n",
       "\\item 2\n",
       "\\item 3\n",
       "\\item <NA>\n",
       "\\end{enumerate*}\n"
      ],
      "text/markdown": [
       "1. 1\n",
       "2. 2\n",
       "3. 3\n",
       "4. &lt;NA&gt;\n",
       "\n",
       "\n"
      ],
      "text/plain": [
       "[1]  1  2  3 NA"
      ]
     },
     "metadata": {},
     "output_type": "display_data"
    }
   ],
   "source": [
    "z"
   ]
  },
  {
   "cell_type": "code",
   "execution_count": 40,
   "metadata": {},
   "outputs": [
    {
     "data": {
      "text/html": [
       "<style>\n",
       ".list-inline {list-style: none; margin:0; padding: 0}\n",
       ".list-inline>li {display: inline-block}\n",
       ".list-inline>li:not(:last-child)::after {content: \"\\00b7\"; padding: 0 .5ex}\n",
       "</style>\n",
       "<ol class=list-inline><li>FALSE</li><li>FALSE</li><li>FALSE</li><li>TRUE</li></ol>\n"
      ],
      "text/latex": [
       "\\begin{enumerate*}\n",
       "\\item FALSE\n",
       "\\item FALSE\n",
       "\\item FALSE\n",
       "\\item TRUE\n",
       "\\end{enumerate*}\n"
      ],
      "text/markdown": [
       "1. FALSE\n",
       "2. FALSE\n",
       "3. FALSE\n",
       "4. TRUE\n",
       "\n",
       "\n"
      ],
      "text/plain": [
       "[1] FALSE FALSE FALSE  TRUE"
      ]
     },
     "metadata": {},
     "output_type": "display_data"
    }
   ],
   "source": [
    "ind"
   ]
  },
  {
   "cell_type": "markdown",
   "metadata": {},
   "source": [
    "Note that there is a second kind of \"missing\" values which are produced by numerical computation, the so-called Not a Number, `NaN`, values. Examples are:"
   ]
  },
  {
   "cell_type": "code",
   "execution_count": 41,
   "metadata": {},
   "outputs": [
    {
     "data": {
      "text/html": [
       "NaN"
      ],
      "text/latex": [
       "NaN"
      ],
      "text/markdown": [
       "NaN"
      ],
      "text/plain": [
       "[1] NaN"
      ]
     },
     "metadata": {},
     "output_type": "display_data"
    }
   ],
   "source": [
    "0/0"
   ]
  },
  {
   "cell_type": "code",
   "execution_count": 42,
   "metadata": {},
   "outputs": [
    {
     "data": {
      "text/html": [
       "Inf"
      ],
      "text/latex": [
       "Inf"
      ],
      "text/markdown": [
       "Inf"
      ],
      "text/plain": [
       "[1] Inf"
      ]
     },
     "metadata": {},
     "output_type": "display_data"
    }
   ],
   "source": [
    "30/0"
   ]
  },
  {
   "cell_type": "code",
   "execution_count": 43,
   "metadata": {},
   "outputs": [
    {
     "data": {
      "text/html": [
       "NaN"
      ],
      "text/latex": [
       "NaN"
      ],
      "text/markdown": [
       "NaN"
      ],
      "text/plain": [
       "[1] NaN"
      ]
     },
     "metadata": {},
     "output_type": "display_data"
    }
   ],
   "source": [
    "30/0 - 30/0"
   ]
  },
  {
   "cell_type": "markdown",
   "metadata": {},
   "source": [
    "which give `NaN` since the result cannot be defined sensibly.\n",
    "\n",
    "In summary, `is.na(xx)` is `TRUE` both for `NA` and `NaN` values. To differentiate these, `is.nan(xx)` is only `TRUE` for `NaNs`."
   ]
  },
  {
   "cell_type": "markdown",
   "metadata": {},
   "source": [
    "## 7. Character vectors\n",
    "Character quantities and character vectors are used frequently in R, for example as plot labels. Where needed they are denoted by a sequence of characters delimited by the double quote character, e.g., \"x-values\", \"New iteration results\".\n",
    "\n",
    "Character strings are entered using either matching double (\") or single (') quotes, but are printed using double quotes (or sometimes without quotes). Useful escape sequences are `\\n`, newline and `\\t`, tab.\n",
    "\n",
    "Character vectors may be concatenated into a vector by the `c()` function."
   ]
  },
  {
   "cell_type": "code",
   "execution_count": 44,
   "metadata": {},
   "outputs": [
    {
     "data": {
      "text/html": [
       "<style>\n",
       ".list-inline {list-style: none; margin:0; padding: 0}\n",
       ".list-inline>li {display: inline-block}\n",
       ".list-inline>li:not(:last-child)::after {content: \"\\00b7\"; padding: 0 .5ex}\n",
       "</style>\n",
       "<ol class=list-inline><li>'a'</li><li>'b'</li><li>'c'</li><li>'E'</li><li>'F'</li><li>'G'</li></ol>\n"
      ],
      "text/latex": [
       "\\begin{enumerate*}\n",
       "\\item 'a'\n",
       "\\item 'b'\n",
       "\\item 'c'\n",
       "\\item 'E'\n",
       "\\item 'F'\n",
       "\\item 'G'\n",
       "\\end{enumerate*}\n"
      ],
      "text/markdown": [
       "1. 'a'\n",
       "2. 'b'\n",
       "3. 'c'\n",
       "4. 'E'\n",
       "5. 'F'\n",
       "6. 'G'\n",
       "\n",
       "\n"
      ],
      "text/plain": [
       "[1] \"a\" \"b\" \"c\" \"E\" \"F\" \"G\""
      ]
     },
     "metadata": {},
     "output_type": "display_data"
    }
   ],
   "source": [
    "char_first = c('a', 'b', 'c')\n",
    "char_second = c('E', 'F', 'G')\n",
    "\n",
    "char_third = c(char_first, char_second)\n",
    "char_third"
   ]
  },
  {
   "cell_type": "code",
   "execution_count": 45,
   "metadata": {},
   "outputs": [
    {
     "name": "stdout",
     "output_type": "stream",
     "text": [
      "[1] \"This is the assginmenet of Laura Fontanesi.\\nIt was done on the 9th of March.\"\n"
     ]
    }
   ],
   "source": [
    "print(\"This is the assginmenet of Laura Fontanesi.\\nIt was done on the 9th of March.\")"
   ]
  },
  {
   "cell_type": "code",
   "execution_count": 46,
   "metadata": {},
   "outputs": [
    {
     "name": "stdout",
     "output_type": "stream",
     "text": [
      "This is the assginmenet of Laura Fontanesi.\n",
      "It was done on the 9th of March."
     ]
    }
   ],
   "source": [
    "cat(\"This is the assginmenet of Laura Fontanesi.\\nIt was done on the 9th of March.\")"
   ]
  },
  {
   "cell_type": "code",
   "execution_count": 47,
   "metadata": {},
   "outputs": [
    {
     "name": "stdout",
     "output_type": "stream",
     "text": [
      "This is the assginmenet of Laura Fontanesi.\n",
      "\tIt was done on the 9th of March."
     ]
    }
   ],
   "source": [
    "cat(\"This is the assginmenet of Laura Fontanesi.\\n\\tIt was done on the 9th of March.\")"
   ]
  },
  {
   "cell_type": "markdown",
   "metadata": {},
   "source": [
    "The **`paste()`** function takes an arbitrary number of arguments and concatenates them one by one into character strings. Any numbers given among the arguments are coerced into character strings in the evident way, that is, in the same way they would be if they were printed. The arguments are by default separated in the result by a single blank character, but this can be changed by the named argument, `sep=string`, which changes it to string, possibly empty.\n",
    "\n",
    "For example:"
   ]
  },
  {
   "cell_type": "code",
   "execution_count": 48,
   "metadata": {},
   "outputs": [
    {
     "data": {
      "text/html": [
       "<style>\n",
       ".list-inline {list-style: none; margin:0; padding: 0}\n",
       ".list-inline>li {display: inline-block}\n",
       ".list-inline>li:not(:last-child)::after {content: \"\\00b7\"; padding: 0 .5ex}\n",
       "</style>\n",
       "<ol class=list-inline><li>'X-1'</li><li>'Y-2'</li><li>'X-3'</li><li>'Y-4'</li><li>'X-5'</li><li>'Y-6'</li><li>'X-7'</li><li>'Y-8'</li><li>'X-9'</li><li>'Y-10'</li></ol>\n"
      ],
      "text/latex": [
       "\\begin{enumerate*}\n",
       "\\item 'X-1'\n",
       "\\item 'Y-2'\n",
       "\\item 'X-3'\n",
       "\\item 'Y-4'\n",
       "\\item 'X-5'\n",
       "\\item 'Y-6'\n",
       "\\item 'X-7'\n",
       "\\item 'Y-8'\n",
       "\\item 'X-9'\n",
       "\\item 'Y-10'\n",
       "\\end{enumerate*}\n"
      ],
      "text/markdown": [
       "1. 'X-1'\n",
       "2. 'Y-2'\n",
       "3. 'X-3'\n",
       "4. 'Y-4'\n",
       "5. 'X-5'\n",
       "6. 'Y-6'\n",
       "7. 'X-7'\n",
       "8. 'Y-8'\n",
       "9. 'X-9'\n",
       "10. 'Y-10'\n",
       "\n",
       "\n"
      ],
      "text/plain": [
       " [1] \"X-1\"  \"Y-2\"  \"X-3\"  \"Y-4\"  \"X-5\"  \"Y-6\"  \"X-7\"  \"Y-8\"  \"X-9\"  \"Y-10\""
      ]
     },
     "metadata": {},
     "output_type": "display_data"
    }
   ],
   "source": [
    "labs = paste(c(\"X\", \"Y\"), 1:10, sep=\"-\")\n",
    "labs"
   ]
  },
  {
   "cell_type": "markdown",
   "metadata": {},
   "source": [
    "Note particularly that recycling of short lists takes place here too; thus `c(\"X\", \"Y\")` is repeated 5 times to match the sequence `1:10`."
   ]
  },
  {
   "cell_type": "markdown",
   "metadata": {},
   "source": [
    "## 8. Index vectors\n",
    "Subsets of the elements of a vector may be selected by appending to the name of the vector an index vector in square brackets. More generally, any expression that evaluates to a vector may have subsets of its elements similarly selected by appending an index vector in square brackets immediately after the expression.\n",
    "\n",
    "Such index vectors can be any of 3 main types:\n",
    "\n",
    "#### 8.1 A logical vector. \n",
    "In this case the index vector is recycled to the same length as the vector from which elements are to be selected. Values corresponding to `TRUE` in the index vector are selected and those corresponding to `FALSE` are omitted. For example:"
   ]
  },
  {
   "cell_type": "code",
   "execution_count": 49,
   "metadata": {},
   "outputs": [
    {
     "data": {
      "text/html": [
       "<style>\n",
       ".list-inline {list-style: none; margin:0; padding: 0}\n",
       ".list-inline>li {display: inline-block}\n",
       ".list-inline>li:not(:last-child)::after {content: \"\\00b7\"; padding: 0 .5ex}\n",
       "</style>\n",
       "<ol class=list-inline><li>1</li><li>2</li><li>3</li><li>&lt;NA&gt;</li></ol>\n"
      ],
      "text/latex": [
       "\\begin{enumerate*}\n",
       "\\item 1\n",
       "\\item 2\n",
       "\\item 3\n",
       "\\item <NA>\n",
       "\\end{enumerate*}\n"
      ],
      "text/markdown": [
       "1. 1\n",
       "2. 2\n",
       "3. 3\n",
       "4. &lt;NA&gt;\n",
       "\n",
       "\n"
      ],
      "text/plain": [
       "[1]  1  2  3 NA"
      ]
     },
     "metadata": {},
     "output_type": "display_data"
    }
   ],
   "source": [
    "z"
   ]
  },
  {
   "cell_type": "code",
   "execution_count": 50,
   "metadata": {},
   "outputs": [
    {
     "data": {
      "text/html": [
       "<style>\n",
       ".list-inline {list-style: none; margin:0; padding: 0}\n",
       ".list-inline>li {display: inline-block}\n",
       ".list-inline>li:not(:last-child)::after {content: \"\\00b7\"; padding: 0 .5ex}\n",
       "</style>\n",
       "<ol class=list-inline><li>TRUE</li><li>TRUE</li><li>TRUE</li><li>FALSE</li></ol>\n"
      ],
      "text/latex": [
       "\\begin{enumerate*}\n",
       "\\item TRUE\n",
       "\\item TRUE\n",
       "\\item TRUE\n",
       "\\item FALSE\n",
       "\\end{enumerate*}\n"
      ],
      "text/markdown": [
       "1. TRUE\n",
       "2. TRUE\n",
       "3. TRUE\n",
       "4. FALSE\n",
       "\n",
       "\n"
      ],
      "text/plain": [
       "[1]  TRUE  TRUE  TRUE FALSE"
      ]
     },
     "metadata": {},
     "output_type": "display_data"
    }
   ],
   "source": [
    "!is.na(z)"
   ]
  },
  {
   "cell_type": "code",
   "execution_count": 51,
   "metadata": {},
   "outputs": [
    {
     "data": {
      "text/html": [
       "<style>\n",
       ".list-inline {list-style: none; margin:0; padding: 0}\n",
       ".list-inline>li {display: inline-block}\n",
       ".list-inline>li:not(:last-child)::after {content: \"\\00b7\"; padding: 0 .5ex}\n",
       "</style>\n",
       "<ol class=list-inline><li>1</li><li>2</li><li>3</li></ol>\n"
      ],
      "text/latex": [
       "\\begin{enumerate*}\n",
       "\\item 1\n",
       "\\item 2\n",
       "\\item 3\n",
       "\\end{enumerate*}\n"
      ],
      "text/markdown": [
       "1. 1\n",
       "2. 2\n",
       "3. 3\n",
       "\n",
       "\n"
      ],
      "text/plain": [
       "[1] 1 2 3"
      ]
     },
     "metadata": {},
     "output_type": "display_data"
    }
   ],
   "source": [
    "y = z[!is.na(z)]\n",
    "y"
   ]
  },
  {
   "cell_type": "markdown",
   "metadata": {},
   "source": [
    "creates (or re-creates) an object `y` which will contain the non-missing values of `z`, in the same order. Note that if `z` has missing values, `y` will be shorter than `z`. \n",
    "\n",
    "Also:"
   ]
  },
  {
   "cell_type": "code",
   "execution_count": 52,
   "metadata": {},
   "outputs": [
    {
     "data": {
      "text/html": [
       "<style>\n",
       ".list-inline {list-style: none; margin:0; padding: 0}\n",
       ".list-inline>li {display: inline-block}\n",
       ".list-inline>li:not(:last-child)::after {content: \"\\00b7\"; padding: 0 .5ex}\n",
       "</style>\n",
       "<ol class=list-inline><li>3</li><li>4</li></ol>\n"
      ],
      "text/latex": [
       "\\begin{enumerate*}\n",
       "\\item 3\n",
       "\\item 4\n",
       "\\end{enumerate*}\n"
      ],
      "text/markdown": [
       "1. 3\n",
       "2. 4\n",
       "\n",
       "\n"
      ],
      "text/plain": [
       "[1] 3 4"
      ]
     },
     "metadata": {},
     "output_type": "display_data"
    }
   ],
   "source": [
    "y = (z+1)[(!is.na(z)) & z>1]\n",
    "y"
   ]
  },
  {
   "cell_type": "markdown",
   "metadata": {},
   "source": [
    "creates an object `y` and places in it the values of the vector `z+1` for which the corresponding value in `z` was both non-missing and positive."
   ]
  },
  {
   "cell_type": "markdown",
   "metadata": {},
   "source": [
    "#### 8.2 A vector of positive integral quantities\n",
    "In this case, the values in the index vector must lie in the set {1, 2, . . ., `length(x)`}. The corresponding elements of the vector are selected and concatenated, in that order, in the result. \n",
    "\n",
    "The index vector can be of any length and the result is of the same length as the index vector. \n",
    "\n",
    "For example `x[6]` is the sixth component of `x` and `x[1:10]` selects the first 10 elements of `x` (assuming `length(x)` is not less than 10). \n",
    "\n",
    "Also:"
   ]
  },
  {
   "cell_type": "code",
   "execution_count": 53,
   "metadata": {},
   "outputs": [
    {
     "data": {
      "text/html": [
       "4"
      ],
      "text/latex": [
       "4"
      ],
      "text/markdown": [
       "4"
      ],
      "text/plain": [
       "[1] 4"
      ]
     },
     "metadata": {},
     "output_type": "display_data"
    }
   ],
   "source": [
    "c(12, 4, 67)[2]"
   ]
  },
  {
   "cell_type": "code",
   "execution_count": 54,
   "metadata": {},
   "outputs": [
    {
     "data": {
      "text/html": [
       "<style>\n",
       ".list-inline {list-style: none; margin:0; padding: 0}\n",
       ".list-inline>li {display: inline-block}\n",
       ".list-inline>li:not(:last-child)::after {content: \"\\00b7\"; padding: 0 .5ex}\n",
       "</style>\n",
       "<ol class=list-inline><li>1</li><li>2</li><li>2</li><li>1</li><li>1</li><li>2</li><li>2</li><li>1</li><li>1</li><li>2</li><li>2</li><li>1</li></ol>\n"
      ],
      "text/latex": [
       "\\begin{enumerate*}\n",
       "\\item 1\n",
       "\\item 2\n",
       "\\item 2\n",
       "\\item 1\n",
       "\\item 1\n",
       "\\item 2\n",
       "\\item 2\n",
       "\\item 1\n",
       "\\item 1\n",
       "\\item 2\n",
       "\\item 2\n",
       "\\item 1\n",
       "\\end{enumerate*}\n"
      ],
      "text/markdown": [
       "1. 1\n",
       "2. 2\n",
       "3. 2\n",
       "4. 1\n",
       "5. 1\n",
       "6. 2\n",
       "7. 2\n",
       "8. 1\n",
       "9. 1\n",
       "10. 2\n",
       "11. 2\n",
       "12. 1\n",
       "\n",
       "\n"
      ],
      "text/plain": [
       " [1] 1 2 2 1 1 2 2 1 1 2 2 1"
      ]
     },
     "metadata": {},
     "output_type": "display_data"
    }
   ],
   "source": [
    "weird_indices = rep(c(1,2,2,1), times=3)\n",
    "weird_indices"
   ]
  },
  {
   "cell_type": "code",
   "execution_count": 55,
   "metadata": {},
   "outputs": [
    {
     "data": {
      "text/html": [
       "<style>\n",
       ".list-inline {list-style: none; margin:0; padding: 0}\n",
       ".list-inline>li {display: inline-block}\n",
       ".list-inline>li:not(:last-child)::after {content: \"\\00b7\"; padding: 0 .5ex}\n",
       "</style>\n",
       "<ol class=list-inline><li>'x'</li><li>'y'</li><li>'y'</li><li>'x'</li><li>'x'</li><li>'y'</li><li>'y'</li><li>'x'</li><li>'x'</li><li>'y'</li><li>'y'</li><li>'x'</li></ol>\n"
      ],
      "text/latex": [
       "\\begin{enumerate*}\n",
       "\\item 'x'\n",
       "\\item 'y'\n",
       "\\item 'y'\n",
       "\\item 'x'\n",
       "\\item 'x'\n",
       "\\item 'y'\n",
       "\\item 'y'\n",
       "\\item 'x'\n",
       "\\item 'x'\n",
       "\\item 'y'\n",
       "\\item 'y'\n",
       "\\item 'x'\n",
       "\\end{enumerate*}\n"
      ],
      "text/markdown": [
       "1. 'x'\n",
       "2. 'y'\n",
       "3. 'y'\n",
       "4. 'x'\n",
       "5. 'x'\n",
       "6. 'y'\n",
       "7. 'y'\n",
       "8. 'x'\n",
       "9. 'x'\n",
       "10. 'y'\n",
       "11. 'y'\n",
       "12. 'x'\n",
       "\n",
       "\n"
      ],
      "text/plain": [
       " [1] \"x\" \"y\" \"y\" \"x\" \"x\" \"y\" \"y\" \"x\" \"x\" \"y\" \"y\" \"x\""
      ]
     },
     "metadata": {},
     "output_type": "display_data"
    }
   ],
   "source": [
    "c(\"x\",\"y\")[weird_indices]"
   ]
  },
  {
   "cell_type": "markdown",
   "metadata": {},
   "source": [
    "(an admittedly unlikely thing to do) produces a character vector of length 12 consisting of \"x\", \"y\", \"y\", \"x\" repeated 3 times."
   ]
  },
  {
   "cell_type": "markdown",
   "metadata": {},
   "source": [
    "Or, more likely:"
   ]
  },
  {
   "cell_type": "code",
   "execution_count": 56,
   "metadata": {},
   "outputs": [
    {
     "data": {
      "text/html": [
       "<style>\n",
       ".list-inline {list-style: none; margin:0; padding: 0}\n",
       ".list-inline>li {display: inline-block}\n",
       ".list-inline>li:not(:last-child)::after {content: \"\\00b7\"; padding: 0 .5ex}\n",
       "</style>\n",
       "<ol class=list-inline><li>-3</li><li>-2</li><li>-1</li><li>0</li><li>1</li><li>2</li><li>3</li></ol>\n"
      ],
      "text/latex": [
       "\\begin{enumerate*}\n",
       "\\item -3\n",
       "\\item -2\n",
       "\\item -1\n",
       "\\item 0\n",
       "\\item 1\n",
       "\\item 2\n",
       "\\item 3\n",
       "\\end{enumerate*}\n"
      ],
      "text/markdown": [
       "1. -3\n",
       "2. -2\n",
       "3. -1\n",
       "4. 0\n",
       "5. 1\n",
       "6. 2\n",
       "7. 3\n",
       "\n",
       "\n"
      ],
      "text/plain": [
       "[1] -3 -2 -1  0  1  2  3"
      ]
     },
     "metadata": {},
     "output_type": "display_data"
    }
   ],
   "source": [
    "x = seq(from=-3, to=3, by=1)\n",
    "x"
   ]
  },
  {
   "cell_type": "code",
   "execution_count": 57,
   "metadata": {},
   "outputs": [
    {
     "data": {
      "text/html": [
       "<style>\n",
       ".list-inline {list-style: none; margin:0; padding: 0}\n",
       ".list-inline>li {display: inline-block}\n",
       ".list-inline>li:not(:last-child)::after {content: \"\\00b7\"; padding: 0 .5ex}\n",
       "</style>\n",
       "<ol class=list-inline><li>-3</li><li>3</li></ol>\n"
      ],
      "text/latex": [
       "\\begin{enumerate*}\n",
       "\\item -3\n",
       "\\item 3\n",
       "\\end{enumerate*}\n"
      ],
      "text/markdown": [
       "1. -3\n",
       "2. 3\n",
       "\n",
       "\n"
      ],
      "text/plain": [
       "[1] -3  3"
      ]
     },
     "metadata": {},
     "output_type": "display_data"
    }
   ],
   "source": [
    "x[c(1, length(x))]"
   ]
  },
  {
   "cell_type": "markdown",
   "metadata": {},
   "source": [
    "To get the first and last elements of `x`."
   ]
  },
  {
   "cell_type": "markdown",
   "metadata": {},
   "source": [
    "#### 8.3 A vector of negative integral quantities.\n",
    "Such an index vector specifies the values to be excluded rather than included. Thus:"
   ]
  },
  {
   "cell_type": "code",
   "execution_count": 58,
   "metadata": {},
   "outputs": [
    {
     "data": {
      "text/html": [
       "<style>\n",
       ".list-inline {list-style: none; margin:0; padding: 0}\n",
       ".list-inline>li {display: inline-block}\n",
       ".list-inline>li:not(:last-child)::after {content: \"\\00b7\"; padding: 0 .5ex}\n",
       "</style>\n",
       "<ol class=list-inline><li>0</li><li>1</li><li>2</li><li>3</li></ol>\n"
      ],
      "text/latex": [
       "\\begin{enumerate*}\n",
       "\\item 0\n",
       "\\item 1\n",
       "\\item 2\n",
       "\\item 3\n",
       "\\end{enumerate*}\n"
      ],
      "text/markdown": [
       "1. 0\n",
       "2. 1\n",
       "3. 2\n",
       "4. 3\n",
       "\n",
       "\n"
      ],
      "text/plain": [
       "[1] 0 1 2 3"
      ]
     },
     "metadata": {},
     "output_type": "display_data"
    }
   ],
   "source": [
    "x[-(1:3)]"
   ]
  },
  {
   "cell_type": "markdown",
   "metadata": {},
   "source": [
    "gives all but the first 3 elements of `x`."
   ]
  },
  {
   "cell_type": "markdown",
   "metadata": {},
   "source": [
    "## 9. Factors\n",
    "A factor is a vector object used to specify a discrete classification (grouping) of the components of other vectors of the same length. R provides both ordered and unordered factors. While the \"real\" application of factors is with model formulae (we will see this when fitting regressions, ANOVAs, etc.), we here look at a specific example.\n",
    "\n",
    "Suppose, for example, we have a sample of 30 tax accountants from all the states and territories of Australia and their individual state of origin is specified by a character vector of state mnemonics as:"
   ]
  },
  {
   "cell_type": "code",
   "execution_count": 59,
   "metadata": {},
   "outputs": [],
   "source": [
    "state = c(\"tas\", \"sa\", \"qld\", \"nsw\", \"nsw\", \"nt\", \"wa\", \n",
    "          \"wa\", \"qld\", \"vic\", \"nsw\", \"vic\", \"qld\", \"qld\", \n",
    "          \"sa\", \"tas\", \"sa\", \"nt\", \"wa\", \"vic\", \"qld\", \"nsw\", \n",
    "          \"nsw\", \"wa\", \"sa\", \"act\", \"nsw\", \"vic\", \"vic\", \"act\")"
   ]
  },
  {
   "cell_type": "code",
   "execution_count": 60,
   "metadata": {},
   "outputs": [
    {
     "data": {
      "text/html": [
       "<style>\n",
       ".list-inline {list-style: none; margin:0; padding: 0}\n",
       ".list-inline>li {display: inline-block}\n",
       ".list-inline>li:not(:last-child)::after {content: \"\\00b7\"; padding: 0 .5ex}\n",
       "</style>\n",
       "<ol class=list-inline><li>'act'</li><li>'act'</li><li>'nsw'</li><li>'nsw'</li><li>'nsw'</li><li>'nsw'</li><li>'nsw'</li><li>'nsw'</li><li>'nt'</li><li>'nt'</li><li>'qld'</li><li>'qld'</li><li>'qld'</li><li>'qld'</li><li>'qld'</li><li>'sa'</li><li>'sa'</li><li>'sa'</li><li>'sa'</li><li>'tas'</li><li>'tas'</li><li>'vic'</li><li>'vic'</li><li>'vic'</li><li>'vic'</li><li>'vic'</li><li>'wa'</li><li>'wa'</li><li>'wa'</li><li>'wa'</li></ol>\n"
      ],
      "text/latex": [
       "\\begin{enumerate*}\n",
       "\\item 'act'\n",
       "\\item 'act'\n",
       "\\item 'nsw'\n",
       "\\item 'nsw'\n",
       "\\item 'nsw'\n",
       "\\item 'nsw'\n",
       "\\item 'nsw'\n",
       "\\item 'nsw'\n",
       "\\item 'nt'\n",
       "\\item 'nt'\n",
       "\\item 'qld'\n",
       "\\item 'qld'\n",
       "\\item 'qld'\n",
       "\\item 'qld'\n",
       "\\item 'qld'\n",
       "\\item 'sa'\n",
       "\\item 'sa'\n",
       "\\item 'sa'\n",
       "\\item 'sa'\n",
       "\\item 'tas'\n",
       "\\item 'tas'\n",
       "\\item 'vic'\n",
       "\\item 'vic'\n",
       "\\item 'vic'\n",
       "\\item 'vic'\n",
       "\\item 'vic'\n",
       "\\item 'wa'\n",
       "\\item 'wa'\n",
       "\\item 'wa'\n",
       "\\item 'wa'\n",
       "\\end{enumerate*}\n"
      ],
      "text/markdown": [
       "1. 'act'\n",
       "2. 'act'\n",
       "3. 'nsw'\n",
       "4. 'nsw'\n",
       "5. 'nsw'\n",
       "6. 'nsw'\n",
       "7. 'nsw'\n",
       "8. 'nsw'\n",
       "9. 'nt'\n",
       "10. 'nt'\n",
       "11. 'qld'\n",
       "12. 'qld'\n",
       "13. 'qld'\n",
       "14. 'qld'\n",
       "15. 'qld'\n",
       "16. 'sa'\n",
       "17. 'sa'\n",
       "18. 'sa'\n",
       "19. 'sa'\n",
       "20. 'tas'\n",
       "21. 'tas'\n",
       "22. 'vic'\n",
       "23. 'vic'\n",
       "24. 'vic'\n",
       "25. 'vic'\n",
       "26. 'vic'\n",
       "27. 'wa'\n",
       "28. 'wa'\n",
       "29. 'wa'\n",
       "30. 'wa'\n",
       "\n",
       "\n"
      ],
      "text/plain": [
       " [1] \"act\" \"act\" \"nsw\" \"nsw\" \"nsw\" \"nsw\" \"nsw\" \"nsw\" \"nt\"  \"nt\"  \"qld\" \"qld\"\n",
       "[13] \"qld\" \"qld\" \"qld\" \"sa\"  \"sa\"  \"sa\"  \"sa\"  \"tas\" \"tas\" \"vic\" \"vic\" \"vic\"\n",
       "[25] \"vic\" \"vic\" \"wa\"  \"wa\"  \"wa\"  \"wa\" "
      ]
     },
     "metadata": {},
     "output_type": "display_data"
    }
   ],
   "source": [
    "sort(state)"
   ]
  },
  {
   "cell_type": "markdown",
   "metadata": {},
   "source": [
    "Notice that in the case of a character vector, \"sorted\" means sorted in alphabetical order. \n",
    "\n",
    "A factor is similarly created using the `factor()` function:"
   ]
  },
  {
   "cell_type": "code",
   "execution_count": 61,
   "metadata": {},
   "outputs": [],
   "source": [
    "state_factor = factor(state)"
   ]
  },
  {
   "cell_type": "code",
   "execution_count": 62,
   "metadata": {},
   "outputs": [
    {
     "data": {
      "text/html": [
       "<style>\n",
       ".list-inline {list-style: none; margin:0; padding: 0}\n",
       ".list-inline>li {display: inline-block}\n",
       ".list-inline>li:not(:last-child)::after {content: \"\\00b7\"; padding: 0 .5ex}\n",
       "</style>\n",
       "<ol class=list-inline><li>tas</li><li>sa</li><li>qld</li><li>nsw</li><li>nsw</li><li>nt</li><li>wa</li><li>wa</li><li>qld</li><li>vic</li><li>nsw</li><li>vic</li><li>qld</li><li>qld</li><li>sa</li><li>tas</li><li>sa</li><li>nt</li><li>wa</li><li>vic</li><li>qld</li><li>nsw</li><li>nsw</li><li>wa</li><li>sa</li><li>act</li><li>nsw</li><li>vic</li><li>vic</li><li>act</li></ol>\n",
       "\n",
       "<details>\n",
       "\t<summary style=display:list-item;cursor:pointer>\n",
       "\t\t<strong>Levels</strong>:\n",
       "\t</summary>\n",
       "\t<style>\n",
       "\t.list-inline {list-style: none; margin:0; padding: 0}\n",
       "\t.list-inline>li {display: inline-block}\n",
       "\t.list-inline>li:not(:last-child)::after {content: \"\\00b7\"; padding: 0 .5ex}\n",
       "\t</style>\n",
       "\t<ol class=list-inline><li>'act'</li><li>'nsw'</li><li>'nt'</li><li>'qld'</li><li>'sa'</li><li>'tas'</li><li>'vic'</li><li>'wa'</li></ol>\n",
       "</details>"
      ],
      "text/latex": [
       "\\begin{enumerate*}\n",
       "\\item tas\n",
       "\\item sa\n",
       "\\item qld\n",
       "\\item nsw\n",
       "\\item nsw\n",
       "\\item nt\n",
       "\\item wa\n",
       "\\item wa\n",
       "\\item qld\n",
       "\\item vic\n",
       "\\item nsw\n",
       "\\item vic\n",
       "\\item qld\n",
       "\\item qld\n",
       "\\item sa\n",
       "\\item tas\n",
       "\\item sa\n",
       "\\item nt\n",
       "\\item wa\n",
       "\\item vic\n",
       "\\item qld\n",
       "\\item nsw\n",
       "\\item nsw\n",
       "\\item wa\n",
       "\\item sa\n",
       "\\item act\n",
       "\\item nsw\n",
       "\\item vic\n",
       "\\item vic\n",
       "\\item act\n",
       "\\end{enumerate*}\n",
       "\n",
       "\\emph{Levels}: \\begin{enumerate*}\n",
       "\\item 'act'\n",
       "\\item 'nsw'\n",
       "\\item 'nt'\n",
       "\\item 'qld'\n",
       "\\item 'sa'\n",
       "\\item 'tas'\n",
       "\\item 'vic'\n",
       "\\item 'wa'\n",
       "\\end{enumerate*}\n"
      ],
      "text/markdown": [
       "1. tas\n",
       "2. sa\n",
       "3. qld\n",
       "4. nsw\n",
       "5. nsw\n",
       "6. nt\n",
       "7. wa\n",
       "8. wa\n",
       "9. qld\n",
       "10. vic\n",
       "11. nsw\n",
       "12. vic\n",
       "13. qld\n",
       "14. qld\n",
       "15. sa\n",
       "16. tas\n",
       "17. sa\n",
       "18. nt\n",
       "19. wa\n",
       "20. vic\n",
       "21. qld\n",
       "22. nsw\n",
       "23. nsw\n",
       "24. wa\n",
       "25. sa\n",
       "26. act\n",
       "27. nsw\n",
       "28. vic\n",
       "29. vic\n",
       "30. act\n",
       "\n",
       "\n",
       "\n",
       "**Levels**: 1. 'act'\n",
       "2. 'nsw'\n",
       "3. 'nt'\n",
       "4. 'qld'\n",
       "5. 'sa'\n",
       "6. 'tas'\n",
       "7. 'vic'\n",
       "8. 'wa'\n",
       "\n",
       "\n"
      ],
      "text/plain": [
       " [1] tas sa  qld nsw nsw nt  wa  wa  qld vic nsw vic qld qld sa  tas sa  nt  wa \n",
       "[20] vic qld nsw nsw wa  sa  act nsw vic vic act\n",
       "Levels: act nsw nt qld sa tas vic wa"
      ]
     },
     "metadata": {},
     "output_type": "display_data"
    }
   ],
   "source": [
    "state_factor"
   ]
  },
  {
   "cell_type": "markdown",
   "metadata": {},
   "source": [
    "To find out the levels of a factor the function `levels()` can be used."
   ]
  },
  {
   "cell_type": "code",
   "execution_count": 63,
   "metadata": {},
   "outputs": [
    {
     "data": {
      "text/html": [
       "<style>\n",
       ".list-inline {list-style: none; margin:0; padding: 0}\n",
       ".list-inline>li {display: inline-block}\n",
       ".list-inline>li:not(:last-child)::after {content: \"\\00b7\"; padding: 0 .5ex}\n",
       "</style>\n",
       "<ol class=list-inline><li>'act'</li><li>'nsw'</li><li>'nt'</li><li>'qld'</li><li>'sa'</li><li>'tas'</li><li>'vic'</li><li>'wa'</li></ol>\n"
      ],
      "text/latex": [
       "\\begin{enumerate*}\n",
       "\\item 'act'\n",
       "\\item 'nsw'\n",
       "\\item 'nt'\n",
       "\\item 'qld'\n",
       "\\item 'sa'\n",
       "\\item 'tas'\n",
       "\\item 'vic'\n",
       "\\item 'wa'\n",
       "\\end{enumerate*}\n"
      ],
      "text/markdown": [
       "1. 'act'\n",
       "2. 'nsw'\n",
       "3. 'nt'\n",
       "4. 'qld'\n",
       "5. 'sa'\n",
       "6. 'tas'\n",
       "7. 'vic'\n",
       "8. 'wa'\n",
       "\n",
       "\n"
      ],
      "text/plain": [
       "[1] \"act\" \"nsw\" \"nt\"  \"qld\" \"sa\"  \"tas\" \"vic\" \"wa\" "
      ]
     },
     "metadata": {},
     "output_type": "display_data"
    }
   ],
   "source": [
    "levels(state_factor)"
   ]
  },
  {
   "cell_type": "markdown",
   "metadata": {},
   "source": [
    "The levels of factors are stored in alphabetical order, or in the order they were specified to factor if they were specified explicitly.\n",
    "\n",
    "Sometimes the levels will have a natural ordering that we want to record and want our statistical analysis to make use of. The `ordered()` function creates such ordered factors but is otherwise identical to `factor`. For most purposes the only difference between ordered and unordered factors is that the former are printed showing the ordering of the levels, but the contrasts generated for them in fitting linear models are different."
   ]
  },
  {
   "cell_type": "code",
   "execution_count": 64,
   "metadata": {},
   "outputs": [],
   "source": [
    "x = factor(c(\"Man\", \"Male\", \"Man\", \"Lady\", \"Female\"))"
   ]
  },
  {
   "cell_type": "code",
   "execution_count": 65,
   "metadata": {},
   "outputs": [
    {
     "data": {
      "text/html": [
       "<style>\n",
       ".list-inline {list-style: none; margin:0; padding: 0}\n",
       ".list-inline>li {display: inline-block}\n",
       ".list-inline>li:not(:last-child)::after {content: \"\\00b7\"; padding: 0 .5ex}\n",
       "</style>\n",
       "<ol class=list-inline><li>Man</li><li>Male</li><li>Man</li><li>Lady</li><li>Female</li></ol>\n",
       "\n",
       "<details>\n",
       "\t<summary style=display:list-item;cursor:pointer>\n",
       "\t\t<strong>Levels</strong>:\n",
       "\t</summary>\n",
       "\t<style>\n",
       "\t.list-inline {list-style: none; margin:0; padding: 0}\n",
       "\t.list-inline>li {display: inline-block}\n",
       "\t.list-inline>li:not(:last-child)::after {content: \"\\00b7\"; padding: 0 .5ex}\n",
       "\t</style>\n",
       "\t<ol class=list-inline><li>'Female'</li><li>'Lady'</li><li>'Male'</li><li>'Man'</li></ol>\n",
       "</details>"
      ],
      "text/latex": [
       "\\begin{enumerate*}\n",
       "\\item Man\n",
       "\\item Male\n",
       "\\item Man\n",
       "\\item Lady\n",
       "\\item Female\n",
       "\\end{enumerate*}\n",
       "\n",
       "\\emph{Levels}: \\begin{enumerate*}\n",
       "\\item 'Female'\n",
       "\\item 'Lady'\n",
       "\\item 'Male'\n",
       "\\item 'Man'\n",
       "\\end{enumerate*}\n"
      ],
      "text/markdown": [
       "1. Man\n",
       "2. Male\n",
       "3. Man\n",
       "4. Lady\n",
       "5. Female\n",
       "\n",
       "\n",
       "\n",
       "**Levels**: 1. 'Female'\n",
       "2. 'Lady'\n",
       "3. 'Male'\n",
       "4. 'Man'\n",
       "\n",
       "\n"
      ],
      "text/plain": [
       "[1] Man    Male   Man    Lady   Female\n",
       "Levels: Female Lady Male Man"
      ]
     },
     "metadata": {},
     "output_type": "display_data"
    }
   ],
   "source": [
    "x"
   ]
  },
  {
   "cell_type": "code",
   "execution_count": 66,
   "metadata": {},
   "outputs": [],
   "source": [
    "x = factor(c(\"Man\", \"Male\", \"Man\", \"Lady\", \"Female\"), levels = c(\"Man\", \"Female\", \"Lady\"))"
   ]
  },
  {
   "cell_type": "code",
   "execution_count": 67,
   "metadata": {},
   "outputs": [
    {
     "data": {
      "text/html": [
       "<style>\n",
       ".list-inline {list-style: none; margin:0; padding: 0}\n",
       ".list-inline>li {display: inline-block}\n",
       ".list-inline>li:not(:last-child)::after {content: \"\\00b7\"; padding: 0 .5ex}\n",
       "</style>\n",
       "<ol class=list-inline><li>Man</li><li>&lt;NA&gt;</li><li>Man</li><li>Lady</li><li>Female</li></ol>\n",
       "\n",
       "<details>\n",
       "\t<summary style=display:list-item;cursor:pointer>\n",
       "\t\t<strong>Levels</strong>:\n",
       "\t</summary>\n",
       "\t<style>\n",
       "\t.list-inline {list-style: none; margin:0; padding: 0}\n",
       "\t.list-inline>li {display: inline-block}\n",
       "\t.list-inline>li:not(:last-child)::after {content: \"\\00b7\"; padding: 0 .5ex}\n",
       "\t</style>\n",
       "\t<ol class=list-inline><li>'Man'</li><li>'Female'</li><li>'Lady'</li></ol>\n",
       "</details>"
      ],
      "text/latex": [
       "\\begin{enumerate*}\n",
       "\\item Man\n",
       "\\item <NA>\n",
       "\\item Man\n",
       "\\item Lady\n",
       "\\item Female\n",
       "\\end{enumerate*}\n",
       "\n",
       "\\emph{Levels}: \\begin{enumerate*}\n",
       "\\item 'Man'\n",
       "\\item 'Female'\n",
       "\\item 'Lady'\n",
       "\\end{enumerate*}\n"
      ],
      "text/markdown": [
       "1. Man\n",
       "2. &lt;NA&gt;\n",
       "3. Man\n",
       "4. Lady\n",
       "5. Female\n",
       "\n",
       "\n",
       "\n",
       "**Levels**: 1. 'Man'\n",
       "2. 'Female'\n",
       "3. 'Lady'\n",
       "\n",
       "\n"
      ],
      "text/plain": [
       "[1] Man    <NA>   Man    Lady   Female\n",
       "Levels: Man Female Lady"
      ]
     },
     "metadata": {},
     "output_type": "display_data"
    }
   ],
   "source": [
    "x"
   ]
  },
  {
   "cell_type": "code",
   "execution_count": 68,
   "metadata": {},
   "outputs": [
    {
     "data": {
      "text/html": [
       "<style>\n",
       ".list-inline {list-style: none; margin:0; padding: 0}\n",
       ".list-inline>li {display: inline-block}\n",
       ".list-inline>li:not(:last-child)::after {content: \"\\00b7\"; padding: 0 .5ex}\n",
       "</style>\n",
       "<ol class=list-inline><li>Man</li><li>Man</li><li>Female</li><li>Lady</li></ol>\n",
       "\n",
       "<details>\n",
       "\t<summary style=display:list-item;cursor:pointer>\n",
       "\t\t<strong>Levels</strong>:\n",
       "\t</summary>\n",
       "\t<style>\n",
       "\t.list-inline {list-style: none; margin:0; padding: 0}\n",
       "\t.list-inline>li {display: inline-block}\n",
       "\t.list-inline>li:not(:last-child)::after {content: \"\\00b7\"; padding: 0 .5ex}\n",
       "\t</style>\n",
       "\t<ol class=list-inline><li>'Man'</li><li>'Female'</li><li>'Lady'</li></ol>\n",
       "</details>"
      ],
      "text/latex": [
       "\\begin{enumerate*}\n",
       "\\item Man\n",
       "\\item Man\n",
       "\\item Female\n",
       "\\item Lady\n",
       "\\end{enumerate*}\n",
       "\n",
       "\\emph{Levels}: \\begin{enumerate*}\n",
       "\\item 'Man'\n",
       "\\item 'Female'\n",
       "\\item 'Lady'\n",
       "\\end{enumerate*}\n"
      ],
      "text/markdown": [
       "1. Man\n",
       "2. Man\n",
       "3. Female\n",
       "4. Lady\n",
       "\n",
       "\n",
       "\n",
       "**Levels**: 1. 'Man'\n",
       "2. 'Female'\n",
       "3. 'Lady'\n",
       "\n",
       "\n"
      ],
      "text/plain": [
       "[1] Man    Man    Female Lady  \n",
       "Levels: Man Female Lady"
      ]
     },
     "metadata": {},
     "output_type": "display_data"
    }
   ],
   "source": [
    "sort(x)"
   ]
  },
  {
   "cell_type": "markdown",
   "metadata": {},
   "source": [
    "## 10. Data frames\n",
    "A data frame is a list where its components are vectors (numeric, character, or logical) or factors of equal length."
   ]
  },
  {
   "cell_type": "code",
   "execution_count": 69,
   "metadata": {},
   "outputs": [
    {
     "data": {
      "text/html": [
       "<table class=\"dataframe\">\n",
       "<caption>A data.frame: 3 × 3</caption>\n",
       "<thead>\n",
       "\t<tr><th scope=col>n</th><th scope=col>s</th><th scope=col>b</th></tr>\n",
       "\t<tr><th scope=col>&lt;dbl&gt;</th><th scope=col>&lt;chr&gt;</th><th scope=col>&lt;lgl&gt;</th></tr>\n",
       "</thead>\n",
       "<tbody>\n",
       "\t<tr><td>2</td><td>aa</td><td> TRUE</td></tr>\n",
       "\t<tr><td>3</td><td>bb</td><td>FALSE</td></tr>\n",
       "\t<tr><td>5</td><td>cc</td><td> TRUE</td></tr>\n",
       "</tbody>\n",
       "</table>\n"
      ],
      "text/latex": [
       "A data.frame: 3 × 3\n",
       "\\begin{tabular}{lll}\n",
       " n & s & b\\\\\n",
       " <dbl> & <chr> & <lgl>\\\\\n",
       "\\hline\n",
       "\t 2 & aa &  TRUE\\\\\n",
       "\t 3 & bb & FALSE\\\\\n",
       "\t 5 & cc &  TRUE\\\\\n",
       "\\end{tabular}\n"
      ],
      "text/markdown": [
       "\n",
       "A data.frame: 3 × 3\n",
       "\n",
       "| n &lt;dbl&gt; | s &lt;chr&gt; | b &lt;lgl&gt; |\n",
       "|---|---|---|\n",
       "| 2 | aa |  TRUE |\n",
       "| 3 | bb | FALSE |\n",
       "| 5 | cc |  TRUE |\n",
       "\n"
      ],
      "text/plain": [
       "  n s  b    \n",
       "1 2 aa  TRUE\n",
       "2 3 bb FALSE\n",
       "3 5 cc  TRUE"
      ]
     },
     "metadata": {},
     "output_type": "display_data"
    }
   ],
   "source": [
    "n = c(2, 3, 5) \n",
    "s = c(\"aa\", \"bb\", \"cc\") \n",
    "b = c(TRUE, FALSE, TRUE) \n",
    "df = data.frame(n, s, b)\n",
    "df"
   ]
  },
  {
   "cell_type": "markdown",
   "metadata": {},
   "source": [
    "#### Index data frames\n",
    "\n",
    "Select one column:"
   ]
  },
  {
   "cell_type": "code",
   "execution_count": 70,
   "metadata": {},
   "outputs": [
    {
     "data": {
      "text/html": [
       "<style>\n",
       ".list-inline {list-style: none; margin:0; padding: 0}\n",
       ".list-inline>li {display: inline-block}\n",
       ".list-inline>li:not(:last-child)::after {content: \"\\00b7\"; padding: 0 .5ex}\n",
       "</style>\n",
       "<ol class=list-inline><li>2</li><li>3</li><li>5</li></ol>\n"
      ],
      "text/latex": [
       "\\begin{enumerate*}\n",
       "\\item 2\n",
       "\\item 3\n",
       "\\item 5\n",
       "\\end{enumerate*}\n"
      ],
      "text/markdown": [
       "1. 2\n",
       "2. 3\n",
       "3. 5\n",
       "\n",
       "\n"
      ],
      "text/plain": [
       "[1] 2 3 5"
      ]
     },
     "metadata": {},
     "output_type": "display_data"
    }
   ],
   "source": [
    "df$n"
   ]
  },
  {
   "cell_type": "markdown",
   "metadata": {},
   "source": [
    "Add one column:"
   ]
  },
  {
   "cell_type": "code",
   "execution_count": 71,
   "metadata": {},
   "outputs": [],
   "source": [
    "df$new_column = seq(from=7, by=10, length.out=3)"
   ]
  },
  {
   "cell_type": "code",
   "execution_count": 72,
   "metadata": {},
   "outputs": [
    {
     "data": {
      "text/html": [
       "<table class=\"dataframe\">\n",
       "<caption>A data.frame: 3 × 4</caption>\n",
       "<thead>\n",
       "\t<tr><th scope=col>n</th><th scope=col>s</th><th scope=col>b</th><th scope=col>new_column</th></tr>\n",
       "\t<tr><th scope=col>&lt;dbl&gt;</th><th scope=col>&lt;chr&gt;</th><th scope=col>&lt;lgl&gt;</th><th scope=col>&lt;dbl&gt;</th></tr>\n",
       "</thead>\n",
       "<tbody>\n",
       "\t<tr><td>2</td><td>aa</td><td> TRUE</td><td> 7</td></tr>\n",
       "\t<tr><td>3</td><td>bb</td><td>FALSE</td><td>17</td></tr>\n",
       "\t<tr><td>5</td><td>cc</td><td> TRUE</td><td>27</td></tr>\n",
       "</tbody>\n",
       "</table>\n"
      ],
      "text/latex": [
       "A data.frame: 3 × 4\n",
       "\\begin{tabular}{llll}\n",
       " n & s & b & new\\_column\\\\\n",
       " <dbl> & <chr> & <lgl> & <dbl>\\\\\n",
       "\\hline\n",
       "\t 2 & aa &  TRUE &  7\\\\\n",
       "\t 3 & bb & FALSE & 17\\\\\n",
       "\t 5 & cc &  TRUE & 27\\\\\n",
       "\\end{tabular}\n"
      ],
      "text/markdown": [
       "\n",
       "A data.frame: 3 × 4\n",
       "\n",
       "| n &lt;dbl&gt; | s &lt;chr&gt; | b &lt;lgl&gt; | new_column &lt;dbl&gt; |\n",
       "|---|---|---|---|\n",
       "| 2 | aa |  TRUE |  7 |\n",
       "| 3 | bb | FALSE | 17 |\n",
       "| 5 | cc |  TRUE | 27 |\n",
       "\n"
      ],
      "text/plain": [
       "  n s  b     new_column\n",
       "1 2 aa  TRUE  7        \n",
       "2 3 bb FALSE 17        \n",
       "3 5 cc  TRUE 27        "
      ]
     },
     "metadata": {},
     "output_type": "display_data"
    }
   ],
   "source": [
    "df"
   ]
  },
  {
   "cell_type": "markdown",
   "metadata": {},
   "source": [
    "Another way to select a column or a list of columns:"
   ]
  },
  {
   "cell_type": "code",
   "execution_count": 73,
   "metadata": {},
   "outputs": [
    {
     "data": {
      "text/html": [
       "<style>\n",
       ".list-inline {list-style: none; margin:0; padding: 0}\n",
       ".list-inline>li {display: inline-block}\n",
       ".list-inline>li:not(:last-child)::after {content: \"\\00b7\"; padding: 0 .5ex}\n",
       "</style>\n",
       "<ol class=list-inline><li>2</li><li>3</li><li>5</li></ol>\n"
      ],
      "text/latex": [
       "\\begin{enumerate*}\n",
       "\\item 2\n",
       "\\item 3\n",
       "\\item 5\n",
       "\\end{enumerate*}\n"
      ],
      "text/markdown": [
       "1. 2\n",
       "2. 3\n",
       "3. 5\n",
       "\n",
       "\n"
      ],
      "text/plain": [
       "[1] 2 3 5"
      ]
     },
     "metadata": {},
     "output_type": "display_data"
    }
   ],
   "source": [
    "df[,\"n\"]"
   ]
  },
  {
   "cell_type": "code",
   "execution_count": 74,
   "metadata": {},
   "outputs": [
    {
     "data": {
      "text/html": [
       "<table class=\"dataframe\">\n",
       "<caption>A data.frame: 3 × 2</caption>\n",
       "<thead>\n",
       "\t<tr><th scope=col>n</th><th scope=col>s</th></tr>\n",
       "\t<tr><th scope=col>&lt;dbl&gt;</th><th scope=col>&lt;chr&gt;</th></tr>\n",
       "</thead>\n",
       "<tbody>\n",
       "\t<tr><td>2</td><td>aa</td></tr>\n",
       "\t<tr><td>3</td><td>bb</td></tr>\n",
       "\t<tr><td>5</td><td>cc</td></tr>\n",
       "</tbody>\n",
       "</table>\n"
      ],
      "text/latex": [
       "A data.frame: 3 × 2\n",
       "\\begin{tabular}{ll}\n",
       " n & s\\\\\n",
       " <dbl> & <chr>\\\\\n",
       "\\hline\n",
       "\t 2 & aa\\\\\n",
       "\t 3 & bb\\\\\n",
       "\t 5 & cc\\\\\n",
       "\\end{tabular}\n"
      ],
      "text/markdown": [
       "\n",
       "A data.frame: 3 × 2\n",
       "\n",
       "| n &lt;dbl&gt; | s &lt;chr&gt; |\n",
       "|---|---|\n",
       "| 2 | aa |\n",
       "| 3 | bb |\n",
       "| 5 | cc |\n",
       "\n"
      ],
      "text/plain": [
       "  n s \n",
       "1 2 aa\n",
       "2 3 bb\n",
       "3 5 cc"
      ]
     },
     "metadata": {},
     "output_type": "display_data"
    }
   ],
   "source": [
    "df[,c(\"n\", \"s\")]"
   ]
  },
  {
   "cell_type": "markdown",
   "metadata": {},
   "source": [
    "Before the comma, is actually where you can also select rows:"
   ]
  },
  {
   "cell_type": "code",
   "execution_count": 75,
   "metadata": {},
   "outputs": [
    {
     "data": {
      "text/html": [
       "<table class=\"dataframe\">\n",
       "<caption>A data.frame: 1 × 4</caption>\n",
       "<thead>\n",
       "\t<tr><th></th><th scope=col>n</th><th scope=col>s</th><th scope=col>b</th><th scope=col>new_column</th></tr>\n",
       "\t<tr><th></th><th scope=col>&lt;dbl&gt;</th><th scope=col>&lt;chr&gt;</th><th scope=col>&lt;lgl&gt;</th><th scope=col>&lt;dbl&gt;</th></tr>\n",
       "</thead>\n",
       "<tbody>\n",
       "\t<tr><th scope=row>1</th><td>2</td><td>aa</td><td>TRUE</td><td>7</td></tr>\n",
       "</tbody>\n",
       "</table>\n"
      ],
      "text/latex": [
       "A data.frame: 1 × 4\n",
       "\\begin{tabular}{r|llll}\n",
       "  & n & s & b & new\\_column\\\\\n",
       "  & <dbl> & <chr> & <lgl> & <dbl>\\\\\n",
       "\\hline\n",
       "\t1 & 2 & aa & TRUE & 7\\\\\n",
       "\\end{tabular}\n"
      ],
      "text/markdown": [
       "\n",
       "A data.frame: 1 × 4\n",
       "\n",
       "| <!--/--> | n &lt;dbl&gt; | s &lt;chr&gt; | b &lt;lgl&gt; | new_column &lt;dbl&gt; |\n",
       "|---|---|---|---|---|\n",
       "| 1 | 2 | aa | TRUE | 7 |\n",
       "\n"
      ],
      "text/plain": [
       "  n s  b    new_column\n",
       "1 2 aa TRUE 7         "
      ]
     },
     "metadata": {},
     "output_type": "display_data"
    }
   ],
   "source": [
    "df[1,]"
   ]
  },
  {
   "cell_type": "code",
   "execution_count": 76,
   "metadata": {},
   "outputs": [
    {
     "data": {
      "text/html": [
       "<table class=\"dataframe\">\n",
       "<caption>A data.frame: 2 × 4</caption>\n",
       "<thead>\n",
       "\t<tr><th></th><th scope=col>n</th><th scope=col>s</th><th scope=col>b</th><th scope=col>new_column</th></tr>\n",
       "\t<tr><th></th><th scope=col>&lt;dbl&gt;</th><th scope=col>&lt;chr&gt;</th><th scope=col>&lt;lgl&gt;</th><th scope=col>&lt;dbl&gt;</th></tr>\n",
       "</thead>\n",
       "<tbody>\n",
       "\t<tr><th scope=row>1</th><td>2</td><td>aa</td><td>TRUE</td><td> 7</td></tr>\n",
       "\t<tr><th scope=row>3</th><td>5</td><td>cc</td><td>TRUE</td><td>27</td></tr>\n",
       "</tbody>\n",
       "</table>\n"
      ],
      "text/latex": [
       "A data.frame: 2 × 4\n",
       "\\begin{tabular}{r|llll}\n",
       "  & n & s & b & new\\_column\\\\\n",
       "  & <dbl> & <chr> & <lgl> & <dbl>\\\\\n",
       "\\hline\n",
       "\t1 & 2 & aa & TRUE &  7\\\\\n",
       "\t3 & 5 & cc & TRUE & 27\\\\\n",
       "\\end{tabular}\n"
      ],
      "text/markdown": [
       "\n",
       "A data.frame: 2 × 4\n",
       "\n",
       "| <!--/--> | n &lt;dbl&gt; | s &lt;chr&gt; | b &lt;lgl&gt; | new_column &lt;dbl&gt; |\n",
       "|---|---|---|---|---|\n",
       "| 1 | 2 | aa | TRUE |  7 |\n",
       "| 3 | 5 | cc | TRUE | 27 |\n",
       "\n"
      ],
      "text/plain": [
       "  n s  b    new_column\n",
       "1 2 aa TRUE  7        \n",
       "3 5 cc TRUE 27        "
      ]
     },
     "metadata": {},
     "output_type": "display_data"
    }
   ],
   "source": [
    "df[c(1,3),]"
   ]
  },
  {
   "cell_type": "markdown",
   "metadata": {},
   "source": [
    "Finally, you can select both rows and columns:"
   ]
  },
  {
   "cell_type": "code",
   "execution_count": 77,
   "metadata": {},
   "outputs": [
    {
     "data": {
      "text/html": [
       "<table class=\"dataframe\">\n",
       "<caption>A data.frame: 1 × 2</caption>\n",
       "<thead>\n",
       "\t<tr><th></th><th scope=col>n</th><th scope=col>s</th></tr>\n",
       "\t<tr><th></th><th scope=col>&lt;dbl&gt;</th><th scope=col>&lt;chr&gt;</th></tr>\n",
       "</thead>\n",
       "<tbody>\n",
       "\t<tr><th scope=row>1</th><td>2</td><td>aa</td></tr>\n",
       "</tbody>\n",
       "</table>\n"
      ],
      "text/latex": [
       "A data.frame: 1 × 2\n",
       "\\begin{tabular}{r|ll}\n",
       "  & n & s\\\\\n",
       "  & <dbl> & <chr>\\\\\n",
       "\\hline\n",
       "\t1 & 2 & aa\\\\\n",
       "\\end{tabular}\n"
      ],
      "text/markdown": [
       "\n",
       "A data.frame: 1 × 2\n",
       "\n",
       "| <!--/--> | n &lt;dbl&gt; | s &lt;chr&gt; |\n",
       "|---|---|---|\n",
       "| 1 | 2 | aa |\n",
       "\n"
      ],
      "text/plain": [
       "  n s \n",
       "1 2 aa"
      ]
     },
     "metadata": {},
     "output_type": "display_data"
    }
   ],
   "source": [
    "df[1, c(\"n\", \"s\")]"
   ]
  },
  {
   "cell_type": "markdown",
   "metadata": {},
   "source": [
    "Note that you can use all the ways to index vectors, both for rows and columns:"
   ]
  },
  {
   "cell_type": "code",
   "execution_count": 78,
   "metadata": {},
   "outputs": [],
   "source": [
    "df = data.frame(\n",
    "    stimulus = rep(c('a', 'b', 'c'), each=4),\n",
    "    item = seq(from=1, by=1, length.out=12),\n",
    "    correct_response = rep(c(0, 1), times=6)\n",
    ")"
   ]
  },
  {
   "cell_type": "code",
   "execution_count": 79,
   "metadata": {},
   "outputs": [
    {
     "data": {
      "text/html": [
       "<table class=\"dataframe\">\n",
       "<caption>A data.frame: 12 × 3</caption>\n",
       "<thead>\n",
       "\t<tr><th scope=col>stimulus</th><th scope=col>item</th><th scope=col>correct_response</th></tr>\n",
       "\t<tr><th scope=col>&lt;chr&gt;</th><th scope=col>&lt;dbl&gt;</th><th scope=col>&lt;dbl&gt;</th></tr>\n",
       "</thead>\n",
       "<tbody>\n",
       "\t<tr><td>a</td><td> 1</td><td>0</td></tr>\n",
       "\t<tr><td>a</td><td> 2</td><td>1</td></tr>\n",
       "\t<tr><td>a</td><td> 3</td><td>0</td></tr>\n",
       "\t<tr><td>a</td><td> 4</td><td>1</td></tr>\n",
       "\t<tr><td>b</td><td> 5</td><td>0</td></tr>\n",
       "\t<tr><td>b</td><td> 6</td><td>1</td></tr>\n",
       "\t<tr><td>b</td><td> 7</td><td>0</td></tr>\n",
       "\t<tr><td>b</td><td> 8</td><td>1</td></tr>\n",
       "\t<tr><td>c</td><td> 9</td><td>0</td></tr>\n",
       "\t<tr><td>c</td><td>10</td><td>1</td></tr>\n",
       "\t<tr><td>c</td><td>11</td><td>0</td></tr>\n",
       "\t<tr><td>c</td><td>12</td><td>1</td></tr>\n",
       "</tbody>\n",
       "</table>\n"
      ],
      "text/latex": [
       "A data.frame: 12 × 3\n",
       "\\begin{tabular}{lll}\n",
       " stimulus & item & correct\\_response\\\\\n",
       " <chr> & <dbl> & <dbl>\\\\\n",
       "\\hline\n",
       "\t a &  1 & 0\\\\\n",
       "\t a &  2 & 1\\\\\n",
       "\t a &  3 & 0\\\\\n",
       "\t a &  4 & 1\\\\\n",
       "\t b &  5 & 0\\\\\n",
       "\t b &  6 & 1\\\\\n",
       "\t b &  7 & 0\\\\\n",
       "\t b &  8 & 1\\\\\n",
       "\t c &  9 & 0\\\\\n",
       "\t c & 10 & 1\\\\\n",
       "\t c & 11 & 0\\\\\n",
       "\t c & 12 & 1\\\\\n",
       "\\end{tabular}\n"
      ],
      "text/markdown": [
       "\n",
       "A data.frame: 12 × 3\n",
       "\n",
       "| stimulus &lt;chr&gt; | item &lt;dbl&gt; | correct_response &lt;dbl&gt; |\n",
       "|---|---|---|\n",
       "| a |  1 | 0 |\n",
       "| a |  2 | 1 |\n",
       "| a |  3 | 0 |\n",
       "| a |  4 | 1 |\n",
       "| b |  5 | 0 |\n",
       "| b |  6 | 1 |\n",
       "| b |  7 | 0 |\n",
       "| b |  8 | 1 |\n",
       "| c |  9 | 0 |\n",
       "| c | 10 | 1 |\n",
       "| c | 11 | 0 |\n",
       "| c | 12 | 1 |\n",
       "\n"
      ],
      "text/plain": [
       "   stimulus item correct_response\n",
       "1  a         1   0               \n",
       "2  a         2   1               \n",
       "3  a         3   0               \n",
       "4  a         4   1               \n",
       "5  b         5   0               \n",
       "6  b         6   1               \n",
       "7  b         7   0               \n",
       "8  b         8   1               \n",
       "9  c         9   0               \n",
       "10 c        10   1               \n",
       "11 c        11   0               \n",
       "12 c        12   1               "
      ]
     },
     "metadata": {},
     "output_type": "display_data"
    }
   ],
   "source": [
    "df"
   ]
  },
  {
   "cell_type": "code",
   "execution_count": 80,
   "metadata": {},
   "outputs": [
    {
     "data": {
      "text/html": [
       "<table class=\"dataframe\">\n",
       "<caption>A data.frame: 4 × 3</caption>\n",
       "<thead>\n",
       "\t<tr><th></th><th scope=col>stimulus</th><th scope=col>item</th><th scope=col>correct_response</th></tr>\n",
       "\t<tr><th></th><th scope=col>&lt;chr&gt;</th><th scope=col>&lt;dbl&gt;</th><th scope=col>&lt;dbl&gt;</th></tr>\n",
       "</thead>\n",
       "<tbody>\n",
       "\t<tr><th scope=row>9</th><td>c</td><td> 9</td><td>0</td></tr>\n",
       "\t<tr><th scope=row>10</th><td>c</td><td>10</td><td>1</td></tr>\n",
       "\t<tr><th scope=row>11</th><td>c</td><td>11</td><td>0</td></tr>\n",
       "\t<tr><th scope=row>12</th><td>c</td><td>12</td><td>1</td></tr>\n",
       "</tbody>\n",
       "</table>\n"
      ],
      "text/latex": [
       "A data.frame: 4 × 3\n",
       "\\begin{tabular}{r|lll}\n",
       "  & stimulus & item & correct\\_response\\\\\n",
       "  & <chr> & <dbl> & <dbl>\\\\\n",
       "\\hline\n",
       "\t9 & c &  9 & 0\\\\\n",
       "\t10 & c & 10 & 1\\\\\n",
       "\t11 & c & 11 & 0\\\\\n",
       "\t12 & c & 12 & 1\\\\\n",
       "\\end{tabular}\n"
      ],
      "text/markdown": [
       "\n",
       "A data.frame: 4 × 3\n",
       "\n",
       "| <!--/--> | stimulus &lt;chr&gt; | item &lt;dbl&gt; | correct_response &lt;dbl&gt; |\n",
       "|---|---|---|---|\n",
       "| 9 | c |  9 | 0 |\n",
       "| 10 | c | 10 | 1 |\n",
       "| 11 | c | 11 | 0 |\n",
       "| 12 | c | 12 | 1 |\n",
       "\n"
      ],
      "text/plain": [
       "   stimulus item correct_response\n",
       "9  c         9   0               \n",
       "10 c        10   1               \n",
       "11 c        11   0               \n",
       "12 c        12   1               "
      ]
     },
     "metadata": {},
     "output_type": "display_data"
    }
   ],
   "source": [
    "df[df$stimulus == 'c',]"
   ]
  },
  {
   "cell_type": "code",
   "execution_count": 81,
   "metadata": {},
   "outputs": [
    {
     "data": {
      "text/html": [
       "<table class=\"dataframe\">\n",
       "<caption>A data.frame: 2 × 3</caption>\n",
       "<thead>\n",
       "\t<tr><th></th><th scope=col>stimulus</th><th scope=col>item</th><th scope=col>correct_response</th></tr>\n",
       "\t<tr><th></th><th scope=col>&lt;chr&gt;</th><th scope=col>&lt;dbl&gt;</th><th scope=col>&lt;dbl&gt;</th></tr>\n",
       "</thead>\n",
       "<tbody>\n",
       "\t<tr><th scope=row>9</th><td>c</td><td> 9</td><td>0</td></tr>\n",
       "\t<tr><th scope=row>11</th><td>c</td><td>11</td><td>0</td></tr>\n",
       "</tbody>\n",
       "</table>\n"
      ],
      "text/latex": [
       "A data.frame: 2 × 3\n",
       "\\begin{tabular}{r|lll}\n",
       "  & stimulus & item & correct\\_response\\\\\n",
       "  & <chr> & <dbl> & <dbl>\\\\\n",
       "\\hline\n",
       "\t9 & c &  9 & 0\\\\\n",
       "\t11 & c & 11 & 0\\\\\n",
       "\\end{tabular}\n"
      ],
      "text/markdown": [
       "\n",
       "A data.frame: 2 × 3\n",
       "\n",
       "| <!--/--> | stimulus &lt;chr&gt; | item &lt;dbl&gt; | correct_response &lt;dbl&gt; |\n",
       "|---|---|---|---|\n",
       "| 9 | c |  9 | 0 |\n",
       "| 11 | c | 11 | 0 |\n",
       "\n"
      ],
      "text/plain": [
       "   stimulus item correct_response\n",
       "9  c         9   0               \n",
       "11 c        11   0               "
      ]
     },
     "metadata": {},
     "output_type": "display_data"
    }
   ],
   "source": [
    "df[df$stimulus == 'c' & df$correct_response == 0,]"
   ]
  },
  {
   "cell_type": "code",
   "execution_count": 82,
   "metadata": {},
   "outputs": [
    {
     "data": {
      "text/html": [
       "<style>\n",
       ".list-inline {list-style: none; margin:0; padding: 0}\n",
       ".list-inline>li {display: inline-block}\n",
       ".list-inline>li:not(:last-child)::after {content: \"\\00b7\"; padding: 0 .5ex}\n",
       "</style>\n",
       "<ol class=list-inline><li>2</li><li>4</li><li>6</li><li>8</li><li>10</li><li>12</li></ol>\n"
      ],
      "text/latex": [
       "\\begin{enumerate*}\n",
       "\\item 2\n",
       "\\item 4\n",
       "\\item 6\n",
       "\\item 8\n",
       "\\item 10\n",
       "\\item 12\n",
       "\\end{enumerate*}\n"
      ],
      "text/markdown": [
       "1. 2\n",
       "2. 4\n",
       "3. 6\n",
       "4. 8\n",
       "5. 10\n",
       "6. 12\n",
       "\n",
       "\n"
      ],
      "text/plain": [
       "[1]  2  4  6  8 10 12"
      ]
     },
     "metadata": {},
     "output_type": "display_data"
    }
   ],
   "source": [
    "df[df$correct_response == 1, \"item\"]"
   ]
  },
  {
   "cell_type": "code",
   "execution_count": 83,
   "metadata": {},
   "outputs": [
    {
     "data": {
      "text/html": [
       "<table class=\"dataframe\">\n",
       "<caption>A data.frame: 5 × 3</caption>\n",
       "<thead>\n",
       "\t<tr><th></th><th scope=col>stimulus</th><th scope=col>item</th><th scope=col>correct_response</th></tr>\n",
       "\t<tr><th></th><th scope=col>&lt;chr&gt;</th><th scope=col>&lt;dbl&gt;</th><th scope=col>&lt;dbl&gt;</th></tr>\n",
       "</thead>\n",
       "<tbody>\n",
       "\t<tr><th scope=row>1</th><td>a</td><td>1</td><td>0</td></tr>\n",
       "\t<tr><th scope=row>2</th><td>a</td><td>2</td><td>1</td></tr>\n",
       "\t<tr><th scope=row>3</th><td>a</td><td>3</td><td>0</td></tr>\n",
       "\t<tr><th scope=row>4</th><td>a</td><td>4</td><td>1</td></tr>\n",
       "\t<tr><th scope=row>5</th><td>b</td><td>5</td><td>0</td></tr>\n",
       "</tbody>\n",
       "</table>\n"
      ],
      "text/latex": [
       "A data.frame: 5 × 3\n",
       "\\begin{tabular}{r|lll}\n",
       "  & stimulus & item & correct\\_response\\\\\n",
       "  & <chr> & <dbl> & <dbl>\\\\\n",
       "\\hline\n",
       "\t1 & a & 1 & 0\\\\\n",
       "\t2 & a & 2 & 1\\\\\n",
       "\t3 & a & 3 & 0\\\\\n",
       "\t4 & a & 4 & 1\\\\\n",
       "\t5 & b & 5 & 0\\\\\n",
       "\\end{tabular}\n"
      ],
      "text/markdown": [
       "\n",
       "A data.frame: 5 × 3\n",
       "\n",
       "| <!--/--> | stimulus &lt;chr&gt; | item &lt;dbl&gt; | correct_response &lt;dbl&gt; |\n",
       "|---|---|---|---|\n",
       "| 1 | a | 1 | 0 |\n",
       "| 2 | a | 2 | 1 |\n",
       "| 3 | a | 3 | 0 |\n",
       "| 4 | a | 4 | 1 |\n",
       "| 5 | b | 5 | 0 |\n",
       "\n"
      ],
      "text/plain": [
       "  stimulus item correct_response\n",
       "1 a        1    0               \n",
       "2 a        2    1               \n",
       "3 a        3    0               \n",
       "4 a        4    1               \n",
       "5 b        5    0               "
      ]
     },
     "metadata": {},
     "output_type": "display_data"
    }
   ],
   "source": [
    "df[seq(from=1, to=5),]"
   ]
  },
  {
   "cell_type": "code",
   "execution_count": 84,
   "metadata": {},
   "outputs": [
    {
     "data": {
      "text/html": [
       "<table class=\"dataframe\">\n",
       "<caption>A data.frame: 7 × 3</caption>\n",
       "<thead>\n",
       "\t<tr><th></th><th scope=col>stimulus</th><th scope=col>item</th><th scope=col>correct_response</th></tr>\n",
       "\t<tr><th></th><th scope=col>&lt;chr&gt;</th><th scope=col>&lt;dbl&gt;</th><th scope=col>&lt;dbl&gt;</th></tr>\n",
       "</thead>\n",
       "<tbody>\n",
       "\t<tr><th scope=row>6</th><td>b</td><td> 6</td><td>1</td></tr>\n",
       "\t<tr><th scope=row>7</th><td>b</td><td> 7</td><td>0</td></tr>\n",
       "\t<tr><th scope=row>8</th><td>b</td><td> 8</td><td>1</td></tr>\n",
       "\t<tr><th scope=row>9</th><td>c</td><td> 9</td><td>0</td></tr>\n",
       "\t<tr><th scope=row>10</th><td>c</td><td>10</td><td>1</td></tr>\n",
       "\t<tr><th scope=row>11</th><td>c</td><td>11</td><td>0</td></tr>\n",
       "\t<tr><th scope=row>12</th><td>c</td><td>12</td><td>1</td></tr>\n",
       "</tbody>\n",
       "</table>\n"
      ],
      "text/latex": [
       "A data.frame: 7 × 3\n",
       "\\begin{tabular}{r|lll}\n",
       "  & stimulus & item & correct\\_response\\\\\n",
       "  & <chr> & <dbl> & <dbl>\\\\\n",
       "\\hline\n",
       "\t6 & b &  6 & 1\\\\\n",
       "\t7 & b &  7 & 0\\\\\n",
       "\t8 & b &  8 & 1\\\\\n",
       "\t9 & c &  9 & 0\\\\\n",
       "\t10 & c & 10 & 1\\\\\n",
       "\t11 & c & 11 & 0\\\\\n",
       "\t12 & c & 12 & 1\\\\\n",
       "\\end{tabular}\n"
      ],
      "text/markdown": [
       "\n",
       "A data.frame: 7 × 3\n",
       "\n",
       "| <!--/--> | stimulus &lt;chr&gt; | item &lt;dbl&gt; | correct_response &lt;dbl&gt; |\n",
       "|---|---|---|---|\n",
       "| 6 | b |  6 | 1 |\n",
       "| 7 | b |  7 | 0 |\n",
       "| 8 | b |  8 | 1 |\n",
       "| 9 | c |  9 | 0 |\n",
       "| 10 | c | 10 | 1 |\n",
       "| 11 | c | 11 | 0 |\n",
       "| 12 | c | 12 | 1 |\n",
       "\n"
      ],
      "text/plain": [
       "   stimulus item correct_response\n",
       "6  b         6   1               \n",
       "7  b         7   0               \n",
       "8  b         8   1               \n",
       "9  c         9   0               \n",
       "10 c        10   1               \n",
       "11 c        11   0               \n",
       "12 c        12   1               "
      ]
     },
     "metadata": {},
     "output_type": "display_data"
    }
   ],
   "source": [
    "df[-seq(from=1, to=5),]"
   ]
  },
  {
   "cell_type": "markdown",
   "metadata": {},
   "source": [
    "Concatenate two dataframes:"
   ]
  },
  {
   "cell_type": "code",
   "execution_count": 85,
   "metadata": {},
   "outputs": [],
   "source": [
    "df_second = data.frame(\n",
    "    stimulus = rep(c('d', 'e', 'f'), each=2),\n",
    "    item = seq(from=13, by=1, length.out=6),\n",
    "    correct_response = rep(c(0, 1), times=3)\n",
    ")"
   ]
  },
  {
   "cell_type": "code",
   "execution_count": 86,
   "metadata": {},
   "outputs": [
    {
     "data": {
      "text/html": [
       "<table class=\"dataframe\">\n",
       "<caption>A data.frame: 6 × 3</caption>\n",
       "<thead>\n",
       "\t<tr><th scope=col>stimulus</th><th scope=col>item</th><th scope=col>correct_response</th></tr>\n",
       "\t<tr><th scope=col>&lt;chr&gt;</th><th scope=col>&lt;dbl&gt;</th><th scope=col>&lt;dbl&gt;</th></tr>\n",
       "</thead>\n",
       "<tbody>\n",
       "\t<tr><td>d</td><td>13</td><td>0</td></tr>\n",
       "\t<tr><td>d</td><td>14</td><td>1</td></tr>\n",
       "\t<tr><td>e</td><td>15</td><td>0</td></tr>\n",
       "\t<tr><td>e</td><td>16</td><td>1</td></tr>\n",
       "\t<tr><td>f</td><td>17</td><td>0</td></tr>\n",
       "\t<tr><td>f</td><td>18</td><td>1</td></tr>\n",
       "</tbody>\n",
       "</table>\n"
      ],
      "text/latex": [
       "A data.frame: 6 × 3\n",
       "\\begin{tabular}{lll}\n",
       " stimulus & item & correct\\_response\\\\\n",
       " <chr> & <dbl> & <dbl>\\\\\n",
       "\\hline\n",
       "\t d & 13 & 0\\\\\n",
       "\t d & 14 & 1\\\\\n",
       "\t e & 15 & 0\\\\\n",
       "\t e & 16 & 1\\\\\n",
       "\t f & 17 & 0\\\\\n",
       "\t f & 18 & 1\\\\\n",
       "\\end{tabular}\n"
      ],
      "text/markdown": [
       "\n",
       "A data.frame: 6 × 3\n",
       "\n",
       "| stimulus &lt;chr&gt; | item &lt;dbl&gt; | correct_response &lt;dbl&gt; |\n",
       "|---|---|---|\n",
       "| d | 13 | 0 |\n",
       "| d | 14 | 1 |\n",
       "| e | 15 | 0 |\n",
       "| e | 16 | 1 |\n",
       "| f | 17 | 0 |\n",
       "| f | 18 | 1 |\n",
       "\n"
      ],
      "text/plain": [
       "  stimulus item correct_response\n",
       "1 d        13   0               \n",
       "2 d        14   1               \n",
       "3 e        15   0               \n",
       "4 e        16   1               \n",
       "5 f        17   0               \n",
       "6 f        18   1               "
      ]
     },
     "metadata": {},
     "output_type": "display_data"
    }
   ],
   "source": [
    "df_second"
   ]
  },
  {
   "cell_type": "code",
   "execution_count": 87,
   "metadata": {},
   "outputs": [],
   "source": [
    "df_new = rbind(df, df_second)"
   ]
  },
  {
   "cell_type": "code",
   "execution_count": 88,
   "metadata": {},
   "outputs": [
    {
     "data": {
      "text/html": [
       "<table class=\"dataframe\">\n",
       "<caption>A data.frame: 18 × 3</caption>\n",
       "<thead>\n",
       "\t<tr><th scope=col>stimulus</th><th scope=col>item</th><th scope=col>correct_response</th></tr>\n",
       "\t<tr><th scope=col>&lt;chr&gt;</th><th scope=col>&lt;dbl&gt;</th><th scope=col>&lt;dbl&gt;</th></tr>\n",
       "</thead>\n",
       "<tbody>\n",
       "\t<tr><td>a</td><td> 1</td><td>0</td></tr>\n",
       "\t<tr><td>a</td><td> 2</td><td>1</td></tr>\n",
       "\t<tr><td>a</td><td> 3</td><td>0</td></tr>\n",
       "\t<tr><td>a</td><td> 4</td><td>1</td></tr>\n",
       "\t<tr><td>b</td><td> 5</td><td>0</td></tr>\n",
       "\t<tr><td>b</td><td> 6</td><td>1</td></tr>\n",
       "\t<tr><td>b</td><td> 7</td><td>0</td></tr>\n",
       "\t<tr><td>b</td><td> 8</td><td>1</td></tr>\n",
       "\t<tr><td>c</td><td> 9</td><td>0</td></tr>\n",
       "\t<tr><td>c</td><td>10</td><td>1</td></tr>\n",
       "\t<tr><td>c</td><td>11</td><td>0</td></tr>\n",
       "\t<tr><td>c</td><td>12</td><td>1</td></tr>\n",
       "\t<tr><td>d</td><td>13</td><td>0</td></tr>\n",
       "\t<tr><td>d</td><td>14</td><td>1</td></tr>\n",
       "\t<tr><td>e</td><td>15</td><td>0</td></tr>\n",
       "\t<tr><td>e</td><td>16</td><td>1</td></tr>\n",
       "\t<tr><td>f</td><td>17</td><td>0</td></tr>\n",
       "\t<tr><td>f</td><td>18</td><td>1</td></tr>\n",
       "</tbody>\n",
       "</table>\n"
      ],
      "text/latex": [
       "A data.frame: 18 × 3\n",
       "\\begin{tabular}{lll}\n",
       " stimulus & item & correct\\_response\\\\\n",
       " <chr> & <dbl> & <dbl>\\\\\n",
       "\\hline\n",
       "\t a &  1 & 0\\\\\n",
       "\t a &  2 & 1\\\\\n",
       "\t a &  3 & 0\\\\\n",
       "\t a &  4 & 1\\\\\n",
       "\t b &  5 & 0\\\\\n",
       "\t b &  6 & 1\\\\\n",
       "\t b &  7 & 0\\\\\n",
       "\t b &  8 & 1\\\\\n",
       "\t c &  9 & 0\\\\\n",
       "\t c & 10 & 1\\\\\n",
       "\t c & 11 & 0\\\\\n",
       "\t c & 12 & 1\\\\\n",
       "\t d & 13 & 0\\\\\n",
       "\t d & 14 & 1\\\\\n",
       "\t e & 15 & 0\\\\\n",
       "\t e & 16 & 1\\\\\n",
       "\t f & 17 & 0\\\\\n",
       "\t f & 18 & 1\\\\\n",
       "\\end{tabular}\n"
      ],
      "text/markdown": [
       "\n",
       "A data.frame: 18 × 3\n",
       "\n",
       "| stimulus &lt;chr&gt; | item &lt;dbl&gt; | correct_response &lt;dbl&gt; |\n",
       "|---|---|---|\n",
       "| a |  1 | 0 |\n",
       "| a |  2 | 1 |\n",
       "| a |  3 | 0 |\n",
       "| a |  4 | 1 |\n",
       "| b |  5 | 0 |\n",
       "| b |  6 | 1 |\n",
       "| b |  7 | 0 |\n",
       "| b |  8 | 1 |\n",
       "| c |  9 | 0 |\n",
       "| c | 10 | 1 |\n",
       "| c | 11 | 0 |\n",
       "| c | 12 | 1 |\n",
       "| d | 13 | 0 |\n",
       "| d | 14 | 1 |\n",
       "| e | 15 | 0 |\n",
       "| e | 16 | 1 |\n",
       "| f | 17 | 0 |\n",
       "| f | 18 | 1 |\n",
       "\n"
      ],
      "text/plain": [
       "   stimulus item correct_response\n",
       "1  a         1   0               \n",
       "2  a         2   1               \n",
       "3  a         3   0               \n",
       "4  a         4   1               \n",
       "5  b         5   0               \n",
       "6  b         6   1               \n",
       "7  b         7   0               \n",
       "8  b         8   1               \n",
       "9  c         9   0               \n",
       "10 c        10   1               \n",
       "11 c        11   0               \n",
       "12 c        12   1               \n",
       "13 d        13   0               \n",
       "14 d        14   1               \n",
       "15 e        15   0               \n",
       "16 e        16   1               \n",
       "17 f        17   0               \n",
       "18 f        18   1               "
      ]
     },
     "metadata": {},
     "output_type": "display_data"
    }
   ],
   "source": [
    "df_new"
   ]
  },
  {
   "cell_type": "code",
   "execution_count": 89,
   "metadata": {},
   "outputs": [
    {
     "data": {
      "text/html": [
       "<table class=\"dataframe\">\n",
       "<caption>A data.frame: 18 × 3</caption>\n",
       "<thead>\n",
       "\t<tr><th scope=col>stimulus</th><th scope=col>item</th><th scope=col>correct_response</th></tr>\n",
       "\t<tr><th scope=col>&lt;chr&gt;</th><th scope=col>&lt;dbl&gt;</th><th scope=col>&lt;dbl&gt;</th></tr>\n",
       "</thead>\n",
       "<tbody>\n",
       "\t<tr><td>a</td><td> 1</td><td>  0</td></tr>\n",
       "\t<tr><td>a</td><td> 2</td><td>  1</td></tr>\n",
       "\t<tr><td>a</td><td> 3</td><td>  0</td></tr>\n",
       "\t<tr><td>a</td><td> 4</td><td>  1</td></tr>\n",
       "\t<tr><td>b</td><td> 5</td><td>  0</td></tr>\n",
       "\t<tr><td>b</td><td> 6</td><td>  1</td></tr>\n",
       "\t<tr><td>b</td><td> 7</td><td>  0</td></tr>\n",
       "\t<tr><td>b</td><td> 8</td><td>  1</td></tr>\n",
       "\t<tr><td>c</td><td> 9</td><td>  0</td></tr>\n",
       "\t<tr><td>c</td><td>10</td><td>  1</td></tr>\n",
       "\t<tr><td>c</td><td>11</td><td>  0</td></tr>\n",
       "\t<tr><td>c</td><td>12</td><td>  1</td></tr>\n",
       "\t<tr><td>d</td><td>13</td><td>NaN</td></tr>\n",
       "\t<tr><td>d</td><td>14</td><td>  1</td></tr>\n",
       "\t<tr><td>e</td><td>15</td><td>  0</td></tr>\n",
       "\t<tr><td>e</td><td>16</td><td>  1</td></tr>\n",
       "\t<tr><td>f</td><td>17</td><td>  0</td></tr>\n",
       "\t<tr><td>f</td><td>18</td><td>  1</td></tr>\n",
       "</tbody>\n",
       "</table>\n"
      ],
      "text/latex": [
       "A data.frame: 18 × 3\n",
       "\\begin{tabular}{lll}\n",
       " stimulus & item & correct\\_response\\\\\n",
       " <chr> & <dbl> & <dbl>\\\\\n",
       "\\hline\n",
       "\t a &  1 &   0\\\\\n",
       "\t a &  2 &   1\\\\\n",
       "\t a &  3 &   0\\\\\n",
       "\t a &  4 &   1\\\\\n",
       "\t b &  5 &   0\\\\\n",
       "\t b &  6 &   1\\\\\n",
       "\t b &  7 &   0\\\\\n",
       "\t b &  8 &   1\\\\\n",
       "\t c &  9 &   0\\\\\n",
       "\t c & 10 &   1\\\\\n",
       "\t c & 11 &   0\\\\\n",
       "\t c & 12 &   1\\\\\n",
       "\t d & 13 & NaN\\\\\n",
       "\t d & 14 &   1\\\\\n",
       "\t e & 15 &   0\\\\\n",
       "\t e & 16 &   1\\\\\n",
       "\t f & 17 &   0\\\\\n",
       "\t f & 18 &   1\\\\\n",
       "\\end{tabular}\n"
      ],
      "text/markdown": [
       "\n",
       "A data.frame: 18 × 3\n",
       "\n",
       "| stimulus &lt;chr&gt; | item &lt;dbl&gt; | correct_response &lt;dbl&gt; |\n",
       "|---|---|---|\n",
       "| a |  1 |   0 |\n",
       "| a |  2 |   1 |\n",
       "| a |  3 |   0 |\n",
       "| a |  4 |   1 |\n",
       "| b |  5 |   0 |\n",
       "| b |  6 |   1 |\n",
       "| b |  7 |   0 |\n",
       "| b |  8 |   1 |\n",
       "| c |  9 |   0 |\n",
       "| c | 10 |   1 |\n",
       "| c | 11 |   0 |\n",
       "| c | 12 |   1 |\n",
       "| d | 13 | NaN |\n",
       "| d | 14 |   1 |\n",
       "| e | 15 |   0 |\n",
       "| e | 16 |   1 |\n",
       "| f | 17 |   0 |\n",
       "| f | 18 |   1 |\n",
       "\n"
      ],
      "text/plain": [
       "   stimulus item correct_response\n",
       "1  a         1     0             \n",
       "2  a         2     1             \n",
       "3  a         3     0             \n",
       "4  a         4     1             \n",
       "5  b         5     0             \n",
       "6  b         6     1             \n",
       "7  b         7     0             \n",
       "8  b         8     1             \n",
       "9  c         9     0             \n",
       "10 c        10     1             \n",
       "11 c        11     0             \n",
       "12 c        12     1             \n",
       "13 d        13   NaN             \n",
       "14 d        14     1             \n",
       "15 e        15     0             \n",
       "16 e        16     1             \n",
       "17 f        17     0             \n",
       "18 f        18     1             "
      ]
     },
     "metadata": {},
     "output_type": "display_data"
    }
   ],
   "source": [
    "df_new[13, \"correct_response\"] = NaN\n",
    "df_new"
   ]
  },
  {
   "cell_type": "code",
   "execution_count": 90,
   "metadata": {},
   "outputs": [],
   "source": [
    "df_third = data.frame(\n",
    "    missing_value = is.nan(df_new$correct_response)\n",
    ")"
   ]
  },
  {
   "cell_type": "code",
   "execution_count": 91,
   "metadata": {},
   "outputs": [
    {
     "data": {
      "text/html": [
       "<table class=\"dataframe\">\n",
       "<caption>A data.frame: 18 × 1</caption>\n",
       "<thead>\n",
       "\t<tr><th scope=col>missing_value</th></tr>\n",
       "\t<tr><th scope=col>&lt;lgl&gt;</th></tr>\n",
       "</thead>\n",
       "<tbody>\n",
       "\t<tr><td>FALSE</td></tr>\n",
       "\t<tr><td>FALSE</td></tr>\n",
       "\t<tr><td>FALSE</td></tr>\n",
       "\t<tr><td>FALSE</td></tr>\n",
       "\t<tr><td>FALSE</td></tr>\n",
       "\t<tr><td>FALSE</td></tr>\n",
       "\t<tr><td>FALSE</td></tr>\n",
       "\t<tr><td>FALSE</td></tr>\n",
       "\t<tr><td>FALSE</td></tr>\n",
       "\t<tr><td>FALSE</td></tr>\n",
       "\t<tr><td>FALSE</td></tr>\n",
       "\t<tr><td>FALSE</td></tr>\n",
       "\t<tr><td> TRUE</td></tr>\n",
       "\t<tr><td>FALSE</td></tr>\n",
       "\t<tr><td>FALSE</td></tr>\n",
       "\t<tr><td>FALSE</td></tr>\n",
       "\t<tr><td>FALSE</td></tr>\n",
       "\t<tr><td>FALSE</td></tr>\n",
       "</tbody>\n",
       "</table>\n"
      ],
      "text/latex": [
       "A data.frame: 18 × 1\n",
       "\\begin{tabular}{l}\n",
       " missing\\_value\\\\\n",
       " <lgl>\\\\\n",
       "\\hline\n",
       "\t FALSE\\\\\n",
       "\t FALSE\\\\\n",
       "\t FALSE\\\\\n",
       "\t FALSE\\\\\n",
       "\t FALSE\\\\\n",
       "\t FALSE\\\\\n",
       "\t FALSE\\\\\n",
       "\t FALSE\\\\\n",
       "\t FALSE\\\\\n",
       "\t FALSE\\\\\n",
       "\t FALSE\\\\\n",
       "\t FALSE\\\\\n",
       "\t  TRUE\\\\\n",
       "\t FALSE\\\\\n",
       "\t FALSE\\\\\n",
       "\t FALSE\\\\\n",
       "\t FALSE\\\\\n",
       "\t FALSE\\\\\n",
       "\\end{tabular}\n"
      ],
      "text/markdown": [
       "\n",
       "A data.frame: 18 × 1\n",
       "\n",
       "| missing_value &lt;lgl&gt; |\n",
       "|---|\n",
       "| FALSE |\n",
       "| FALSE |\n",
       "| FALSE |\n",
       "| FALSE |\n",
       "| FALSE |\n",
       "| FALSE |\n",
       "| FALSE |\n",
       "| FALSE |\n",
       "| FALSE |\n",
       "| FALSE |\n",
       "| FALSE |\n",
       "| FALSE |\n",
       "|  TRUE |\n",
       "| FALSE |\n",
       "| FALSE |\n",
       "| FALSE |\n",
       "| FALSE |\n",
       "| FALSE |\n",
       "\n"
      ],
      "text/plain": [
       "   missing_value\n",
       "1  FALSE        \n",
       "2  FALSE        \n",
       "3  FALSE        \n",
       "4  FALSE        \n",
       "5  FALSE        \n",
       "6  FALSE        \n",
       "7  FALSE        \n",
       "8  FALSE        \n",
       "9  FALSE        \n",
       "10 FALSE        \n",
       "11 FALSE        \n",
       "12 FALSE        \n",
       "13  TRUE        \n",
       "14 FALSE        \n",
       "15 FALSE        \n",
       "16 FALSE        \n",
       "17 FALSE        \n",
       "18 FALSE        "
      ]
     },
     "metadata": {},
     "output_type": "display_data"
    }
   ],
   "source": [
    "df_third"
   ]
  },
  {
   "cell_type": "code",
   "execution_count": 92,
   "metadata": {},
   "outputs": [
    {
     "data": {
      "text/html": [
       "<table class=\"dataframe\">\n",
       "<caption>A data.frame: 18 × 4</caption>\n",
       "<thead>\n",
       "\t<tr><th scope=col>stimulus</th><th scope=col>item</th><th scope=col>correct_response</th><th scope=col>missing_value</th></tr>\n",
       "\t<tr><th scope=col>&lt;chr&gt;</th><th scope=col>&lt;dbl&gt;</th><th scope=col>&lt;dbl&gt;</th><th scope=col>&lt;lgl&gt;</th></tr>\n",
       "</thead>\n",
       "<tbody>\n",
       "\t<tr><td>a</td><td> 1</td><td>  0</td><td>FALSE</td></tr>\n",
       "\t<tr><td>a</td><td> 2</td><td>  1</td><td>FALSE</td></tr>\n",
       "\t<tr><td>a</td><td> 3</td><td>  0</td><td>FALSE</td></tr>\n",
       "\t<tr><td>a</td><td> 4</td><td>  1</td><td>FALSE</td></tr>\n",
       "\t<tr><td>b</td><td> 5</td><td>  0</td><td>FALSE</td></tr>\n",
       "\t<tr><td>b</td><td> 6</td><td>  1</td><td>FALSE</td></tr>\n",
       "\t<tr><td>b</td><td> 7</td><td>  0</td><td>FALSE</td></tr>\n",
       "\t<tr><td>b</td><td> 8</td><td>  1</td><td>FALSE</td></tr>\n",
       "\t<tr><td>c</td><td> 9</td><td>  0</td><td>FALSE</td></tr>\n",
       "\t<tr><td>c</td><td>10</td><td>  1</td><td>FALSE</td></tr>\n",
       "\t<tr><td>c</td><td>11</td><td>  0</td><td>FALSE</td></tr>\n",
       "\t<tr><td>c</td><td>12</td><td>  1</td><td>FALSE</td></tr>\n",
       "\t<tr><td>d</td><td>13</td><td>NaN</td><td> TRUE</td></tr>\n",
       "\t<tr><td>d</td><td>14</td><td>  1</td><td>FALSE</td></tr>\n",
       "\t<tr><td>e</td><td>15</td><td>  0</td><td>FALSE</td></tr>\n",
       "\t<tr><td>e</td><td>16</td><td>  1</td><td>FALSE</td></tr>\n",
       "\t<tr><td>f</td><td>17</td><td>  0</td><td>FALSE</td></tr>\n",
       "\t<tr><td>f</td><td>18</td><td>  1</td><td>FALSE</td></tr>\n",
       "</tbody>\n",
       "</table>\n"
      ],
      "text/latex": [
       "A data.frame: 18 × 4\n",
       "\\begin{tabular}{llll}\n",
       " stimulus & item & correct\\_response & missing\\_value\\\\\n",
       " <chr> & <dbl> & <dbl> & <lgl>\\\\\n",
       "\\hline\n",
       "\t a &  1 &   0 & FALSE\\\\\n",
       "\t a &  2 &   1 & FALSE\\\\\n",
       "\t a &  3 &   0 & FALSE\\\\\n",
       "\t a &  4 &   1 & FALSE\\\\\n",
       "\t b &  5 &   0 & FALSE\\\\\n",
       "\t b &  6 &   1 & FALSE\\\\\n",
       "\t b &  7 &   0 & FALSE\\\\\n",
       "\t b &  8 &   1 & FALSE\\\\\n",
       "\t c &  9 &   0 & FALSE\\\\\n",
       "\t c & 10 &   1 & FALSE\\\\\n",
       "\t c & 11 &   0 & FALSE\\\\\n",
       "\t c & 12 &   1 & FALSE\\\\\n",
       "\t d & 13 & NaN &  TRUE\\\\\n",
       "\t d & 14 &   1 & FALSE\\\\\n",
       "\t e & 15 &   0 & FALSE\\\\\n",
       "\t e & 16 &   1 & FALSE\\\\\n",
       "\t f & 17 &   0 & FALSE\\\\\n",
       "\t f & 18 &   1 & FALSE\\\\\n",
       "\\end{tabular}\n"
      ],
      "text/markdown": [
       "\n",
       "A data.frame: 18 × 4\n",
       "\n",
       "| stimulus &lt;chr&gt; | item &lt;dbl&gt; | correct_response &lt;dbl&gt; | missing_value &lt;lgl&gt; |\n",
       "|---|---|---|---|\n",
       "| a |  1 |   0 | FALSE |\n",
       "| a |  2 |   1 | FALSE |\n",
       "| a |  3 |   0 | FALSE |\n",
       "| a |  4 |   1 | FALSE |\n",
       "| b |  5 |   0 | FALSE |\n",
       "| b |  6 |   1 | FALSE |\n",
       "| b |  7 |   0 | FALSE |\n",
       "| b |  8 |   1 | FALSE |\n",
       "| c |  9 |   0 | FALSE |\n",
       "| c | 10 |   1 | FALSE |\n",
       "| c | 11 |   0 | FALSE |\n",
       "| c | 12 |   1 | FALSE |\n",
       "| d | 13 | NaN |  TRUE |\n",
       "| d | 14 |   1 | FALSE |\n",
       "| e | 15 |   0 | FALSE |\n",
       "| e | 16 |   1 | FALSE |\n",
       "| f | 17 |   0 | FALSE |\n",
       "| f | 18 |   1 | FALSE |\n",
       "\n"
      ],
      "text/plain": [
       "   stimulus item correct_response missing_value\n",
       "1  a         1     0              FALSE        \n",
       "2  a         2     1              FALSE        \n",
       "3  a         3     0              FALSE        \n",
       "4  a         4     1              FALSE        \n",
       "5  b         5     0              FALSE        \n",
       "6  b         6     1              FALSE        \n",
       "7  b         7     0              FALSE        \n",
       "8  b         8     1              FALSE        \n",
       "9  c         9     0              FALSE        \n",
       "10 c        10     1              FALSE        \n",
       "11 c        11     0              FALSE        \n",
       "12 c        12     1              FALSE        \n",
       "13 d        13   NaN               TRUE        \n",
       "14 d        14     1              FALSE        \n",
       "15 e        15     0              FALSE        \n",
       "16 e        16     1              FALSE        \n",
       "17 f        17     0              FALSE        \n",
       "18 f        18     1              FALSE        "
      ]
     },
     "metadata": {},
     "output_type": "display_data"
    }
   ],
   "source": [
    "df_final = cbind(df_new, df_third)\n",
    "df_final"
   ]
  },
  {
   "cell_type": "markdown",
   "metadata": {},
   "source": [
    "Select and change values:"
   ]
  },
  {
   "cell_type": "code",
   "execution_count": 93,
   "metadata": {},
   "outputs": [
    {
     "data": {
      "text/html": [
       "<table class=\"dataframe\">\n",
       "<caption>A data.frame: 18 × 4</caption>\n",
       "<thead>\n",
       "\t<tr><th scope=col>stimulus</th><th scope=col>item</th><th scope=col>correct_response</th><th scope=col>missing_value</th></tr>\n",
       "\t<tr><th scope=col>&lt;chr&gt;</th><th scope=col>&lt;dbl&gt;</th><th scope=col>&lt;dbl&gt;</th><th scope=col>&lt;lgl&gt;</th></tr>\n",
       "</thead>\n",
       "<tbody>\n",
       "\t<tr><td>a</td><td> 1</td><td>  0</td><td>FALSE</td></tr>\n",
       "\t<tr><td>a</td><td> 2</td><td>  1</td><td>FALSE</td></tr>\n",
       "\t<tr><td>f</td><td> 3</td><td>  0</td><td>FALSE</td></tr>\n",
       "\t<tr><td>a</td><td> 4</td><td>  1</td><td>FALSE</td></tr>\n",
       "\t<tr><td>b</td><td> 5</td><td>  0</td><td>FALSE</td></tr>\n",
       "\t<tr><td>b</td><td> 6</td><td>  1</td><td>FALSE</td></tr>\n",
       "\t<tr><td>b</td><td> 7</td><td>  0</td><td>FALSE</td></tr>\n",
       "\t<tr><td>b</td><td> 8</td><td>  1</td><td>FALSE</td></tr>\n",
       "\t<tr><td>c</td><td> 9</td><td>  0</td><td>FALSE</td></tr>\n",
       "\t<tr><td>c</td><td>10</td><td>  1</td><td>FALSE</td></tr>\n",
       "\t<tr><td>c</td><td>11</td><td>  0</td><td>FALSE</td></tr>\n",
       "\t<tr><td>c</td><td>12</td><td>  1</td><td>FALSE</td></tr>\n",
       "\t<tr><td>d</td><td>13</td><td>NaN</td><td> TRUE</td></tr>\n",
       "\t<tr><td>d</td><td>14</td><td>  1</td><td>FALSE</td></tr>\n",
       "\t<tr><td>e</td><td>15</td><td>  0</td><td>FALSE</td></tr>\n",
       "\t<tr><td>e</td><td>16</td><td>  1</td><td>FALSE</td></tr>\n",
       "\t<tr><td>f</td><td>17</td><td>  0</td><td>FALSE</td></tr>\n",
       "\t<tr><td>f</td><td>18</td><td>  1</td><td>FALSE</td></tr>\n",
       "</tbody>\n",
       "</table>\n"
      ],
      "text/latex": [
       "A data.frame: 18 × 4\n",
       "\\begin{tabular}{llll}\n",
       " stimulus & item & correct\\_response & missing\\_value\\\\\n",
       " <chr> & <dbl> & <dbl> & <lgl>\\\\\n",
       "\\hline\n",
       "\t a &  1 &   0 & FALSE\\\\\n",
       "\t a &  2 &   1 & FALSE\\\\\n",
       "\t f &  3 &   0 & FALSE\\\\\n",
       "\t a &  4 &   1 & FALSE\\\\\n",
       "\t b &  5 &   0 & FALSE\\\\\n",
       "\t b &  6 &   1 & FALSE\\\\\n",
       "\t b &  7 &   0 & FALSE\\\\\n",
       "\t b &  8 &   1 & FALSE\\\\\n",
       "\t c &  9 &   0 & FALSE\\\\\n",
       "\t c & 10 &   1 & FALSE\\\\\n",
       "\t c & 11 &   0 & FALSE\\\\\n",
       "\t c & 12 &   1 & FALSE\\\\\n",
       "\t d & 13 & NaN &  TRUE\\\\\n",
       "\t d & 14 &   1 & FALSE\\\\\n",
       "\t e & 15 &   0 & FALSE\\\\\n",
       "\t e & 16 &   1 & FALSE\\\\\n",
       "\t f & 17 &   0 & FALSE\\\\\n",
       "\t f & 18 &   1 & FALSE\\\\\n",
       "\\end{tabular}\n"
      ],
      "text/markdown": [
       "\n",
       "A data.frame: 18 × 4\n",
       "\n",
       "| stimulus &lt;chr&gt; | item &lt;dbl&gt; | correct_response &lt;dbl&gt; | missing_value &lt;lgl&gt; |\n",
       "|---|---|---|---|\n",
       "| a |  1 |   0 | FALSE |\n",
       "| a |  2 |   1 | FALSE |\n",
       "| f |  3 |   0 | FALSE |\n",
       "| a |  4 |   1 | FALSE |\n",
       "| b |  5 |   0 | FALSE |\n",
       "| b |  6 |   1 | FALSE |\n",
       "| b |  7 |   0 | FALSE |\n",
       "| b |  8 |   1 | FALSE |\n",
       "| c |  9 |   0 | FALSE |\n",
       "| c | 10 |   1 | FALSE |\n",
       "| c | 11 |   0 | FALSE |\n",
       "| c | 12 |   1 | FALSE |\n",
       "| d | 13 | NaN |  TRUE |\n",
       "| d | 14 |   1 | FALSE |\n",
       "| e | 15 |   0 | FALSE |\n",
       "| e | 16 |   1 | FALSE |\n",
       "| f | 17 |   0 | FALSE |\n",
       "| f | 18 |   1 | FALSE |\n",
       "\n"
      ],
      "text/plain": [
       "   stimulus item correct_response missing_value\n",
       "1  a         1     0              FALSE        \n",
       "2  a         2     1              FALSE        \n",
       "3  f         3     0              FALSE        \n",
       "4  a         4     1              FALSE        \n",
       "5  b         5     0              FALSE        \n",
       "6  b         6     1              FALSE        \n",
       "7  b         7     0              FALSE        \n",
       "8  b         8     1              FALSE        \n",
       "9  c         9     0              FALSE        \n",
       "10 c        10     1              FALSE        \n",
       "11 c        11     0              FALSE        \n",
       "12 c        12     1              FALSE        \n",
       "13 d        13   NaN               TRUE        \n",
       "14 d        14     1              FALSE        \n",
       "15 e        15     0              FALSE        \n",
       "16 e        16     1              FALSE        \n",
       "17 f        17     0              FALSE        \n",
       "18 f        18     1              FALSE        "
      ]
     },
     "metadata": {},
     "output_type": "display_data"
    }
   ],
   "source": [
    "df_final[3, \"stimulus\"] = \"f\"\n",
    "df_final"
   ]
  },
  {
   "cell_type": "code",
   "execution_count": 94,
   "metadata": {},
   "outputs": [
    {
     "data": {
      "text/html": [
       "<table class=\"dataframe\">\n",
       "<caption>A data.frame: 18 × 4</caption>\n",
       "<thead>\n",
       "\t<tr><th scope=col>stimulus</th><th scope=col>item</th><th scope=col>correct_response</th><th scope=col>missing_value</th></tr>\n",
       "\t<tr><th scope=col>&lt;chr&gt;</th><th scope=col>&lt;dbl&gt;</th><th scope=col>&lt;dbl&gt;</th><th scope=col>&lt;lgl&gt;</th></tr>\n",
       "</thead>\n",
       "<tbody>\n",
       "\t<tr><td>f</td><td> 1</td><td>  0</td><td>FALSE</td></tr>\n",
       "\t<tr><td>f</td><td> 2</td><td>  1</td><td>FALSE</td></tr>\n",
       "\t<tr><td>f</td><td> 3</td><td>  0</td><td>FALSE</td></tr>\n",
       "\t<tr><td>f</td><td> 4</td><td>  1</td><td>FALSE</td></tr>\n",
       "\t<tr><td>b</td><td> 5</td><td>  0</td><td>FALSE</td></tr>\n",
       "\t<tr><td>b</td><td> 6</td><td>  1</td><td>FALSE</td></tr>\n",
       "\t<tr><td>b</td><td> 7</td><td>  0</td><td>FALSE</td></tr>\n",
       "\t<tr><td>b</td><td> 8</td><td>  1</td><td>FALSE</td></tr>\n",
       "\t<tr><td>c</td><td> 9</td><td>  0</td><td>FALSE</td></tr>\n",
       "\t<tr><td>c</td><td>10</td><td>  1</td><td>FALSE</td></tr>\n",
       "\t<tr><td>c</td><td>11</td><td>  0</td><td>FALSE</td></tr>\n",
       "\t<tr><td>c</td><td>12</td><td>  1</td><td>FALSE</td></tr>\n",
       "\t<tr><td>d</td><td>13</td><td>NaN</td><td> TRUE</td></tr>\n",
       "\t<tr><td>d</td><td>14</td><td>  1</td><td>FALSE</td></tr>\n",
       "\t<tr><td>e</td><td>15</td><td>  0</td><td>FALSE</td></tr>\n",
       "\t<tr><td>e</td><td>16</td><td>  1</td><td>FALSE</td></tr>\n",
       "\t<tr><td>f</td><td>17</td><td>  0</td><td>FALSE</td></tr>\n",
       "\t<tr><td>f</td><td>18</td><td>  1</td><td>FALSE</td></tr>\n",
       "</tbody>\n",
       "</table>\n"
      ],
      "text/latex": [
       "A data.frame: 18 × 4\n",
       "\\begin{tabular}{llll}\n",
       " stimulus & item & correct\\_response & missing\\_value\\\\\n",
       " <chr> & <dbl> & <dbl> & <lgl>\\\\\n",
       "\\hline\n",
       "\t f &  1 &   0 & FALSE\\\\\n",
       "\t f &  2 &   1 & FALSE\\\\\n",
       "\t f &  3 &   0 & FALSE\\\\\n",
       "\t f &  4 &   1 & FALSE\\\\\n",
       "\t b &  5 &   0 & FALSE\\\\\n",
       "\t b &  6 &   1 & FALSE\\\\\n",
       "\t b &  7 &   0 & FALSE\\\\\n",
       "\t b &  8 &   1 & FALSE\\\\\n",
       "\t c &  9 &   0 & FALSE\\\\\n",
       "\t c & 10 &   1 & FALSE\\\\\n",
       "\t c & 11 &   0 & FALSE\\\\\n",
       "\t c & 12 &   1 & FALSE\\\\\n",
       "\t d & 13 & NaN &  TRUE\\\\\n",
       "\t d & 14 &   1 & FALSE\\\\\n",
       "\t e & 15 &   0 & FALSE\\\\\n",
       "\t e & 16 &   1 & FALSE\\\\\n",
       "\t f & 17 &   0 & FALSE\\\\\n",
       "\t f & 18 &   1 & FALSE\\\\\n",
       "\\end{tabular}\n"
      ],
      "text/markdown": [
       "\n",
       "A data.frame: 18 × 4\n",
       "\n",
       "| stimulus &lt;chr&gt; | item &lt;dbl&gt; | correct_response &lt;dbl&gt; | missing_value &lt;lgl&gt; |\n",
       "|---|---|---|---|\n",
       "| f |  1 |   0 | FALSE |\n",
       "| f |  2 |   1 | FALSE |\n",
       "| f |  3 |   0 | FALSE |\n",
       "| f |  4 |   1 | FALSE |\n",
       "| b |  5 |   0 | FALSE |\n",
       "| b |  6 |   1 | FALSE |\n",
       "| b |  7 |   0 | FALSE |\n",
       "| b |  8 |   1 | FALSE |\n",
       "| c |  9 |   0 | FALSE |\n",
       "| c | 10 |   1 | FALSE |\n",
       "| c | 11 |   0 | FALSE |\n",
       "| c | 12 |   1 | FALSE |\n",
       "| d | 13 | NaN |  TRUE |\n",
       "| d | 14 |   1 | FALSE |\n",
       "| e | 15 |   0 | FALSE |\n",
       "| e | 16 |   1 | FALSE |\n",
       "| f | 17 |   0 | FALSE |\n",
       "| f | 18 |   1 | FALSE |\n",
       "\n"
      ],
      "text/plain": [
       "   stimulus item correct_response missing_value\n",
       "1  f         1     0              FALSE        \n",
       "2  f         2     1              FALSE        \n",
       "3  f         3     0              FALSE        \n",
       "4  f         4     1              FALSE        \n",
       "5  b         5     0              FALSE        \n",
       "6  b         6     1              FALSE        \n",
       "7  b         7     0              FALSE        \n",
       "8  b         8     1              FALSE        \n",
       "9  c         9     0              FALSE        \n",
       "10 c        10     1              FALSE        \n",
       "11 c        11     0              FALSE        \n",
       "12 c        12     1              FALSE        \n",
       "13 d        13   NaN               TRUE        \n",
       "14 d        14     1              FALSE        \n",
       "15 e        15     0              FALSE        \n",
       "16 e        16     1              FALSE        \n",
       "17 f        17     0              FALSE        \n",
       "18 f        18     1              FALSE        "
      ]
     },
     "metadata": {},
     "output_type": "display_data"
    }
   ],
   "source": [
    "df_final[df_final$stimulus == \"a\", \"stimulus\"] = \"f\"\n",
    "df_final"
   ]
  },
  {
   "cell_type": "markdown",
   "metadata": {},
   "source": [
    "## 11. Probability distributions"
   ]
  },
  {
   "cell_type": "markdown",
   "metadata": {},
   "source": [
    "R provides convenient functions to simulate observations from different distributions.\n",
    "\n",
    "For example:\n",
    "\n",
    "Distribution | R Name | Arguments\n",
    "------------ | ------ | --------------------\n",
    "uniform | runif | n, min, max\n",
    "normal | rnorm | n, mean, sd\n",
    "binomial | rbinom | n, size, prob"
   ]
  },
  {
   "cell_type": "code",
   "execution_count": 95,
   "metadata": {},
   "outputs": [
    {
     "data": {
      "text/html": [
       "<style>\n",
       ".list-inline {list-style: none; margin:0; padding: 0}\n",
       ".list-inline>li {display: inline-block}\n",
       ".list-inline>li:not(:last-child)::after {content: \"\\00b7\"; padding: 0 .5ex}\n",
       "</style>\n",
       "<ol class=list-inline><li>2.78157227649353</li><li>9.95212496840395</li><li>6.74676748225465</li><li>1.26654065889306</li><li>8.58880272414535</li><li>8.28614627383649</li><li>4.896091286093</li><li>3.85565201775171</li><li>5.61763175483793</li><li>1.26776984822936</li></ol>\n"
      ],
      "text/latex": [
       "\\begin{enumerate*}\n",
       "\\item 2.78157227649353\n",
       "\\item 9.95212496840395\n",
       "\\item 6.74676748225465\n",
       "\\item 1.26654065889306\n",
       "\\item 8.58880272414535\n",
       "\\item 8.28614627383649\n",
       "\\item 4.896091286093\n",
       "\\item 3.85565201775171\n",
       "\\item 5.61763175483793\n",
       "\\item 1.26776984822936\n",
       "\\end{enumerate*}\n"
      ],
      "text/markdown": [
       "1. 2.78157227649353\n",
       "2. 9.95212496840395\n",
       "3. 6.74676748225465\n",
       "4. 1.26654065889306\n",
       "5. 8.58880272414535\n",
       "6. 8.28614627383649\n",
       "7. 4.896091286093\n",
       "8. 3.85565201775171\n",
       "9. 5.61763175483793\n",
       "10. 1.26776984822936\n",
       "\n",
       "\n"
      ],
      "text/plain": [
       " [1] 2.781572 9.952125 6.746767 1.266541 8.588803 8.286146 4.896091 3.855652\n",
       " [9] 5.617632 1.267770"
      ]
     },
     "metadata": {},
     "output_type": "display_data"
    }
   ],
   "source": [
    "runif(n=10, min=1, max=10)"
   ]
  },
  {
   "cell_type": "code",
   "execution_count": 96,
   "metadata": {},
   "outputs": [
    {
     "data": {
      "text/html": [
       "20.5761264600335"
      ],
      "text/latex": [
       "20.5761264600335"
      ],
      "text/markdown": [
       "20.5761264600335"
      ],
      "text/plain": [
       "[1] 20.57613"
      ]
     },
     "metadata": {},
     "output_type": "display_data"
    },
    {
     "data": {
      "text/html": [
       "<style>\n",
       ".list-inline {list-style: none; margin:0; padding: 0}\n",
       ".list-inline>li {display: inline-block}\n",
       ".list-inline>li:not(:last-child)::after {content: \"\\00b7\"; padding: 0 .5ex}\n",
       "</style>\n",
       "<ol class=list-inline><li>8.87527196000174</li><li>31.7649343080015</li></ol>\n"
      ],
      "text/latex": [
       "\\begin{enumerate*}\n",
       "\\item 8.87527196000174\n",
       "\\item 31.7649343080015\n",
       "\\end{enumerate*}\n"
      ],
      "text/markdown": [
       "1. 8.87527196000174\n",
       "2. 31.7649343080015\n",
       "\n",
       "\n"
      ],
      "text/plain": [
       "[1]  8.875272 31.764934"
      ]
     },
     "metadata": {},
     "output_type": "display_data"
    }
   ],
   "source": [
    "x = rnorm(n=20, mean=20, sd=5)\n",
    "\n",
    "mean(x)\n",
    "range(x)"
   ]
  },
  {
   "cell_type": "code",
   "execution_count": 97,
   "metadata": {},
   "outputs": [
    {
     "data": {
      "text/html": [
       "<style>\n",
       ".list-inline {list-style: none; margin:0; padding: 0}\n",
       ".list-inline>li {display: inline-block}\n",
       ".list-inline>li:not(:last-child)::after {content: \"\\00b7\"; padding: 0 .5ex}\n",
       "</style>\n",
       "<ol class=list-inline><li>1</li><li>1</li><li>0</li><li>1</li><li>0</li><li>1</li></ol>\n"
      ],
      "text/latex": [
       "\\begin{enumerate*}\n",
       "\\item 1\n",
       "\\item 1\n",
       "\\item 0\n",
       "\\item 1\n",
       "\\item 0\n",
       "\\item 1\n",
       "\\end{enumerate*}\n"
      ],
      "text/markdown": [
       "1. 1\n",
       "2. 1\n",
       "3. 0\n",
       "4. 1\n",
       "5. 0\n",
       "6. 1\n",
       "\n",
       "\n"
      ],
      "text/plain": [
       "[1] 1 1 0 1 0 1"
      ]
     },
     "metadata": {},
     "output_type": "display_data"
    }
   ],
   "source": [
    "rbinom(n=6, size=1, prob=.6)"
   ]
  },
  {
   "cell_type": "markdown",
   "metadata": {},
   "source": [
    "## 12. Now it's your turn\n",
    "\n",
    "**Task A** \n",
    "\n",
    "1. Create a numeric vector called `participants`, containing integer numbers from 1 to 20, using `c()` and `seq()`.\n",
    "2. Create a character vector called `conditions`, of length 20, containing alternating values of \"a\" and \"b\" (\"a\", \"b\", \"a\", \"b\", \"a\", ...), using `rep()`.\n",
    "3. Create a vector called `first_half`, containing only the first half of the `participants` vector's values.\n",
    "4. Check that both `participants` and `conditions` have length 20, and that `first_half` has length 10, using `length()`.\n",
    "5. Instead of the fifth element in `conditions`, insert a missing value. Print the `conditions` after the change.\n",
    "6. Create a vector called `participants_cond`, by pasting together (using `paste()`) `participants` and `conditions`, separated by `_`. So, the first element should be \"1_a\". \n",
    "7. Check that the 5th element of participants_cond is still a missing value."
   ]
  },
  {
   "cell_type": "markdown",
   "metadata": {},
   "source": [
    "**Task B**\n",
    "\n",
    "1. Create a data frame called `my_data`, with as columns the vectors`participants`, `conditions` and `participants_cond` that you created before. Print the data frame to have a look if it worked.\n",
    "2. Add a column called `response_times` made of 20 samples from the normal distribution, with mean .8 and standard deviation 1. Print the data frame to have a look if it worked.\n",
    "3. Select the values of the `response_times` column that are negative and set them to 0. Print the data frame to have a look if it worked.\n",
    "4. Create a new column, called `log_response_times`, made of the logarithm of `response_times`.\n",
    "5. Add a column called `correct_response` made of 20 samples from the binomial distribution, with size 1 and probability of success .65. Print the data frame to have a look if it worked.\n",
    "6. Calculate the mean proportion of correct responses and the mean response time.\n",
    "7. Create two data frames, `data_correct` and `data_incorrect` made of, respectively, the subset of `my_data` where `correct_response` is 1, and the subset of `my_data` where `correct_response` is 0. Print the data frame to have a look if it worked. Print the result to check."
   ]
  },
  {
   "cell_type": "markdown",
   "metadata": {},
   "source": [
    "## Submit your assignment\n",
    "\n",
    "Save and email your script to me at [laura.fontanesi@unibas.ch](mailto:laura.fontanesi@unibas.ch) by the end of Friday. "
   ]
  }
 ],
 "metadata": {
  "kernelspec": {
   "display_name": "R",
   "language": "R",
   "name": "ir"
  },
  "language_info": {
   "codemirror_mode": "r",
   "file_extension": ".r",
   "mimetype": "text/x-r-source",
   "name": "R",
   "pygments_lexer": "r",
   "version": "4.0.3"
  }
 },
 "nbformat": 4,
 "nbformat_minor": 4
}
