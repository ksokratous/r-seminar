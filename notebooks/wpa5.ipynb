{
 "cells": [
  {
   "cell_type": "markdown",
   "metadata": {},
   "source": [
    "# Importing data"
   ]
  },
  {
   "cell_type": "markdown",
   "metadata": {},
   "source": [
    "Open RStudio."
   ]
  },
  {
   "cell_type": "markdown",
   "metadata": {},
   "source": [
    "Open a new R script in R and **save it as** `wpa_5_LastFirst.R` (where Last and First is your last and first name). \n",
    "\n",
    "Careful about: capitalizing, last and first name order, and using `_` instead of `-`.\n",
    "\n",
    "At the top of your script, write the following (**with appropriate changes**):"
   ]
  },
  {
   "cell_type": "code",
   "execution_count": 1,
   "metadata": {},
   "outputs": [],
   "source": [
    "# Assignment: WPA 5\n",
    "# Name: Laura Fontanesi\n",
    "# Date: 6 April 2021"
   ]
  },
  {
   "cell_type": "markdown",
   "metadata": {},
   "source": [
    "## 1. Importing data\n",
    "Up to this point, I gave you the code to load the data in R. \n",
    "\n",
    "Say instead you have your own data saved on your computer or somewhere online. How can you analyze this data in R? For that we need to learn how to import it using the tidyverse's [readr](https://readr.tidyverse.org/reference/index.html).\n",
    "\n",
    "Data can come from different sources, e.g.:\n",
    "- text files stored locally\n",
    "- text files from a website\n",
    "\n",
    "The functions you will use, depend on the specific format the data were written in:\n",
    "\n",
    "#### Different functions to read tabular data from file:\n",
    "- `read_delim()` is the principal and more general means of reading tabular data into R\n",
    "\n",
    "- `read_csv()` sets the default separator to a comma\n",
    "\n",
    "- `read_csv2()` is its European cousin, using a comma for decimal places and a semicolon as a separator\n",
    "\n",
    "- `read_tsv()` import tab-delimited files\n",
    "\n",
    "#### Different functions to read other data formats:\n",
    "- Excel files: https://readxl.tidyverse.org/reference/read_excel.html\n",
    "\n",
    "- STATA, SPSS, SAS files: https://haven.tidyverse.org/"
   ]
  },
  {
   "cell_type": "markdown",
   "metadata": {},
   "source": [
    "## 2. File paths for local files"
   ]
  },
  {
   "cell_type": "markdown",
   "metadata": {},
   "source": [
    "At this point, you should have a folder on your laptop for our R course, where you stored all your scripts. You should also have a subfolder called `data`. If you do not have this yet, quickly set this up now :)\n",
    "\n",
    "When you are done, download the content of this folder 'https://www.dropbox.com/sh/j98l42hxdg66zox/AAC-IJnNGRElTGnBmQYNsgWfa?dl=0' in your `data` folder, so that the 5 data files are in your `data` folder.\n",
    "\n",
    "To load these files in R, we need to write the path to your data folder. We can do this using code completion (Tab key): \n",
    "- On Mac, you can start from `read_delim('~/')` (or similar functions for loading data) and press Tab, to start navigating from your home folder\n",
    "- On Windows, you can do the same, but starting from `read_delim('C:\\Users\\')`\n",
    "\n",
    "In my case, this folder was on Dropbox:"
   ]
  },
  {
   "cell_type": "code",
   "execution_count": 1,
   "metadata": {},
   "outputs": [
    {
     "name": "stderr",
     "output_type": "stream",
     "text": [
      "── \u001b[1mAttaching packages\u001b[22m ─────────────────────────────────────────────────────────────────────────────────────────────────────────────────────────────────────────────────────────────────── tidyverse 1.3.0 ──\n",
      "\n",
      "\u001b[32m✔\u001b[39m \u001b[34mggplot2\u001b[39m 3.3.3     \u001b[32m✔\u001b[39m \u001b[34mpurrr  \u001b[39m 0.3.4\n",
      "\u001b[32m✔\u001b[39m \u001b[34mtibble \u001b[39m 3.1.0     \u001b[32m✔\u001b[39m \u001b[34mdplyr  \u001b[39m 1.0.4\n",
      "\u001b[32m✔\u001b[39m \u001b[34mtidyr  \u001b[39m 1.1.2     \u001b[32m✔\u001b[39m \u001b[34mstringr\u001b[39m 1.4.0\n",
      "\u001b[32m✔\u001b[39m \u001b[34mreadr  \u001b[39m 1.4.0     \u001b[32m✔\u001b[39m \u001b[34mforcats\u001b[39m 0.5.1\n",
      "\n",
      "── \u001b[1mConflicts\u001b[22m ────────────────────────────────────────────────────────────────────────────────────────────────────────────────────────────────────────────────────────────────────── tidyverse_conflicts() ──\n",
      "\u001b[31m✖\u001b[39m \u001b[34mdplyr\u001b[39m::\u001b[32mfilter()\u001b[39m masks \u001b[34mstats\u001b[39m::filter()\n",
      "\u001b[31m✖\u001b[39m \u001b[34mdplyr\u001b[39m::\u001b[32mlag()\u001b[39m    masks \u001b[34mstats\u001b[39m::lag()\n",
      "\n"
     ]
    }
   ],
   "source": [
    "library(tidyverse)"
   ]
  },
  {
   "cell_type": "code",
   "execution_count": 5,
   "metadata": {},
   "outputs": [
    {
     "name": "stderr",
     "output_type": "stream",
     "text": [
      "\n",
      "\u001b[36m──\u001b[39m \u001b[1m\u001b[1mColumn specification\u001b[1m\u001b[22m \u001b[36m────────────────────────────────────────────────────────────────────────────────────────────────────────────────────────────────────────────────────────────────────────────────────\u001b[39m\n",
      "cols(\n",
      "  index = \u001b[32mcol_double()\u001b[39m,\n",
      "  participant = \u001b[32mcol_double()\u001b[39m,\n",
      "  gender = \u001b[31mcol_character()\u001b[39m,\n",
      "  age = \u001b[32mcol_double()\u001b[39m,\n",
      "  options = \u001b[31mcol_character()\u001b[39m,\n",
      "  accuracy = \u001b[32mcol_double()\u001b[39m,\n",
      "  RT_msec = \u001b[32mcol_double()\u001b[39m\n",
      ")\n",
      "\n",
      "\n"
     ]
    }
   ],
   "source": [
    "data_a = read_delim('~/Dropbox/teaching/r-course21/data/data_to_import_a.txt', delim='\\t')"
   ]
  },
  {
   "cell_type": "code",
   "execution_count": 6,
   "metadata": {},
   "outputs": [
    {
     "data": {
      "text/html": [
       "<table class=\"dataframe\">\n",
       "<caption>A tibble: 6 × 7</caption>\n",
       "<thead>\n",
       "\t<tr><th scope=col>index</th><th scope=col>participant</th><th scope=col>gender</th><th scope=col>age</th><th scope=col>options</th><th scope=col>accuracy</th><th scope=col>RT_msec</th></tr>\n",
       "\t<tr><th scope=col>&lt;dbl&gt;</th><th scope=col>&lt;dbl&gt;</th><th scope=col>&lt;chr&gt;</th><th scope=col>&lt;dbl&gt;</th><th scope=col>&lt;chr&gt;</th><th scope=col>&lt;dbl&gt;</th><th scope=col>&lt;dbl&gt;</th></tr>\n",
       "</thead>\n",
       "<tbody>\n",
       "\t<tr><td>1</td><td>8</td><td>male</td><td>18</td><td>CD</td><td>1</td><td>2381</td></tr>\n",
       "\t<tr><td>2</td><td>8</td><td>male</td><td>18</td><td>CD</td><td>1</td><td>1730</td></tr>\n",
       "\t<tr><td>3</td><td>8</td><td>male</td><td>18</td><td>AB</td><td>1</td><td>1114</td></tr>\n",
       "\t<tr><td>4</td><td>8</td><td>male</td><td>18</td><td>AC</td><td>1</td><td> 600</td></tr>\n",
       "\t<tr><td>5</td><td>8</td><td>male</td><td>18</td><td>CD</td><td>1</td><td> 683</td></tr>\n",
       "\t<tr><td>6</td><td>8</td><td>male</td><td>18</td><td>AC</td><td>0</td><td> 854</td></tr>\n",
       "</tbody>\n",
       "</table>\n"
      ],
      "text/latex": [
       "A tibble: 6 × 7\n",
       "\\begin{tabular}{lllllll}\n",
       " index & participant & gender & age & options & accuracy & RT\\_msec\\\\\n",
       " <dbl> & <dbl> & <chr> & <dbl> & <chr> & <dbl> & <dbl>\\\\\n",
       "\\hline\n",
       "\t 1 & 8 & male & 18 & CD & 1 & 2381\\\\\n",
       "\t 2 & 8 & male & 18 & CD & 1 & 1730\\\\\n",
       "\t 3 & 8 & male & 18 & AB & 1 & 1114\\\\\n",
       "\t 4 & 8 & male & 18 & AC & 1 &  600\\\\\n",
       "\t 5 & 8 & male & 18 & CD & 1 &  683\\\\\n",
       "\t 6 & 8 & male & 18 & AC & 0 &  854\\\\\n",
       "\\end{tabular}\n"
      ],
      "text/markdown": [
       "\n",
       "A tibble: 6 × 7\n",
       "\n",
       "| index &lt;dbl&gt; | participant &lt;dbl&gt; | gender &lt;chr&gt; | age &lt;dbl&gt; | options &lt;chr&gt; | accuracy &lt;dbl&gt; | RT_msec &lt;dbl&gt; |\n",
       "|---|---|---|---|---|---|---|\n",
       "| 1 | 8 | male | 18 | CD | 1 | 2381 |\n",
       "| 2 | 8 | male | 18 | CD | 1 | 1730 |\n",
       "| 3 | 8 | male | 18 | AB | 1 | 1114 |\n",
       "| 4 | 8 | male | 18 | AC | 1 |  600 |\n",
       "| 5 | 8 | male | 18 | CD | 1 |  683 |\n",
       "| 6 | 8 | male | 18 | AC | 0 |  854 |\n",
       "\n"
      ],
      "text/plain": [
       "  index participant gender age options accuracy RT_msec\n",
       "1 1     8           male   18  CD      1        2381   \n",
       "2 2     8           male   18  CD      1        1730   \n",
       "3 3     8           male   18  AB      1        1114   \n",
       "4 4     8           male   18  AC      1         600   \n",
       "5 5     8           male   18  CD      1         683   \n",
       "6 6     8           male   18  AC      0         854   "
      ]
     },
     "metadata": {},
     "output_type": "display_data"
    }
   ],
   "source": [
    "head(data_a)"
   ]
  },
  {
   "cell_type": "code",
   "execution_count": 6,
   "metadata": {},
   "outputs": [
    {
     "name": "stderr",
     "output_type": "stream",
     "text": [
      "\n",
      "\u001b[36m──\u001b[39m \u001b[1m\u001b[1mColumn specification\u001b[1m\u001b[22m \u001b[36m────────────────────────────────────────────────────────────────────────────────────────────────────────────────────────────────────────────────────────────────────────────────────\u001b[39m\n",
      "cols(\n",
      "  id = \u001b[31mcol_character()\u001b[39m,\n",
      "  gender = \u001b[32mcol_double()\u001b[39m,\n",
      "  age = \u001b[32mcol_double()\u001b[39m,\n",
      "  income = \u001b[32mcol_double()\u001b[39m,\n",
      "  p1 = \u001b[32mcol_double()\u001b[39m,\n",
      "  p2 = \u001b[32mcol_double()\u001b[39m,\n",
      "  p3 = \u001b[32mcol_double()\u001b[39m,\n",
      "  p4 = \u001b[32mcol_double()\u001b[39m,\n",
      "  p5 = \u001b[32mcol_double()\u001b[39m,\n",
      "  p6 = \u001b[32mcol_double()\u001b[39m,\n",
      "  p7 = \u001b[32mcol_double()\u001b[39m,\n",
      "  p8 = \u001b[32mcol_double()\u001b[39m,\n",
      "  p9 = \u001b[32mcol_double()\u001b[39m,\n",
      "  p10 = \u001b[32mcol_double()\u001b[39m,\n",
      "  task = \u001b[32mcol_double()\u001b[39m,\n",
      "  havemore = \u001b[32mcol_double()\u001b[39m,\n",
      "  haveless = \u001b[32mcol_double()\u001b[39m,\n",
      "  pcmore = \u001b[32mcol_double()\u001b[39m\n",
      ")\n",
      "\n",
      "\n"
     ]
    }
   ],
   "source": [
    "data_b = read_csv('~/Dropbox/teaching/r-course21/data/data_to_import_b.csv')\n",
    "\n",
    "# same as: data_b = read_delim('~/Dropbox/teaching/r-course21/data/data_to_import_b.csv', delim = \",\")"
   ]
  },
  {
   "cell_type": "code",
   "execution_count": 7,
   "metadata": {},
   "outputs": [
    {
     "data": {
      "text/html": [
       "<table class=\"dataframe\">\n",
       "<caption>A tibble: 6 × 18</caption>\n",
       "<thead>\n",
       "\t<tr><th scope=col>id</th><th scope=col>gender</th><th scope=col>age</th><th scope=col>income</th><th scope=col>p1</th><th scope=col>p2</th><th scope=col>p3</th><th scope=col>p4</th><th scope=col>p5</th><th scope=col>p6</th><th scope=col>p7</th><th scope=col>p8</th><th scope=col>p9</th><th scope=col>p10</th><th scope=col>task</th><th scope=col>havemore</th><th scope=col>haveless</th><th scope=col>pcmore</th></tr>\n",
       "\t<tr><th scope=col>&lt;chr&gt;</th><th scope=col>&lt;dbl&gt;</th><th scope=col>&lt;dbl&gt;</th><th scope=col>&lt;dbl&gt;</th><th scope=col>&lt;dbl&gt;</th><th scope=col>&lt;dbl&gt;</th><th scope=col>&lt;dbl&gt;</th><th scope=col>&lt;dbl&gt;</th><th scope=col>&lt;dbl&gt;</th><th scope=col>&lt;dbl&gt;</th><th scope=col>&lt;dbl&gt;</th><th scope=col>&lt;dbl&gt;</th><th scope=col>&lt;dbl&gt;</th><th scope=col>&lt;dbl&gt;</th><th scope=col>&lt;dbl&gt;</th><th scope=col>&lt;dbl&gt;</th><th scope=col>&lt;dbl&gt;</th><th scope=col>&lt;dbl&gt;</th></tr>\n",
       "</thead>\n",
       "<tbody>\n",
       "\t<tr><td>R_3PtNn51LmSFdLNM</td><td>2</td><td>26</td><td>7</td><td>1</td><td>1</td><td>1</td><td>1</td><td>1</td><td>1</td><td>1</td><td>1</td><td>1</td><td>1</td><td>0</td><td>NA</td><td>50</td><td>50</td></tr>\n",
       "\t<tr><td>R_2AXrrg62pgFgtMV</td><td>2</td><td>32</td><td>4</td><td>1</td><td>1</td><td>1</td><td>1</td><td>1</td><td>1</td><td>1</td><td>1</td><td>1</td><td>1</td><td>0</td><td>NA</td><td>25</td><td>75</td></tr>\n",
       "\t<tr><td>R_cwEOX3HgnMeVQHL</td><td>1</td><td>25</td><td>2</td><td>0</td><td>1</td><td>1</td><td>1</td><td>1</td><td>1</td><td>1</td><td>1</td><td>0</td><td>0</td><td>0</td><td>NA</td><td>10</td><td>90</td></tr>\n",
       "\t<tr><td>R_d59iPwL4W6BH8qx</td><td>1</td><td>33</td><td>5</td><td>1</td><td>1</td><td>1</td><td>1</td><td>1</td><td>1</td><td>1</td><td>1</td><td>1</td><td>1</td><td>0</td><td>NA</td><td>50</td><td>50</td></tr>\n",
       "\t<tr><td>R_1f3K2HrGzFGNelZ</td><td>1</td><td>24</td><td>1</td><td>1</td><td>1</td><td>0</td><td>1</td><td>1</td><td>1</td><td>1</td><td>1</td><td>1</td><td>1</td><td>1</td><td>99</td><td>NA</td><td>99</td></tr>\n",
       "\t<tr><td>R_3oN5ijzTfoMy4ca</td><td>1</td><td>22</td><td>2</td><td>1</td><td>1</td><td>0</td><td>0</td><td>1</td><td>1</td><td>1</td><td>1</td><td>0</td><td>1</td><td>0</td><td>NA</td><td>20</td><td>80</td></tr>\n",
       "</tbody>\n",
       "</table>\n"
      ],
      "text/latex": [
       "A tibble: 6 × 18\n",
       "\\begin{tabular}{llllllllllllllllll}\n",
       " id & gender & age & income & p1 & p2 & p3 & p4 & p5 & p6 & p7 & p8 & p9 & p10 & task & havemore & haveless & pcmore\\\\\n",
       " <chr> & <dbl> & <dbl> & <dbl> & <dbl> & <dbl> & <dbl> & <dbl> & <dbl> & <dbl> & <dbl> & <dbl> & <dbl> & <dbl> & <dbl> & <dbl> & <dbl> & <dbl>\\\\\n",
       "\\hline\n",
       "\t R\\_3PtNn51LmSFdLNM & 2 & 26 & 7 & 1 & 1 & 1 & 1 & 1 & 1 & 1 & 1 & 1 & 1 & 0 & NA & 50 & 50\\\\\n",
       "\t R\\_2AXrrg62pgFgtMV & 2 & 32 & 4 & 1 & 1 & 1 & 1 & 1 & 1 & 1 & 1 & 1 & 1 & 0 & NA & 25 & 75\\\\\n",
       "\t R\\_cwEOX3HgnMeVQHL & 1 & 25 & 2 & 0 & 1 & 1 & 1 & 1 & 1 & 1 & 1 & 0 & 0 & 0 & NA & 10 & 90\\\\\n",
       "\t R\\_d59iPwL4W6BH8qx & 1 & 33 & 5 & 1 & 1 & 1 & 1 & 1 & 1 & 1 & 1 & 1 & 1 & 0 & NA & 50 & 50\\\\\n",
       "\t R\\_1f3K2HrGzFGNelZ & 1 & 24 & 1 & 1 & 1 & 0 & 1 & 1 & 1 & 1 & 1 & 1 & 1 & 1 & 99 & NA & 99\\\\\n",
       "\t R\\_3oN5ijzTfoMy4ca & 1 & 22 & 2 & 1 & 1 & 0 & 0 & 1 & 1 & 1 & 1 & 0 & 1 & 0 & NA & 20 & 80\\\\\n",
       "\\end{tabular}\n"
      ],
      "text/markdown": [
       "\n",
       "A tibble: 6 × 18\n",
       "\n",
       "| id &lt;chr&gt; | gender &lt;dbl&gt; | age &lt;dbl&gt; | income &lt;dbl&gt; | p1 &lt;dbl&gt; | p2 &lt;dbl&gt; | p3 &lt;dbl&gt; | p4 &lt;dbl&gt; | p5 &lt;dbl&gt; | p6 &lt;dbl&gt; | p7 &lt;dbl&gt; | p8 &lt;dbl&gt; | p9 &lt;dbl&gt; | p10 &lt;dbl&gt; | task &lt;dbl&gt; | havemore &lt;dbl&gt; | haveless &lt;dbl&gt; | pcmore &lt;dbl&gt; |\n",
       "|---|---|---|---|---|---|---|---|---|---|---|---|---|---|---|---|---|---|\n",
       "| R_3PtNn51LmSFdLNM | 2 | 26 | 7 | 1 | 1 | 1 | 1 | 1 | 1 | 1 | 1 | 1 | 1 | 0 | NA | 50 | 50 |\n",
       "| R_2AXrrg62pgFgtMV | 2 | 32 | 4 | 1 | 1 | 1 | 1 | 1 | 1 | 1 | 1 | 1 | 1 | 0 | NA | 25 | 75 |\n",
       "| R_cwEOX3HgnMeVQHL | 1 | 25 | 2 | 0 | 1 | 1 | 1 | 1 | 1 | 1 | 1 | 0 | 0 | 0 | NA | 10 | 90 |\n",
       "| R_d59iPwL4W6BH8qx | 1 | 33 | 5 | 1 | 1 | 1 | 1 | 1 | 1 | 1 | 1 | 1 | 1 | 0 | NA | 50 | 50 |\n",
       "| R_1f3K2HrGzFGNelZ | 1 | 24 | 1 | 1 | 1 | 0 | 1 | 1 | 1 | 1 | 1 | 1 | 1 | 1 | 99 | NA | 99 |\n",
       "| R_3oN5ijzTfoMy4ca | 1 | 22 | 2 | 1 | 1 | 0 | 0 | 1 | 1 | 1 | 1 | 0 | 1 | 0 | NA | 20 | 80 |\n",
       "\n"
      ],
      "text/plain": [
       "  id                gender age income p1 p2 p3 p4 p5 p6 p7 p8 p9 p10 task\n",
       "1 R_3PtNn51LmSFdLNM 2      26  7      1  1  1  1  1  1  1  1  1  1   0   \n",
       "2 R_2AXrrg62pgFgtMV 2      32  4      1  1  1  1  1  1  1  1  1  1   0   \n",
       "3 R_cwEOX3HgnMeVQHL 1      25  2      0  1  1  1  1  1  1  1  0  0   0   \n",
       "4 R_d59iPwL4W6BH8qx 1      33  5      1  1  1  1  1  1  1  1  1  1   0   \n",
       "5 R_1f3K2HrGzFGNelZ 1      24  1      1  1  0  1  1  1  1  1  1  1   1   \n",
       "6 R_3oN5ijzTfoMy4ca 1      22  2      1  1  0  0  1  1  1  1  0  1   0   \n",
       "  havemore haveless pcmore\n",
       "1 NA       50       50    \n",
       "2 NA       25       75    \n",
       "3 NA       10       90    \n",
       "4 NA       50       50    \n",
       "5 99       NA       99    \n",
       "6 NA       20       80    "
      ]
     },
     "metadata": {},
     "output_type": "display_data"
    }
   ],
   "source": [
    "head(data_b)"
   ]
  },
  {
   "cell_type": "code",
   "execution_count": 10,
   "metadata": {},
   "outputs": [
    {
     "name": "stderr",
     "output_type": "stream",
     "text": [
      "\u001b[36mℹ\u001b[39m Using \u001b[34m\u001b[34m','\u001b[34m\u001b[39m as decimal and \u001b[34m\u001b[34m'.'\u001b[34m\u001b[39m as grouping mark. Use \u001b[30m\u001b[47m\u001b[30m\u001b[47m`read_delim()`\u001b[47m\u001b[30m\u001b[49m\u001b[39m for more control.\n",
      "\n",
      "\n",
      "\u001b[36m──\u001b[39m \u001b[1m\u001b[1mColumn specification\u001b[1m\u001b[22m \u001b[36m────────────────────────────────────────────────────────────────────────────────────────────────────────────────────────────────────────────────────────────────────────────────────\u001b[39m\n",
      "cols(\n",
      "  .default = col_character(),\n",
      "  age = \u001b[32mcol_double()\u001b[39m,\n",
      "  Medu = \u001b[32mcol_double()\u001b[39m,\n",
      "  Fedu = \u001b[32mcol_double()\u001b[39m,\n",
      "  traveltime = \u001b[32mcol_double()\u001b[39m,\n",
      "  studytime = \u001b[32mcol_double()\u001b[39m,\n",
      "  failures = \u001b[32mcol_double()\u001b[39m,\n",
      "  famrel = \u001b[32mcol_double()\u001b[39m,\n",
      "  freetime = \u001b[32mcol_double()\u001b[39m,\n",
      "  goout = \u001b[32mcol_double()\u001b[39m,\n",
      "  Dalc = \u001b[32mcol_double()\u001b[39m,\n",
      "  Walc = \u001b[32mcol_double()\u001b[39m,\n",
      "  health = \u001b[32mcol_double()\u001b[39m,\n",
      "  absences = \u001b[32mcol_double()\u001b[39m,\n",
      "  G1 = \u001b[32mcol_double()\u001b[39m,\n",
      "  G2 = \u001b[32mcol_double()\u001b[39m,\n",
      "  G3 = \u001b[32mcol_double()\u001b[39m\n",
      ")\n",
      "\u001b[36mℹ\u001b[39m Use \u001b[30m\u001b[47m\u001b[30m\u001b[47m`spec()`\u001b[47m\u001b[30m\u001b[49m\u001b[39m for the full column specifications.\n",
      "\n",
      "\n"
     ]
    }
   ],
   "source": [
    "data_c = read_csv2('~/Dropbox/teaching/r-course21/data/data_to_import_c.csv')"
   ]
  },
  {
   "cell_type": "code",
   "execution_count": 11,
   "metadata": {},
   "outputs": [
    {
     "data": {
      "text/html": [
       "<table class=\"dataframe\">\n",
       "<caption>A tibble: 6 × 33</caption>\n",
       "<thead>\n",
       "\t<tr><th scope=col>school</th><th scope=col>sex</th><th scope=col>age</th><th scope=col>address</th><th scope=col>famsize</th><th scope=col>Pstatus</th><th scope=col>Medu</th><th scope=col>Fedu</th><th scope=col>Mjob</th><th scope=col>Fjob</th><th scope=col>⋯</th><th scope=col>famrel</th><th scope=col>freetime</th><th scope=col>goout</th><th scope=col>Dalc</th><th scope=col>Walc</th><th scope=col>health</th><th scope=col>absences</th><th scope=col>G1</th><th scope=col>G2</th><th scope=col>G3</th></tr>\n",
       "\t<tr><th scope=col>&lt;chr&gt;</th><th scope=col>&lt;chr&gt;</th><th scope=col>&lt;dbl&gt;</th><th scope=col>&lt;chr&gt;</th><th scope=col>&lt;chr&gt;</th><th scope=col>&lt;chr&gt;</th><th scope=col>&lt;dbl&gt;</th><th scope=col>&lt;dbl&gt;</th><th scope=col>&lt;chr&gt;</th><th scope=col>&lt;chr&gt;</th><th scope=col>⋯</th><th scope=col>&lt;dbl&gt;</th><th scope=col>&lt;dbl&gt;</th><th scope=col>&lt;dbl&gt;</th><th scope=col>&lt;dbl&gt;</th><th scope=col>&lt;dbl&gt;</th><th scope=col>&lt;dbl&gt;</th><th scope=col>&lt;dbl&gt;</th><th scope=col>&lt;dbl&gt;</th><th scope=col>&lt;dbl&gt;</th><th scope=col>&lt;dbl&gt;</th></tr>\n",
       "</thead>\n",
       "<tbody>\n",
       "\t<tr><td>GP</td><td>F</td><td>18</td><td>U</td><td>GT3</td><td>A</td><td>4</td><td>4</td><td>at_home </td><td>teacher </td><td>⋯</td><td>4</td><td>3</td><td>4</td><td>1</td><td>1</td><td>3</td><td>4</td><td> 0</td><td>11</td><td>11</td></tr>\n",
       "\t<tr><td>GP</td><td>F</td><td>17</td><td>U</td><td>GT3</td><td>T</td><td>1</td><td>1</td><td>at_home </td><td>other   </td><td>⋯</td><td>5</td><td>3</td><td>3</td><td>1</td><td>1</td><td>3</td><td>2</td><td> 9</td><td>11</td><td>11</td></tr>\n",
       "\t<tr><td>GP</td><td>F</td><td>15</td><td>U</td><td>LE3</td><td>T</td><td>1</td><td>1</td><td>at_home </td><td>other   </td><td>⋯</td><td>4</td><td>3</td><td>2</td><td>2</td><td>3</td><td>3</td><td>6</td><td>12</td><td>13</td><td>12</td></tr>\n",
       "\t<tr><td>GP</td><td>F</td><td>15</td><td>U</td><td>GT3</td><td>T</td><td>4</td><td>2</td><td>health  </td><td>services</td><td>⋯</td><td>3</td><td>2</td><td>2</td><td>1</td><td>1</td><td>5</td><td>0</td><td>14</td><td>14</td><td>14</td></tr>\n",
       "\t<tr><td>GP</td><td>F</td><td>16</td><td>U</td><td>GT3</td><td>T</td><td>3</td><td>3</td><td>other   </td><td>other   </td><td>⋯</td><td>4</td><td>3</td><td>2</td><td>1</td><td>2</td><td>5</td><td>0</td><td>11</td><td>13</td><td>13</td></tr>\n",
       "\t<tr><td>GP</td><td>M</td><td>16</td><td>U</td><td>LE3</td><td>T</td><td>4</td><td>3</td><td>services</td><td>other   </td><td>⋯</td><td>5</td><td>4</td><td>2</td><td>1</td><td>2</td><td>5</td><td>6</td><td>12</td><td>12</td><td>13</td></tr>\n",
       "</tbody>\n",
       "</table>\n"
      ],
      "text/latex": [
       "A tibble: 6 × 33\n",
       "\\begin{tabular}{lllllllllllllllllllll}\n",
       " school & sex & age & address & famsize & Pstatus & Medu & Fedu & Mjob & Fjob & ⋯ & famrel & freetime & goout & Dalc & Walc & health & absences & G1 & G2 & G3\\\\\n",
       " <chr> & <chr> & <dbl> & <chr> & <chr> & <chr> & <dbl> & <dbl> & <chr> & <chr> & ⋯ & <dbl> & <dbl> & <dbl> & <dbl> & <dbl> & <dbl> & <dbl> & <dbl> & <dbl> & <dbl>\\\\\n",
       "\\hline\n",
       "\t GP & F & 18 & U & GT3 & A & 4 & 4 & at\\_home  & teacher  & ⋯ & 4 & 3 & 4 & 1 & 1 & 3 & 4 &  0 & 11 & 11\\\\\n",
       "\t GP & F & 17 & U & GT3 & T & 1 & 1 & at\\_home  & other    & ⋯ & 5 & 3 & 3 & 1 & 1 & 3 & 2 &  9 & 11 & 11\\\\\n",
       "\t GP & F & 15 & U & LE3 & T & 1 & 1 & at\\_home  & other    & ⋯ & 4 & 3 & 2 & 2 & 3 & 3 & 6 & 12 & 13 & 12\\\\\n",
       "\t GP & F & 15 & U & GT3 & T & 4 & 2 & health   & services & ⋯ & 3 & 2 & 2 & 1 & 1 & 5 & 0 & 14 & 14 & 14\\\\\n",
       "\t GP & F & 16 & U & GT3 & T & 3 & 3 & other    & other    & ⋯ & 4 & 3 & 2 & 1 & 2 & 5 & 0 & 11 & 13 & 13\\\\\n",
       "\t GP & M & 16 & U & LE3 & T & 4 & 3 & services & other    & ⋯ & 5 & 4 & 2 & 1 & 2 & 5 & 6 & 12 & 12 & 13\\\\\n",
       "\\end{tabular}\n"
      ],
      "text/markdown": [
       "\n",
       "A tibble: 6 × 33\n",
       "\n",
       "| school &lt;chr&gt; | sex &lt;chr&gt; | age &lt;dbl&gt; | address &lt;chr&gt; | famsize &lt;chr&gt; | Pstatus &lt;chr&gt; | Medu &lt;dbl&gt; | Fedu &lt;dbl&gt; | Mjob &lt;chr&gt; | Fjob &lt;chr&gt; | ⋯ ⋯ | famrel &lt;dbl&gt; | freetime &lt;dbl&gt; | goout &lt;dbl&gt; | Dalc &lt;dbl&gt; | Walc &lt;dbl&gt; | health &lt;dbl&gt; | absences &lt;dbl&gt; | G1 &lt;dbl&gt; | G2 &lt;dbl&gt; | G3 &lt;dbl&gt; |\n",
       "|---|---|---|---|---|---|---|---|---|---|---|---|---|---|---|---|---|---|---|---|---|\n",
       "| GP | F | 18 | U | GT3 | A | 4 | 4 | at_home  | teacher  | ⋯ | 4 | 3 | 4 | 1 | 1 | 3 | 4 |  0 | 11 | 11 |\n",
       "| GP | F | 17 | U | GT3 | T | 1 | 1 | at_home  | other    | ⋯ | 5 | 3 | 3 | 1 | 1 | 3 | 2 |  9 | 11 | 11 |\n",
       "| GP | F | 15 | U | LE3 | T | 1 | 1 | at_home  | other    | ⋯ | 4 | 3 | 2 | 2 | 3 | 3 | 6 | 12 | 13 | 12 |\n",
       "| GP | F | 15 | U | GT3 | T | 4 | 2 | health   | services | ⋯ | 3 | 2 | 2 | 1 | 1 | 5 | 0 | 14 | 14 | 14 |\n",
       "| GP | F | 16 | U | GT3 | T | 3 | 3 | other    | other    | ⋯ | 4 | 3 | 2 | 1 | 2 | 5 | 0 | 11 | 13 | 13 |\n",
       "| GP | M | 16 | U | LE3 | T | 4 | 3 | services | other    | ⋯ | 5 | 4 | 2 | 1 | 2 | 5 | 6 | 12 | 12 | 13 |\n",
       "\n"
      ],
      "text/plain": [
       "  school sex age address famsize Pstatus Medu Fedu Mjob     Fjob     ⋯ famrel\n",
       "1 GP     F   18  U       GT3     A       4    4    at_home  teacher  ⋯ 4     \n",
       "2 GP     F   17  U       GT3     T       1    1    at_home  other    ⋯ 5     \n",
       "3 GP     F   15  U       LE3     T       1    1    at_home  other    ⋯ 4     \n",
       "4 GP     F   15  U       GT3     T       4    2    health   services ⋯ 3     \n",
       "5 GP     F   16  U       GT3     T       3    3    other    other    ⋯ 4     \n",
       "6 GP     M   16  U       LE3     T       4    3    services other    ⋯ 5     \n",
       "  freetime goout Dalc Walc health absences G1 G2 G3\n",
       "1 3        4     1    1    3      4         0 11 11\n",
       "2 3        3     1    1    3      2         9 11 11\n",
       "3 3        2     2    3    3      6        12 13 12\n",
       "4 2        2     1    1    5      0        14 14 14\n",
       "5 3        2     1    2    5      0        11 13 13\n",
       "6 4        2     1    2    5      6        12 12 13"
      ]
     },
     "metadata": {},
     "output_type": "display_data"
    }
   ],
   "source": [
    "head(data_c)"
   ]
  },
  {
   "cell_type": "code",
   "execution_count": 13,
   "metadata": {},
   "outputs": [],
   "source": [
    "library(readxl)\n",
    "\n",
    "# maybe try first: install.packages(\"readxl\")"
   ]
  },
  {
   "cell_type": "code",
   "execution_count": 14,
   "metadata": {},
   "outputs": [],
   "source": [
    "data_d = read_excel('~/Dropbox/teaching/r-course21/data/data_to_import_d.xls')"
   ]
  },
  {
   "cell_type": "code",
   "execution_count": 15,
   "metadata": {},
   "outputs": [
    {
     "data": {
      "text/html": [
       "<table class=\"dataframe\">\n",
       "<caption>A tibble: 6 × 9</caption>\n",
       "<thead>\n",
       "\t<tr><th scope=col>Year</th><th scope=col>Average population</th><th scope=col>Live births</th><th scope=col>Deaths</th><th scope=col>Natural change</th><th scope=col>Crude birth rate (per 1000)</th><th scope=col>Crude death rate (per 1000)</th><th scope=col>Natural change (per 1000)</th><th scope=col>Total fertility rates</th></tr>\n",
       "\t<tr><th scope=col>&lt;dbl&gt;</th><th scope=col>&lt;chr&gt;</th><th scope=col>&lt;chr&gt;</th><th scope=col>&lt;chr&gt;</th><th scope=col>&lt;chr&gt;</th><th scope=col>&lt;dbl&gt;</th><th scope=col>&lt;dbl&gt;</th><th scope=col>&lt;dbl&gt;</th><th scope=col>&lt;dbl&gt;</th></tr>\n",
       "</thead>\n",
       "<tbody>\n",
       "\t<tr><td>1900</td><td>3,300,000</td><td>94,316</td><td>63,606</td><td>30,710</td><td>28.6</td><td>19.3</td><td> 9.3</td><td>3.83</td></tr>\n",
       "\t<tr><td>1901</td><td>3,341,000</td><td>97,028</td><td>60,018</td><td>37,010</td><td>29.0</td><td>18.0</td><td>11.1</td><td>3.89</td></tr>\n",
       "\t<tr><td>1902</td><td>3,384,000</td><td>96,480</td><td>57,702</td><td>38,778</td><td>28.5</td><td>17.1</td><td>11.5</td><td>3.82</td></tr>\n",
       "\t<tr><td>1903</td><td>3,428,000</td><td>93,824</td><td>59,626</td><td>34,198</td><td>27.4</td><td>17.4</td><td>10.0</td><td>3.67</td></tr>\n",
       "\t<tr><td>1904</td><td>3,472,000</td><td>94,867</td><td>60,857</td><td>34,010</td><td>27.3</td><td>17.5</td><td> 9.8</td><td>3.66</td></tr>\n",
       "\t<tr><td>1905</td><td>3,516,000</td><td>94,653</td><td>61,800</td><td>32,853</td><td>26.9</td><td>17.6</td><td> 9.3</td><td>3.60</td></tr>\n",
       "</tbody>\n",
       "</table>\n"
      ],
      "text/latex": [
       "A tibble: 6 × 9\n",
       "\\begin{tabular}{lllllllll}\n",
       " Year & Average population & Live births & Deaths & Natural change & Crude birth rate (per 1000) & Crude death rate (per 1000) & Natural change (per 1000) & Total fertility rates\\\\\n",
       " <dbl> & <chr> & <chr> & <chr> & <chr> & <dbl> & <dbl> & <dbl> & <dbl>\\\\\n",
       "\\hline\n",
       "\t 1900 & 3,300,000 & 94,316 & 63,606 & 30,710 & 28.6 & 19.3 &  9.3 & 3.83\\\\\n",
       "\t 1901 & 3,341,000 & 97,028 & 60,018 & 37,010 & 29.0 & 18.0 & 11.1 & 3.89\\\\\n",
       "\t 1902 & 3,384,000 & 96,480 & 57,702 & 38,778 & 28.5 & 17.1 & 11.5 & 3.82\\\\\n",
       "\t 1903 & 3,428,000 & 93,824 & 59,626 & 34,198 & 27.4 & 17.4 & 10.0 & 3.67\\\\\n",
       "\t 1904 & 3,472,000 & 94,867 & 60,857 & 34,010 & 27.3 & 17.5 &  9.8 & 3.66\\\\\n",
       "\t 1905 & 3,516,000 & 94,653 & 61,800 & 32,853 & 26.9 & 17.6 &  9.3 & 3.60\\\\\n",
       "\\end{tabular}\n"
      ],
      "text/markdown": [
       "\n",
       "A tibble: 6 × 9\n",
       "\n",
       "| Year &lt;dbl&gt; | Average population &lt;chr&gt; | Live births &lt;chr&gt; | Deaths &lt;chr&gt; | Natural change &lt;chr&gt; | Crude birth rate (per 1000) &lt;dbl&gt; | Crude death rate (per 1000) &lt;dbl&gt; | Natural change (per 1000) &lt;dbl&gt; | Total fertility rates &lt;dbl&gt; |\n",
       "|---|---|---|---|---|---|---|---|---|\n",
       "| 1900 | 3,300,000 | 94,316 | 63,606 | 30,710 | 28.6 | 19.3 |  9.3 | 3.83 |\n",
       "| 1901 | 3,341,000 | 97,028 | 60,018 | 37,010 | 29.0 | 18.0 | 11.1 | 3.89 |\n",
       "| 1902 | 3,384,000 | 96,480 | 57,702 | 38,778 | 28.5 | 17.1 | 11.5 | 3.82 |\n",
       "| 1903 | 3,428,000 | 93,824 | 59,626 | 34,198 | 27.4 | 17.4 | 10.0 | 3.67 |\n",
       "| 1904 | 3,472,000 | 94,867 | 60,857 | 34,010 | 27.3 | 17.5 |  9.8 | 3.66 |\n",
       "| 1905 | 3,516,000 | 94,653 | 61,800 | 32,853 | 26.9 | 17.6 |  9.3 | 3.60 |\n",
       "\n"
      ],
      "text/plain": [
       "  Year Average population Live births Deaths Natural change\n",
       "1 1900 3,300,000          94,316      63,606 30,710        \n",
       "2 1901 3,341,000          97,028      60,018 37,010        \n",
       "3 1902 3,384,000          96,480      57,702 38,778        \n",
       "4 1903 3,428,000          93,824      59,626 34,198        \n",
       "5 1904 3,472,000          94,867      60,857 34,010        \n",
       "6 1905 3,516,000          94,653      61,800 32,853        \n",
       "  Crude birth rate (per 1000) Crude death rate (per 1000)\n",
       "1 28.6                        19.3                       \n",
       "2 29.0                        18.0                       \n",
       "3 28.5                        17.1                       \n",
       "4 27.4                        17.4                       \n",
       "5 27.3                        17.5                       \n",
       "6 26.9                        17.6                       \n",
       "  Natural change (per 1000) Total fertility rates\n",
       "1  9.3                      3.83                 \n",
       "2 11.1                      3.89                 \n",
       "3 11.5                      3.82                 \n",
       "4 10.0                      3.67                 \n",
       "5  9.8                      3.66                 \n",
       "6  9.3                      3.60                 "
      ]
     },
     "metadata": {},
     "output_type": "display_data"
    }
   ],
   "source": [
    "head(data_d)"
   ]
  },
  {
   "cell_type": "code",
   "execution_count": 17,
   "metadata": {},
   "outputs": [],
   "source": [
    "library(haven)\n",
    "\n",
    "# maybe first: install.packages(\"haven\")"
   ]
  },
  {
   "cell_type": "code",
   "execution_count": 18,
   "metadata": {},
   "outputs": [],
   "source": [
    "data_e = read_sav('~/Dropbox/teaching/r-course21/data/data_to_import_e.sav')"
   ]
  },
  {
   "cell_type": "code",
   "execution_count": 19,
   "metadata": {},
   "outputs": [
    {
     "data": {
      "text/html": [
       "<table class=\"dataframe\">\n",
       "<caption>A tibble: 6 × 54</caption>\n",
       "<thead>\n",
       "\t<tr><th scope=col>case_ID</th><th scope=col>wave</th><th scope=col>year</th><th scope=col>weight_wave</th><th scope=col>weight_aggregate</th><th scope=col>happening</th><th scope=col>cause_original</th><th scope=col>cause_other_text</th><th scope=col>cause_recoded</th><th scope=col>sci_consensus</th><th scope=col>⋯</th><th scope=col>employment</th><th scope=col>house_head</th><th scope=col>house_size</th><th scope=col>house_ages0to1</th><th scope=col>house_ages2to5</th><th scope=col>house_ages6to12</th><th scope=col>house_ages13to17</th><th scope=col>house_ages18plus</th><th scope=col>house_type</th><th scope=col>house_own</th></tr>\n",
       "\t<tr><th scope=col>&lt;dbl&gt;</th><th scope=col>&lt;dbl+lbl&gt;</th><th scope=col>&lt;dbl+lbl&gt;</th><th scope=col>&lt;dbl&gt;</th><th scope=col>&lt;dbl&gt;</th><th scope=col>&lt;dbl+lbl&gt;</th><th scope=col>&lt;dbl+lbl&gt;</th><th scope=col>&lt;chr&gt;</th><th scope=col>&lt;dbl+lbl&gt;</th><th scope=col>&lt;dbl+lbl&gt;</th><th scope=col>⋯</th><th scope=col>&lt;dbl+lbl&gt;</th><th scope=col>&lt;dbl+lbl&gt;</th><th scope=col>&lt;dbl&gt;</th><th scope=col>&lt;dbl&gt;</th><th scope=col>&lt;dbl&gt;</th><th scope=col>&lt;dbl&gt;</th><th scope=col>&lt;dbl&gt;</th><th scope=col>&lt;dbl&gt;</th><th scope=col>&lt;dbl+lbl&gt;</th><th scope=col>&lt;dbl+lbl&gt;</th></tr>\n",
       "</thead>\n",
       "<tbody>\n",
       "\t<tr><td>2</td><td>1</td><td>1</td><td>0.54</td><td>0.2939263</td><td>3</td><td>1</td><td></td><td>6</td><td>4</td><td>⋯</td><td>5</td><td>1</td><td>3</td><td>0</td><td>0</td><td>0</td><td>0</td><td>3</td><td>1</td><td>1</td></tr>\n",
       "\t<tr><td>3</td><td>1</td><td>1</td><td>0.85</td><td>0.4626617</td><td>2</td><td>1</td><td></td><td>6</td><td>1</td><td>⋯</td><td>6</td><td>2</td><td>2</td><td>0</td><td>0</td><td>0</td><td>0</td><td>2</td><td>4</td><td>2</td></tr>\n",
       "\t<tr><td>5</td><td>1</td><td>1</td><td>0.49</td><td>0.2667109</td><td>2</td><td>2</td><td></td><td>4</td><td>2</td><td>⋯</td><td>4</td><td>2</td><td>2</td><td>0</td><td>0</td><td>0</td><td>0</td><td>2</td><td>1</td><td>1</td></tr>\n",
       "\t<tr><td>6</td><td>1</td><td>1</td><td>0.29</td><td>0.1578493</td><td>3</td><td>2</td><td></td><td>4</td><td>4</td><td>⋯</td><td>5</td><td>2</td><td>2</td><td>0</td><td>0</td><td>0</td><td>0</td><td>2</td><td>1</td><td>1</td></tr>\n",
       "\t<tr><td>7</td><td>1</td><td>1</td><td>1.29</td><td>0.7021572</td><td>3</td><td>1</td><td></td><td>6</td><td>2</td><td>⋯</td><td>1</td><td>2</td><td>2</td><td>0</td><td>0</td><td>0</td><td>0</td><td>2</td><td>1</td><td>1</td></tr>\n",
       "\t<tr><td>8</td><td>1</td><td>1</td><td>2.56</td><td>1.3934283</td><td>2</td><td>2</td><td></td><td>4</td><td>2</td><td>⋯</td><td>2</td><td>2</td><td>3</td><td>0</td><td>0</td><td>1</td><td>0</td><td>2</td><td>2</td><td>1</td></tr>\n",
       "</tbody>\n",
       "</table>\n"
      ],
      "text/latex": [
       "A tibble: 6 × 54\n",
       "\\begin{tabular}{lllllllllllllllllllll}\n",
       " case\\_ID & wave & year & weight\\_wave & weight\\_aggregate & happening & cause\\_original & cause\\_other\\_text & cause\\_recoded & sci\\_consensus & ⋯ & employment & house\\_head & house\\_size & house\\_ages0to1 & house\\_ages2to5 & house\\_ages6to12 & house\\_ages13to17 & house\\_ages18plus & house\\_type & house\\_own\\\\\n",
       " <dbl> & <dbl+lbl> & <dbl+lbl> & <dbl> & <dbl> & <dbl+lbl> & <dbl+lbl> & <chr> & <dbl+lbl> & <dbl+lbl> & ⋯ & <dbl+lbl> & <dbl+lbl> & <dbl> & <dbl> & <dbl> & <dbl> & <dbl> & <dbl> & <dbl+lbl> & <dbl+lbl>\\\\\n",
       "\\hline\n",
       "\t 2 & 1 & 1 & 0.54 & 0.2939263 & 3 & 1 &  & 6 & 4 & ⋯ & 5 & 1 & 3 & 0 & 0 & 0 & 0 & 3 & 1 & 1\\\\\n",
       "\t 3 & 1 & 1 & 0.85 & 0.4626617 & 2 & 1 &  & 6 & 1 & ⋯ & 6 & 2 & 2 & 0 & 0 & 0 & 0 & 2 & 4 & 2\\\\\n",
       "\t 5 & 1 & 1 & 0.49 & 0.2667109 & 2 & 2 &  & 4 & 2 & ⋯ & 4 & 2 & 2 & 0 & 0 & 0 & 0 & 2 & 1 & 1\\\\\n",
       "\t 6 & 1 & 1 & 0.29 & 0.1578493 & 3 & 2 &  & 4 & 4 & ⋯ & 5 & 2 & 2 & 0 & 0 & 0 & 0 & 2 & 1 & 1\\\\\n",
       "\t 7 & 1 & 1 & 1.29 & 0.7021572 & 3 & 1 &  & 6 & 2 & ⋯ & 1 & 2 & 2 & 0 & 0 & 0 & 0 & 2 & 1 & 1\\\\\n",
       "\t 8 & 1 & 1 & 2.56 & 1.3934283 & 2 & 2 &  & 4 & 2 & ⋯ & 2 & 2 & 3 & 0 & 0 & 1 & 0 & 2 & 2 & 1\\\\\n",
       "\\end{tabular}\n"
      ],
      "text/markdown": [
       "\n",
       "A tibble: 6 × 54\n",
       "\n",
       "| case_ID &lt;dbl&gt; | wave &lt;dbl+lbl&gt; | year &lt;dbl+lbl&gt; | weight_wave &lt;dbl&gt; | weight_aggregate &lt;dbl&gt; | happening &lt;dbl+lbl&gt; | cause_original &lt;dbl+lbl&gt; | cause_other_text &lt;chr&gt; | cause_recoded &lt;dbl+lbl&gt; | sci_consensus &lt;dbl+lbl&gt; | ⋯ ⋯ | employment &lt;dbl+lbl&gt; | house_head &lt;dbl+lbl&gt; | house_size &lt;dbl&gt; | house_ages0to1 &lt;dbl&gt; | house_ages2to5 &lt;dbl&gt; | house_ages6to12 &lt;dbl&gt; | house_ages13to17 &lt;dbl&gt; | house_ages18plus &lt;dbl&gt; | house_type &lt;dbl+lbl&gt; | house_own &lt;dbl+lbl&gt; |\n",
       "|---|---|---|---|---|---|---|---|---|---|---|---|---|---|---|---|---|---|---|---|---|\n",
       "| 2 | 1 | 1 | 0.54 | 0.2939263 | 3 | 1 | <!----> | 6 | 4 | ⋯ | 5 | 1 | 3 | 0 | 0 | 0 | 0 | 3 | 1 | 1 |\n",
       "| 3 | 1 | 1 | 0.85 | 0.4626617 | 2 | 1 | <!----> | 6 | 1 | ⋯ | 6 | 2 | 2 | 0 | 0 | 0 | 0 | 2 | 4 | 2 |\n",
       "| 5 | 1 | 1 | 0.49 | 0.2667109 | 2 | 2 | <!----> | 4 | 2 | ⋯ | 4 | 2 | 2 | 0 | 0 | 0 | 0 | 2 | 1 | 1 |\n",
       "| 6 | 1 | 1 | 0.29 | 0.1578493 | 3 | 2 | <!----> | 4 | 4 | ⋯ | 5 | 2 | 2 | 0 | 0 | 0 | 0 | 2 | 1 | 1 |\n",
       "| 7 | 1 | 1 | 1.29 | 0.7021572 | 3 | 1 | <!----> | 6 | 2 | ⋯ | 1 | 2 | 2 | 0 | 0 | 0 | 0 | 2 | 1 | 1 |\n",
       "| 8 | 1 | 1 | 2.56 | 1.3934283 | 2 | 2 | <!----> | 4 | 2 | ⋯ | 2 | 2 | 3 | 0 | 0 | 1 | 0 | 2 | 2 | 1 |\n",
       "\n"
      ],
      "text/plain": [
       "  case_ID wave year weight_wave weight_aggregate happening cause_original\n",
       "1 2       1    1    0.54        0.2939263        3         1             \n",
       "2 3       1    1    0.85        0.4626617        2         1             \n",
       "3 5       1    1    0.49        0.2667109        2         2             \n",
       "4 6       1    1    0.29        0.1578493        3         2             \n",
       "5 7       1    1    1.29        0.7021572        3         1             \n",
       "6 8       1    1    2.56        1.3934283        2         2             \n",
       "  cause_other_text cause_recoded sci_consensus ⋯ employment house_head\n",
       "1                  6             4             ⋯ 5          1         \n",
       "2                  6             1             ⋯ 6          2         \n",
       "3                  4             2             ⋯ 4          2         \n",
       "4                  4             4             ⋯ 5          2         \n",
       "5                  6             2             ⋯ 1          2         \n",
       "6                  4             2             ⋯ 2          2         \n",
       "  house_size house_ages0to1 house_ages2to5 house_ages6to12 house_ages13to17\n",
       "1 3          0              0              0               0               \n",
       "2 2          0              0              0               0               \n",
       "3 2          0              0              0               0               \n",
       "4 2          0              0              0               0               \n",
       "5 2          0              0              0               0               \n",
       "6 3          0              0              1               0               \n",
       "  house_ages18plus house_type house_own\n",
       "1 3                1          1        \n",
       "2 2                4          2        \n",
       "3 2                1          1        \n",
       "4 2                1          1        \n",
       "5 2                1          1        \n",
       "6 2                2          1        "
      ]
     },
     "metadata": {},
     "output_type": "display_data"
    }
   ],
   "source": [
    "head(data_e)"
   ]
  },
  {
   "cell_type": "markdown",
   "metadata": {},
   "source": [
    "## 3. File on a website: load and save"
   ]
  },
  {
   "cell_type": "code",
   "execution_count": 20,
   "metadata": {},
   "outputs": [
    {
     "ename": "ERROR",
     "evalue": "Error in open.connection(con, \"rb\"): HTTP error 404.\n",
     "output_type": "error",
     "traceback": [
      "Error in open.connection(con, \"rb\"): HTTP error 404.\nTraceback:\n",
      "1. read_csv(\"http://samplecsvs.s3.amazonaws.com/Sacramentorealestatetransactions.csv\")",
      "2. read_delimited(file, tokenizer, col_names = col_names, col_types = col_types, \n .     locale = locale, skip = skip, skip_empty_rows = skip_empty_rows, \n .     comment = comment, n_max = n_max, guess_max = guess_max, \n .     progress = progress)",
      "3. datasource_connection(file, skip, skip_empty_rows, comment)",
      "4. read_connection(path)",
      "5. open(con, \"rb\")",
      "6. open.connection(con, \"rb\")"
     ]
    }
   ],
   "source": [
    "data_transactions = read_csv(\"http://samplecsvs.s3.amazonaws.com/Sacramentorealestatetransactions.csv\")\n",
    "\n",
    "head(data_transactions)"
   ]
  },
  {
   "cell_type": "code",
   "execution_count": 32,
   "metadata": {},
   "outputs": [],
   "source": [
    "# save it to file\n",
    "write_csv(data_transactions, path = \"~/Dropbox/teaching/r-course21/data/Sacramentorealestatetransactions.csv\")"
   ]
  },
  {
   "cell_type": "code",
   "execution_count": 17,
   "metadata": {},
   "outputs": [
    {
     "name": "stderr",
     "output_type": "stream",
     "text": [
      "Parsed with column specification:\n",
      "cols(\n",
      "  street = \u001b[31mcol_character()\u001b[39m,\n",
      "  city = \u001b[31mcol_character()\u001b[39m,\n",
      "  zip = \u001b[32mcol_double()\u001b[39m,\n",
      "  state = \u001b[31mcol_character()\u001b[39m,\n",
      "  beds = \u001b[32mcol_double()\u001b[39m,\n",
      "  baths = \u001b[32mcol_double()\u001b[39m,\n",
      "  sq__ft = \u001b[32mcol_double()\u001b[39m,\n",
      "  type = \u001b[31mcol_character()\u001b[39m,\n",
      "  sale_date = \u001b[31mcol_character()\u001b[39m,\n",
      "  price = \u001b[32mcol_double()\u001b[39m,\n",
      "  latitude = \u001b[32mcol_double()\u001b[39m,\n",
      "  longitude = \u001b[32mcol_double()\u001b[39m\n",
      ")\n"
     ]
    },
    {
     "data": {
      "text/html": [
       "<table>\n",
       "<caption>A tibble: 6 × 12</caption>\n",
       "<thead>\n",
       "\t<tr><th scope=col>street</th><th scope=col>city</th><th scope=col>zip</th><th scope=col>state</th><th scope=col>beds</th><th scope=col>baths</th><th scope=col>sq__ft</th><th scope=col>type</th><th scope=col>sale_date</th><th scope=col>price</th><th scope=col>latitude</th><th scope=col>longitude</th></tr>\n",
       "\t<tr><th scope=col>&lt;chr&gt;</th><th scope=col>&lt;chr&gt;</th><th scope=col>&lt;dbl&gt;</th><th scope=col>&lt;chr&gt;</th><th scope=col>&lt;dbl&gt;</th><th scope=col>&lt;dbl&gt;</th><th scope=col>&lt;dbl&gt;</th><th scope=col>&lt;chr&gt;</th><th scope=col>&lt;chr&gt;</th><th scope=col>&lt;dbl&gt;</th><th scope=col>&lt;dbl&gt;</th><th scope=col>&lt;dbl&gt;</th></tr>\n",
       "</thead>\n",
       "<tbody>\n",
       "\t<tr><td>3526 HIGH ST      </td><td>SACRAMENTO</td><td>95838</td><td>CA</td><td>2</td><td>1</td><td> 836</td><td>Residential</td><td>Wed May 21 00:00:00 EDT 2008</td><td>59222</td><td>38.63191</td><td>-121.4349</td></tr>\n",
       "\t<tr><td>51 OMAHA CT       </td><td>SACRAMENTO</td><td>95823</td><td>CA</td><td>3</td><td>1</td><td>1167</td><td>Residential</td><td>Wed May 21 00:00:00 EDT 2008</td><td>68212</td><td>38.47890</td><td>-121.4310</td></tr>\n",
       "\t<tr><td>2796 BRANCH ST    </td><td>SACRAMENTO</td><td>95815</td><td>CA</td><td>2</td><td>1</td><td> 796</td><td>Residential</td><td>Wed May 21 00:00:00 EDT 2008</td><td>68880</td><td>38.61830</td><td>-121.4438</td></tr>\n",
       "\t<tr><td>2805 JANETTE WAY  </td><td>SACRAMENTO</td><td>95815</td><td>CA</td><td>2</td><td>1</td><td> 852</td><td>Residential</td><td>Wed May 21 00:00:00 EDT 2008</td><td>69307</td><td>38.61684</td><td>-121.4391</td></tr>\n",
       "\t<tr><td>6001 MCMAHON DR   </td><td>SACRAMENTO</td><td>95824</td><td>CA</td><td>2</td><td>1</td><td> 797</td><td>Residential</td><td>Wed May 21 00:00:00 EDT 2008</td><td>81900</td><td>38.51947</td><td>-121.4358</td></tr>\n",
       "\t<tr><td>5828 PEPPERMILL CT</td><td>SACRAMENTO</td><td>95841</td><td>CA</td><td>3</td><td>1</td><td>1122</td><td>Condo      </td><td>Wed May 21 00:00:00 EDT 2008</td><td>89921</td><td>38.66260</td><td>-121.3278</td></tr>\n",
       "</tbody>\n",
       "</table>\n"
      ],
      "text/latex": [
       "A tibble: 6 × 12\n",
       "\\begin{tabular}{r|llllllllllll}\n",
       " street & city & zip & state & beds & baths & sq\\_\\_ft & type & sale\\_date & price & latitude & longitude\\\\\n",
       " <chr> & <chr> & <dbl> & <chr> & <dbl> & <dbl> & <dbl> & <chr> & <chr> & <dbl> & <dbl> & <dbl>\\\\\n",
       "\\hline\n",
       "\t 3526 HIGH ST       & SACRAMENTO & 95838 & CA & 2 & 1 &  836 & Residential & Wed May 21 00:00:00 EDT 2008 & 59222 & 38.63191 & -121.4349\\\\\n",
       "\t 51 OMAHA CT        & SACRAMENTO & 95823 & CA & 3 & 1 & 1167 & Residential & Wed May 21 00:00:00 EDT 2008 & 68212 & 38.47890 & -121.4310\\\\\n",
       "\t 2796 BRANCH ST     & SACRAMENTO & 95815 & CA & 2 & 1 &  796 & Residential & Wed May 21 00:00:00 EDT 2008 & 68880 & 38.61830 & -121.4438\\\\\n",
       "\t 2805 JANETTE WAY   & SACRAMENTO & 95815 & CA & 2 & 1 &  852 & Residential & Wed May 21 00:00:00 EDT 2008 & 69307 & 38.61684 & -121.4391\\\\\n",
       "\t 6001 MCMAHON DR    & SACRAMENTO & 95824 & CA & 2 & 1 &  797 & Residential & Wed May 21 00:00:00 EDT 2008 & 81900 & 38.51947 & -121.4358\\\\\n",
       "\t 5828 PEPPERMILL CT & SACRAMENTO & 95841 & CA & 3 & 1 & 1122 & Condo       & Wed May 21 00:00:00 EDT 2008 & 89921 & 38.66260 & -121.3278\\\\\n",
       "\\end{tabular}\n"
      ],
      "text/markdown": [
       "\n",
       "A tibble: 6 × 12\n",
       "\n",
       "| street &lt;chr&gt; | city &lt;chr&gt; | zip &lt;dbl&gt; | state &lt;chr&gt; | beds &lt;dbl&gt; | baths &lt;dbl&gt; | sq__ft &lt;dbl&gt; | type &lt;chr&gt; | sale_date &lt;chr&gt; | price &lt;dbl&gt; | latitude &lt;dbl&gt; | longitude &lt;dbl&gt; |\n",
       "|---|---|---|---|---|---|---|---|---|---|---|---|\n",
       "| 3526 HIGH ST       | SACRAMENTO | 95838 | CA | 2 | 1 |  836 | Residential | Wed May 21 00:00:00 EDT 2008 | 59222 | 38.63191 | -121.4349 |\n",
       "| 51 OMAHA CT        | SACRAMENTO | 95823 | CA | 3 | 1 | 1167 | Residential | Wed May 21 00:00:00 EDT 2008 | 68212 | 38.47890 | -121.4310 |\n",
       "| 2796 BRANCH ST     | SACRAMENTO | 95815 | CA | 2 | 1 |  796 | Residential | Wed May 21 00:00:00 EDT 2008 | 68880 | 38.61830 | -121.4438 |\n",
       "| 2805 JANETTE WAY   | SACRAMENTO | 95815 | CA | 2 | 1 |  852 | Residential | Wed May 21 00:00:00 EDT 2008 | 69307 | 38.61684 | -121.4391 |\n",
       "| 6001 MCMAHON DR    | SACRAMENTO | 95824 | CA | 2 | 1 |  797 | Residential | Wed May 21 00:00:00 EDT 2008 | 81900 | 38.51947 | -121.4358 |\n",
       "| 5828 PEPPERMILL CT | SACRAMENTO | 95841 | CA | 3 | 1 | 1122 | Condo       | Wed May 21 00:00:00 EDT 2008 | 89921 | 38.66260 | -121.3278 |\n",
       "\n"
      ],
      "text/plain": [
       "  street             city       zip   state beds baths sq__ft type       \n",
       "1 3526 HIGH ST       SACRAMENTO 95838 CA    2    1      836   Residential\n",
       "2 51 OMAHA CT        SACRAMENTO 95823 CA    3    1     1167   Residential\n",
       "3 2796 BRANCH ST     SACRAMENTO 95815 CA    2    1      796   Residential\n",
       "4 2805 JANETTE WAY   SACRAMENTO 95815 CA    2    1      852   Residential\n",
       "5 6001 MCMAHON DR    SACRAMENTO 95824 CA    2    1      797   Residential\n",
       "6 5828 PEPPERMILL CT SACRAMENTO 95841 CA    3    1     1122   Condo      \n",
       "  sale_date                    price latitude longitude\n",
       "1 Wed May 21 00:00:00 EDT 2008 59222 38.63191 -121.4349\n",
       "2 Wed May 21 00:00:00 EDT 2008 68212 38.47890 -121.4310\n",
       "3 Wed May 21 00:00:00 EDT 2008 68880 38.61830 -121.4438\n",
       "4 Wed May 21 00:00:00 EDT 2008 69307 38.61684 -121.4391\n",
       "5 Wed May 21 00:00:00 EDT 2008 81900 38.51947 -121.4358\n",
       "6 Wed May 21 00:00:00 EDT 2008 89921 38.66260 -121.3278"
      ]
     },
     "metadata": {},
     "output_type": "display_data"
    }
   ],
   "source": [
    "# load it again\n",
    "data_transactions = read_csv(\"~/Dropbox/teaching/r-course21/data/Sacramentorealestatetransactions.csv\")\n",
    "\n",
    "head(data_transactions)"
   ]
  },
  {
   "cell_type": "markdown",
   "metadata": {},
   "source": [
    "## 4. Get raw files from GitHub"
   ]
  },
  {
   "cell_type": "markdown",
   "metadata": {},
   "source": [
    "Go on the `data` folder where I loaded all past dataset on GitHub: https://github.com/laurafontanesi/r-seminar/tree/master/data.\n",
    "\n",
    "Click on `tdcs.csv`.\n",
    "\n",
    "To be able to load these data in R, we first need to get to the raw data.\n",
    "\n",
    "You can get them by clickin on `View raw`. **Note** that for some files, instead of getting to the raw data page, you can directly dowload them to a local directory. From there, you can simply load them in R using the appropriate `read_` function.\n",
    "\n",
    "Copy the adress of the page containing the raw data. It should be https://raw.githubusercontent.com/laurafontanesi/r-seminar/master/data/tdcs.csv\n",
    "\n",
    "You can use now this url with one of our `read_` functions:"
   ]
  },
  {
   "cell_type": "code",
   "execution_count": 21,
   "metadata": {},
   "outputs": [
    {
     "name": "stderr",
     "output_type": "stream",
     "text": [
      "\n",
      "\u001b[36m──\u001b[39m \u001b[1m\u001b[1mColumn specification\u001b[1m\u001b[22m \u001b[36m────────────────────────────────────────────────────────────────────────────────────────────────────────────────────────────────────────────────────────────────────────────────────\u001b[39m\n",
      "cols(\n",
      "  RT = \u001b[32mcol_double()\u001b[39m,\n",
      "  acc_spd = \u001b[31mcol_character()\u001b[39m,\n",
      "  accuracy = \u001b[32mcol_double()\u001b[39m,\n",
      "  angle = \u001b[32mcol_double()\u001b[39m,\n",
      "  block = \u001b[32mcol_double()\u001b[39m,\n",
      "  coherence = \u001b[32mcol_double()\u001b[39m,\n",
      "  dataset = \u001b[31mcol_character()\u001b[39m,\n",
      "  id = \u001b[31mcol_character()\u001b[39m,\n",
      "  left_right = \u001b[32mcol_double()\u001b[39m,\n",
      "  subj_idx = \u001b[32mcol_double()\u001b[39m,\n",
      "  tdcs = \u001b[31mcol_character()\u001b[39m,\n",
      "  trial_NR = \u001b[32mcol_double()\u001b[39m\n",
      ")\n",
      "\n",
      "\n"
     ]
    },
    {
     "data": {
      "text/html": [
       "<table class=\"dataframe\">\n",
       "<caption>A tibble: 6 × 12</caption>\n",
       "<thead>\n",
       "\t<tr><th scope=col>RT</th><th scope=col>acc_spd</th><th scope=col>accuracy</th><th scope=col>angle</th><th scope=col>block</th><th scope=col>coherence</th><th scope=col>dataset</th><th scope=col>id</th><th scope=col>left_right</th><th scope=col>subj_idx</th><th scope=col>tdcs</th><th scope=col>trial_NR</th></tr>\n",
       "\t<tr><th scope=col>&lt;dbl&gt;</th><th scope=col>&lt;chr&gt;</th><th scope=col>&lt;dbl&gt;</th><th scope=col>&lt;dbl&gt;</th><th scope=col>&lt;dbl&gt;</th><th scope=col>&lt;dbl&gt;</th><th scope=col>&lt;chr&gt;</th><th scope=col>&lt;chr&gt;</th><th scope=col>&lt;dbl&gt;</th><th scope=col>&lt;dbl&gt;</th><th scope=col>&lt;chr&gt;</th><th scope=col>&lt;dbl&gt;</th></tr>\n",
       "</thead>\n",
       "<tbody>\n",
       "\t<tr><td> 799</td><td>spd</td><td>1</td><td>180</td><td>1</td><td>0.4171</td><td>berkeley</td><td>S1.1</td><td>2</td><td>1</td><td>sham</td><td>1</td></tr>\n",
       "\t<tr><td> 613</td><td>spd</td><td>1</td><td>180</td><td>1</td><td>0.4171</td><td>berkeley</td><td>S1.1</td><td>2</td><td>1</td><td>sham</td><td>2</td></tr>\n",
       "\t<tr><td> 627</td><td>spd</td><td>1</td><td>180</td><td>1</td><td>0.4171</td><td>berkeley</td><td>S1.1</td><td>1</td><td>1</td><td>sham</td><td>3</td></tr>\n",
       "\t<tr><td>1280</td><td>acc</td><td>0</td><td>180</td><td>1</td><td>0.4171</td><td>berkeley</td><td>S1.1</td><td>1</td><td>1</td><td>sham</td><td>4</td></tr>\n",
       "\t<tr><td> 800</td><td>spd</td><td>1</td><td>180</td><td>1</td><td>0.4171</td><td>berkeley</td><td>S1.1</td><td>2</td><td>1</td><td>sham</td><td>5</td></tr>\n",
       "\t<tr><td> 760</td><td>acc</td><td>1</td><td>180</td><td>1</td><td>0.4171</td><td>berkeley</td><td>S1.1</td><td>2</td><td>1</td><td>sham</td><td>6</td></tr>\n",
       "</tbody>\n",
       "</table>\n"
      ],
      "text/latex": [
       "A tibble: 6 × 12\n",
       "\\begin{tabular}{llllllllllll}\n",
       " RT & acc\\_spd & accuracy & angle & block & coherence & dataset & id & left\\_right & subj\\_idx & tdcs & trial\\_NR\\\\\n",
       " <dbl> & <chr> & <dbl> & <dbl> & <dbl> & <dbl> & <chr> & <chr> & <dbl> & <dbl> & <chr> & <dbl>\\\\\n",
       "\\hline\n",
       "\t  799 & spd & 1 & 180 & 1 & 0.4171 & berkeley & S1.1 & 2 & 1 & sham & 1\\\\\n",
       "\t  613 & spd & 1 & 180 & 1 & 0.4171 & berkeley & S1.1 & 2 & 1 & sham & 2\\\\\n",
       "\t  627 & spd & 1 & 180 & 1 & 0.4171 & berkeley & S1.1 & 1 & 1 & sham & 3\\\\\n",
       "\t 1280 & acc & 0 & 180 & 1 & 0.4171 & berkeley & S1.1 & 1 & 1 & sham & 4\\\\\n",
       "\t  800 & spd & 1 & 180 & 1 & 0.4171 & berkeley & S1.1 & 2 & 1 & sham & 5\\\\\n",
       "\t  760 & acc & 1 & 180 & 1 & 0.4171 & berkeley & S1.1 & 2 & 1 & sham & 6\\\\\n",
       "\\end{tabular}\n"
      ],
      "text/markdown": [
       "\n",
       "A tibble: 6 × 12\n",
       "\n",
       "| RT &lt;dbl&gt; | acc_spd &lt;chr&gt; | accuracy &lt;dbl&gt; | angle &lt;dbl&gt; | block &lt;dbl&gt; | coherence &lt;dbl&gt; | dataset &lt;chr&gt; | id &lt;chr&gt; | left_right &lt;dbl&gt; | subj_idx &lt;dbl&gt; | tdcs &lt;chr&gt; | trial_NR &lt;dbl&gt; |\n",
       "|---|---|---|---|---|---|---|---|---|---|---|---|\n",
       "|  799 | spd | 1 | 180 | 1 | 0.4171 | berkeley | S1.1 | 2 | 1 | sham | 1 |\n",
       "|  613 | spd | 1 | 180 | 1 | 0.4171 | berkeley | S1.1 | 2 | 1 | sham | 2 |\n",
       "|  627 | spd | 1 | 180 | 1 | 0.4171 | berkeley | S1.1 | 1 | 1 | sham | 3 |\n",
       "| 1280 | acc | 0 | 180 | 1 | 0.4171 | berkeley | S1.1 | 1 | 1 | sham | 4 |\n",
       "|  800 | spd | 1 | 180 | 1 | 0.4171 | berkeley | S1.1 | 2 | 1 | sham | 5 |\n",
       "|  760 | acc | 1 | 180 | 1 | 0.4171 | berkeley | S1.1 | 2 | 1 | sham | 6 |\n",
       "\n"
      ],
      "text/plain": [
       "  RT   acc_spd accuracy angle block coherence dataset  id   left_right subj_idx\n",
       "1  799 spd     1        180   1     0.4171    berkeley S1.1 2          1       \n",
       "2  613 spd     1        180   1     0.4171    berkeley S1.1 2          1       \n",
       "3  627 spd     1        180   1     0.4171    berkeley S1.1 1          1       \n",
       "4 1280 acc     0        180   1     0.4171    berkeley S1.1 1          1       \n",
       "5  800 spd     1        180   1     0.4171    berkeley S1.1 2          1       \n",
       "6  760 acc     1        180   1     0.4171    berkeley S1.1 2          1       \n",
       "  tdcs trial_NR\n",
       "1 sham 1       \n",
       "2 sham 2       \n",
       "3 sham 3       \n",
       "4 sham 4       \n",
       "5 sham 5       \n",
       "6 sham 6       "
      ]
     },
     "metadata": {},
     "output_type": "display_data"
    }
   ],
   "source": [
    "data_tdcs = read_csv(\"https://raw.githubusercontent.com/laurafontanesi/r-seminar/main/data/tdcs.csv\")\n",
    "\n",
    "head(data_tdcs)"
   ]
  },
  {
   "cell_type": "markdown",
   "metadata": {},
   "source": [
    "## 5. Now it's your turn"
   ]
  },
  {
   "cell_type": "markdown",
   "metadata": {},
   "source": [
    "**Task A**\n",
    "\n",
    "From our Github page, get the data sets in the list below. Load them in R giving the respective names: `qualtrics_data`, `data_f`, `data_g`, `data_h`. Inspect them using `head()` or `glimpse()`. Finally, save them to your local `data` directory (that you should have as a sub-directory in your R course directory) as `csv` files.\n",
    "\n",
    "1. 20180321_qualtrics_managers_historical_social_comparisons.dta\n",
    "2. data_to_import_f.csv\n",
    "3. data_to_import_g.csv\n",
    "4. data_to_import_h.csv\n",
    "\n",
    "\n",
    "**Task B**\n",
    "\n",
    "Go to this website: https://www.britishelectionstudy.com/data-objects/cross-sectional-data/ (you can register for free).\n",
    "\n",
    "Download the 2017 Face-to-face Post-election Survey Version 1.5 **SPSS file** in your local `data` directory (see above). Then, load it in R assigning it to the name `british_cross_sectional_data` using the appropriate function for SPSS files and inspect it using `head()` or `glimpse()`."
   ]
  },
  {
   "cell_type": "markdown",
   "metadata": {},
   "source": [
    "## Submit your assignment\n",
    "\n",
    "Save and email your script to me at [laura.fontanesi@unibas.ch](mailto:laura.fontanesi@unibas.ch) by the end of **Friday**."
   ]
  }
 ],
 "metadata": {
  "kernelspec": {
   "display_name": "R",
   "language": "R",
   "name": "ir"
  },
  "language_info": {
   "codemirror_mode": "r",
   "file_extension": ".r",
   "mimetype": "text/x-r-source",
   "name": "R",
   "pygments_lexer": "r",
   "version": "4.0.3"
  }
 },
 "nbformat": 4,
 "nbformat_minor": 4
}
