{
 "cells": [
  {
   "cell_type": "markdown",
   "id": "creative-optimization",
   "metadata": {},
   "source": [
    "# Multilevel Regression"
   ]
  },
  {
   "cell_type": "markdown",
   "id": "abstract-positive",
   "metadata": {},
   "source": [
    "Download the `Bressoux Data AnPsycho.xls` dataset from the following OSF repository: https://osf.io/q7zph/.\n",
    "Load it into R."
   ]
  },
  {
   "cell_type": "code",
   "execution_count": 1,
   "id": "coastal-blowing",
   "metadata": {},
   "outputs": [
    {
     "name": "stderr",
     "output_type": "stream",
     "text": [
      "── \u001b[1mAttaching packages\u001b[22m ───────────────────────────────────────────────────────────────── tidyverse 1.3.0 ──\n",
      "\n",
      "\u001b[32m✔\u001b[39m \u001b[34mggplot2\u001b[39m 3.3.3     \u001b[32m✔\u001b[39m \u001b[34mpurrr  \u001b[39m 0.3.4\n",
      "\u001b[32m✔\u001b[39m \u001b[34mtibble \u001b[39m 3.1.0     \u001b[32m✔\u001b[39m \u001b[34mdplyr  \u001b[39m 1.0.4\n",
      "\u001b[32m✔\u001b[39m \u001b[34mtidyr  \u001b[39m 1.1.2     \u001b[32m✔\u001b[39m \u001b[34mstringr\u001b[39m 1.4.0\n",
      "\u001b[32m✔\u001b[39m \u001b[34mreadr  \u001b[39m 1.4.0     \u001b[32m✔\u001b[39m \u001b[34mforcats\u001b[39m 0.5.1\n",
      "\n",
      "── \u001b[1mConflicts\u001b[22m ──────────────────────────────────────────────────────────────────── tidyverse_conflicts() ──\n",
      "\u001b[31m✖\u001b[39m \u001b[34mdplyr\u001b[39m::\u001b[32mfilter()\u001b[39m masks \u001b[34mstats\u001b[39m::filter()\n",
      "\u001b[31m✖\u001b[39m \u001b[34mdplyr\u001b[39m::\u001b[32mlag()\u001b[39m    masks \u001b[34mstats\u001b[39m::lag()\n",
      "\n"
     ]
    }
   ],
   "source": [
    "library(tidyverse)\n",
    "library(readxl)"
   ]
  },
  {
   "cell_type": "code",
   "execution_count": 2,
   "id": "liable-identification",
   "metadata": {},
   "outputs": [],
   "source": [
    "data = read_excel('~/git/r-seminar/data/Bressoux Data AnPsycho.xls')"
   ]
  },
  {
   "cell_type": "code",
   "execution_count": 3,
   "id": "chronic-session",
   "metadata": {},
   "outputs": [
    {
     "name": "stdout",
     "output_type": "stream",
     "text": [
      "Rows: 609\n",
      "Columns: 38\n",
      "$ NUMELEVE  \u001b[3m\u001b[90m<dbl>\u001b[39m\u001b[23m 701, 702, 703, 704, 705, 706, 707, 708, 709, 710, 711, 712, …\n",
      "$ FRAN4     \u001b[3m\u001b[90m<dbl>\u001b[39m\u001b[23m -1.03844718, 0.05081523, -1.32558075, 0.24899764, -1.3255807…\n",
      "$ CPBIS     \u001b[3m\u001b[90m<dbl>\u001b[39m\u001b[23m 1, 1, 1, 1, 1, 1, 1, 1, 1, 1, 1, 1, 1, 1, 1, 1, 1, 1, 1, 1, …\n",
      "$ CE1BIS    \u001b[3m\u001b[90m<dbl>\u001b[39m\u001b[23m 0, 0, 0, 0, 0, 0, 0, 0, 0, 0, 0, 0, 0, 0, 0, 0, 0, 0, 0, 0, …\n",
      "$ CE2BIS    \u001b[3m\u001b[90m<dbl>\u001b[39m\u001b[23m 0, 0, 0, 0, 0, 0, 0, 0, 0, 0, 0, 0, 0, 0, 0, 0, 0, 0, 0, 0, …\n",
      "$ CM1BIS    \u001b[3m\u001b[90m<dbl>\u001b[39m\u001b[23m 0, 0, 0, 0, 0, 0, 0, 0, 0, 0, 0, 0, 0, 0, 0, 0, 0, 0, 0, 0, …\n",
      "$ CM2BIS    \u001b[3m\u001b[90m<dbl>\u001b[39m\u001b[23m 0, 0, 0, 0, 0, 0, 0, 0, 0, 0, 0, 0, 0, 0, 0, 0, 0, 0, 0, 0, …\n",
      "$ MATH4     \u001b[3m\u001b[90m<dbl>\u001b[39m\u001b[23m -0.84660133, -0.90465749, -0.90465749, 0.06410083, -0.628770…\n",
      "$ ECOLE2    \u001b[3m\u001b[90m<dbl>\u001b[39m\u001b[23m 2, 2, 3, 3, 3, 3, 3, 3, 3, 3, 3, 3, 3, 3, 3, 3, 4, 4, 4, 4, …\n",
      "$ CLASSE2   \u001b[3m\u001b[90m<dbl>\u001b[39m\u001b[23m 2, 2, 3, 3, 3, 3, 3, 3, 3, 3, 3, 3, 3, 3, 3, 3, 7, 7, 7, 7, …\n",
      "$ COURS2    \u001b[3m\u001b[90m<dbl>\u001b[39m\u001b[23m 1, 1, 1, 1, 1, 1, 1, 1, 1, 1, 1, 1, 1, 1, 1, 1, 1, 1, 1, 1, …\n",
      "$ RDBLT2    \u001b[3m\u001b[90m<dbl>\u001b[39m\u001b[23m 0, 0, 0, 0, 0, 0, 0, 0, 0, 0, 0, 0, 0, 0, 0, 0, 0, 0, 0, 0, …\n",
      "$ FRAN3     \u001b[3m\u001b[90m<dbl>\u001b[39m\u001b[23m 1.13978958, -0.25171360, 0.97295339, 1.13978958, -2.00298384…\n",
      "$ MATH3     \u001b[3m\u001b[90m<dbl>\u001b[39m\u001b[23m 0.36853256, -0.95115243, 0.67302730, 1.59547256, -1.10303698…\n",
      "$ MOIS      \u001b[3m\u001b[90m<dbl>\u001b[39m\u001b[23m 10, 11, 10, 4, 11, 5, 12, 2, 8, 12, 12, 4, 12, 11, 7, 2, 8, …\n",
      "$ ANNEE     \u001b[3m\u001b[90m<dbl>\u001b[39m\u001b[23m 91, 91, 91, 91, 91, 91, 91, 91, 91, 91, 91, 91, 91, 91, 91, …\n",
      "$ FRAT      \u001b[3m\u001b[90m<dbl>\u001b[39m\u001b[23m 3, 2, 2, 1, 2, 2, 2, 2, 3, 1, 2, 3, 2, 2, 2, 3, 1, 1, 2, 3, …\n",
      "$ PREEL     \u001b[3m\u001b[90m<dbl>\u001b[39m\u001b[23m 3, 3, NA, NA, NA, NA, NA, NA, NA, NA, NA, NA, NA, NA, NA, NA…\n",
      "$ CSPP      \u001b[3m\u001b[90m<dbl>\u001b[39m\u001b[23m 6, 4, 1, 7, 4, 4, 6, 2, 2, 3, 5, 4, 3, 5, 6, 6, 3, 4, 2, 4, …\n",
      "$ CSPM      \u001b[3m\u001b[90m<dbl>\u001b[39m\u001b[23m 4, 7, 7, 6, 7, 4, 7, 7, 4, 2, 5, 5, 4, 4, 6, 6, 4, 4, 4, 8, …\n",
      "$ FILLE     \u001b[3m\u001b[90m<dbl>\u001b[39m\u001b[23m 1, 0, 0, 1, 0, 1, 0, 1, 1, 0, 1, 1, 1, 1, 0, 0, 1, 0, 1, 1, …\n",
      "$ ANCENS2   \u001b[3m\u001b[90m<dbl>\u001b[39m\u001b[23m 21, 21, 25, 25, 25, 25, 25, 25, 25, 25, 25, 25, 25, 25, 25, …\n",
      "$ NBEL2     \u001b[3m\u001b[90m<dbl>\u001b[39m\u001b[23m 15, 15, 25, 25, 25, 25, 25, 25, 25, 25, 25, 25, 25, 25, 25, …\n",
      "$ NBCOURS2  \u001b[3m\u001b[90m<dbl>\u001b[39m\u001b[23m 5, 5, 2, 2, 2, 2, 2, 2, 2, 2, 2, 2, 2, 2, 2, 2, 3, 3, 3, 3, …\n",
      "$ arti      \u001b[3m\u001b[90m<dbl>\u001b[39m\u001b[23m 0, 0, 0, 0, 0, 0, 0, 1, 1, 0, 0, 0, 0, 0, 0, 0, 0, 0, 1, 0, …\n",
      "$ sup       \u001b[3m\u001b[90m<dbl>\u001b[39m\u001b[23m 0, 0, 0, 0, 0, 0, 0, 0, 0, 1, 0, 0, 1, 0, 0, 0, 1, 0, 0, 0, …\n",
      "$ inter     \u001b[3m\u001b[90m<dbl>\u001b[39m\u001b[23m 0, 1, 0, 0, 1, 1, 0, 0, 0, 0, 0, 1, 0, 0, 0, 0, 0, 1, 0, 1, …\n",
      "$ empl      \u001b[3m\u001b[90m<dbl>\u001b[39m\u001b[23m 0, 0, 0, 0, 0, 0, 0, 0, 0, 0, 1, 0, 0, 1, 0, 0, 0, 0, 0, 0, …\n",
      "$ ouvr      \u001b[3m\u001b[90m<dbl>\u001b[39m\u001b[23m 1, 0, 0, 0, 0, 0, 1, 0, 0, 0, 0, 0, 0, 0, 1, 1, 0, 0, 0, 0, …\n",
      "$ autr      \u001b[3m\u001b[90m<dbl>\u001b[39m\u001b[23m 0, 0, 0, 1, 0, 0, 0, 0, 0, 0, 0, 0, 0, 0, 0, 0, 0, 0, 0, 0, …\n",
      "$ cmult     \u001b[3m\u001b[90m<dbl>\u001b[39m\u001b[23m 1, 1, 1, 1, 1, 1, 1, 1, 1, 1, 1, 1, 1, 1, 1, 1, 1, 1, 1, 1, …\n",
      "$ cmultnomb \u001b[3m\u001b[90m<dbl>\u001b[39m\u001b[23m 1, 1, 0, 0, 0, 0, 0, 0, 0, 0, 0, 0, 0, 0, 0, 0, 1, 1, 1, 1, …\n",
      "$ mfran3    \u001b[3m\u001b[90m<dbl>\u001b[39m\u001b[23m -0.009005236, -0.009005236, -0.009005236, -0.009005236, -0.0…\n",
      "$ mmath3    \u001b[3m\u001b[90m<dbl>\u001b[39m\u001b[23m 0.04217022, 0.04217022, 0.04217022, 0.04217022, 0.04217022, …\n",
      "$ msup      \u001b[3m\u001b[90m<dbl>\u001b[39m\u001b[23m 0.08080808, 0.08080808, 0.08080808, 0.08080808, 0.08080808, …\n",
      "$ mouvr     \u001b[3m\u001b[90m<dbl>\u001b[39m\u001b[23m 0.2727273, 0.2727273, 0.2727273, 0.2727273, 0.2727273, 0.272…\n",
      "$ stdfran3  \u001b[3m\u001b[90m<dbl>\u001b[39m\u001b[23m 0.9908583, 0.9908583, 0.9908583, 0.9908583, 0.9908583, 0.990…\n",
      "$ stdmath3  \u001b[3m\u001b[90m<dbl>\u001b[39m\u001b[23m 1.003498, 1.003498, 1.003498, 1.003498, 1.003498, 1.003498, …\n"
     ]
    }
   ],
   "source": [
    "glimpse(data)"
   ]
  },
  {
   "cell_type": "code",
   "execution_count": 4,
   "id": "fiscal-beads",
   "metadata": {},
   "outputs": [],
   "source": [
    "# only for notebooks\n",
    "options(repr.plot.width = 5, repr.plot.height = 5)"
   ]
  },
  {
   "cell_type": "code",
   "execution_count": 5,
   "id": "damaged-explosion",
   "metadata": {},
   "outputs": [
    {
     "name": "stderr",
     "output_type": "stream",
     "text": [
      "Loading required package: Matrix\n",
      "\n",
      "\n",
      "Attaching package: ‘Matrix’\n",
      "\n",
      "\n",
      "The following objects are masked from ‘package:tidyr’:\n",
      "\n",
      "    expand, pack, unpack\n",
      "\n",
      "\n"
     ]
    }
   ],
   "source": [
    "library(lme4)"
   ]
  },
  {
   "cell_type": "markdown",
   "id": "three-swimming",
   "metadata": {},
   "source": [
    "## Now it's your turn\n",
    "\n",
    "1. Create a new variable in the dataset, called `improvement_math`, which is the difference between `MATH4` and `MATH3`; and `improvement_french` which is the difference between `FRAN4` and `FRAN3`.\n",
    "2. Run a multilevel model (separately for math and french), in which the improvement in math and french is predicted by at least 2 variables of your choice in the dataset, and that takes into account the school level. Run a random slope model, a random intercept model, and a random slope and intercept model.\n",
    "\n",
    "3. (extra) Collapse the data across classrooms. Can you look at the effect of the number of student per classrrom on the improvements of math and french, taking into account the school level as well?"
   ]
  },
  {
   "cell_type": "markdown",
   "id": "exceptional-louisiana",
   "metadata": {},
   "source": [
    "#### Task 1"
   ]
  },
  {
   "cell_type": "code",
   "execution_count": 6,
   "id": "unavailable-sleeping",
   "metadata": {},
   "outputs": [],
   "source": [
    "data = mutate(data,\n",
    "              improvement_math=(MATH4-MATH3),\n",
    "              improvement_french=(FRAN4-FRAN3)\n",
    "              )"
   ]
  },
  {
   "cell_type": "markdown",
   "id": "personal-ancient",
   "metadata": {},
   "source": [
    "### Task 2"
   ]
  },
  {
   "cell_type": "code",
   "execution_count": 7,
   "id": "expensive-local",
   "metadata": {},
   "outputs": [
    {
     "name": "stderr",
     "output_type": "stream",
     "text": [
      "Computing profile confidence intervals ...\n",
      "\n"
     ]
    },
    {
     "data": {
      "text/html": [
       "<table class=\"dataframe\">\n",
       "<caption>A matrix: 6 × 2 of type dbl</caption>\n",
       "<thead>\n",
       "\t<tr><th></th><th scope=col>2.5 %</th><th scope=col>97.5 %</th></tr>\n",
       "</thead>\n",
       "<tbody>\n",
       "\t<tr><th scope=row>.sig01</th><td> 0.05678531</td><td>0.2578345</td></tr>\n",
       "\t<tr><th scope=row>.sigma</th><td> 0.74594285</td><td>0.8357127</td></tr>\n",
       "\t<tr><th scope=row>(Intercept)</th><td>-0.23360387</td><td>0.1389840</td></tr>\n",
       "\t<tr><th scope=row>FRAT</th><td>-0.06964690</td><td>0.1199475</td></tr>\n",
       "\t<tr><th scope=row>FILLE</th><td>-0.27800769</td><td>0.2004732</td></tr>\n",
       "\t<tr><th scope=row>FRAT:FILLE</th><td>-0.13623633</td><td>0.1243906</td></tr>\n",
       "</tbody>\n",
       "</table>\n"
      ],
      "text/latex": [
       "A matrix: 6 × 2 of type dbl\n",
       "\\begin{tabular}{r|ll}\n",
       "  & 2.5 \\% & 97.5 \\%\\\\\n",
       "\\hline\n",
       "\t.sig01 &  0.05678531 & 0.2578345\\\\\n",
       "\t.sigma &  0.74594285 & 0.8357127\\\\\n",
       "\t(Intercept) & -0.23360387 & 0.1389840\\\\\n",
       "\tFRAT & -0.06964690 & 0.1199475\\\\\n",
       "\tFILLE & -0.27800769 & 0.2004732\\\\\n",
       "\tFRAT:FILLE & -0.13623633 & 0.1243906\\\\\n",
       "\\end{tabular}\n"
      ],
      "text/markdown": [
       "\n",
       "A matrix: 6 × 2 of type dbl\n",
       "\n",
       "| <!--/--> | 2.5 % | 97.5 % |\n",
       "|---|---|---|\n",
       "| .sig01 |  0.05678531 | 0.2578345 |\n",
       "| .sigma |  0.74594285 | 0.8357127 |\n",
       "| (Intercept) | -0.23360387 | 0.1389840 |\n",
       "| FRAT | -0.06964690 | 0.1199475 |\n",
       "| FILLE | -0.27800769 | 0.2004732 |\n",
       "| FRAT:FILLE | -0.13623633 | 0.1243906 |\n",
       "\n"
      ],
      "text/plain": [
       "            2.5 %       97.5 %   \n",
       ".sig01       0.05678531 0.2578345\n",
       ".sigma       0.74594285 0.8357127\n",
       "(Intercept) -0.23360387 0.1389840\n",
       "FRAT        -0.06964690 0.1199475\n",
       "FILLE       -0.27800769 0.2004732\n",
       "FRAT:FILLE  -0.13623633 0.1243906"
      ]
     },
     "metadata": {},
     "output_type": "display_data"
    }
   ],
   "source": [
    "# Run a random intercept model\n",
    "randintmodel = lmer(improvement_math ~ FRAT*FILLE + (1 | ECOLE2), data = data)\n",
    "\n",
    "confint(randintmodel)"
   ]
  },
  {
   "cell_type": "code",
   "execution_count": 8,
   "id": "departmental-sheet",
   "metadata": {},
   "outputs": [
    {
     "name": "stderr",
     "output_type": "stream",
     "text": [
      "Computing profile confidence intervals ...\n",
      "\n"
     ]
    },
    {
     "data": {
      "text/html": [
       "<table class=\"dataframe\">\n",
       "<caption>A matrix: 6 × 2 of type dbl</caption>\n",
       "<thead>\n",
       "\t<tr><th></th><th scope=col>2.5 %</th><th scope=col>97.5 %</th></tr>\n",
       "</thead>\n",
       "<tbody>\n",
       "\t<tr><th scope=row>.sig01</th><td> 0.05201971</td><td>0.27449039</td></tr>\n",
       "\t<tr><th scope=row>.sigma</th><td> 0.71702100</td><td>0.80413848</td></tr>\n",
       "\t<tr><th scope=row>(Intercept)</th><td>-0.22447345</td><td>0.14253539</td></tr>\n",
       "\t<tr><th scope=row>FRAT</th><td>-0.13170548</td><td>0.05174996</td></tr>\n",
       "\t<tr><th scope=row>FILLE</th><td>-0.16515852</td><td>0.29629057</td></tr>\n",
       "\t<tr><th scope=row>FRAT:FILLE</th><td>-0.08529853</td><td>0.16596707</td></tr>\n",
       "</tbody>\n",
       "</table>\n"
      ],
      "text/latex": [
       "A matrix: 6 × 2 of type dbl\n",
       "\\begin{tabular}{r|ll}\n",
       "  & 2.5 \\% & 97.5 \\%\\\\\n",
       "\\hline\n",
       "\t.sig01 &  0.05201971 & 0.27449039\\\\\n",
       "\t.sigma &  0.71702100 & 0.80413848\\\\\n",
       "\t(Intercept) & -0.22447345 & 0.14253539\\\\\n",
       "\tFRAT & -0.13170548 & 0.05174996\\\\\n",
       "\tFILLE & -0.16515852 & 0.29629057\\\\\n",
       "\tFRAT:FILLE & -0.08529853 & 0.16596707\\\\\n",
       "\\end{tabular}\n"
      ],
      "text/markdown": [
       "\n",
       "A matrix: 6 × 2 of type dbl\n",
       "\n",
       "| <!--/--> | 2.5 % | 97.5 % |\n",
       "|---|---|---|\n",
       "| .sig01 |  0.05201971 | 0.27449039 |\n",
       "| .sigma |  0.71702100 | 0.80413848 |\n",
       "| (Intercept) | -0.22447345 | 0.14253539 |\n",
       "| FRAT | -0.13170548 | 0.05174996 |\n",
       "| FILLE | -0.16515852 | 0.29629057 |\n",
       "| FRAT:FILLE | -0.08529853 | 0.16596707 |\n",
       "\n"
      ],
      "text/plain": [
       "            2.5 %       97.5 %    \n",
       ".sig01       0.05201971 0.27449039\n",
       ".sigma       0.71702100 0.80413848\n",
       "(Intercept) -0.22447345 0.14253539\n",
       "FRAT        -0.13170548 0.05174996\n",
       "FILLE       -0.16515852 0.29629057\n",
       "FRAT:FILLE  -0.08529853 0.16596707"
      ]
     },
     "metadata": {},
     "output_type": "display_data"
    }
   ],
   "source": [
    "randintmodel = lmer(improvement_french ~ FRAT*FILLE + (1 | ECOLE2), data = data)\n",
    "\n",
    "confint(randintmodel)"
   ]
  },
  {
   "cell_type": "code",
   "execution_count": 9,
   "id": "orange-college",
   "metadata": {},
   "outputs": [
    {
     "name": "stderr",
     "output_type": "stream",
     "text": [
      "boundary (singular) fit: see ?isSingular\n",
      "\n"
     ]
    },
    {
     "data": {
      "text/plain": [
       "Linear mixed model fit by REML ['lmerMod']\n",
       "Formula: improvement_math ~ FRAT * FILLE + (0 + FRAT * FILLE | ECOLE2)\n",
       "   Data: data\n",
       "\n",
       "REML criterion at convergence: 1463.7\n",
       "\n",
       "Scaled residuals: \n",
       "    Min      1Q  Median      3Q     Max \n",
       "-3.5806 -0.6509  0.0144  0.6231  2.9874 \n",
       "\n",
       "Random effects:\n",
       " Groups   Name       Variance  Std.Dev. Corr       \n",
       " ECOLE2   FRAT       0.0064235 0.08015             \n",
       "          FILLE      0.0188100 0.13715   0.24      \n",
       "          FRAT:FILLE 0.0001447 0.01203   0.26 -0.87\n",
       " Residual            0.6168941 0.78543             \n",
       "Number of obs: 609, groups:  ECOLE2, 16\n",
       "\n",
       "Fixed effects:\n",
       "             Estimate Std. Error t value\n",
       "(Intercept) -0.048480   0.086606  -0.560\n",
       "FRAT         0.027640   0.053458   0.517\n",
       "FILLE       -0.050445   0.129298  -0.390\n",
       "FRAT:FILLE  -0.001028   0.067833  -0.015\n",
       "\n",
       "Correlation of Fixed Effects:\n",
       "           (Intr) FRAT   FILLE \n",
       "FRAT       -0.786              \n",
       "FILLE      -0.664  0.546       \n",
       "FRAT:FILLE  0.610 -0.641 -0.824\n",
       "optimizer (nloptwrap) convergence code: 0 (OK)\n",
       "boundary (singular) fit: see ?isSingular\n"
      ]
     },
     "metadata": {},
     "output_type": "display_data"
    }
   ],
   "source": [
    "# Run a random slope model\n",
    "randslopemodel = lmer(improvement_math ~ FRAT*FILLE + (0 + FRAT*FILLE | ECOLE2), data = data)\n",
    "\n",
    "summary(randslopemodel)"
   ]
  },
  {
   "cell_type": "code",
   "execution_count": 10,
   "id": "exposed-seeker",
   "metadata": {},
   "outputs": [
    {
     "name": "stderr",
     "output_type": "stream",
     "text": [
      "boundary (singular) fit: see ?isSingular\n",
      "\n"
     ]
    },
    {
     "data": {
      "text/plain": [
       "Linear mixed model fit by REML ['lmerMod']\n",
       "Formula: improvement_french ~ FRAT * FILLE + (0 + FRAT * FILLE | ECOLE2)\n",
       "   Data: data\n",
       "\n",
       "REML criterion at convergence: 1402\n",
       "\n",
       "Scaled residuals: \n",
       "    Min      1Q  Median      3Q     Max \n",
       "-3.2966 -0.6298  0.0095  0.6142  3.1726 \n",
       "\n",
       "Random effects:\n",
       " Groups   Name       Variance  Std.Dev.  Corr       \n",
       " ECOLE2   FRAT       9.758e-04 0.0312373            \n",
       "          FILLE      4.788e-02 0.2188170  1.00      \n",
       "          FRAT:FILLE 2.836e-07 0.0005326 -1.00 -1.00\n",
       " Residual            5.724e-01 0.7565455            \n",
       "Number of obs: 602, groups:  ECOLE2, 16\n",
       "\n",
       "Fixed effects:\n",
       "            Estimate Std. Error t value\n",
       "(Intercept) -0.02134    0.08324  -0.256\n",
       "FRAT        -0.03795    0.04718  -0.805\n",
       "FILLE        0.02810    0.13201   0.213\n",
       "FRAT:FILLE   0.03113    0.06430   0.484\n",
       "\n",
       "Correlation of Fixed Effects:\n",
       "           (Intr) FRAT   FILLE \n",
       "FRAT       -0.846              \n",
       "FILLE      -0.628  0.609       \n",
       "FRAT:FILLE  0.617 -0.705 -0.759\n",
       "optimizer (nloptwrap) convergence code: 0 (OK)\n",
       "boundary (singular) fit: see ?isSingular\n"
      ]
     },
     "metadata": {},
     "output_type": "display_data"
    }
   ],
   "source": [
    "# Run a random slope model\n",
    "randslopemodel = lmer(improvement_french ~ FRAT*FILLE + (0 + FRAT*FILLE | ECOLE2), data = data)\n",
    "\n",
    "summary(randslopemodel)"
   ]
  },
  {
   "cell_type": "code",
   "execution_count": 11,
   "id": "charged-danger",
   "metadata": {},
   "outputs": [
    {
     "name": "stderr",
     "output_type": "stream",
     "text": [
      "boundary (singular) fit: see ?isSingular\n",
      "\n"
     ]
    },
    {
     "data": {
      "text/plain": [
       "Linear mixed model fit by REML ['lmerMod']\n",
       "Formula: improvement_math ~ FRAT * FILLE + (FRAT * FILLE | ECOLE2)\n",
       "   Data: data\n",
       "\n",
       "REML criterion at convergence: 1463\n",
       "\n",
       "Scaled residuals: \n",
       "    Min      1Q  Median      3Q     Max \n",
       "-3.5995 -0.6537  0.0349  0.6154  2.9962 \n",
       "\n",
       "Random effects:\n",
       " Groups   Name        Variance Std.Dev. Corr             \n",
       " ECOLE2   (Intercept) 0.008807 0.09385                   \n",
       "          FRAT        0.009791 0.09895  -0.58            \n",
       "          FILLE       0.004390 0.06626   0.83 -0.03      \n",
       "          FRAT:FILLE  0.001287 0.03587   1.00 -0.52  0.87\n",
       " Residual             0.614540 0.78393                   \n",
       "Number of obs: 609, groups:  ECOLE2, 16\n",
       "\n",
       "Fixed effects:\n",
       "             Estimate Std. Error t value\n",
       "(Intercept) -0.040259   0.091026  -0.442\n",
       "FRAT         0.021253   0.056561   0.376\n",
       "FILLE       -0.063532   0.125206  -0.507\n",
       "FRAT:FILLE   0.006797   0.068990   0.099\n",
       "\n",
       "Correlation of Fixed Effects:\n",
       "           (Intr) FRAT   FILLE \n",
       "FRAT       -0.807              \n",
       "FILLE      -0.627  0.517       \n",
       "FRAT:FILLE  0.626 -0.657 -0.814\n",
       "optimizer (nloptwrap) convergence code: 0 (OK)\n",
       "boundary (singular) fit: see ?isSingular\n"
      ]
     },
     "metadata": {},
     "output_type": "display_data"
    }
   ],
   "source": [
    "# Run a random intercept & slope model\n",
    "randintslopemodel = lmer(improvement_math ~ FRAT*FILLE + (FRAT*FILLE | ECOLE2), data = data)\n",
    "\n",
    "summary(randintslopemodel)"
   ]
  },
  {
   "cell_type": "code",
   "execution_count": 12,
   "id": "national-printing",
   "metadata": {},
   "outputs": [
    {
     "name": "stderr",
     "output_type": "stream",
     "text": [
      "boundary (singular) fit: see ?isSingular\n",
      "\n"
     ]
    },
    {
     "data": {
      "text/plain": [
       "Linear mixed model fit by REML ['lmerMod']\n",
       "Formula: improvement_french ~ FRAT * FILLE + (FRAT * FILLE | ECOLE2)\n",
       "   Data: data\n",
       "\n",
       "REML criterion at convergence: 1400.2\n",
       "\n",
       "Scaled residuals: \n",
       "    Min      1Q  Median      3Q     Max \n",
       "-3.2724 -0.6230  0.0062  0.5812  3.1828 \n",
       "\n",
       "Random effects:\n",
       " Groups   Name        Variance Std.Dev. Corr             \n",
       " ECOLE2   (Intercept) 0.030009 0.17323                   \n",
       "          FRAT        0.002267 0.04762  -1.00            \n",
       "          FILLE       0.008040 0.08967   0.20 -0.20      \n",
       "          FRAT:FILLE  0.007076 0.08412   1.00 -1.00  0.23\n",
       " Residual             0.569065 0.75436                   \n",
       "Number of obs: 602, groups:  ECOLE2, 16\n",
       "\n",
       "Fixed effects:\n",
       "            Estimate Std. Error t value\n",
       "(Intercept) -0.04296    0.09508  -0.452\n",
       "FRAT        -0.03279    0.04800  -0.683\n",
       "FILLE        0.04875    0.12133   0.402\n",
       "FRAT:FILLE   0.02246    0.06842   0.328\n",
       "\n",
       "Correlation of Fixed Effects:\n",
       "           (Intr) FRAT   FILLE \n",
       "FRAT       -0.853              \n",
       "FILLE      -0.586  0.564       \n",
       "FRAT:FILLE  0.672 -0.744 -0.770\n",
       "optimizer (nloptwrap) convergence code: 0 (OK)\n",
       "boundary (singular) fit: see ?isSingular\n"
      ]
     },
     "metadata": {},
     "output_type": "display_data"
    }
   ],
   "source": [
    "# Run a random intercept & slope model\n",
    "randintslopemodel = lmer(improvement_french ~ FRAT*FILLE + (FRAT*FILLE | ECOLE2), data = data)\n",
    "\n",
    "summary(randintslopemodel)"
   ]
  },
  {
   "cell_type": "markdown",
   "id": "concerned-radius",
   "metadata": {},
   "source": [
    "I tried to use the number of siblings and the gender as predictor but none seem to have an effect on the math/french improvement."
   ]
  },
  {
   "cell_type": "markdown",
   "id": "prompt-vitamin",
   "metadata": {},
   "source": [
    "### Task 3"
   ]
  },
  {
   "cell_type": "code",
   "execution_count": 13,
   "id": "unable-allah",
   "metadata": {},
   "outputs": [],
   "source": [
    "grouped = group_by(data, \n",
    "                   CLASSE2, )\n",
    "collapsed = summarise(grouped, \n",
    "                      mean_improvement_math = mean(improvement_math, na.rm=TRUE),\n",
    "                      mean_improvement_french = mean(improvement_french, na.rm=TRUE),\n",
    "                      NBEL2 = mean(NBEL2),\n",
    "                      ECOLE2 = mean(ECOLE2))"
   ]
  },
  {
   "cell_type": "code",
   "execution_count": 14,
   "id": "numerical-taste",
   "metadata": {},
   "outputs": [
    {
     "data": {
      "text/html": [
       "<table class=\"dataframe\">\n",
       "<caption>A tibble: 32 × 5</caption>\n",
       "<thead>\n",
       "\t<tr><th></th><th scope=col>CLASSE2</th><th scope=col>mean_improvement_math</th><th scope=col>mean_improvement_french</th><th scope=col>NBEL2</th><th scope=col>ECOLE2</th></tr>\n",
       "\t<tr><th></th><th scope=col>&lt;dbl&gt;</th><th scope=col>&lt;dbl&gt;</th><th scope=col>&lt;dbl&gt;</th><th scope=col>&lt;dbl&gt;</th><th scope=col>&lt;dbl&gt;</th></tr>\n",
       "</thead>\n",
       "<tbody>\n",
       "\t<tr><th scope=row>1</th><td> 1</td><td> 0.099175643</td><td>-0.13116577</td><td>27</td><td> 1</td></tr>\n",
       "\t<tr><th scope=row>2</th><td> 2</td><td> 0.350049445</td><td>-0.12595449</td><td>15</td><td> 2</td></tr>\n",
       "\t<tr><th scope=row>3</th><td> 3</td><td>-0.723633430</td><td>-0.50605875</td><td>25</td><td> 3</td></tr>\n",
       "\t<tr><th scope=row>4</th><td> 4</td><td>-0.293928641</td><td>-0.50829317</td><td>26</td><td> 3</td></tr>\n",
       "\t<tr><th scope=row>5</th><td> 5</td><td> 0.066000694</td><td> 0.42052683</td><td>26</td><td> 3</td></tr>\n",
       "\t<tr><th scope=row>6</th><td> 6</td><td> 0.560021027</td><td> 0.30280952</td><td>24</td><td> 3</td></tr>\n",
       "\t<tr><th scope=row>7</th><td> 7</td><td>-0.302536259</td><td>-0.10016697</td><td>22</td><td> 4</td></tr>\n",
       "\t<tr><th scope=row>8</th><td> 8</td><td>-0.763813611</td><td> 0.93612594</td><td>23</td><td> 5</td></tr>\n",
       "\t<tr><th scope=row>9</th><td> 9</td><td>-0.060403724</td><td>-0.13294323</td><td>26</td><td> 5</td></tr>\n",
       "\t<tr><th scope=row>10</th><td>10</td><td>-0.518796930</td><td> 0.15313103</td><td>25</td><td> 5</td></tr>\n",
       "\t<tr><th scope=row>11</th><td>12</td><td>-0.104024990</td><td>-0.09477811</td><td>27</td><td> 6</td></tr>\n",
       "\t<tr><th scope=row>12</th><td>14</td><td>-0.419017817</td><td>-0.58651031</td><td>22</td><td> 7</td></tr>\n",
       "\t<tr><th scope=row>13</th><td>15</td><td>-0.326060690</td><td>-0.29161196</td><td>19</td><td> 8</td></tr>\n",
       "\t<tr><th scope=row>14</th><td>16</td><td> 0.043154930</td><td>-0.02699779</td><td>23</td><td> 8</td></tr>\n",
       "\t<tr><th scope=row>15</th><td>17</td><td>-0.211257404</td><td>-0.13163010</td><td>32</td><td> 9</td></tr>\n",
       "\t<tr><th scope=row>16</th><td>19</td><td> 0.106423069</td><td> 0.31215672</td><td>22</td><td> 9</td></tr>\n",
       "\t<tr><th scope=row>17</th><td>21</td><td> 0.052264833</td><td>-0.10537871</td><td>24</td><td> 9</td></tr>\n",
       "\t<tr><th scope=row>18</th><td>23</td><td> 0.009196924</td><td>-0.42095643</td><td>23</td><td>11</td></tr>\n",
       "\t<tr><th scope=row>19</th><td>24</td><td>-0.196375317</td><td> 0.07422129</td><td>23</td><td>11</td></tr>\n",
       "\t<tr><th scope=row>20</th><td>25</td><td> 0.182301861</td><td> 0.19650634</td><td>22</td><td>12</td></tr>\n",
       "\t<tr><th scope=row>21</th><td>26</td><td>-0.395467202</td><td>-0.09471306</td><td>26</td><td>12</td></tr>\n",
       "\t<tr><th scope=row>22</th><td>27</td><td> 0.272719046</td><td> 0.17095055</td><td>24</td><td>13</td></tr>\n",
       "\t<tr><th scope=row>23</th><td>28</td><td>-1.342148976</td><td> 0.31968183</td><td>13</td><td>14</td></tr>\n",
       "\t<tr><th scope=row>24</th><td>29</td><td> 0.041149419</td><td>-0.25742306</td><td>16</td><td>14</td></tr>\n",
       "\t<tr><th scope=row>25</th><td>30</td><td>-0.063340435</td><td> 0.43386480</td><td>22</td><td>15</td></tr>\n",
       "\t<tr><th scope=row>26</th><td>31</td><td> 0.084545730</td><td>-0.04684801</td><td>20</td><td>15</td></tr>\n",
       "\t<tr><th scope=row>27</th><td>32</td><td> 0.544194045</td><td> 0.42113706</td><td>29</td><td>15</td></tr>\n",
       "\t<tr><th scope=row>28</th><td>33</td><td> 0.043881058</td><td>-0.95180925</td><td>12</td><td>16</td></tr>\n",
       "\t<tr><th scope=row>29</th><td>34</td><td> 0.078243653</td><td>-0.38572926</td><td>18</td><td> 6</td></tr>\n",
       "\t<tr><th scope=row>30</th><td>35</td><td> 0.849018571</td><td> 0.53440995</td><td>13</td><td> 7</td></tr>\n",
       "\t<tr><th scope=row>31</th><td>36</td><td> 0.259480806</td><td>-0.06146803</td><td>26</td><td> 9</td></tr>\n",
       "\t<tr><th scope=row>32</th><td>37</td><td>-0.113108582</td><td> 0.01867559</td><td>12</td><td>10</td></tr>\n",
       "</tbody>\n",
       "</table>\n"
      ],
      "text/latex": [
       "A tibble: 32 × 5\n",
       "\\begin{tabular}{r|lllll}\n",
       "  & CLASSE2 & mean\\_improvement\\_math & mean\\_improvement\\_french & NBEL2 & ECOLE2\\\\\n",
       "  & <dbl> & <dbl> & <dbl> & <dbl> & <dbl>\\\\\n",
       "\\hline\n",
       "\t1 &  1 &  0.099175643 & -0.13116577 & 27 &  1\\\\\n",
       "\t2 &  2 &  0.350049445 & -0.12595449 & 15 &  2\\\\\n",
       "\t3 &  3 & -0.723633430 & -0.50605875 & 25 &  3\\\\\n",
       "\t4 &  4 & -0.293928641 & -0.50829317 & 26 &  3\\\\\n",
       "\t5 &  5 &  0.066000694 &  0.42052683 & 26 &  3\\\\\n",
       "\t6 &  6 &  0.560021027 &  0.30280952 & 24 &  3\\\\\n",
       "\t7 &  7 & -0.302536259 & -0.10016697 & 22 &  4\\\\\n",
       "\t8 &  8 & -0.763813611 &  0.93612594 & 23 &  5\\\\\n",
       "\t9 &  9 & -0.060403724 & -0.13294323 & 26 &  5\\\\\n",
       "\t10 & 10 & -0.518796930 &  0.15313103 & 25 &  5\\\\\n",
       "\t11 & 12 & -0.104024990 & -0.09477811 & 27 &  6\\\\\n",
       "\t12 & 14 & -0.419017817 & -0.58651031 & 22 &  7\\\\\n",
       "\t13 & 15 & -0.326060690 & -0.29161196 & 19 &  8\\\\\n",
       "\t14 & 16 &  0.043154930 & -0.02699779 & 23 &  8\\\\\n",
       "\t15 & 17 & -0.211257404 & -0.13163010 & 32 &  9\\\\\n",
       "\t16 & 19 &  0.106423069 &  0.31215672 & 22 &  9\\\\\n",
       "\t17 & 21 &  0.052264833 & -0.10537871 & 24 &  9\\\\\n",
       "\t18 & 23 &  0.009196924 & -0.42095643 & 23 & 11\\\\\n",
       "\t19 & 24 & -0.196375317 &  0.07422129 & 23 & 11\\\\\n",
       "\t20 & 25 &  0.182301861 &  0.19650634 & 22 & 12\\\\\n",
       "\t21 & 26 & -0.395467202 & -0.09471306 & 26 & 12\\\\\n",
       "\t22 & 27 &  0.272719046 &  0.17095055 & 24 & 13\\\\\n",
       "\t23 & 28 & -1.342148976 &  0.31968183 & 13 & 14\\\\\n",
       "\t24 & 29 &  0.041149419 & -0.25742306 & 16 & 14\\\\\n",
       "\t25 & 30 & -0.063340435 &  0.43386480 & 22 & 15\\\\\n",
       "\t26 & 31 &  0.084545730 & -0.04684801 & 20 & 15\\\\\n",
       "\t27 & 32 &  0.544194045 &  0.42113706 & 29 & 15\\\\\n",
       "\t28 & 33 &  0.043881058 & -0.95180925 & 12 & 16\\\\\n",
       "\t29 & 34 &  0.078243653 & -0.38572926 & 18 &  6\\\\\n",
       "\t30 & 35 &  0.849018571 &  0.53440995 & 13 &  7\\\\\n",
       "\t31 & 36 &  0.259480806 & -0.06146803 & 26 &  9\\\\\n",
       "\t32 & 37 & -0.113108582 &  0.01867559 & 12 & 10\\\\\n",
       "\\end{tabular}\n"
      ],
      "text/markdown": [
       "\n",
       "A tibble: 32 × 5\n",
       "\n",
       "| <!--/--> | CLASSE2 &lt;dbl&gt; | mean_improvement_math &lt;dbl&gt; | mean_improvement_french &lt;dbl&gt; | NBEL2 &lt;dbl&gt; | ECOLE2 &lt;dbl&gt; |\n",
       "|---|---|---|---|---|---|\n",
       "| 1 |  1 |  0.099175643 | -0.13116577 | 27 |  1 |\n",
       "| 2 |  2 |  0.350049445 | -0.12595449 | 15 |  2 |\n",
       "| 3 |  3 | -0.723633430 | -0.50605875 | 25 |  3 |\n",
       "| 4 |  4 | -0.293928641 | -0.50829317 | 26 |  3 |\n",
       "| 5 |  5 |  0.066000694 |  0.42052683 | 26 |  3 |\n",
       "| 6 |  6 |  0.560021027 |  0.30280952 | 24 |  3 |\n",
       "| 7 |  7 | -0.302536259 | -0.10016697 | 22 |  4 |\n",
       "| 8 |  8 | -0.763813611 |  0.93612594 | 23 |  5 |\n",
       "| 9 |  9 | -0.060403724 | -0.13294323 | 26 |  5 |\n",
       "| 10 | 10 | -0.518796930 |  0.15313103 | 25 |  5 |\n",
       "| 11 | 12 | -0.104024990 | -0.09477811 | 27 |  6 |\n",
       "| 12 | 14 | -0.419017817 | -0.58651031 | 22 |  7 |\n",
       "| 13 | 15 | -0.326060690 | -0.29161196 | 19 |  8 |\n",
       "| 14 | 16 |  0.043154930 | -0.02699779 | 23 |  8 |\n",
       "| 15 | 17 | -0.211257404 | -0.13163010 | 32 |  9 |\n",
       "| 16 | 19 |  0.106423069 |  0.31215672 | 22 |  9 |\n",
       "| 17 | 21 |  0.052264833 | -0.10537871 | 24 |  9 |\n",
       "| 18 | 23 |  0.009196924 | -0.42095643 | 23 | 11 |\n",
       "| 19 | 24 | -0.196375317 |  0.07422129 | 23 | 11 |\n",
       "| 20 | 25 |  0.182301861 |  0.19650634 | 22 | 12 |\n",
       "| 21 | 26 | -0.395467202 | -0.09471306 | 26 | 12 |\n",
       "| 22 | 27 |  0.272719046 |  0.17095055 | 24 | 13 |\n",
       "| 23 | 28 | -1.342148976 |  0.31968183 | 13 | 14 |\n",
       "| 24 | 29 |  0.041149419 | -0.25742306 | 16 | 14 |\n",
       "| 25 | 30 | -0.063340435 |  0.43386480 | 22 | 15 |\n",
       "| 26 | 31 |  0.084545730 | -0.04684801 | 20 | 15 |\n",
       "| 27 | 32 |  0.544194045 |  0.42113706 | 29 | 15 |\n",
       "| 28 | 33 |  0.043881058 | -0.95180925 | 12 | 16 |\n",
       "| 29 | 34 |  0.078243653 | -0.38572926 | 18 |  6 |\n",
       "| 30 | 35 |  0.849018571 |  0.53440995 | 13 |  7 |\n",
       "| 31 | 36 |  0.259480806 | -0.06146803 | 26 |  9 |\n",
       "| 32 | 37 | -0.113108582 |  0.01867559 | 12 | 10 |\n",
       "\n"
      ],
      "text/plain": [
       "   CLASSE2 mean_improvement_math mean_improvement_french NBEL2 ECOLE2\n",
       "1   1       0.099175643          -0.13116577             27     1    \n",
       "2   2       0.350049445          -0.12595449             15     2    \n",
       "3   3      -0.723633430          -0.50605875             25     3    \n",
       "4   4      -0.293928641          -0.50829317             26     3    \n",
       "5   5       0.066000694           0.42052683             26     3    \n",
       "6   6       0.560021027           0.30280952             24     3    \n",
       "7   7      -0.302536259          -0.10016697             22     4    \n",
       "8   8      -0.763813611           0.93612594             23     5    \n",
       "9   9      -0.060403724          -0.13294323             26     5    \n",
       "10 10      -0.518796930           0.15313103             25     5    \n",
       "11 12      -0.104024990          -0.09477811             27     6    \n",
       "12 14      -0.419017817          -0.58651031             22     7    \n",
       "13 15      -0.326060690          -0.29161196             19     8    \n",
       "14 16       0.043154930          -0.02699779             23     8    \n",
       "15 17      -0.211257404          -0.13163010             32     9    \n",
       "16 19       0.106423069           0.31215672             22     9    \n",
       "17 21       0.052264833          -0.10537871             24     9    \n",
       "18 23       0.009196924          -0.42095643             23    11    \n",
       "19 24      -0.196375317           0.07422129             23    11    \n",
       "20 25       0.182301861           0.19650634             22    12    \n",
       "21 26      -0.395467202          -0.09471306             26    12    \n",
       "22 27       0.272719046           0.17095055             24    13    \n",
       "23 28      -1.342148976           0.31968183             13    14    \n",
       "24 29       0.041149419          -0.25742306             16    14    \n",
       "25 30      -0.063340435           0.43386480             22    15    \n",
       "26 31       0.084545730          -0.04684801             20    15    \n",
       "27 32       0.544194045           0.42113706             29    15    \n",
       "28 33       0.043881058          -0.95180925             12    16    \n",
       "29 34       0.078243653          -0.38572926             18     6    \n",
       "30 35       0.849018571           0.53440995             13     7    \n",
       "31 36       0.259480806          -0.06146803             26     9    \n",
       "32 37      -0.113108582           0.01867559             12    10    "
      ]
     },
     "metadata": {},
     "output_type": "display_data"
    }
   ],
   "source": [
    "collapsed"
   ]
  },
  {
   "cell_type": "code",
   "execution_count": 15,
   "id": "supreme-federation",
   "metadata": {},
   "outputs": [
    {
     "name": "stderr",
     "output_type": "stream",
     "text": [
      "boundary (singular) fit: see ?isSingular\n",
      "\n",
      "Computing profile confidence intervals ...\n",
      "\n",
      "Warning message in nextpar(mat, cc, i, delta, lowcut, upcut):\n",
      "“Last two rows have identical or NA .zeta values: using minstep”\n",
      "Warning message in FUN(X[[i]], ...):\n",
      "“non-monotonic profile for .sig01”\n",
      "Warning message in confint.thpr(pp, level = level, zeta = zeta):\n",
      "“bad spline fit for .sig01: falling back to linear interpolation”\n",
      "Warning message in regularize.values(x, y, ties, missing(ties), na.rm = na.rm):\n",
      "“collapsing to unique 'x' values”\n"
     ]
    },
    {
     "data": {
      "text/html": [
       "<table class=\"dataframe\">\n",
       "<caption>A matrix: 4 × 2 of type dbl</caption>\n",
       "<thead>\n",
       "\t<tr><th></th><th scope=col>2.5 %</th><th scope=col>97.5 %</th></tr>\n",
       "</thead>\n",
       "<tbody>\n",
       "\t<tr><th scope=row>.sig01</th><td> 0.00000000</td><td>0.26159820</td></tr>\n",
       "\t<tr><th scope=row>.sigma</th><td> 0.32853078</td><td>0.53801996</td></tr>\n",
       "\t<tr><th scope=row>(Intercept)</th><td>-0.74659262</td><td>0.59586205</td></tr>\n",
       "\t<tr><th scope=row>NBEL2</th><td>-0.02933113</td><td>0.02995233</td></tr>\n",
       "</tbody>\n",
       "</table>\n"
      ],
      "text/latex": [
       "A matrix: 4 × 2 of type dbl\n",
       "\\begin{tabular}{r|ll}\n",
       "  & 2.5 \\% & 97.5 \\%\\\\\n",
       "\\hline\n",
       "\t.sig01 &  0.00000000 & 0.26159820\\\\\n",
       "\t.sigma &  0.32853078 & 0.53801996\\\\\n",
       "\t(Intercept) & -0.74659262 & 0.59586205\\\\\n",
       "\tNBEL2 & -0.02933113 & 0.02995233\\\\\n",
       "\\end{tabular}\n"
      ],
      "text/markdown": [
       "\n",
       "A matrix: 4 × 2 of type dbl\n",
       "\n",
       "| <!--/--> | 2.5 % | 97.5 % |\n",
       "|---|---|---|\n",
       "| .sig01 |  0.00000000 | 0.26159820 |\n",
       "| .sigma |  0.32853078 | 0.53801996 |\n",
       "| (Intercept) | -0.74659262 | 0.59586205 |\n",
       "| NBEL2 | -0.02933113 | 0.02995233 |\n",
       "\n"
      ],
      "text/plain": [
       "            2.5 %       97.5 %    \n",
       ".sig01       0.00000000 0.26159820\n",
       ".sigma       0.32853078 0.53801996\n",
       "(Intercept) -0.74659262 0.59586205\n",
       "NBEL2       -0.02933113 0.02995233"
      ]
     },
     "metadata": {},
     "output_type": "display_data"
    }
   ],
   "source": [
    "# Run a random intercept & slope model\n",
    "randintslopemodel = lmer(mean_improvement_math ~ NBEL2 + (1 | ECOLE2), data = collapsed)\n",
    "\n",
    "confint(randintslopemodel)"
   ]
  },
  {
   "cell_type": "code",
   "execution_count": 16,
   "id": "original-hardware",
   "metadata": {},
   "outputs": [
    {
     "name": "stderr",
     "output_type": "stream",
     "text": [
      "boundary (singular) fit: see ?isSingular\n",
      "\n",
      "Computing profile confidence intervals ...\n",
      "\n",
      "Warning message in FUN(X[[i]], ...):\n",
      "“non-monotonic profile for .sig01”\n",
      "Warning message in confint.thpr(pp, level = level, zeta = zeta):\n",
      "“bad spline fit for .sig01: falling back to linear interpolation”\n"
     ]
    },
    {
     "data": {
      "text/html": [
       "<table class=\"dataframe\">\n",
       "<caption>A matrix: 4 × 2 of type dbl</caption>\n",
       "<thead>\n",
       "\t<tr><th></th><th scope=col>2.5 %</th><th scope=col>97.5 %</th></tr>\n",
       "</thead>\n",
       "<tbody>\n",
       "\t<tr><th scope=row>.sig01</th><td> 0.00000000</td><td>0.22222182</td></tr>\n",
       "\t<tr><th scope=row>.sigma</th><td> 0.29533576</td><td>0.48365798</td></tr>\n",
       "\t<tr><th scope=row>(Intercept)</th><td>-0.78892056</td><td>0.41789139</td></tr>\n",
       "\t<tr><th scope=row>NBEL2</th><td>-0.01919235</td><td>0.03410106</td></tr>\n",
       "</tbody>\n",
       "</table>\n"
      ],
      "text/latex": [
       "A matrix: 4 × 2 of type dbl\n",
       "\\begin{tabular}{r|ll}\n",
       "  & 2.5 \\% & 97.5 \\%\\\\\n",
       "\\hline\n",
       "\t.sig01 &  0.00000000 & 0.22222182\\\\\n",
       "\t.sigma &  0.29533576 & 0.48365798\\\\\n",
       "\t(Intercept) & -0.78892056 & 0.41789139\\\\\n",
       "\tNBEL2 & -0.01919235 & 0.03410106\\\\\n",
       "\\end{tabular}\n"
      ],
      "text/markdown": [
       "\n",
       "A matrix: 4 × 2 of type dbl\n",
       "\n",
       "| <!--/--> | 2.5 % | 97.5 % |\n",
       "|---|---|---|\n",
       "| .sig01 |  0.00000000 | 0.22222182 |\n",
       "| .sigma |  0.29533576 | 0.48365798 |\n",
       "| (Intercept) | -0.78892056 | 0.41789139 |\n",
       "| NBEL2 | -0.01919235 | 0.03410106 |\n",
       "\n"
      ],
      "text/plain": [
       "            2.5 %       97.5 %    \n",
       ".sig01       0.00000000 0.22222182\n",
       ".sigma       0.29533576 0.48365798\n",
       "(Intercept) -0.78892056 0.41789139\n",
       "NBEL2       -0.01919235 0.03410106"
      ]
     },
     "metadata": {},
     "output_type": "display_data"
    }
   ],
   "source": [
    "# Run a random intercept & slope model\n",
    "randintslopemodel = lmer(mean_improvement_french ~ NBEL2 + (1 | ECOLE2), data = collapsed)\n",
    "\n",
    "confint(randintslopemodel)"
   ]
  },
  {
   "cell_type": "markdown",
   "id": "animated-quantity",
   "metadata": {},
   "source": [
    "There seem to be no effect of the number of students on the mean improvement."
   ]
  }
 ],
 "metadata": {
  "kernelspec": {
   "display_name": "R",
   "language": "R",
   "name": "ir"
  },
  "language_info": {
   "codemirror_mode": "r",
   "file_extension": ".r",
   "mimetype": "text/x-r-source",
   "name": "R",
   "pygments_lexer": "r",
   "version": "4.0.3"
  }
 },
 "nbformat": 4,
 "nbformat_minor": 5
}
