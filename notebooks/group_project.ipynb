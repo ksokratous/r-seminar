{
 "cells": [
  {
   "cell_type": "markdown",
   "metadata": {},
   "source": [
    "# Final project description\n",
    "\n",
    "The final project should be sent before the **30th of June**. \n",
    "The format should be an **R script** (one per group) that can be run without error from any laptop (only by changing the path of the folder in which you put the data files of the different subject).\n",
    "Please comment your script where necessary. Please add your conclusions on the statistical tests that you run also as a comment.\n",
    "\n",
    "The final project consists 3 essential steps with an extra step as a bonus:\n",
    "\n",
    "1. Data parsing and loading\n",
    "2. Data visualization\n",
    "3. Multi-level regression\n",
    "4. EZ-Diffusion analysis (as a bonus)\n",
    "\n",
    "You are divided into 5 groups. Each group has its own folder (GroupA, GroupB, GroupC, GroupD, and GroupE) that you can find on this Dropbox link: https://www.dropbox.com/sh/086fvtv0ivnscso/AADlvjuRxVK1C3HH8nmPqTBSa?dl=0. Each folder consists of a `readme.txt` file and a `Data` folder. The description of each dataset is presented in the `readme.txt` file in each folder and the recorded data for each individual is located in the `Data` folder as separate files."
   ]
  },
  {
   "cell_type": "markdown",
   "metadata": {},
   "source": [
    "![alt text](img/groups.png \"Title\")"
   ]
  },
  {
   "cell_type": "markdown",
   "metadata": {},
   "source": [
    "# Step 1: Data loading and wrangling"
   ]
  },
  {
   "cell_type": "markdown",
   "metadata": {},
   "source": [
    "This step has two parts:\n",
    "\n",
    "- Data wrangling\n",
    "- Excluding some participants and trials\n",
    "\n",
    "For doing so, you should load the data files that are located in the `Data` folder. Each group should load and process its own dataset. The output data frame should consist of the following columns:\n",
    "\n",
    "- participant\n",
    "- block_number\n",
    "- trial_number\n",
    "- condition\n",
    "- dots_direction\n",
    "- response\n",
    "- accuracy\n",
    "- rt\n",
    "\n",
    "Calculate a summary, which includes the average performance (accuracy) and RTs per participant, as well as the percentage of trials below 150 ms (too fast trials) and above 5000 ms (too slow trials).  Are there any participants with more then 10% fast or slow trials?\n",
    "\n",
    "Then, exclude the participants that have less than 65% performance from the dataset. The trials with a reaction time less than 150 ms or greater than 5000 ms should be also excluded."
   ]
  },
  {
   "cell_type": "markdown",
   "metadata": {},
   "source": [
    "**Note**: instead of writing yourself all the data paths, you can use the following function, https://www.math.ucla.edu/~anderson/rw1001/library/base/html/list.files.html\n",
    "\n",
    "Here is a little tutorial on how to import the files. Instead of using the fread function you should use `read_delim`. Also, what is not included in this tutorial is how to add a column with the participant number. You should find a way to fix that."
   ]
  },
  {
   "cell_type": "code",
   "execution_count": 6,
   "metadata": {},
   "outputs": [
    {
     "data": {
      "text/html": [
       "<style>\n",
       ".list-inline {list-style: none; margin:0; padding: 0}\n",
       ".list-inline>li {display: inline-block}\n",
       ".list-inline>li:not(:last-child)::after {content: \"\\00b7\"; padding: 0 .5ex}\n",
       "</style>\n",
       "<ol class=list-inline><li>'~/Dropbox/teaching/r-course21/GroupData/GroupA/Data/10000_Norm_Time_Friday 15th of May 2015 01:47:18 PM.txt'</li><li>'~/Dropbox/teaching/r-course21/GroupData/GroupA/Data/10001_Norm_Trial_Friday 15th of May 2015 02:35:07 PM.txt'</li><li>'~/Dropbox/teaching/r-course21/GroupData/GroupA/Data/10002_Optim_Time_Tuesday 19th of May 2015 11:33:14 AM.txt'</li><li>'~/Dropbox/teaching/r-course21/GroupData/GroupA/Data/10003_Optim_Trial_Tuesday 19th of May 2015 11:43:51 AM.txt'</li><li>'~/Dropbox/teaching/r-course21/GroupData/GroupA/Data/10004_Info_Time_Tuesday 19th of May 2015 11:37:06 AM.txt'</li></ol>\n"
      ],
      "text/latex": [
       "\\begin{enumerate*}\n",
       "\\item '\\textasciitilde{}/Dropbox/teaching/r-course21/GroupData/GroupA/Data/10000\\_Norm\\_Time\\_Friday 15th of May 2015 01:47:18 PM.txt'\n",
       "\\item '\\textasciitilde{}/Dropbox/teaching/r-course21/GroupData/GroupA/Data/10001\\_Norm\\_Trial\\_Friday 15th of May 2015 02:35:07 PM.txt'\n",
       "\\item '\\textasciitilde{}/Dropbox/teaching/r-course21/GroupData/GroupA/Data/10002\\_Optim\\_Time\\_Tuesday 19th of May 2015 11:33:14 AM.txt'\n",
       "\\item '\\textasciitilde{}/Dropbox/teaching/r-course21/GroupData/GroupA/Data/10003\\_Optim\\_Trial\\_Tuesday 19th of May 2015 11:43:51 AM.txt'\n",
       "\\item '\\textasciitilde{}/Dropbox/teaching/r-course21/GroupData/GroupA/Data/10004\\_Info\\_Time\\_Tuesday 19th of May 2015 11:37:06 AM.txt'\n",
       "\\end{enumerate*}\n"
      ],
      "text/markdown": [
       "1. '~/Dropbox/teaching/r-course21/GroupData/GroupA/Data/10000_Norm_Time_Friday 15th of May 2015 01:47:18 PM.txt'\n",
       "2. '~/Dropbox/teaching/r-course21/GroupData/GroupA/Data/10001_Norm_Trial_Friday 15th of May 2015 02:35:07 PM.txt'\n",
       "3. '~/Dropbox/teaching/r-course21/GroupData/GroupA/Data/10002_Optim_Time_Tuesday 19th of May 2015 11:33:14 AM.txt'\n",
       "4. '~/Dropbox/teaching/r-course21/GroupData/GroupA/Data/10003_Optim_Trial_Tuesday 19th of May 2015 11:43:51 AM.txt'\n",
       "5. '~/Dropbox/teaching/r-course21/GroupData/GroupA/Data/10004_Info_Time_Tuesday 19th of May 2015 11:37:06 AM.txt'\n",
       "\n",
       "\n"
      ],
      "text/plain": [
       "[1] \"~/Dropbox/teaching/r-course21/GroupData/GroupA/Data/10000_Norm_Time_Friday 15th of May 2015 01:47:18 PM.txt\"   \n",
       "[2] \"~/Dropbox/teaching/r-course21/GroupData/GroupA/Data/10001_Norm_Trial_Friday 15th of May 2015 02:35:07 PM.txt\"  \n",
       "[3] \"~/Dropbox/teaching/r-course21/GroupData/GroupA/Data/10002_Optim_Time_Tuesday 19th of May 2015 11:33:14 AM.txt\" \n",
       "[4] \"~/Dropbox/teaching/r-course21/GroupData/GroupA/Data/10003_Optim_Trial_Tuesday 19th of May 2015 11:43:51 AM.txt\"\n",
       "[5] \"~/Dropbox/teaching/r-course21/GroupData/GroupA/Data/10004_Info_Time_Tuesday 19th of May 2015 11:37:06 AM.txt\"  "
      ]
     },
     "metadata": {},
     "output_type": "display_data"
    }
   ],
   "source": [
    "# example of how to define lists of files\n",
    "data_folder = '~/Dropbox/teaching/r-course21/GroupData/GroupA/Data/'\n",
    "\n",
    "list_files = paste(data_folder, list.files(path=data_folder), sep=\"\")\n",
    "\n",
    "list_files[1:5] # show the first 5"
   ]
  },
  {
   "cell_type": "markdown",
   "metadata": {},
   "source": [
    "# Step 2: Data visualization"
   ]
  },
  {
   "cell_type": "markdown",
   "metadata": {},
   "source": [
    "Now it's time to visualize the data set. In particular, we want to have a look at how the performance and reaction time evolve across the blocks. \n",
    "\n",
    "For this purpose, you should make a 2-by-1 grid plot that depicts the reaction time (top panel) and accuracy (middle panel) across the blocks for each condition. An example of this plot has illustrated here (each line correspondes to one condition):"
   ]
  },
  {
   "cell_type": "markdown",
   "metadata": {},
   "source": [
    "![alt text](img/plot-example.png \"Title\")"
   ]
  },
  {
   "cell_type": "markdown",
   "metadata": {},
   "source": [
    "# Step 3: Multi-level regression"
   ]
  },
  {
   "cell_type": "markdown",
   "metadata": {},
   "source": [
    "Now, run a multi-level regression model. Consider the reaction time as the predicted variable and the block number as the predictor, and the participants and block number as mixed effects. Do response times decrease across the blocks?\n",
    "\n",
    "Finally, run a repeated measures ANOVA to compare the trials in the first and last block of trials. Did participants significantly increase their performance (accuracy level)?"
   ]
  },
  {
   "cell_type": "markdown",
   "metadata": {},
   "source": [
    "# Step 4: EZ-Diffusion analyziz"
   ]
  },
  {
   "cell_type": "markdown",
   "metadata": {},
   "source": [
    "\n",
    "The Drift Diffusion Model (DDM) assumes that, when making a decision between two options, noisy evidence in favor of one over the other option is integrated over time until a pre-set threshold is reached. This threshold indicates how much of this relative evidence is enough to initiate a response. Since the incoming evidence is noisy, the integrated evidence becomes more reliable as time passes. Therefore, higher thresholds lead to more accurate decisions. However, the cost of increasing the threshold is an increase of decision time. In addition, difficulty affects decisions: When confronted with an easier choice (e.g., between a very good and a very bad option), the integration process reaches the threshold faster, meaning that less time is needed to make a decision and that decisions are more accurate. The DDM also assumes that a portion of the RTs reflects processes that are unrelated to the decision time itself, such as motor processes, and that can differ across participants. Because of this dependency between noise in the information, accuracy, and speed of decisions, the DDM is able to simultaneously predict the probability of choosing one option over the other (i.e., accuracy) and the shape of the two RT distributions corresponding to the two choice options. Importantly, by fitting the standard DDM, we assume that repeated choices are independent of each other, and discard information about the order of the choices and the feedback after each choice. To formalize the described cognitive processes, the simple DDM has four core parameters: The drift rate $v$, which describes how fast the integration of evidence is, the threshold a (with $a > 0$), that is the amount of integrated evidence necessary to initiate a response, the starting-point bias, that is the evidence in favor of one option prior to evidence accumulation, and the non-decision time Ter (with $0 \\leq T_{er} < RT_{min}$), the part of the response time that is not strictly related to the decision process ($RT = decision time + T_{er}$ ). Because, in our case, the position of the options was randomized to either the left or the right screen position, we assumed no starting-point bias and only considered drift rate, threshold, and non-decision time. The following figure illustrates this model:"
   ]
  },
  {
   "cell_type": "markdown",
   "metadata": {},
   "source": [
    "![alt text](img/DDM.png \"Title\")"
   ]
  },
  {
   "cell_type": "markdown",
   "metadata": {},
   "source": [
    "The most simple version of DDM is the EZ-Diffusion model. In this model there is no bias to each option and also there is no across trial variability parameter. So, the parameters of this model can be easily obtained by the following formula. For more information you can see: \"Wagenmakers, E. J., Van Der Maas, H. L., & Grasman, R. P. (2007). An EZ-diffusion model for response time and accuracy. Psychonomic bulletin & review, 14(1), 3-22\"."
   ]
  },
  {
   "cell_type": "markdown",
   "metadata": {},
   "source": [
    "![alt text](img/EZ.png \"Title\")"
   ]
  },
  {
   "cell_type": "markdown",
   "metadata": {},
   "source": [
    "$$logit (P_c) = log(\\frac{P_c}{1-P_c})$$\n",
    "\n",
    "$$v = sign(P_c - \\frac{1}{2}) \\Big[\\frac{logit (P_c)\\big(P_c^2 logit (P_c) - P_c logit (P_c)+ P_c - \\frac{1}{2}\\big)}{VRT}\\Big]^{\\frac{1}{4}}$$\n",
    "\n",
    "$$a = \\frac{logit(P_c)}{v}$$\n",
    "\n",
    "$$MDT = \\Big(\\frac{a}{2v}\\Big)\\frac{1 - exp(-va)}{1 + exp(-va)}$$\n",
    "\n",
    "$$NDT = MRT - MDT$$\n",
    "\n",
    "- $P_c$ : probability of correct answer\n",
    "\n",
    "- $v$ : drift rate (rate of accumulating the information)\n",
    "\n",
    "- $a$ : boundary separation (amount of information which is needed for making a decision)\n",
    "\n",
    "- $NDT$ : non-decision time (the time which is needed for encoding the stimuli and also motory time to press the key)\n",
    "\n",
    "- $MRT$ : average of reaction times\n",
    "\n",
    "- $VRT$ : variance of reaction times\n",
    "\n",
    "- $MDT$ : average of decision times ($MRT = NDT + MDT$)"
   ]
  },
  {
   "cell_type": "markdown",
   "metadata": {},
   "source": [
    "Define the EZDiffusion function based on the mentioned formulas. Analyze your dataset and obtain the drift rate ($v$), boundary separation ($a$), and non-decision time ($NDT$) for each participant.\n",
    "\n",
    "You should define a funcion called EZ_diffusion, that takes as arguments P_c, MRT and VRT, and returns v, a, and ndt.\n",
    "\n",
    "Write a loop, so that you can calculate this per participant and print the results (the estimated parameters)."
   ]
  }
 ],
 "metadata": {
  "kernelspec": {
   "display_name": "R",
   "language": "R",
   "name": "ir"
  },
  "language_info": {
   "codemirror_mode": "r",
   "file_extension": ".r",
   "mimetype": "text/x-r-source",
   "name": "R",
   "pygments_lexer": "r",
   "version": "4.0.3"
  }
 },
 "nbformat": 4,
 "nbformat_minor": 4
}
