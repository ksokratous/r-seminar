{
 "cells": [
  {
   "cell_type": "markdown",
   "metadata": {},
   "source": [
    "# Writing Functions and Loops"
   ]
  },
  {
   "cell_type": "markdown",
   "metadata": {},
   "source": [
    "Open RStudio."
   ]
  },
  {
   "cell_type": "markdown",
   "metadata": {},
   "source": [
    "Open a new R script in R and **save it as** `wpa_7_LastFirst.R` (where Last and First is your last and first name). \n",
    "\n",
    "Careful about: capitalizing, last and first name order, and using `_` instead of `-`.\n",
    "\n",
    "At the top of your script, write the following (**with appropriate changes**):"
   ]
  },
  {
   "cell_type": "code",
   "execution_count": 1,
   "metadata": {},
   "outputs": [],
   "source": [
    "# Assignment: WPA 7\n",
    "# Name: Laura Fontanesi\n",
    "# Date: 20 April 2020"
   ]
  },
  {
   "cell_type": "markdown",
   "metadata": {},
   "source": [
    "## 1. Creating R Functions\n",
    "\n",
    "R scripts are a way to organize and save data, complicated expressions, or sequences of operations for re-use.\n",
    "\n",
    "Whenever we re-use a code snippet, instead of copy-pasting and thus increasing the chances of typos and other mistakes, we should rather think about how to generalize our code, so that it can be re-used later in the script or other scripts on slightly different data.\n",
    "\n",
    "Functions are perfect for this purpose. We already used many functions, that other people have defined for us and saved in packages that we could load in R.\n",
    "\n",
    "Now we see how to create our own functions:"
   ]
  },
  {
   "cell_type": "raw",
   "metadata": {},
   "source": [
    "# The basic structure of a function\n",
    "NAME = function(ARGUMENTS) {\n",
    "\n",
    "  ACTIONS\n",
    "\n",
    "  return(OUTPUT) # optional.. you can also just create a function that prints something, without returning anything\n",
    "\n",
    "}"
   ]
  },
  {
   "cell_type": "code",
   "execution_count": 2,
   "metadata": {},
   "outputs": [],
   "source": [
    "percentage = function(x, total) {\n",
    "    ratio = x/total\n",
    "    perc = ratio*100\n",
    "    \n",
    "    return(perc)\n",
    "}"
   ]
  },
  {
   "cell_type": "code",
   "execution_count": 3,
   "metadata": {},
   "outputs": [
    {
     "data": {
      "text/html": [
       "25"
      ],
      "text/latex": [
       "25"
      ],
      "text/markdown": [
       "25"
      ],
      "text/plain": [
       "[1] 25"
      ]
     },
     "metadata": {},
     "output_type": "display_data"
    }
   ],
   "source": [
    "percentage(5, 20)"
   ]
  },
  {
   "cell_type": "code",
   "execution_count": 4,
   "metadata": {},
   "outputs": [
    {
     "data": {
      "text/html": [
       "56.25"
      ],
      "text/latex": [
       "56.25"
      ],
      "text/markdown": [
       "56.25"
      ],
      "text/plain": [
       "[1] 56.25"
      ]
     },
     "metadata": {},
     "output_type": "display_data"
    }
   ],
   "source": [
    "a = percentage(45, 80)\n",
    "\n",
    "a"
   ]
  },
  {
   "cell_type": "code",
   "execution_count": 5,
   "metadata": {},
   "outputs": [
    {
     "data": {
      "text/html": [
       "100"
      ],
      "text/latex": [
       "100"
      ],
      "text/markdown": [
       "100"
      ],
      "text/plain": [
       "[1] 100"
      ]
     },
     "metadata": {},
     "output_type": "display_data"
    }
   ],
   "source": [
    "a + percentage(35, 80)"
   ]
  },
  {
   "cell_type": "code",
   "execution_count": 6,
   "metadata": {},
   "outputs": [],
   "source": [
    "print_percentage = function(x, total) {\n",
    "    ratio = x/total\n",
    "    perc = ratio*100\n",
    "    \n",
    "    print(paste(perc, '%'))\n",
    "}"
   ]
  },
  {
   "cell_type": "code",
   "execution_count": 7,
   "metadata": {},
   "outputs": [
    {
     "name": "stdout",
     "output_type": "stream",
     "text": [
      "[1] \"30 %\"\n"
     ]
    }
   ],
   "source": [
    "print_percentage(6, 20)"
   ]
  },
  {
   "cell_type": "code",
   "execution_count": 8,
   "metadata": {},
   "outputs": [
    {
     "name": "stdout",
     "output_type": "stream",
     "text": [
      "[1] \"56.25 %\"\n"
     ]
    },
    {
     "data": {
      "text/html": [
       "'56.25 %'"
      ],
      "text/latex": [
       "'56.25 \\%'"
      ],
      "text/markdown": [
       "'56.25 %'"
      ],
      "text/plain": [
       "[1] \"56.25 %\""
      ]
     },
     "metadata": {},
     "output_type": "display_data"
    }
   ],
   "source": [
    "a = print_percentage(45, 80)\n",
    "\n",
    "a"
   ]
  },
  {
   "cell_type": "code",
   "execution_count": 9,
   "metadata": {},
   "outputs": [],
   "source": [
    "print_percentage_decimals = function(x, total, n_decimals) {\n",
    "    ratio = x/total\n",
    "    perc = ratio*100\n",
    "    \n",
    "    rounded_perc = round(perc, n_decimals)\n",
    "    \n",
    "    print(paste(rounded_perc, '%'))\n",
    "}"
   ]
  },
  {
   "cell_type": "code",
   "execution_count": 10,
   "metadata": {},
   "outputs": [
    {
     "name": "stdout",
     "output_type": "stream",
     "text": [
      "[1] \"56.2 %\"\n",
      "[1] \"56 %\"\n",
      "[1] \"97.5309 %\"\n"
     ]
    }
   ],
   "source": [
    "print_percentage_decimals(45, 80, 1)\n",
    "print_percentage_decimals(45, 80, 0)\n",
    "print_percentage_decimals(79, 81, 4)"
   ]
  },
  {
   "cell_type": "code",
   "execution_count": 11,
   "metadata": {},
   "outputs": [],
   "source": [
    "print_percentage_decimals = function(x, total, n_decimals=3) { # define a default argument\n",
    "    ratio = x/total\n",
    "    perc = ratio*100\n",
    "    \n",
    "    rounded_perc = round(perc, n_decimals)\n",
    "    \n",
    "    print(paste(rounded_perc, '%'))\n",
    "}"
   ]
  },
  {
   "cell_type": "code",
   "execution_count": 12,
   "metadata": {},
   "outputs": [
    {
     "name": "stdout",
     "output_type": "stream",
     "text": [
      "[1] \"97.531 %\"\n"
     ]
    }
   ],
   "source": [
    "print_percentage_decimals(79, 81)"
   ]
  },
  {
   "cell_type": "code",
   "execution_count": 13,
   "metadata": {},
   "outputs": [
    {
     "name": "stdout",
     "output_type": "stream",
     "text": [
      "[1] \"97.5 %\"\n"
     ]
    }
   ],
   "source": [
    "print_percentage_decimals(79, 81, 1)"
   ]
  },
  {
   "cell_type": "markdown",
   "metadata": {},
   "source": [
    "## 2. Conditional satements\n",
    "\n",
    "Conditional statements can help us improve our functions, so that different operations can be done depending on the input to the function."
   ]
  },
  {
   "cell_type": "raw",
   "metadata": {},
   "source": [
    "if (statement_is_true) {\n",
    "    do_this\n",
    "} else {\n",
    "    do_this_instead\n",
    "}"
   ]
  },
  {
   "cell_type": "code",
   "execution_count": 14,
   "metadata": {},
   "outputs": [
    {
     "data": {
      "text/html": [
       "5"
      ],
      "text/latex": [
       "5"
      ],
      "text/markdown": [
       "5"
      ],
      "text/plain": [
       "[1] 5"
      ]
     },
     "metadata": {},
     "output_type": "display_data"
    }
   ],
   "source": [
    "x = -4\n",
    "\n",
    "if (x > 0) {\n",
    "    print(\"x is positive\")\n",
    "} else {\n",
    "    x + 9\n",
    "}"
   ]
  },
  {
   "cell_type": "code",
   "execution_count": 15,
   "metadata": {},
   "outputs": [],
   "source": [
    "print_percentage_smart = function(x, total, n_decimals=0) { # define a default argument\n",
    "    if (x <= total & x >=0) {\n",
    "        ratio = x/total\n",
    "        perc = ratio*100\n",
    "\n",
    "        rounded_perc = round(perc, n_decimals)\n",
    "        print(paste(rounded_perc, '%'))\n",
    "        \n",
    "    } else {\n",
    "        print(\"Invalid x value: x should be positive and smaller than its total.\")\n",
    "    }\n",
    "}"
   ]
  },
  {
   "cell_type": "code",
   "execution_count": 16,
   "metadata": {},
   "outputs": [
    {
     "name": "stdout",
     "output_type": "stream",
     "text": [
      "[1] \"7.5 %\"\n"
     ]
    }
   ],
   "source": [
    "print_percentage_smart(3, 40, 1)"
   ]
  },
  {
   "cell_type": "code",
   "execution_count": 17,
   "metadata": {},
   "outputs": [
    {
     "name": "stdout",
     "output_type": "stream",
     "text": [
      "[1] \"Invalid x value: x should be positive and smaller than its total.\"\n"
     ]
    }
   ],
   "source": [
    "print_percentage_smart(-3, 40, 1)"
   ]
  },
  {
   "cell_type": "code",
   "execution_count": 18,
   "metadata": {},
   "outputs": [
    {
     "name": "stdout",
     "output_type": "stream",
     "text": [
      "[1] \"Invalid x value: x should be positive and smaller than its total.\"\n"
     ]
    }
   ],
   "source": [
    "print_percentage_smart(42, 40, 1)"
   ]
  },
  {
   "cell_type": "code",
   "execution_count": 19,
   "metadata": {},
   "outputs": [],
   "source": [
    "print_percentage_smart = function(x, total, n_decimals=0) { # define a default argument\n",
    "    if (x <= total & x >=0) {\n",
    "        ratio = x/total\n",
    "        perc = ratio*100\n",
    "\n",
    "        rounded_perc = round(perc, n_decimals)\n",
    "        print(paste(rounded_perc, '%'))\n",
    "        \n",
    "    } else if (x > total) {\n",
    "        print(\"Invalid x value: x should be smaller than its total.\")\n",
    "    } else {\n",
    "        print(\"Invalid x value: x should be positive.\")\n",
    "    }\n",
    "}"
   ]
  },
  {
   "cell_type": "code",
   "execution_count": 20,
   "metadata": {},
   "outputs": [
    {
     "name": "stdout",
     "output_type": "stream",
     "text": [
      "[1] \"7.5 %\"\n"
     ]
    }
   ],
   "source": [
    "print_percentage_smart(3, 40, 1)"
   ]
  },
  {
   "cell_type": "code",
   "execution_count": 21,
   "metadata": {},
   "outputs": [
    {
     "name": "stdout",
     "output_type": "stream",
     "text": [
      "[1] \"Invalid x value: x should be positive.\"\n"
     ]
    }
   ],
   "source": [
    "print_percentage_smart(-3, 40, 1)"
   ]
  },
  {
   "cell_type": "code",
   "execution_count": 22,
   "metadata": {},
   "outputs": [
    {
     "name": "stdout",
     "output_type": "stream",
     "text": [
      "[1] \"Invalid x value: x should be smaller than its total.\"\n"
     ]
    }
   ],
   "source": [
    "print_percentage_smart(42, 40, 1)"
   ]
  },
  {
   "cell_type": "markdown",
   "metadata": {},
   "source": [
    "## 3. Loops\n",
    "\n",
    "Another construct that can help you repeat the same code on different inputs is a loop. We now look at 2 types of loops: `for` and `while` loops:"
   ]
  },
  {
   "cell_type": "raw",
   "metadata": {},
   "source": [
    "for (val in sequence) {\n",
    "    calculation\n",
    "}"
   ]
  },
  {
   "cell_type": "code",
   "execution_count": 23,
   "metadata": {},
   "outputs": [
    {
     "data": {
      "text/plain": [
       "NULL"
      ]
     },
     "metadata": {},
     "output_type": "display_data"
    }
   ],
   "source": [
    "vector = seq(1, 10)\n",
    "second_vector = c()\n",
    "\n",
    "second_vector"
   ]
  },
  {
   "cell_type": "code",
   "execution_count": 24,
   "metadata": {},
   "outputs": [],
   "source": [
    "for (i in vector) {\n",
    "    second_vector = c(second_vector, i+2)\n",
    "}"
   ]
  },
  {
   "cell_type": "code",
   "execution_count": 25,
   "metadata": {},
   "outputs": [
    {
     "data": {
      "text/html": [
       "<style>\n",
       ".list-inline {list-style: none; margin:0; padding: 0}\n",
       ".list-inline>li {display: inline-block}\n",
       ".list-inline>li:not(:last-child)::after {content: \"\\00b7\"; padding: 0 .5ex}\n",
       "</style>\n",
       "<ol class=list-inline><li>3</li><li>4</li><li>5</li><li>6</li><li>7</li><li>8</li><li>9</li><li>10</li><li>11</li><li>12</li></ol>\n"
      ],
      "text/latex": [
       "\\begin{enumerate*}\n",
       "\\item 3\n",
       "\\item 4\n",
       "\\item 5\n",
       "\\item 6\n",
       "\\item 7\n",
       "\\item 8\n",
       "\\item 9\n",
       "\\item 10\n",
       "\\item 11\n",
       "\\item 12\n",
       "\\end{enumerate*}\n"
      ],
      "text/markdown": [
       "1. 3\n",
       "2. 4\n",
       "3. 5\n",
       "4. 6\n",
       "5. 7\n",
       "6. 8\n",
       "7. 9\n",
       "8. 10\n",
       "9. 11\n",
       "10. 12\n",
       "\n",
       "\n"
      ],
      "text/plain": [
       " [1]  3  4  5  6  7  8  9 10 11 12"
      ]
     },
     "metadata": {},
     "output_type": "display_data"
    }
   ],
   "source": [
    "second_vector"
   ]
  },
  {
   "cell_type": "raw",
   "metadata": {},
   "source": [
    "while (test_expression) {\n",
    "    statement\n",
    "}"
   ]
  },
  {
   "cell_type": "code",
   "execution_count": 26,
   "metadata": {},
   "outputs": [],
   "source": [
    "count = 1\n",
    "third_vector = c()\n",
    "\n",
    "while (count <= 14) {\n",
    "    \n",
    "    third_vector = c(third_vector, count**2)\n",
    "    count = count + 1\n",
    "}"
   ]
  },
  {
   "cell_type": "code",
   "execution_count": 27,
   "metadata": {},
   "outputs": [
    {
     "data": {
      "text/html": [
       "<style>\n",
       ".list-inline {list-style: none; margin:0; padding: 0}\n",
       ".list-inline>li {display: inline-block}\n",
       ".list-inline>li:not(:last-child)::after {content: \"\\00b7\"; padding: 0 .5ex}\n",
       "</style>\n",
       "<ol class=list-inline><li>1</li><li>4</li><li>9</li><li>16</li><li>25</li><li>36</li><li>49</li><li>64</li><li>81</li><li>100</li><li>121</li><li>144</li><li>169</li><li>196</li></ol>\n"
      ],
      "text/latex": [
       "\\begin{enumerate*}\n",
       "\\item 1\n",
       "\\item 4\n",
       "\\item 9\n",
       "\\item 16\n",
       "\\item 25\n",
       "\\item 36\n",
       "\\item 49\n",
       "\\item 64\n",
       "\\item 81\n",
       "\\item 100\n",
       "\\item 121\n",
       "\\item 144\n",
       "\\item 169\n",
       "\\item 196\n",
       "\\end{enumerate*}\n"
      ],
      "text/markdown": [
       "1. 1\n",
       "2. 4\n",
       "3. 9\n",
       "4. 16\n",
       "5. 25\n",
       "6. 36\n",
       "7. 49\n",
       "8. 64\n",
       "9. 81\n",
       "10. 100\n",
       "11. 121\n",
       "12. 144\n",
       "13. 169\n",
       "14. 196\n",
       "\n",
       "\n"
      ],
      "text/plain": [
       " [1]   1   4   9  16  25  36  49  64  81 100 121 144 169 196"
      ]
     },
     "metadata": {},
     "output_type": "display_data"
    }
   ],
   "source": [
    "third_vector"
   ]
  },
  {
   "cell_type": "code",
   "execution_count": 28,
   "metadata": {},
   "outputs": [
    {
     "data": {
      "text/html": [
       "<table class=\"dataframe\">\n",
       "<caption>A data.frame: 6 × 2</caption>\n",
       "<thead>\n",
       "\t<tr><th></th><th scope=col>student</th><th scope=col>total_points</th></tr>\n",
       "\t<tr><th></th><th scope=col>&lt;int&gt;</th><th scope=col>&lt;dbl&gt;</th></tr>\n",
       "</thead>\n",
       "<tbody>\n",
       "\t<tr><th scope=row>1</th><td>1</td><td>11.9</td></tr>\n",
       "\t<tr><th scope=row>2</th><td>2</td><td> 3.8</td></tr>\n",
       "\t<tr><th scope=row>3</th><td>3</td><td> 2.8</td></tr>\n",
       "\t<tr><th scope=row>4</th><td>4</td><td> 2.8</td></tr>\n",
       "\t<tr><th scope=row>5</th><td>5</td><td> 0.8</td></tr>\n",
       "\t<tr><th scope=row>6</th><td>6</td><td> 3.6</td></tr>\n",
       "</tbody>\n",
       "</table>\n"
      ],
      "text/latex": [
       "A data.frame: 6 × 2\n",
       "\\begin{tabular}{r|ll}\n",
       "  & student & total\\_points\\\\\n",
       "  & <int> & <dbl>\\\\\n",
       "\\hline\n",
       "\t1 & 1 & 11.9\\\\\n",
       "\t2 & 2 &  3.8\\\\\n",
       "\t3 & 3 &  2.8\\\\\n",
       "\t4 & 4 &  2.8\\\\\n",
       "\t5 & 5 &  0.8\\\\\n",
       "\t6 & 6 &  3.6\\\\\n",
       "\\end{tabular}\n"
      ],
      "text/markdown": [
       "\n",
       "A data.frame: 6 × 2\n",
       "\n",
       "| <!--/--> | student &lt;int&gt; | total_points &lt;dbl&gt; |\n",
       "|---|---|---|\n",
       "| 1 | 1 | 11.9 |\n",
       "| 2 | 2 |  3.8 |\n",
       "| 3 | 3 |  2.8 |\n",
       "| 4 | 4 |  2.8 |\n",
       "| 5 | 5 |  0.8 |\n",
       "| 6 | 6 |  3.6 |\n",
       "\n"
      ],
      "text/plain": [
       "  student total_points\n",
       "1 1       11.9        \n",
       "2 2        3.8        \n",
       "3 3        2.8        \n",
       "4 4        2.8        \n",
       "5 5        0.8        \n",
       "6 6        3.6        "
      ]
     },
     "metadata": {},
     "output_type": "display_data"
    }
   ],
   "source": [
    "student_data = data.frame(student=seq(1, 40),\n",
    "                          total_points=round(runif(n=40, min=0, max=18), 1))\n",
    "head(student_data)"
   ]
  },
  {
   "cell_type": "code",
   "execution_count": 29,
   "metadata": {},
   "outputs": [],
   "source": [
    "subset_students = c(5, 16, 3, 9, 37, 30, 25, 28)"
   ]
  },
  {
   "cell_type": "code",
   "execution_count": 30,
   "metadata": {},
   "outputs": [
    {
     "name": "stdout",
     "output_type": "stream",
     "text": [
      "[1] 5\n",
      "[1] 16\n",
      "[1] 3\n",
      "[1] 9\n",
      "[1] 37\n",
      "[1] 30\n",
      "[1] 25\n",
      "[1] 28\n"
     ]
    }
   ],
   "source": [
    "for (student in subset_students) {\n",
    "    print(student)\n",
    "}"
   ]
  },
  {
   "cell_type": "code",
   "execution_count": 31,
   "metadata": {},
   "outputs": [
    {
     "name": "stdout",
     "output_type": "stream",
     "text": [
      "[1] \"Student 5\"\n",
      "[1] \"Student 16\"\n",
      "[1] \"Student 3\"\n",
      "[1] \"Student 9\"\n",
      "[1] \"Student 37\"\n",
      "[1] \"Student 30\"\n",
      "[1] \"Student 25\"\n",
      "[1] \"Student 28\"\n"
     ]
    }
   ],
   "source": [
    "for (student in subset_students) {\n",
    "    print(paste(\"Student\", student))\n",
    "}"
   ]
  },
  {
   "cell_type": "code",
   "execution_count": 32,
   "metadata": {},
   "outputs": [
    {
     "name": "stdout",
     "output_type": "stream",
     "text": [
      "[1] \"Student: 5 - Grade: 4 %\"\n",
      "[1] \"Student: 16 - Grade: 65 %\"\n",
      "[1] \"Student: 3 - Grade: 16 %\"\n",
      "[1] \"Student: 9 - Grade: 24 %\"\n",
      "[1] \"Student: 37 - Grade: 61 %\"\n",
      "[1] \"Student: 30 - Grade: 87 %\"\n",
      "[1] \"Student: 25 - Grade: 53 %\"\n",
      "[1] \"Student: 28 - Grade: 17 %\"\n"
     ]
    }
   ],
   "source": [
    "for (i in subset_students) {\n",
    "    \n",
    "    points_student = student_data[student_data$student == i, \"total_points\"]\n",
    "    grade = percentage(points_student, 18)\n",
    "    rounded_grade = round(grade)\n",
    "    \n",
    "    print(paste(\"Student:\", i, \"-\", \"Grade:\", rounded_grade, '%'))\n",
    "}"
   ]
  },
  {
   "cell_type": "code",
   "execution_count": 33,
   "metadata": {},
   "outputs": [
    {
     "name": "stdout",
     "output_type": "stream",
     "text": [
      "[1] 6\n",
      "[1] 7\n",
      "[1] 8\n",
      "[1] 9\n",
      "[1] 10\n",
      "[1] 11\n",
      "[1] 12\n",
      "[1] 13\n",
      "[1] 14\n",
      "[1] 15\n",
      "[1] 16\n"
     ]
    }
   ],
   "source": [
    "something = 3\n",
    "\n",
    "sequence = seq(3, 13)\n",
    "\n",
    "for (x in sequence) {\n",
    "    print(x + something)\n",
    "}"
   ]
  },
  {
   "cell_type": "code",
   "execution_count": 34,
   "metadata": {},
   "outputs": [
    {
     "name": "stdout",
     "output_type": "stream",
     "text": [
      "[1] 4\n",
      "[1] 5\n",
      "[1] 6\n",
      "[1] 7\n",
      "[1] 8\n",
      "[1] 9\n"
     ]
    }
   ],
   "source": [
    "x = 4\n",
    "while(x < 10) {\n",
    "    print(x)\n",
    "    x = x + 1\n",
    "}"
   ]
  },
  {
   "cell_type": "markdown",
   "metadata": {},
   "source": [
    "The equivalent way to write this loop with a `while` loop instead:"
   ]
  },
  {
   "cell_type": "code",
   "execution_count": 35,
   "metadata": {},
   "outputs": [
    {
     "name": "stdout",
     "output_type": "stream",
     "text": [
      "[1] \"Student: 5 - Grade: 4 %\"\n",
      "[1] \"Student: 16 - Grade: 65 %\"\n",
      "[1] \"Student: 3 - Grade: 16 %\"\n",
      "[1] \"Student: 9 - Grade: 24 %\"\n",
      "[1] \"Student: 37 - Grade: 61 %\"\n",
      "[1] \"Student: 30 - Grade: 87 %\"\n",
      "[1] \"Student: 25 - Grade: 53 %\"\n",
      "[1] \"Student: 28 - Grade: 17 %\"\n"
     ]
    }
   ],
   "source": [
    "n_subset = length(subset_students)\n",
    "n = 1\n",
    "\n",
    "while (n <= n_subset) {\n",
    "    student = subset_students[n]\n",
    "    \n",
    "    points_student = student_data[student_data$student == student, \"total_points\"]\n",
    "    grade = percentage(points_student, 18)\n",
    "    rounded_grade = round(grade)\n",
    "    \n",
    "    print(paste(\"Student:\", student, \"-\", \"Grade:\", rounded_grade, '%'))\n",
    "    \n",
    "    n = n + 1 # crucial!\n",
    "}"
   ]
  },
  {
   "cell_type": "markdown",
   "metadata": {},
   "source": [
    "## 4. Now it's your turn"
   ]
  },
  {
   "cell_type": "markdown",
   "metadata": {},
   "source": [
    "In this WPA, you will analyze data from another fake study. In this fake study the researchers were interested in whether playing video games had cognitive benefits compared to other leisure activities. In the study, 90 University students were asked to do one of 3 leisure activities for 1 hour a day for the next month. 30 participants were asked to play visio games, 30 to read and 30 to juggle. At the end of the month each participant did 3 cognitive tests, a problem solving test (**logic**) and a reflex/response test (**reflex**) and a written comprehension test (**comprehension**).\n",
    "\n",
    "#### Datafile description\n",
    "\n",
    "The data file has 90 rows and 7 columns. Here are the columns\n",
    "\n",
    "- `id`: The participant ID\n",
    "\n",
    "- `age`: The age of the participant\n",
    "\n",
    "- `gender`: The gender of the particiant\n",
    "\n",
    "- `activity`: Which leisure activity the participant was assigned for the last month (\"reading\", \"juggling\", \"gaming\")\n",
    "\n",
    "- `logic`: Score out of 120 on a problem solving task. Higher is better.\n",
    "\n",
    "- `reflex`: Score out of  25 on a reflex test. Higher indicates faster reflexes.\n",
    "\n",
    "- `comprehension`: Score out of 100 on a reading comprehension test. Higher is better."
   ]
  },
  {
   "cell_type": "markdown",
   "metadata": {},
   "source": [
    "**Task A**\n",
    "\n",
    "1. Load the `data_wpa7.txt` dataset in R (find it on Github) and save it as a new object called `leisure`. Inspect the dataset first.\n",
    "\n",
    "2. Write a function called `feed_me()` that takes a string `food` as an argument, and returns (in case `food = 'pizza'`) the sentence \"I love to eat pizza\". Try your function by running `feed_me(\"apples\")` (it should then return \"I love to eat apples\").\n",
    "\n",
    "3. Without using the `mean()` function, calculate the mean of the vector `vec_1 = seq(1, 100, 5)`.\n",
    "\n",
    "4. Write a function called `my_mean()` that takes a vector `x` as an argument, and returns the mean of the vector `x`. Use your code for task A3 as your starting point. Test it on the vector from task A3.\n",
    "\n",
    "5. Try your `my_mean()` function to calculate the mean 'logic' rating of participants in the `leisure` dataset and compare the result to the built-in `mean()` function (using `==`) to make sure you get the same result.\n",
    "\n",
    "6. Create a loop that prints the squares of integers from 1 to 10.\n",
    "\n",
    "7. Modify the previous code so that it saves the squared integers as a vector called `squares`. You'll need to pre-create a vector, and use indexing to update it."
   ]
  },
  {
   "cell_type": "markdown",
   "metadata": {},
   "source": [
    "**Task B**\n",
    "\n",
    "1. Create a function called `standardize`, that, given an input vector, returns its standardized version. Remember that to normalize a score, also called z-transforming it, you first subtract the mean score from the individual scores and then divide by the standard deviation.\n",
    "\n",
    "2. Create a copy of the `leisure` dataset. Call this copy `z_leisure`. Normalise the `logic`, `reflex`, `age` and `comprehension` columns using the `standardize` function using a `for` loop. In each iteration of the loop, you should standardize one of these 4 columns. You can create a vector first, called `columns_to_standardize` where you store these columns and use them later in the loop. You should not add them as additional columns, but overwrite the original columns."
   ]
  },
  {
   "cell_type": "markdown",
   "metadata": {},
   "source": [
    "**Task C**\n",
    "\n",
    "1. Create a scatterplot of `age` and `reflex` of participants in the `leisure` datset. Cutomise it and add a regression line.\n",
    "\n",
    "2. Create a function called `my_plot()` that takes arguments `x` and `y` and returns a customised scatterplot with your customizations and the regression line.\n",
    "\n",
    "3. Now test your `my_plot()` function on the `age` and `reflec` of participants in the `leisure` dataset."
   ]
  },
  {
   "cell_type": "markdown",
   "metadata": {},
   "source": [
    "**Task D**\n",
    "\n",
    "1. Create a loop that returns the sum of the vector `1:10`. (i.e. Don't use the existing `sum` function).\n",
    "2. Use this loop to create a function, called `my_sum` that returns the sum of any vector x. Test it on the `logic` ratings.\n",
    "3. Modify the function you created in task D2, to instead calculate the mean of a vector. Call this new function `my_mean2` and compare it to both the `my_mean` function you created, and the in-built `mean` function. (Bonus: Can you also think of a way to do this without using the the length function)"
   ]
  },
  {
   "cell_type": "markdown",
   "metadata": {},
   "source": [
    "**Task E (extra)**\n",
    "\n",
    "1. What is the probability of getting a significant p-value if the null hypothesis is true? Test this by conducting the following simulation:\n",
    "\n",
    "  - Create a vector called `p_values` with 100 NA values. \n",
    "  - Draw a sample of size 10 from a normal distribution with mean = 0 and standard deviation = 1.\n",
    "  - Do a one-sample t-test testing if the mean of the distribution is different from 0. Save the p-value from this test in the 1st position of `p_values`.\n",
    "  - Repeat these steps with a loop to fill `p_values` with 100 p-values.\n",
    "  - Create a histogram of `p_values` and calculate the proportion of p-values that are significant at the .05 level.\n",
    "\n",
    "2. Create a function called `p_simulation` with 4 arguments: `sim`: the number of simulations, `samplesize`: the sample size, `mu_true`: the true mean, and `sd_true`: the true standard deviation. Your function should repeat the simulation from the previous question with the given arguments. That is, it should calculate `sim` p-values testing whether `samplesize` samples from a normal distribution with mean = `mu_true` and standard deviation = `sd_true` is significantly different from 0. The function should return a vector of p-values. "
   ]
  },
  {
   "cell_type": "markdown",
   "metadata": {},
   "source": [
    "*Note*: to get the p-value of a t-test:"
   ]
  },
  {
   "cell_type": "raw",
   "metadata": {},
   "source": [
    "p_value = t.test(x)$p.value     # Calculate the p.vale for the sample x"
   ]
  },
  {
   "cell_type": "markdown",
   "metadata": {},
   "source": [
    "## Submit your assignment\n",
    "\n",
    "Save and email your script to me at [laura.fontanesi@unibas.ch](mailto:laura.fontanesi@unibas.ch) by the end of **Friday**."
   ]
  }
 ],
 "metadata": {
  "kernelspec": {
   "display_name": "R",
   "language": "R",
   "name": "ir"
  },
  "language_info": {
   "codemirror_mode": "r",
   "file_extension": ".r",
   "mimetype": "text/x-r-source",
   "name": "R",
   "pygments_lexer": "r",
   "version": "4.0.3"
  }
 },
 "nbformat": 4,
 "nbformat_minor": 4
}
